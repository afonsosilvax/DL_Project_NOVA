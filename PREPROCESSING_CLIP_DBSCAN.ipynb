{
 "cells": [
  {
   "cell_type": "markdown",
   "id": "715175d8",
   "metadata": {},
   "source": [
    "🔹 1. Imports & Configurations"
   ]
  },
  {
   "cell_type": "code",
   "execution_count": null,
   "id": "9ce8d320",
   "metadata": {},
   "outputs": [
    {
     "name": "stderr",
     "output_type": "stream",
     "text": [
      "c:\\Users\\Elcano\\anaconda3\\envs\\cv310\\lib\\site-packages\\scipy\\__init__.py:146: UserWarning: A NumPy version >=1.16.5 and <1.23.0 is required for this version of SciPy (detected version 1.26.4\n",
      "  warnings.warn(f\"A NumPy version >={np_minversion} and <{np_maxversion}\"\n"
     ]
    }
   ],
   "source": [
    "# === Basic Utilities ===\n",
    "import os, random, shutil, warnings\n",
    "from pathlib import Path\n",
    "from collections import defaultdict\n",
    "from collections import Counter\n",
    "\n",
    "# === Data Handling ===\n",
    "import numpy as np\n",
    "import pandas as pd\n",
    "from sklearn.model_selection import train_test_split\n",
    "from sklearn.preprocessing import LabelEncoder\n",
    "from sklearn.utils.class_weight import compute_class_weight\n",
    "from sklearn.metrics import classification_report, confusion_matrix, f1_score, accuracy_score, precision_score, recall_score\n",
    "from time import time\n",
    "\n",
    "# === Visualization ===\n",
    "import seaborn as sns\n",
    "import matplotlib.pyplot as plt\n",
    "\n",
    "# === Image Handling ===\n",
    "from PIL import Image, ImageFile\n",
    "ImageFile.LOAD_TRUNCATED_IMAGES = True\n",
    "warnings.simplefilter('error', Image.DecompressionBombWarning)\n",
    "\n",
    "# === TensorFlow & Keras ===\n",
    "import tensorflow as tf\n",
    "from tensorflow.keras import layers, models, optimizers\n",
    "from tensorflow.keras.models import Model\n",
    "from tensorflow.keras.layers import (Input, Dense, Dropout, GlobalAveragePooling2D, Concatenate)\n",
    "from tensorflow.keras.preprocessing.image import ImageDataGenerator\n",
    "from tensorflow.keras.callbacks import EarlyStopping, ModelCheckpoint, ReduceLROnPlateau\n",
    "\n",
    "from tensorflow.keras.preprocessing.image import ImageDataGenerator\n",
    "from tensorflow.keras import regularizers\n",
    "\n",
    "\n",
    "# === CLIP (for filtering) ===\n",
    "import clip\n",
    "import torch\n",
    "from tqdm import tqdm\n",
    "\n",
    "from sklearn.cluster import DBSCAN\n",
    "from collections import Counter, defaultdict\n",
    "\n",
    "# === Paths ===\n",
    "metadata_path = r\"C:\\Users\\Elcano\\Documents\\NOVA IMS\\2_Semester\\Deep Learning\\Project\\metadata.csv\"\n",
    "source_dir = r\"C:\\Users\\Elcano\\Documents\\NOVA IMS\\2_Semester\\Deep Learning\\Project\\rare_species1\"\n",
    "dest_dir = r\"C:\\Users\\Elcano\\Documents\\NOVA IMS\\2_Semester\\Deep Learning\\Project\\rare_species_filtered\"\n",
    "dest_dir_clip = r\"C:\\Users\\Elcano\\Documents\\NOVA IMS\\2_Semester\\Deep Learning\\Project\\rare_species_final\"\n",
    "dest_dir_removed = r\"C:\\Users\\Elcano\\Documents\\NOVA IMS\\2_Semester\\Deep Learning\\Project\\rare_species_removed\""
   ]
  },
  {
   "cell_type": "code",
   "execution_count": 2,
   "id": "a9ea0f1c",
   "metadata": {},
   "outputs": [
    {
     "name": "stdout",
     "output_type": "stream",
     "text": [
      "Dataset Balance by Family:\n",
      "           Family  Image Count  Percentage\n",
      "  cercopithecidae          300    2.503547\n",
      "      dactyloidae          300    2.503547\n",
      "       formicidae          291    2.428440\n",
      "   plethodontidae          270    2.253192\n",
      "   carcharhinidae          270    2.253192\n",
      "    salamandridae          270    2.253192\n",
      "          bovidae          240    2.002837\n",
      "      bucerotidae          210    1.752483\n",
      "      acroporidae          210    1.752483\n",
      "         anatidae          180    1.502128\n",
      "      diomedeidae          180    1.502128\n",
      "         atelidae          150    1.251773\n",
      "          laridae          150    1.251773\n",
      "           apidae          150    1.251773\n",
      "        bufonidae          150    1.251773\n",
      "       dasyatidae          150    1.251773\n",
      "      delphinidae          120    1.001419\n",
      "      agariciidae          120    1.001419\n",
      "   callitrichidae          120    1.001419\n",
      "      psittacidae          120    1.001419\n",
      "     spheniscidae          120    1.001419\n",
      "        iguanidae          120    1.001419\n",
      "     accipitridae          119    0.993074\n",
      "       serranidae           90    0.751064\n",
      "    acipenseridae           90    0.751064\n",
      "      geoemydidae           90    0.751064\n",
      "       ciconiidae           90    0.751064\n",
      "          cebidae           90    0.751064\n",
      "     myliobatidae           90    0.751064\n",
      "   procellariidae           90    0.751064\n",
      "       colubridae           90    0.751064\n",
      "       mustelidae           90    0.751064\n",
      "       sphyrnidae           90    0.751064\n",
      "     euphylliidae           90    0.751064\n",
      "      hylobatidae           90    0.751064\n",
      "          ranidae           90    0.751064\n",
      "      trochilidae           90    0.751064\n",
      "       thraupidae           90    0.751064\n",
      "          rajidae           90    0.751064\n",
      "         sparidae           60    0.500709\n",
      "        leporidae           60    0.500709\n",
      "      hexanchidae           60    0.500709\n",
      "         anguidae           60    0.500709\n",
      "         emydidae           60    0.500709\n",
      "   chaetodontidae           60    0.500709\n",
      "         agamidae           60    0.500709\n",
      "        unionidae           60    0.500709\n",
      "         faviidae           60    0.500709\n",
      "    psittaculidae           60    0.500709\n",
      "        lemuridae           60    0.500709\n",
      "        alopiidae           60    0.500709\n",
      "       falconidae           60    0.500709\n",
      "     testudinidae           60    0.500709\n",
      "       balistidae           60    0.500709\n",
      "     crocodylidae           60    0.500709\n",
      "         cracidae           60    0.500709\n",
      "       pythonidae           60    0.500709\n",
      "        otariidae           60    0.500709\n",
      "       burhinidae           60    0.500709\n",
      "        carabidae           60    0.500709\n",
      "        cardiidae           60    0.500709\n",
      "       lacertidae           60    0.500709\n",
      "          ursidae           60    0.500709\n",
      "     syngnathidae           60    0.500709\n",
      " vespertilionidae           60    0.500709\n",
      "      merulinidae           60    0.500709\n",
      "     scolopacidae           60    0.500709\n",
      "   ambystomatidae           60    0.500709\n",
      "          manidae           60    0.500709\n",
      "         ardeidae           60    0.500709\n",
      "        gomphidae           60    0.500709\n",
      "    rhacophoridae           60    0.500709\n",
      "     fringillidae           60    0.500709\n",
      "         turdidae           60    0.500709\n",
      "  diplodactylidae           60    0.500709\n",
      " rhyacotritonidae           60    0.500709\n",
      "   pocilloporidae           60    0.500709\n",
      "          aotidae           60    0.500709\n",
      "     charadriidae           60    0.500709\n",
      "         labridae           60    0.500709\n",
      " cryptobranchidae           60    0.500709\n",
      "    stichopodidae           60    0.500709\n",
      "         chelidae           57    0.475674\n",
      "   chamaeleonidae           57    0.475674\n",
      " balaenicipitidae           30    0.250355\n",
      "       trogonidae           30    0.250355\n",
      "    nesospingidae           30    0.250355\n",
      "       scombridae           30    0.250355\n",
      "   pleuronectidae           30    0.250355\n",
      "       dasyuridae           30    0.250355\n",
      "      cheloniidae           30    0.250355\n",
      "      squatinidae           30    0.250355\n",
      "      glareolidae           30    0.250355\n",
      "  diploastraeidae           30    0.250355\n",
      "       hynobiidae           30    0.250355\n",
      "         elapidae           30    0.250355\n",
      "  balaenopteridae           30    0.250355\n",
      "       potoroidae           30    0.250355\n",
      "        squalidae           30    0.250355\n",
      "         vangidae           30    0.250355\n",
      "       dalatiidae           30    0.250355\n",
      "          equidae           30    0.250355\n",
      "       vombatidae           30    0.250355\n",
      "     ramphastidae           30    0.250355\n",
      "     helioporidae           30    0.250355\n",
      "        albulidae           30    0.250355\n",
      "    dendrobatidae           30    0.250355\n",
      "        pristidae           30    0.250355\n",
      "       gavialidae           30    0.250355\n",
      "       columbidae           30    0.250355\n",
      "       pisauridae           30    0.250355\n",
      "  phyllomedusidae           30    0.250355\n",
      "    pontoporiidae           30    0.250355\n",
      "    alligatoridae           30    0.250355\n",
      "       balaenidae           30    0.250355\n",
      "       cacatuidae           30    0.250355\n",
      "  cyprinodontidae           30    0.250355\n",
      "    polyprionidae           30    0.250355\n",
      "    tettigoniidae           30    0.250355\n",
      "      mantellidae           30    0.250355\n",
      "        strigidae           30    0.250355\n",
      "   hemiscylliidae           30    0.250355\n",
      "      estrildidae           30    0.250355\n",
      "       vireonidae           30    0.250355\n",
      "        hominidae           30    0.250355\n",
      "        zonitidae           30    0.250355\n",
      "        viperidae           30    0.250355\n",
      "   phyllostomidae           30    0.250355\n",
      "      pangasiidae           30    0.250355\n",
      "    theraphosidae           30    0.250355\n",
      "        indriidae           30    0.250355\n",
      "     meandrinidae           30    0.250355\n",
      "        scincidae           30    0.250355\n",
      "  callorhinchidae           30    0.250355\n",
      "      urolophidae           30    0.250355\n",
      "      attelabidae           30    0.250355\n",
      "         cervidae           30    0.250355\n",
      "      strigopidae           30    0.250355\n",
      "      nymphalidae           30    0.250355\n",
      "       cricetidae           30    0.250355\n",
      "      chelydridae           30    0.250355\n",
      "       lutjanidae           30    0.250355\n",
      "     cetorhinidae           30    0.250355\n",
      "        soricidae           30    0.250355\n",
      "    caprimulgidae           30    0.250355\n",
      "        sciuridae           30    0.250355\n",
      "   odontophoridae           30    0.250355\n",
      "     motacillidae           30    0.250355\n",
      "     latimeriidae           30    0.250355\n",
      "          conidae           30    0.250355\n",
      "      ctenomyidae           30    0.250355\n",
      "        hyaenidae           30    0.250355\n",
      "         gliridae           30    0.250355\n",
      "    bombycillidae           30    0.250355\n",
      "        lucanidae           30    0.250355\n",
      "     cerambycidae           30    0.250355\n",
      "     papilionidae           30    0.250355\n",
      "  rhinodermatidae           30    0.250355\n",
      "         otididae           30    0.250355\n",
      " carettochelyidae           30    0.250355\n",
      "         rallidae           30    0.250355\n",
      "     merlucciidae           30    0.250355\n",
      "         percidae           30    0.250355\n",
      "  phrynosomatidae           30    0.250355\n",
      "      phasianidae           30    0.250355\n",
      "   siderastreidae           30    0.250355\n",
      "         lamnidae           30    0.250355\n",
      "       gymnuridae           30    0.250355\n",
      "     trionychidae           30    0.250355\n",
      "   coenagrionidae           30    0.250355\n",
      "       giraffidae           30    0.250355\n",
      "        fungiidae           30    0.250355\n",
      "      palinuridae           30    0.250355\n",
      "    paradisaeidae           30    0.250355\n",
      "       gekkonidae           30    0.250355\n",
      "pseudophasmatidae           30    0.250355\n",
      " recurvirostridae           30    0.250355\n",
      "   daubentoniidae           30    0.250355\n",
      "     pardalotidae           30    0.250355\n",
      "         pittidae           30    0.250355\n",
      "       haliotidae           30    0.250355\n",
      "      somniosidae           30    0.250355\n",
      "   cheirogaleidae           30    0.250355\n",
      "        cuculidae           30    0.250355\n",
      "       salmonidae           30    0.250355\n",
      "      dasypodidae           30    0.250355\n",
      "   podocnemididae           30    0.250355\n",
      "        goodeidae           30    0.250355\n",
      "  mesitornithidae           30    0.250355\n",
      "   platystictidae           30    0.250355\n",
      " dendrophylliidae           30    0.250355\n",
      "     muscicapidae           30    0.250355\n",
      "   lobophylliidae           30    0.250355\n",
      "          mimidae           30    0.250355\n",
      "      alcedinidae           30    0.250355\n",
      "   arthroleptidae           30    0.250355\n",
      "       triopsidae           30    0.250355\n",
      "     megapodiidae           30    0.250355\n",
      "     tropiduridae           30    0.250355\n",
      "        parulidae           30    0.250355\n",
      "brachypteraciidae           30    0.250355\n",
      "        siluridae           29    0.242010\n"
     ]
    }
   ],
   "source": [
    "# Load metadata\n",
    "metadata = pd.read_csv(metadata_path)\n",
    "\"\"\"\n",
    "This cell loads the metadata CSV file and analyzes the distribution of images across families.\n",
    "It counts and calculates the percentage of images per family to assess dataset balance.\n",
    "The output helps identify potential class imbalances that may need addressing.\n",
    "\"\"\"\n",
    "# Calculate image counts per family\n",
    "family_stats = metadata['family'].value_counts().reset_index()\n",
    "family_stats.columns = ['Family', 'Image Count']\n",
    "family_stats['Percentage'] = (family_stats['Image Count'] / family_stats['Image Count'].sum()) * 100\n",
    "\n",
    "# Display results\n",
    "print(\"Dataset Balance by Family:\")\n",
    "print(family_stats.to_string(index=False))"
   ]
  },
  {
   "cell_type": "code",
   "execution_count": 3,
   "id": "b8b5d83e",
   "metadata": {},
   "outputs": [
    {
     "name": "stdout",
     "output_type": "stream",
     "text": [
      "Dataset Balance by phylum:\n",
      "       phylum  Image Count  Percentage\n",
      "     chordata         9952   83.050989\n",
      "   arthropoda          951    7.936243\n",
      "     cnidaria          810    6.759576\n",
      "     mollusca          210    1.752483\n",
      "echinodermata           60    0.500709\n"
     ]
    }
   ],
   "source": [
    "\"\"\"\n",
    "This cell loads the metadata CSV file and analyzes the distribution of images across families.\n",
    "It counts and calculates the percentage of images per family to assess dataset balance.\n",
    "The output helps identify potential class imbalances that may need addressing.\n",
    "\"\"\"\n",
    "# Calculate image counts per family\n",
    "family_stats = metadata['phylum'].value_counts().reset_index()\n",
    "family_stats.columns = ['phylum', 'Image Count']\n",
    "family_stats['Percentage'] = (family_stats['Image Count'] / family_stats['Image Count'].sum()) * 100\n",
    "\n",
    "# Display results\n",
    "print(\"Dataset Balance by phylum:\")\n",
    "print(family_stats.to_string(index=False))"
   ]
  },
  {
   "cell_type": "markdown",
   "id": "bffc8f50",
   "metadata": {},
   "source": [
    "🔹 2. Image Filtering (Low Quality & Corrupted)"
   ]
  },
  {
   "cell_type": "code",
   "execution_count": 5,
   "id": "4d6db36f",
   "metadata": {},
   "outputs": [
    {
     "name": "stdout",
     "output_type": "stream",
     "text": [
      "\n",
      "Image filtering complete. Valid: 11972, Removed: 11\n"
     ]
    }
   ],
   "source": [
    "valid_formats = ['jpeg', 'jpg', 'png', 'bmp']\n",
    "min_size_kb = 5\n",
    "max_pixels = 89_478_485\n",
    "\n",
    "os.makedirs(dest_dir, exist_ok=True)\n",
    "\n",
    "total_images = valid_images = removed_small = removed_too_large = removed_invalid = 0\n",
    "\n",
    "for family_folder in os.listdir(source_dir):\n",
    "    src_path = os.path.join(source_dir, family_folder)\n",
    "    dst_path = os.path.join(dest_dir, family_folder)\n",
    "    os.makedirs(dst_path, exist_ok=True)\n",
    "\n",
    "    for file in os.listdir(src_path):\n",
    "        total_images += 1\n",
    "        file_path = os.path.join(src_path, file)\n",
    "        try:\n",
    "            if os.path.getsize(file_path) < min_size_kb * 1024:\n",
    "                removed_small += 1\n",
    "                continue\n",
    "            with Image.open(file_path) as img:\n",
    "                if img.format.lower() not in valid_formats:\n",
    "                    removed_invalid += 1\n",
    "                    continue\n",
    "                if img.width * img.height > max_pixels:\n",
    "                    removed_too_large += 1\n",
    "                    continue\n",
    "                img.verify()\n",
    "            shutil.copy2(file_path, os.path.join(dst_path, file))\n",
    "            valid_images += 1\n",
    "        except Exception:\n",
    "            removed_invalid += 1\n",
    "\n",
    "print(f\"\\nImage filtering complete. Valid: {valid_images}, Removed: {total_images - valid_images}\")"
   ]
  },
  {
   "cell_type": "markdown",
   "id": "7dff1d75",
   "metadata": {},
   "source": [
    "🔹 3. CLIP-Based Filtering (Similarity)"
   ]
  },
  {
   "cell_type": "code",
   "execution_count": null,
   "id": "867cef55",
   "metadata": {},
   "outputs": [
    {
     "name": "stderr",
     "output_type": "stream",
     "text": [
      "CLIP cleaning:   0%|          | 1/202 [00:24<1:22:34, 24.65s/it]"
     ]
    },
    {
     "name": "stdout",
     "output_type": "stream",
     "text": [
      "\n",
      " arthropoda_apidae:\n",
      "   Kept: 150/150 (100.0%)\n",
      "   Removed: 0\n",
      "  🔎 Examples:\n",
      "    Kept    : ['20647903_1065369_eol-full-size-copy.jpg', '20647904_1065369_eol-full-size-copy.jpg', '20647909_1065369_eol-full-size-copy.jpg', '20647915_1065369_eol-full-size-copy.jpg', '21834153_1065290_eol-full-size-copy.jpg']\n",
      "    Removed : []\n"
     ]
    },
    {
     "name": "stderr",
     "output_type": "stream",
     "text": [
      "CLIP cleaning:   1%|          | 2/202 [00:29<43:46, 13.13s/it]  "
     ]
    },
    {
     "name": "stdout",
     "output_type": "stream",
     "text": [
      "\n",
      " arthropoda_attelabidae:\n",
      "   Kept: 29/30 (96.7%)\n",
      "   Removed: 1\n",
      "  🔎 Examples:\n",
      "    Kept    : ['14088426_52691998_eol-full-size-copy.jpg', '14088427_52691998_eol-full-size-copy.jpg', '14088429_52691998_eol-full-size-copy.jpg', '14088430_52691998_eol-full-size-copy.jpg', '22864939_52691998_eol-full-size-copy.jpg']\n",
      "    Removed : ['29600192_52691998_eol-full-size-copy.jpg']\n"
     ]
    },
    {
     "name": "stderr",
     "output_type": "stream",
     "text": [
      "CLIP cleaning:   1%|▏         | 3/202 [00:38<36:42, 11.07s/it]"
     ]
    },
    {
     "name": "stdout",
     "output_type": "stream",
     "text": [
      "\n",
      " arthropoda_carabidae:\n",
      "   Kept: 59/60 (98.3%)\n",
      "   Removed: 1\n",
      "  🔎 Examples:\n",
      "    Kept    : ['10787825_2867406_eol-full-size-copy.jpg', '10787827_2867406_eol-full-size-copy.jpg', '10787828_2867406_eol-full-size-copy.jpg', '10787831_2867406_eol-full-size-copy.jpg', '10787833_2867406_eol-full-size-copy.jpg']\n",
      "    Removed : ['28933416_2867406_eol-full-size-copy.jpg']\n"
     ]
    },
    {
     "name": "stderr",
     "output_type": "stream",
     "text": [
      "CLIP cleaning:   2%|▏         | 4/202 [00:43<28:13,  8.56s/it]"
     ]
    },
    {
     "name": "stdout",
     "output_type": "stream",
     "text": [
      "\n",
      " arthropoda_cerambycidae:\n",
      "   Kept: 28/29 (96.6%)\n",
      "   Removed: 1\n",
      "  🔎 Examples:\n",
      "    Kept    : ['14204113_354871_eol-full-size-copy.jpg', '22538999_354871_eol-full-size-copy.jpg', '22539000_354871_eol-full-size-copy.jpg', '22539001_354871_eol-full-size-copy.jpg', '22539002_354871_eol-full-size-copy.jpg']\n",
      "    Removed : ['28255130_354871_eol-full-size-copy.jpg']\n"
     ]
    },
    {
     "name": "stderr",
     "output_type": "stream",
     "text": [
      "CLIP cleaning:   2%|▏         | 5/202 [00:46<22:30,  6.85s/it]"
     ]
    },
    {
     "name": "stdout",
     "output_type": "stream",
     "text": [
      "\n",
      " arthropoda_coenagrionidae:\n",
      "   Kept: 30/30 (100.0%)\n",
      "   Removed: 0\n",
      "  🔎 Examples:\n",
      "    Kept    : ['20710764_1001090_eol-full-size-copy.jpg', '20710765_1001090_eol-full-size-copy.jpg', '20710766_1001090_eol-full-size-copy.jpg', '20710768_1001090_eol-full-size-copy.jpg', '20710770_1001090_eol-full-size-copy.jpg']\n",
      "    Removed : []\n"
     ]
    },
    {
     "name": "stderr",
     "output_type": "stream",
     "text": [
      "CLIP cleaning:   3%|▎         | 6/202 [01:24<56:35, 17.33s/it]"
     ]
    },
    {
     "name": "stdout",
     "output_type": "stream",
     "text": [
      "\n",
      " arthropoda_formicidae:\n",
      "   Kept: 253/291 (86.9%)\n",
      "   Removed: 38\n"
     ]
    },
    {
     "name": "stderr",
     "output_type": "stream",
     "text": [
      "CLIP cleaning:   3%|▎         | 7/202 [01:33<47:43, 14.68s/it]"
     ]
    },
    {
     "name": "stdout",
     "output_type": "stream",
     "text": [
      "\n",
      " arthropoda_gomphidae:\n",
      "   Kept: 60/60 (100.0%)\n",
      "   Removed: 0\n"
     ]
    },
    {
     "name": "stderr",
     "output_type": "stream",
     "text": [
      "CLIP cleaning:   4%|▍         | 8/202 [01:37<36:40, 11.34s/it]"
     ]
    },
    {
     "name": "stdout",
     "output_type": "stream",
     "text": [
      "\n",
      " arthropoda_lucanidae:\n",
      "   Kept: 30/30 (100.0%)\n",
      "   Removed: 0\n"
     ]
    },
    {
     "name": "stderr",
     "output_type": "stream",
     "text": [
      "CLIP cleaning:   4%|▍         | 9/202 [01:43<30:52,  9.60s/it]"
     ]
    },
    {
     "name": "stdout",
     "output_type": "stream",
     "text": [
      "\n",
      " arthropoda_nymphalidae:\n",
      "   Kept: 30/30 (100.0%)\n",
      "   Removed: 0\n"
     ]
    },
    {
     "name": "stderr",
     "output_type": "stream",
     "text": [
      "CLIP cleaning:   5%|▍         | 10/202 [01:48<25:57,  8.11s/it]"
     ]
    },
    {
     "name": "stdout",
     "output_type": "stream",
     "text": [
      "\n",
      " arthropoda_palinuridae:\n",
      "   Kept: 30/30 (100.0%)\n",
      "   Removed: 0\n"
     ]
    },
    {
     "name": "stderr",
     "output_type": "stream",
     "text": [
      "CLIP cleaning:   5%|▌         | 11/202 [01:53<22:30,  7.07s/it]"
     ]
    },
    {
     "name": "stdout",
     "output_type": "stream",
     "text": [
      "\n",
      " arthropoda_papilionidae:\n",
      "   Kept: 30/30 (100.0%)\n",
      "   Removed: 0\n"
     ]
    },
    {
     "name": "stderr",
     "output_type": "stream",
     "text": [
      "CLIP cleaning:   6%|▌         | 12/202 [01:57<19:15,  6.08s/it]"
     ]
    },
    {
     "name": "stdout",
     "output_type": "stream",
     "text": [
      "\n",
      " arthropoda_pisauridae:\n",
      "   Kept: 29/30 (96.7%)\n",
      "   Removed: 1\n"
     ]
    },
    {
     "name": "stderr",
     "output_type": "stream",
     "text": [
      "CLIP cleaning:   6%|▋         | 13/202 [02:01<18:00,  5.72s/it]"
     ]
    },
    {
     "name": "stdout",
     "output_type": "stream",
     "text": [
      "\n",
      " arthropoda_platystictidae:\n",
      "   Kept: 30/30 (100.0%)\n",
      "   Removed: 0\n"
     ]
    },
    {
     "name": "stderr",
     "output_type": "stream",
     "text": [
      "CLIP cleaning:   7%|▋         | 14/202 [02:07<18:01,  5.75s/it]"
     ]
    },
    {
     "name": "stdout",
     "output_type": "stream",
     "text": [
      "\n",
      " arthropoda_pseudophasmatidae:\n",
      "   Kept: 29/30 (96.7%)\n",
      "   Removed: 1\n"
     ]
    },
    {
     "name": "stderr",
     "output_type": "stream",
     "text": [
      "CLIP cleaning:   7%|▋         | 15/202 [02:12<17:20,  5.56s/it]"
     ]
    },
    {
     "name": "stdout",
     "output_type": "stream",
     "text": [
      "\n",
      " arthropoda_tettigoniidae:\n",
      "   Kept: 28/30 (93.3%)\n",
      "   Removed: 2\n"
     ]
    },
    {
     "name": "stderr",
     "output_type": "stream",
     "text": [
      "CLIP cleaning:   8%|▊         | 16/202 [02:18<17:01,  5.49s/it]"
     ]
    },
    {
     "name": "stdout",
     "output_type": "stream",
     "text": [
      "\n",
      " arthropoda_theraphosidae:\n",
      "   Kept: 30/30 (100.0%)\n",
      "   Removed: 0\n"
     ]
    },
    {
     "name": "stderr",
     "output_type": "stream",
     "text": [
      "CLIP cleaning:   8%|▊         | 17/202 [02:22<15:54,  5.16s/it]"
     ]
    },
    {
     "name": "stdout",
     "output_type": "stream",
     "text": [
      "\n",
      " arthropoda_triopsidae:\n",
      "   Kept: 30/30 (100.0%)\n",
      "   Removed: 0\n"
     ]
    },
    {
     "name": "stderr",
     "output_type": "stream",
     "text": [
      "CLIP cleaning:   9%|▉         | 18/202 [02:42<29:38,  9.66s/it]"
     ]
    },
    {
     "name": "stdout",
     "output_type": "stream",
     "text": [
      "\n",
      " chordata_accipitridae:\n",
      "   Kept: 118/119 (99.2%)\n",
      "   Removed: 1\n"
     ]
    },
    {
     "name": "stderr",
     "output_type": "stream",
     "text": [
      "CLIP cleaning:   9%|▉         | 19/202 [02:56<33:26, 10.96s/it]"
     ]
    },
    {
     "name": "stdout",
     "output_type": "stream",
     "text": [
      "\n",
      " chordata_acipenseridae:\n",
      "   Kept: 88/90 (97.8%)\n",
      "   Removed: 2\n"
     ]
    },
    {
     "name": "stderr",
     "output_type": "stream",
     "text": [
      "CLIP cleaning:  10%|▉         | 20/202 [03:05<31:38, 10.43s/it]"
     ]
    },
    {
     "name": "stdout",
     "output_type": "stream",
     "text": [
      "\n",
      " chordata_agamidae:\n",
      "   Kept: 59/60 (98.3%)\n",
      "   Removed: 1\n"
     ]
    },
    {
     "name": "stderr",
     "output_type": "stream",
     "text": [
      "CLIP cleaning:  10%|█         | 21/202 [03:10<26:06,  8.65s/it]"
     ]
    },
    {
     "name": "stdout",
     "output_type": "stream",
     "text": [
      "\n",
      " chordata_albulidae:\n",
      "   Kept: 28/30 (93.3%)\n",
      "   Removed: 2\n"
     ]
    },
    {
     "name": "stderr",
     "output_type": "stream",
     "text": [
      "CLIP cleaning:  11%|█         | 22/202 [03:15<22:29,  7.50s/it]"
     ]
    },
    {
     "name": "stdout",
     "output_type": "stream",
     "text": [
      "\n",
      " chordata_alcedinidae:\n",
      "   Kept: 27/30 (90.0%)\n",
      "   Removed: 3\n"
     ]
    },
    {
     "name": "stderr",
     "output_type": "stream",
     "text": [
      "CLIP cleaning:  11%|█▏        | 23/202 [03:20<20:02,  6.72s/it]"
     ]
    },
    {
     "name": "stdout",
     "output_type": "stream",
     "text": [
      "\n",
      " chordata_alligatoridae:\n",
      "   Kept: 30/30 (100.0%)\n",
      "   Removed: 0\n"
     ]
    },
    {
     "name": "stderr",
     "output_type": "stream",
     "text": [
      "CLIP cleaning:  12%|█▏        | 24/202 [03:28<21:00,  7.08s/it]"
     ]
    },
    {
     "name": "stdout",
     "output_type": "stream",
     "text": [
      "\n",
      " chordata_alopiidae:\n",
      "   Kept: 57/60 (95.0%)\n",
      "   Removed: 3\n"
     ]
    },
    {
     "name": "stderr",
     "output_type": "stream",
     "text": [
      "CLIP cleaning:  12%|█▏        | 25/202 [03:36<22:04,  7.48s/it]"
     ]
    },
    {
     "name": "stdout",
     "output_type": "stream",
     "text": [
      "\n",
      " chordata_ambystomatidae:\n",
      "   Kept: 57/60 (95.0%)\n",
      "   Removed: 3\n"
     ]
    },
    {
     "name": "stderr",
     "output_type": "stream",
     "text": [
      "CLIP cleaning:  13%|█▎        | 26/202 [04:04<39:50, 13.58s/it]"
     ]
    },
    {
     "name": "stdout",
     "output_type": "stream",
     "text": [
      "\n",
      " chordata_anatidae:\n",
      "   Kept: 166/180 (92.2%)\n",
      "   Removed: 14\n"
     ]
    },
    {
     "name": "stderr",
     "output_type": "stream",
     "text": [
      "CLIP cleaning:  13%|█▎        | 27/202 [04:13<35:32, 12.18s/it]"
     ]
    },
    {
     "name": "stdout",
     "output_type": "stream",
     "text": [
      "\n",
      " chordata_anguidae:\n",
      "   Kept: 60/60 (100.0%)\n",
      "   Removed: 0\n"
     ]
    },
    {
     "name": "stderr",
     "output_type": "stream",
     "text": [
      "CLIP cleaning:  14%|█▍        | 28/202 [04:21<31:52, 10.99s/it]"
     ]
    },
    {
     "name": "stdout",
     "output_type": "stream",
     "text": [
      "\n",
      " chordata_aotidae:\n",
      "   Kept: 36/60 (60.0%)\n",
      "   Removed: 24\n"
     ]
    },
    {
     "name": "stderr",
     "output_type": "stream",
     "text": [
      "CLIP cleaning:  14%|█▍        | 29/202 [04:30<30:20, 10.52s/it]"
     ]
    },
    {
     "name": "stdout",
     "output_type": "stream",
     "text": [
      "\n",
      " chordata_ardeidae:\n",
      "   Kept: 60/60 (100.0%)\n",
      "   Removed: 0\n"
     ]
    },
    {
     "name": "stderr",
     "output_type": "stream",
     "text": [
      "CLIP cleaning:  15%|█▍        | 30/202 [04:34<24:40,  8.60s/it]"
     ]
    },
    {
     "name": "stdout",
     "output_type": "stream",
     "text": [
      "\n",
      " chordata_arthroleptidae:\n",
      "   Kept: 25/30 (83.3%)\n",
      "   Removed: 5\n"
     ]
    },
    {
     "name": "stderr",
     "output_type": "stream",
     "text": [
      "CLIP cleaning:  15%|█▌        | 31/202 [04:57<36:37, 12.85s/it]"
     ]
    },
    {
     "name": "stdout",
     "output_type": "stream",
     "text": [
      "\n",
      " chordata_atelidae:\n",
      "   Kept: 86/150 (57.3%)\n",
      "   Removed: 64\n"
     ]
    },
    {
     "name": "stderr",
     "output_type": "stream",
     "text": [
      "CLIP cleaning:  16%|█▌        | 32/202 [05:02<29:21, 10.36s/it]"
     ]
    },
    {
     "name": "stdout",
     "output_type": "stream",
     "text": [
      "\n",
      " chordata_balaenicipitidae:\n",
      "   Kept: 23/30 (76.7%)\n",
      "   Removed: 7\n"
     ]
    },
    {
     "name": "stderr",
     "output_type": "stream",
     "text": [
      "CLIP cleaning:  16%|█▋        | 33/202 [05:06<24:16,  8.62s/it]"
     ]
    },
    {
     "name": "stdout",
     "output_type": "stream",
     "text": [
      "\n",
      " chordata_balaenidae:\n",
      "   Kept: 27/30 (90.0%)\n",
      "   Removed: 3\n"
     ]
    },
    {
     "name": "stderr",
     "output_type": "stream",
     "text": [
      "CLIP cleaning:  17%|█▋        | 34/202 [05:11<20:47,  7.43s/it]"
     ]
    },
    {
     "name": "stdout",
     "output_type": "stream",
     "text": [
      "\n",
      " chordata_balaenopteridae:\n",
      "   Kept: 28/30 (93.3%)\n",
      "   Removed: 2\n"
     ]
    },
    {
     "name": "stderr",
     "output_type": "stream",
     "text": [
      "CLIP cleaning:  17%|█▋        | 35/202 [05:21<22:30,  8.09s/it]"
     ]
    },
    {
     "name": "stdout",
     "output_type": "stream",
     "text": [
      "\n",
      " chordata_balistidae:\n",
      "   Kept: 60/60 (100.0%)\n",
      "   Removed: 0\n"
     ]
    },
    {
     "name": "stderr",
     "output_type": "stream",
     "text": [
      "CLIP cleaning:  18%|█▊        | 36/202 [05:25<19:18,  6.98s/it]"
     ]
    },
    {
     "name": "stdout",
     "output_type": "stream",
     "text": [
      "\n",
      " chordata_bombycillidae:\n",
      "   Kept: 29/30 (96.7%)\n",
      "   Removed: 1\n"
     ]
    },
    {
     "name": "stderr",
     "output_type": "stream",
     "text": [
      "CLIP cleaning:  18%|█▊        | 37/202 [06:05<46:05, 16.76s/it]"
     ]
    },
    {
     "name": "stdout",
     "output_type": "stream",
     "text": [
      "\n",
      " chordata_bovidae:\n",
      "   Kept: 234/240 (97.5%)\n",
      "   Removed: 6\n"
     ]
    },
    {
     "name": "stderr",
     "output_type": "stream",
     "text": [
      "CLIP cleaning:  19%|█▉        | 38/202 [06:09<35:48, 13.10s/it]"
     ]
    },
    {
     "name": "stdout",
     "output_type": "stream",
     "text": [
      "\n",
      " chordata_brachypteraciidae:\n",
      "   Kept: 21/30 (70.0%)\n",
      "   Removed: 9\n"
     ]
    },
    {
     "name": "stderr",
     "output_type": "stream",
     "text": [
      "CLIP cleaning:  19%|█▉        | 39/202 [06:51<58:49, 21.65s/it]"
     ]
    },
    {
     "name": "stdout",
     "output_type": "stream",
     "text": [
      "\n",
      " chordata_bucerotidae:\n",
      "   Kept: 205/210 (97.6%)\n",
      "   Removed: 5\n"
     ]
    },
    {
     "name": "stderr",
     "output_type": "stream",
     "text": [
      "CLIP cleaning:  20%|█▉        | 40/202 [07:17<1:02:24, 23.12s/it]"
     ]
    },
    {
     "name": "stdout",
     "output_type": "stream",
     "text": [
      "\n",
      " chordata_bufonidae:\n",
      "   Kept: 150/150 (100.0%)\n",
      "   Removed: 0\n"
     ]
    },
    {
     "name": "stderr",
     "output_type": "stream",
     "text": [
      "CLIP cleaning:  20%|██        | 41/202 [07:29<52:50, 19.69s/it]  "
     ]
    },
    {
     "name": "stdout",
     "output_type": "stream",
     "text": [
      "\n",
      " chordata_burhinidae:\n",
      "   Kept: 60/60 (100.0%)\n",
      "   Removed: 0\n"
     ]
    },
    {
     "name": "stderr",
     "output_type": "stream",
     "text": [
      "CLIP cleaning:  21%|██        | 42/202 [07:34<40:46, 15.29s/it]"
     ]
    },
    {
     "name": "stdout",
     "output_type": "stream",
     "text": [
      "\n",
      " chordata_cacatuidae:\n",
      "   Kept: 24/30 (80.0%)\n",
      "   Removed: 6\n"
     ]
    },
    {
     "name": "stderr",
     "output_type": "stream",
     "text": [
      "CLIP cleaning:  21%|██▏       | 43/202 [07:53<43:28, 16.40s/it]"
     ]
    },
    {
     "name": "stdout",
     "output_type": "stream",
     "text": [
      "\n",
      " chordata_callitrichidae:\n",
      "   Kept: 85/120 (70.8%)\n",
      "   Removed: 35\n"
     ]
    },
    {
     "name": "stderr",
     "output_type": "stream",
     "text": [
      "CLIP cleaning:  22%|██▏       | 44/202 [07:59<34:34, 13.13s/it]"
     ]
    },
    {
     "name": "stdout",
     "output_type": "stream",
     "text": [
      "\n",
      " chordata_callorhinchidae:\n",
      "   Kept: 29/30 (96.7%)\n",
      "   Removed: 1\n"
     ]
    },
    {
     "name": "stderr",
     "output_type": "stream",
     "text": [
      "CLIP cleaning:  22%|██▏       | 45/202 [08:03<27:52, 10.65s/it]"
     ]
    },
    {
     "name": "stdout",
     "output_type": "stream",
     "text": [
      "\n",
      " chordata_caprimulgidae:\n",
      "   Kept: 26/30 (86.7%)\n",
      "   Removed: 4\n"
     ]
    },
    {
     "name": "stderr",
     "output_type": "stream",
     "text": [
      "CLIP cleaning:  23%|██▎       | 46/202 [08:47<53:22, 20.53s/it]"
     ]
    },
    {
     "name": "stdout",
     "output_type": "stream",
     "text": [
      "\n",
      " chordata_carcharhinidae:\n",
      "   Kept: 267/269 (99.3%)\n",
      "   Removed: 2\n"
     ]
    },
    {
     "name": "stderr",
     "output_type": "stream",
     "text": [
      "CLIP cleaning:  23%|██▎       | 47/202 [08:53<41:27, 16.05s/it]"
     ]
    },
    {
     "name": "stdout",
     "output_type": "stream",
     "text": [
      "\n",
      " chordata_carettochelyidae:\n",
      "   Kept: 29/29 (100.0%)\n",
      "   Removed: 0\n"
     ]
    },
    {
     "name": "stderr",
     "output_type": "stream",
     "text": [
      "CLIP cleaning:  24%|██▍       | 48/202 [09:09<41:31, 16.18s/it]"
     ]
    },
    {
     "name": "stdout",
     "output_type": "stream",
     "text": [
      "\n",
      " chordata_cebidae:\n",
      "   Kept: 85/90 (94.4%)\n",
      "   Removed: 5\n"
     ]
    },
    {
     "name": "stderr",
     "output_type": "stream",
     "text": [
      "CLIP cleaning:  24%|██▍       | 49/202 [10:03<1:10:01, 27.46s/it]"
     ]
    },
    {
     "name": "stdout",
     "output_type": "stream",
     "text": [
      "\n",
      " chordata_cercopithecidae:\n",
      "   Kept: 299/300 (99.7%)\n",
      "   Removed: 1\n"
     ]
    },
    {
     "name": "stderr",
     "output_type": "stream",
     "text": [
      "CLIP cleaning:  25%|██▍       | 50/202 [10:08<52:55, 20.89s/it]  "
     ]
    },
    {
     "name": "stdout",
     "output_type": "stream",
     "text": [
      "\n",
      " chordata_cervidae:\n",
      "   Kept: 29/30 (96.7%)\n",
      "   Removed: 1\n"
     ]
    },
    {
     "name": "stderr",
     "output_type": "stream",
     "text": [
      "CLIP cleaning:  25%|██▌       | 51/202 [10:13<39:56, 15.87s/it]"
     ]
    },
    {
     "name": "stdout",
     "output_type": "stream",
     "text": [
      "\n",
      " chordata_cetorhinidae:\n",
      "   Kept: 27/30 (90.0%)\n",
      "   Removed: 3\n"
     ]
    },
    {
     "name": "stderr",
     "output_type": "stream",
     "text": [
      "CLIP cleaning:  26%|██▌       | 52/202 [10:20<33:35, 13.44s/it]"
     ]
    },
    {
     "name": "stdout",
     "output_type": "stream",
     "text": [
      "\n",
      " chordata_chaetodontidae:\n",
      "   Kept: 60/60 (100.0%)\n",
      "   Removed: 0\n"
     ]
    },
    {
     "name": "stderr",
     "output_type": "stream",
     "text": [
      "CLIP cleaning:  26%|██▌       | 53/202 [10:28<29:25, 11.85s/it]"
     ]
    },
    {
     "name": "stdout",
     "output_type": "stream",
     "text": [
      "\n",
      " chordata_chamaeleonidae:\n",
      "   Kept: 56/57 (98.2%)\n",
      "   Removed: 1\n"
     ]
    },
    {
     "name": "stderr",
     "output_type": "stream",
     "text": [
      "CLIP cleaning:  27%|██▋       | 54/202 [10:37<27:04, 10.98s/it]"
     ]
    },
    {
     "name": "stdout",
     "output_type": "stream",
     "text": [
      "\n",
      " chordata_charadriidae:\n",
      "   Kept: 60/60 (100.0%)\n",
      "   Removed: 0\n"
     ]
    },
    {
     "name": "stderr",
     "output_type": "stream",
     "text": [
      "CLIP cleaning:  27%|██▋       | 55/202 [10:42<22:18,  9.10s/it]"
     ]
    },
    {
     "name": "stdout",
     "output_type": "stream",
     "text": [
      "\n",
      " chordata_cheirogaleidae:\n",
      "   Kept: 30/30 (100.0%)\n",
      "   Removed: 0\n"
     ]
    },
    {
     "name": "stderr",
     "output_type": "stream",
     "text": [
      "CLIP cleaning:  28%|██▊       | 56/202 [10:53<23:12,  9.54s/it]"
     ]
    },
    {
     "name": "stdout",
     "output_type": "stream",
     "text": [
      "\n",
      " chordata_chelidae:\n",
      "   Kept: 57/57 (100.0%)\n",
      "   Removed: 0\n"
     ]
    },
    {
     "name": "stderr",
     "output_type": "stream",
     "text": [
      "CLIP cleaning:  28%|██▊       | 57/202 [10:57<19:17,  7.98s/it]"
     ]
    },
    {
     "name": "stdout",
     "output_type": "stream",
     "text": [
      "\n",
      " chordata_cheloniidae:\n",
      "   Kept: 27/30 (90.0%)\n",
      "   Removed: 3\n"
     ]
    },
    {
     "name": "stderr",
     "output_type": "stream",
     "text": [
      "CLIP cleaning:  29%|██▊       | 58/202 [11:02<16:44,  6.98s/it]"
     ]
    },
    {
     "name": "stdout",
     "output_type": "stream",
     "text": [
      "\n",
      " chordata_chelydridae:\n",
      "   Kept: 26/30 (86.7%)\n",
      "   Removed: 4\n"
     ]
    },
    {
     "name": "stderr",
     "output_type": "stream",
     "text": [
      "CLIP cleaning:  29%|██▉       | 59/202 [11:18<23:34,  9.89s/it]"
     ]
    },
    {
     "name": "stdout",
     "output_type": "stream",
     "text": [
      "\n",
      " chordata_ciconiidae:\n",
      "   Kept: 87/90 (96.7%)\n",
      "   Removed: 3\n"
     ]
    },
    {
     "name": "stderr",
     "output_type": "stream",
     "text": [
      "CLIP cleaning:  30%|██▉       | 60/202 [11:32<26:02, 11.00s/it]"
     ]
    },
    {
     "name": "stdout",
     "output_type": "stream",
     "text": [
      "\n",
      " chordata_colubridae:\n",
      "   Kept: 90/90 (100.0%)\n",
      "   Removed: 0\n"
     ]
    },
    {
     "name": "stderr",
     "output_type": "stream",
     "text": [
      "CLIP cleaning:  30%|███       | 61/202 [11:37<21:57,  9.35s/it]"
     ]
    },
    {
     "name": "stdout",
     "output_type": "stream",
     "text": [
      "\n",
      " chordata_columbidae:\n",
      "   Kept: 27/30 (90.0%)\n",
      "   Removed: 3\n"
     ]
    },
    {
     "name": "stderr",
     "output_type": "stream",
     "text": [
      "CLIP cleaning:  31%|███       | 62/202 [11:49<23:02,  9.87s/it]"
     ]
    },
    {
     "name": "stdout",
     "output_type": "stream",
     "text": [
      "\n",
      " chordata_cracidae:\n",
      "   Kept: 60/60 (100.0%)\n",
      "   Removed: 0\n"
     ]
    },
    {
     "name": "stderr",
     "output_type": "stream",
     "text": [
      "CLIP cleaning:  31%|███       | 63/202 [11:54<19:33,  8.44s/it]"
     ]
    },
    {
     "name": "stdout",
     "output_type": "stream",
     "text": [
      "\n",
      " chordata_cricetidae:\n",
      "   Kept: 30/30 (100.0%)\n",
      "   Removed: 0\n"
     ]
    },
    {
     "name": "stderr",
     "output_type": "stream",
     "text": [
      "CLIP cleaning:  32%|███▏      | 64/202 [12:04<20:36,  8.96s/it]"
     ]
    },
    {
     "name": "stdout",
     "output_type": "stream",
     "text": [
      "\n",
      " chordata_crocodylidae:\n",
      "   Kept: 58/60 (96.7%)\n",
      "   Removed: 2\n"
     ]
    },
    {
     "name": "stderr",
     "output_type": "stream",
     "text": [
      "CLIP cleaning:  32%|███▏      | 65/202 [12:14<21:22,  9.36s/it]"
     ]
    },
    {
     "name": "stdout",
     "output_type": "stream",
     "text": [
      "\n",
      " chordata_cryptobranchidae:\n",
      "   Kept: 57/60 (95.0%)\n",
      "   Removed: 3\n"
     ]
    },
    {
     "name": "stderr",
     "output_type": "stream",
     "text": [
      "CLIP cleaning:  33%|███▎      | 66/202 [12:18<17:48,  7.86s/it]"
     ]
    },
    {
     "name": "stdout",
     "output_type": "stream",
     "text": [
      "\n",
      " chordata_ctenomyidae:\n",
      "   Kept: 30/30 (100.0%)\n",
      "   Removed: 0\n"
     ]
    },
    {
     "name": "stderr",
     "output_type": "stream",
     "text": [
      "CLIP cleaning:  33%|███▎      | 67/202 [12:23<15:09,  6.74s/it]"
     ]
    },
    {
     "name": "stdout",
     "output_type": "stream",
     "text": [
      "\n",
      " chordata_cuculidae:\n",
      "   Kept: 27/30 (90.0%)\n",
      "   Removed: 3\n"
     ]
    },
    {
     "name": "stderr",
     "output_type": "stream",
     "text": [
      "CLIP cleaning:  34%|███▎      | 68/202 [12:27<13:16,  5.94s/it]"
     ]
    },
    {
     "name": "stdout",
     "output_type": "stream",
     "text": [
      "\n",
      " chordata_cyprinodontidae:\n",
      "   Kept: 30/30 (100.0%)\n",
      "   Removed: 0\n"
     ]
    },
    {
     "name": "stderr",
     "output_type": "stream",
     "text": [
      "CLIP cleaning:  34%|███▍      | 69/202 [13:07<36:21, 16.40s/it]"
     ]
    },
    {
     "name": "stdout",
     "output_type": "stream",
     "text": [
      "\n",
      " chordata_dactyloidae:\n",
      "   Kept: 300/300 (100.0%)\n",
      "   Removed: 0\n"
     ]
    },
    {
     "name": "stderr",
     "output_type": "stream",
     "text": [
      "CLIP cleaning:  35%|███▍      | 70/202 [13:11<27:54, 12.68s/it]"
     ]
    },
    {
     "name": "stdout",
     "output_type": "stream",
     "text": [
      "\n",
      " chordata_dalatiidae:\n",
      "   Kept: 30/30 (100.0%)\n",
      "   Removed: 0\n"
     ]
    },
    {
     "name": "stderr",
     "output_type": "stream",
     "text": [
      "CLIP cleaning:  35%|███▌      | 71/202 [13:33<33:39, 15.42s/it]"
     ]
    },
    {
     "name": "stdout",
     "output_type": "stream",
     "text": [
      "\n",
      " chordata_dasyatidae:\n",
      "   Kept: 146/150 (97.3%)\n",
      "   Removed: 4\n"
     ]
    },
    {
     "name": "stderr",
     "output_type": "stream",
     "text": [
      "CLIP cleaning:  36%|███▌      | 72/202 [13:39<27:04, 12.50s/it]"
     ]
    },
    {
     "name": "stdout",
     "output_type": "stream",
     "text": [
      "\n",
      " chordata_dasypodidae:\n",
      "   Kept: 29/30 (96.7%)\n",
      "   Removed: 1\n"
     ]
    },
    {
     "name": "stderr",
     "output_type": "stream",
     "text": [
      "CLIP cleaning:  36%|███▌      | 73/202 [13:44<21:45, 10.12s/it]"
     ]
    },
    {
     "name": "stdout",
     "output_type": "stream",
     "text": [
      "\n",
      " chordata_dasyuridae:\n",
      "   Kept: 28/30 (93.3%)\n",
      "   Removed: 2\n"
     ]
    },
    {
     "name": "stderr",
     "output_type": "stream",
     "text": [
      "CLIP cleaning:  37%|███▋      | 74/202 [13:48<18:14,  8.55s/it]"
     ]
    },
    {
     "name": "stdout",
     "output_type": "stream",
     "text": [
      "\n",
      " chordata_daubentoniidae:\n",
      "   Kept: 30/30 (100.0%)\n",
      "   Removed: 0\n"
     ]
    },
    {
     "name": "stderr",
     "output_type": "stream",
     "text": [
      "CLIP cleaning:  37%|███▋      | 75/202 [14:06<23:35, 11.15s/it]"
     ]
    },
    {
     "name": "stdout",
     "output_type": "stream",
     "text": [
      "\n",
      " chordata_delphinidae:\n",
      "   Kept: 116/119 (97.5%)\n",
      "   Removed: 3\n"
     ]
    },
    {
     "name": "stderr",
     "output_type": "stream",
     "text": [
      "CLIP cleaning:  38%|███▊      | 76/202 [14:10<19:03,  9.08s/it]"
     ]
    },
    {
     "name": "stdout",
     "output_type": "stream",
     "text": [
      "\n",
      " chordata_dendrobatidae:\n",
      "   Kept: 30/30 (100.0%)\n",
      "   Removed: 0\n"
     ]
    },
    {
     "name": "stderr",
     "output_type": "stream",
     "text": [
      "CLIP cleaning:  38%|███▊      | 77/202 [14:41<32:56, 15.81s/it]"
     ]
    },
    {
     "name": "stdout",
     "output_type": "stream",
     "text": [
      "\n",
      " chordata_diomedeidae:\n",
      "   Kept: 170/179 (95.0%)\n",
      "   Removed: 9\n"
     ]
    },
    {
     "name": "stderr",
     "output_type": "stream",
     "text": [
      "CLIP cleaning:  39%|███▊      | 78/202 [14:50<28:16, 13.68s/it]"
     ]
    },
    {
     "name": "stdout",
     "output_type": "stream",
     "text": [
      "\n",
      " chordata_diplodactylidae:\n",
      "   Kept: 58/60 (96.7%)\n",
      "   Removed: 2\n"
     ]
    },
    {
     "name": "stderr",
     "output_type": "stream",
     "text": [
      "CLIP cleaning:  39%|███▉      | 79/202 [14:55<22:36, 11.03s/it]"
     ]
    },
    {
     "name": "stdout",
     "output_type": "stream",
     "text": [
      "\n",
      " chordata_elapidae:\n",
      "   Kept: 28/30 (93.3%)\n",
      "   Removed: 2\n"
     ]
    },
    {
     "name": "stderr",
     "output_type": "stream",
     "text": [
      "CLIP cleaning:  40%|███▉      | 80/202 [15:06<22:18, 10.97s/it]"
     ]
    },
    {
     "name": "stdout",
     "output_type": "stream",
     "text": [
      "\n",
      " chordata_emydidae:\n",
      "   Kept: 57/60 (95.0%)\n",
      "   Removed: 3\n"
     ]
    },
    {
     "name": "stderr",
     "output_type": "stream",
     "text": [
      "CLIP cleaning:  40%|████      | 81/202 [15:12<19:04,  9.46s/it]"
     ]
    },
    {
     "name": "stdout",
     "output_type": "stream",
     "text": [
      "\n",
      " chordata_equidae:\n",
      "   Kept: 30/30 (100.0%)\n",
      "   Removed: 0\n"
     ]
    },
    {
     "name": "stderr",
     "output_type": "stream",
     "text": [
      "CLIP cleaning:  41%|████      | 82/202 [15:16<15:57,  7.98s/it]"
     ]
    },
    {
     "name": "stdout",
     "output_type": "stream",
     "text": [
      "\n",
      " chordata_estrildidae:\n",
      "   Kept: 30/30 (100.0%)\n",
      "   Removed: 0\n"
     ]
    },
    {
     "name": "stderr",
     "output_type": "stream",
     "text": [
      "CLIP cleaning:  41%|████      | 83/202 [15:27<17:40,  8.91s/it]"
     ]
    },
    {
     "name": "stdout",
     "output_type": "stream",
     "text": [
      "\n",
      " chordata_falconidae:\n",
      "   Kept: 59/60 (98.3%)\n",
      "   Removed: 1\n"
     ]
    },
    {
     "name": "stderr",
     "output_type": "stream",
     "text": [
      "CLIP cleaning:  42%|████▏     | 84/202 [15:37<17:42,  9.01s/it]"
     ]
    },
    {
     "name": "stdout",
     "output_type": "stream",
     "text": [
      "\n",
      " chordata_fringillidae:\n",
      "   Kept: 60/60 (100.0%)\n",
      "   Removed: 0\n"
     ]
    },
    {
     "name": "stderr",
     "output_type": "stream",
     "text": [
      "CLIP cleaning:  42%|████▏     | 85/202 [15:42<15:29,  7.94s/it]"
     ]
    },
    {
     "name": "stdout",
     "output_type": "stream",
     "text": [
      "\n",
      " chordata_gavialidae:\n",
      "   Kept: 30/30 (100.0%)\n",
      "   Removed: 0\n"
     ]
    },
    {
     "name": "stderr",
     "output_type": "stream",
     "text": [
      "CLIP cleaning:  43%|████▎     | 86/202 [15:47<13:42,  7.09s/it]"
     ]
    },
    {
     "name": "stdout",
     "output_type": "stream",
     "text": [
      "\n",
      " chordata_gekkonidae:\n",
      "   Kept: 30/30 (100.0%)\n",
      "   Removed: 0\n"
     ]
    },
    {
     "name": "stderr",
     "output_type": "stream",
     "text": [
      "CLIP cleaning:  43%|████▎     | 87/202 [16:02<18:09,  9.47s/it]"
     ]
    },
    {
     "name": "stdout",
     "output_type": "stream",
     "text": [
      "\n",
      " chordata_geoemydidae:\n",
      "   Kept: 88/90 (97.8%)\n",
      "   Removed: 2\n"
     ]
    },
    {
     "name": "stderr",
     "output_type": "stream",
     "text": [
      "CLIP cleaning:  44%|████▎     | 88/202 [16:06<14:53,  7.84s/it]"
     ]
    },
    {
     "name": "stdout",
     "output_type": "stream",
     "text": [
      "\n",
      " chordata_giraffidae:\n",
      "   Kept: 26/29 (89.7%)\n",
      "   Removed: 3\n"
     ]
    },
    {
     "name": "stderr",
     "output_type": "stream",
     "text": [
      "CLIP cleaning:  44%|████▍     | 89/202 [16:11<12:51,  6.83s/it]"
     ]
    },
    {
     "name": "stdout",
     "output_type": "stream",
     "text": [
      "\n",
      " chordata_glareolidae:\n",
      "   Kept: 28/30 (93.3%)\n",
      "   Removed: 2\n"
     ]
    },
    {
     "name": "stderr",
     "output_type": "stream",
     "text": [
      "CLIP cleaning:  45%|████▍     | 90/202 [16:16<11:40,  6.25s/it]"
     ]
    },
    {
     "name": "stdout",
     "output_type": "stream",
     "text": [
      "\n",
      " chordata_gliridae:\n",
      "   Kept: 29/30 (96.7%)\n",
      "   Removed: 1\n"
     ]
    },
    {
     "name": "stderr",
     "output_type": "stream",
     "text": [
      "CLIP cleaning:  45%|████▌     | 91/202 [16:22<11:34,  6.26s/it]"
     ]
    },
    {
     "name": "stdout",
     "output_type": "stream",
     "text": [
      "\n",
      " chordata_goodeidae:\n",
      "   Kept: 30/30 (100.0%)\n",
      "   Removed: 0\n"
     ]
    },
    {
     "name": "stderr",
     "output_type": "stream",
     "text": [
      "CLIP cleaning:  46%|████▌     | 92/202 [16:26<10:26,  5.69s/it]"
     ]
    },
    {
     "name": "stdout",
     "output_type": "stream",
     "text": [
      "\n",
      " chordata_gymnuridae:\n",
      "   Kept: 30/30 (100.0%)\n",
      "   Removed: 0\n"
     ]
    },
    {
     "name": "stderr",
     "output_type": "stream",
     "text": [
      "CLIP cleaning:  46%|████▌     | 93/202 [16:32<10:28,  5.77s/it]"
     ]
    },
    {
     "name": "stdout",
     "output_type": "stream",
     "text": [
      "\n",
      " chordata_hemiscylliidae:\n",
      "   Kept: 29/30 (96.7%)\n",
      "   Removed: 1\n"
     ]
    },
    {
     "name": "stderr",
     "output_type": "stream",
     "text": [
      "CLIP cleaning:  47%|████▋     | 94/202 [16:41<11:55,  6.63s/it]"
     ]
    },
    {
     "name": "stdout",
     "output_type": "stream",
     "text": [
      "\n",
      " chordata_hexanchidae:\n",
      "   Kept: 58/60 (96.7%)\n",
      "   Removed: 2\n"
     ]
    },
    {
     "name": "stderr",
     "output_type": "stream",
     "text": [
      "CLIP cleaning:  47%|████▋     | 95/202 [16:47<11:21,  6.37s/it]"
     ]
    },
    {
     "name": "stdout",
     "output_type": "stream",
     "text": [
      "\n",
      " chordata_hominidae:\n",
      "   Kept: 25/30 (83.3%)\n",
      "   Removed: 5\n"
     ]
    },
    {
     "name": "stderr",
     "output_type": "stream",
     "text": [
      "CLIP cleaning:  48%|████▊     | 96/202 [16:51<10:21,  5.86s/it]"
     ]
    },
    {
     "name": "stdout",
     "output_type": "stream",
     "text": [
      "\n",
      " chordata_hyaenidae:\n",
      "   Kept: 27/30 (90.0%)\n",
      "   Removed: 3\n"
     ]
    },
    {
     "name": "stderr",
     "output_type": "stream",
     "text": [
      "CLIP cleaning:  48%|████▊     | 97/202 [17:07<15:18,  8.75s/it]"
     ]
    },
    {
     "name": "stdout",
     "output_type": "stream",
     "text": [
      "\n",
      " chordata_hylobatidae:\n",
      "   Kept: 52/90 (57.8%)\n",
      "   Removed: 38\n"
     ]
    },
    {
     "name": "stderr",
     "output_type": "stream",
     "text": [
      "CLIP cleaning:  49%|████▊     | 98/202 [17:10<12:33,  7.25s/it]"
     ]
    },
    {
     "name": "stdout",
     "output_type": "stream",
     "text": [
      "\n",
      " chordata_hynobiidae:\n",
      "   Kept: 30/30 (100.0%)\n",
      "   Removed: 0\n"
     ]
    },
    {
     "name": "stderr",
     "output_type": "stream",
     "text": [
      "CLIP cleaning:  49%|████▉     | 99/202 [17:32<19:37, 11.43s/it]"
     ]
    },
    {
     "name": "stdout",
     "output_type": "stream",
     "text": [
      "\n",
      " chordata_iguanidae:\n",
      "   Kept: 118/120 (98.3%)\n",
      "   Removed: 2\n"
     ]
    },
    {
     "name": "stderr",
     "output_type": "stream",
     "text": [
      "CLIP cleaning:  50%|████▉     | 100/202 [17:37<16:19,  9.60s/it]"
     ]
    },
    {
     "name": "stdout",
     "output_type": "stream",
     "text": [
      "\n",
      " chordata_indriidae:\n",
      "   Kept: 30/30 (100.0%)\n",
      "   Removed: 0\n"
     ]
    },
    {
     "name": "stderr",
     "output_type": "stream",
     "text": [
      "CLIP cleaning:  50%|█████     | 101/202 [17:47<16:13,  9.64s/it]"
     ]
    },
    {
     "name": "stdout",
     "output_type": "stream",
     "text": [
      "\n",
      " chordata_labridae:\n",
      "   Kept: 60/60 (100.0%)\n",
      "   Removed: 0\n"
     ]
    },
    {
     "name": "stderr",
     "output_type": "stream",
     "text": [
      "CLIP cleaning:  50%|█████     | 102/202 [17:56<15:59,  9.60s/it]"
     ]
    },
    {
     "name": "stdout",
     "output_type": "stream",
     "text": [
      "\n",
      " chordata_lacertidae:\n",
      "   Kept: 60/60 (100.0%)\n",
      "   Removed: 0\n"
     ]
    },
    {
     "name": "stderr",
     "output_type": "stream",
     "text": [
      "CLIP cleaning:  51%|█████     | 103/202 [18:00<13:13,  8.01s/it]"
     ]
    },
    {
     "name": "stdout",
     "output_type": "stream",
     "text": [
      "\n",
      " chordata_lamnidae:\n",
      "   Kept: 29/30 (96.7%)\n",
      "   Removed: 1\n"
     ]
    },
    {
     "name": "stderr",
     "output_type": "stream",
     "text": [
      "CLIP cleaning:  51%|█████▏    | 104/202 [18:24<20:43, 12.69s/it]"
     ]
    },
    {
     "name": "stdout",
     "output_type": "stream",
     "text": [
      "\n",
      " chordata_laridae:\n",
      "   Kept: 147/149 (98.7%)\n",
      "   Removed: 2\n"
     ]
    },
    {
     "name": "stderr",
     "output_type": "stream",
     "text": [
      "CLIP cleaning:  52%|█████▏    | 105/202 [18:29<16:48, 10.40s/it]"
     ]
    },
    {
     "name": "stdout",
     "output_type": "stream",
     "text": [
      "\n",
      " chordata_latimeriidae:\n",
      "   Kept: 29/30 (96.7%)\n",
      "   Removed: 1\n"
     ]
    },
    {
     "name": "stderr",
     "output_type": "stream",
     "text": [
      "CLIP cleaning:  52%|█████▏    | 106/202 [18:40<17:02, 10.65s/it]"
     ]
    },
    {
     "name": "stdout",
     "output_type": "stream",
     "text": [
      "\n",
      " chordata_lemuridae:\n",
      "   Kept: 59/60 (98.3%)\n",
      "   Removed: 1\n"
     ]
    },
    {
     "name": "stderr",
     "output_type": "stream",
     "text": [
      "CLIP cleaning:  53%|█████▎    | 107/202 [18:51<16:57, 10.71s/it]"
     ]
    },
    {
     "name": "stdout",
     "output_type": "stream",
     "text": [
      "\n",
      " chordata_leporidae:\n",
      "   Kept: 58/60 (96.7%)\n",
      "   Removed: 2\n"
     ]
    },
    {
     "name": "stderr",
     "output_type": "stream",
     "text": [
      "CLIP cleaning:  53%|█████▎    | 108/202 [18:55<13:33,  8.65s/it]"
     ]
    },
    {
     "name": "stdout",
     "output_type": "stream",
     "text": [
      "\n",
      " chordata_lutjanidae:\n",
      "   Kept: 30/30 (100.0%)\n",
      "   Removed: 0\n"
     ]
    },
    {
     "name": "stderr",
     "output_type": "stream",
     "text": [
      "CLIP cleaning:  54%|█████▍    | 109/202 [19:04<13:37,  8.79s/it]"
     ]
    },
    {
     "name": "stdout",
     "output_type": "stream",
     "text": [
      "\n",
      " chordata_manidae:\n",
      "   Kept: 56/60 (93.3%)\n",
      "   Removed: 4\n"
     ]
    },
    {
     "name": "stderr",
     "output_type": "stream",
     "text": [
      "CLIP cleaning:  54%|█████▍    | 110/202 [19:10<11:54,  7.77s/it]"
     ]
    },
    {
     "name": "stdout",
     "output_type": "stream",
     "text": [
      "\n",
      " chordata_mantellidae:\n",
      "   Kept: 28/30 (93.3%)\n",
      "   Removed: 2\n"
     ]
    },
    {
     "name": "stderr",
     "output_type": "stream",
     "text": [
      "CLIP cleaning:  55%|█████▍    | 111/202 [19:14<10:25,  6.88s/it]"
     ]
    },
    {
     "name": "stdout",
     "output_type": "stream",
     "text": [
      "\n",
      " chordata_megapodiidae:\n",
      "   Kept: 28/30 (93.3%)\n",
      "   Removed: 2\n"
     ]
    },
    {
     "name": "stderr",
     "output_type": "stream",
     "text": [
      "CLIP cleaning:  55%|█████▌    | 112/202 [19:18<08:59,  5.99s/it]"
     ]
    },
    {
     "name": "stdout",
     "output_type": "stream",
     "text": [
      "\n",
      " chordata_merlucciidae:\n",
      "   Kept: 30/30 (100.0%)\n",
      "   Removed: 0\n"
     ]
    },
    {
     "name": "stderr",
     "output_type": "stream",
     "text": [
      "CLIP cleaning:  56%|█████▌    | 113/202 [19:23<08:08,  5.49s/it]"
     ]
    },
    {
     "name": "stdout",
     "output_type": "stream",
     "text": [
      "\n",
      " chordata_mesitornithidae:\n",
      "   Kept: 19/30 (63.3%)\n",
      "   Removed: 11\n"
     ]
    },
    {
     "name": "stderr",
     "output_type": "stream",
     "text": [
      "CLIP cleaning:  56%|█████▋    | 114/202 [19:28<07:46,  5.30s/it]"
     ]
    },
    {
     "name": "stdout",
     "output_type": "stream",
     "text": [
      "\n",
      " chordata_mimidae:\n",
      "   Kept: 30/30 (100.0%)\n",
      "   Removed: 0\n"
     ]
    },
    {
     "name": "stderr",
     "output_type": "stream",
     "text": [
      "CLIP cleaning:  57%|█████▋    | 115/202 [19:33<07:49,  5.40s/it]"
     ]
    },
    {
     "name": "stdout",
     "output_type": "stream",
     "text": [
      "\n",
      " chordata_motacillidae:\n",
      "   Kept: 30/30 (100.0%)\n",
      "   Removed: 0\n"
     ]
    },
    {
     "name": "stderr",
     "output_type": "stream",
     "text": [
      "CLIP cleaning:  57%|█████▋    | 116/202 [19:38<07:34,  5.28s/it]"
     ]
    },
    {
     "name": "stdout",
     "output_type": "stream",
     "text": [
      "\n",
      " chordata_muscicapidae:\n",
      "   Kept: 29/30 (96.7%)\n",
      "   Removed: 1\n"
     ]
    },
    {
     "name": "stderr",
     "output_type": "stream",
     "text": [
      "CLIP cleaning:  58%|█████▊    | 117/202 [19:57<13:24,  9.46s/it]"
     ]
    },
    {
     "name": "stdout",
     "output_type": "stream",
     "text": [
      "\n",
      " chordata_mustelidae:\n",
      "   Kept: 89/90 (98.9%)\n",
      "   Removed: 1\n"
     ]
    },
    {
     "name": "stderr",
     "output_type": "stream",
     "text": [
      "CLIP cleaning:  58%|█████▊    | 118/202 [20:10<14:46, 10.56s/it]"
     ]
    },
    {
     "name": "stdout",
     "output_type": "stream",
     "text": [
      "\n",
      " chordata_myliobatidae:\n",
      "   Kept: 90/90 (100.0%)\n",
      "   Removed: 0\n"
     ]
    },
    {
     "name": "stderr",
     "output_type": "stream",
     "text": [
      "CLIP cleaning:  59%|█████▉    | 119/202 [20:17<12:45,  9.22s/it]"
     ]
    },
    {
     "name": "stdout",
     "output_type": "stream",
     "text": [
      "\n",
      " chordata_nesospingidae:\n",
      "   Kept: 20/30 (66.7%)\n",
      "   Removed: 10\n"
     ]
    },
    {
     "name": "stderr",
     "output_type": "stream",
     "text": [
      "CLIP cleaning:  59%|█████▉    | 120/202 [20:21<10:31,  7.70s/it]"
     ]
    },
    {
     "name": "stdout",
     "output_type": "stream",
     "text": [
      "\n",
      " chordata_odontophoridae:\n",
      "   Kept: 30/30 (100.0%)\n",
      "   Removed: 0\n"
     ]
    },
    {
     "name": "stderr",
     "output_type": "stream",
     "text": [
      "CLIP cleaning:  60%|█████▉    | 121/202 [20:30<10:56,  8.10s/it]"
     ]
    },
    {
     "name": "stdout",
     "output_type": "stream",
     "text": [
      "\n",
      " chordata_otariidae:\n",
      "   Kept: 60/60 (100.0%)\n",
      "   Removed: 0\n"
     ]
    },
    {
     "name": "stderr",
     "output_type": "stream",
     "text": [
      "CLIP cleaning:  60%|██████    | 122/202 [20:35<09:40,  7.26s/it]"
     ]
    },
    {
     "name": "stdout",
     "output_type": "stream",
     "text": [
      "\n",
      " chordata_otididae:\n",
      "   Kept: 30/30 (100.0%)\n",
      "   Removed: 0\n"
     ]
    },
    {
     "name": "stderr",
     "output_type": "stream",
     "text": [
      "CLIP cleaning:  61%|██████    | 123/202 [20:40<08:35,  6.52s/it]"
     ]
    },
    {
     "name": "stdout",
     "output_type": "stream",
     "text": [
      "\n",
      " chordata_pangasiidae:\n",
      "   Kept: 28/30 (93.3%)\n",
      "   Removed: 2\n"
     ]
    },
    {
     "name": "stderr",
     "output_type": "stream",
     "text": [
      "CLIP cleaning:  61%|██████▏   | 124/202 [20:44<07:39,  5.89s/it]"
     ]
    },
    {
     "name": "stdout",
     "output_type": "stream",
     "text": [
      "\n",
      " chordata_paradisaeidae:\n",
      "   Kept: 29/30 (96.7%)\n",
      "   Removed: 1\n"
     ]
    },
    {
     "name": "stderr",
     "output_type": "stream",
     "text": [
      "CLIP cleaning:  62%|██████▏   | 125/202 [20:49<07:02,  5.48s/it]"
     ]
    },
    {
     "name": "stdout",
     "output_type": "stream",
     "text": [
      "\n",
      " chordata_pardalotidae:\n",
      "   Kept: 29/30 (96.7%)\n",
      "   Removed: 1\n"
     ]
    },
    {
     "name": "stderr",
     "output_type": "stream",
     "text": [
      "CLIP cleaning:  62%|██████▏   | 126/202 [20:53<06:21,  5.02s/it]"
     ]
    },
    {
     "name": "stdout",
     "output_type": "stream",
     "text": [
      "\n",
      " chordata_parulidae:\n",
      "   Kept: 30/30 (100.0%)\n",
      "   Removed: 0\n"
     ]
    },
    {
     "name": "stderr",
     "output_type": "stream",
     "text": [
      "CLIP cleaning:  63%|██████▎   | 127/202 [20:57<05:59,  4.79s/it]"
     ]
    },
    {
     "name": "stdout",
     "output_type": "stream",
     "text": [
      "\n",
      " chordata_percidae:\n",
      "   Kept: 30/30 (100.0%)\n",
      "   Removed: 0\n"
     ]
    },
    {
     "name": "stderr",
     "output_type": "stream",
     "text": [
      "CLIP cleaning:  63%|██████▎   | 128/202 [21:02<05:59,  4.86s/it]"
     ]
    },
    {
     "name": "stdout",
     "output_type": "stream",
     "text": [
      "\n",
      " chordata_phasianidae:\n",
      "   Kept: 26/29 (89.7%)\n",
      "   Removed: 3\n"
     ]
    },
    {
     "name": "stderr",
     "output_type": "stream",
     "text": [
      "CLIP cleaning:  64%|██████▍   | 129/202 [21:06<05:45,  4.73s/it]"
     ]
    },
    {
     "name": "stdout",
     "output_type": "stream",
     "text": [
      "\n",
      " chordata_phrynosomatidae:\n",
      "   Kept: 30/30 (100.0%)\n",
      "   Removed: 0\n"
     ]
    },
    {
     "name": "stderr",
     "output_type": "stream",
     "text": [
      "CLIP cleaning:  64%|██████▍   | 130/202 [21:11<05:33,  4.63s/it]"
     ]
    },
    {
     "name": "stdout",
     "output_type": "stream",
     "text": [
      "\n",
      " chordata_phyllomedusidae:\n",
      "   Kept: 30/30 (100.0%)\n",
      "   Removed: 0\n"
     ]
    },
    {
     "name": "stderr",
     "output_type": "stream",
     "text": [
      "CLIP cleaning:  65%|██████▍   | 131/202 [21:16<05:30,  4.65s/it]"
     ]
    },
    {
     "name": "stdout",
     "output_type": "stream",
     "text": [
      "\n",
      " chordata_phyllostomidae:\n",
      "   Kept: 26/30 (86.7%)\n",
      "   Removed: 4\n"
     ]
    },
    {
     "name": "stderr",
     "output_type": "stream",
     "text": [
      "CLIP cleaning:  65%|██████▌   | 132/202 [21:21<05:32,  4.75s/it]"
     ]
    },
    {
     "name": "stdout",
     "output_type": "stream",
     "text": [
      "\n",
      " chordata_pittidae:\n",
      "   Kept: 30/30 (100.0%)\n",
      "   Removed: 0\n"
     ]
    },
    {
     "name": "stderr",
     "output_type": "stream",
     "text": [
      "CLIP cleaning:  66%|██████▌   | 133/202 [22:05<19:00, 16.53s/it]"
     ]
    },
    {
     "name": "stdout",
     "output_type": "stream",
     "text": [
      "\n",
      " chordata_plethodontidae:\n",
      "   Kept: 270/270 (100.0%)\n",
      "   Removed: 0\n"
     ]
    },
    {
     "name": "stderr",
     "output_type": "stream",
     "text": [
      "CLIP cleaning:  66%|██████▋   | 134/202 [22:09<14:35, 12.88s/it]"
     ]
    },
    {
     "name": "stdout",
     "output_type": "stream",
     "text": [
      "\n",
      " chordata_pleuronectidae:\n",
      "   Kept: 30/30 (100.0%)\n",
      "   Removed: 0\n"
     ]
    },
    {
     "name": "stderr",
     "output_type": "stream",
     "text": [
      "CLIP cleaning:  67%|██████▋   | 135/202 [22:16<12:26, 11.14s/it]"
     ]
    },
    {
     "name": "stdout",
     "output_type": "stream",
     "text": [
      "\n",
      " chordata_podocnemididae:\n",
      "   Kept: 30/30 (100.0%)\n",
      "   Removed: 0\n"
     ]
    },
    {
     "name": "stderr",
     "output_type": "stream",
     "text": [
      "CLIP cleaning:  67%|██████▋   | 136/202 [22:21<10:14,  9.31s/it]"
     ]
    },
    {
     "name": "stdout",
     "output_type": "stream",
     "text": [
      "\n",
      " chordata_polyprionidae:\n",
      "   Kept: 26/30 (86.7%)\n",
      "   Removed: 4\n"
     ]
    },
    {
     "name": "stderr",
     "output_type": "stream",
     "text": [
      "CLIP cleaning:  68%|██████▊   | 137/202 [22:26<08:35,  7.94s/it]"
     ]
    },
    {
     "name": "stdout",
     "output_type": "stream",
     "text": [
      "\n",
      " chordata_pontoporiidae:\n",
      "   Kept: 30/30 (100.0%)\n",
      "   Removed: 0\n"
     ]
    },
    {
     "name": "stderr",
     "output_type": "stream",
     "text": [
      "CLIP cleaning:  68%|██████▊   | 138/202 [22:31<07:33,  7.09s/it]"
     ]
    },
    {
     "name": "stdout",
     "output_type": "stream",
     "text": [
      "\n",
      " chordata_potoroidae:\n",
      "   Kept: 30/30 (100.0%)\n",
      "   Removed: 0\n"
     ]
    },
    {
     "name": "stderr",
     "output_type": "stream",
     "text": [
      "CLIP cleaning:  69%|██████▉   | 139/202 [22:36<06:42,  6.39s/it]"
     ]
    },
    {
     "name": "stdout",
     "output_type": "stream",
     "text": [
      "\n",
      " chordata_pristidae:\n",
      "   Kept: 27/30 (90.0%)\n",
      "   Removed: 3\n"
     ]
    },
    {
     "name": "stderr",
     "output_type": "stream",
     "text": [
      "CLIP cleaning:  69%|██████▉   | 140/202 [22:55<10:35, 10.25s/it]"
     ]
    },
    {
     "name": "stdout",
     "output_type": "stream",
     "text": [
      "\n",
      " chordata_procellariidae:\n",
      "   Kept: 87/90 (96.7%)\n",
      "   Removed: 3\n"
     ]
    },
    {
     "name": "stderr",
     "output_type": "stream",
     "text": [
      "CLIP cleaning:  70%|██████▉   | 141/202 [23:17<14:07, 13.90s/it]"
     ]
    },
    {
     "name": "stdout",
     "output_type": "stream",
     "text": [
      "\n",
      " chordata_psittacidae:\n",
      "   Kept: 116/120 (96.7%)\n",
      "   Removed: 4\n"
     ]
    },
    {
     "name": "stderr",
     "output_type": "stream",
     "text": [
      "CLIP cleaning:  70%|███████   | 142/202 [23:28<12:50, 12.85s/it]"
     ]
    },
    {
     "name": "stdout",
     "output_type": "stream",
     "text": [
      "\n",
      " chordata_psittaculidae:\n",
      "   Kept: 60/60 (100.0%)\n",
      "   Removed: 0\n"
     ]
    },
    {
     "name": "stderr",
     "output_type": "stream",
     "text": [
      "CLIP cleaning:  71%|███████   | 143/202 [23:42<12:55, 13.14s/it]"
     ]
    },
    {
     "name": "stdout",
     "output_type": "stream",
     "text": [
      "\n",
      " chordata_pythonidae:\n",
      "   Kept: 58/60 (96.7%)\n",
      "   Removed: 2\n"
     ]
    },
    {
     "name": "stderr",
     "output_type": "stream",
     "text": [
      "CLIP cleaning:  71%|███████▏  | 144/202 [23:56<13:00, 13.45s/it]"
     ]
    },
    {
     "name": "stdout",
     "output_type": "stream",
     "text": [
      "\n",
      " chordata_rajidae:\n",
      "   Kept: 89/90 (98.9%)\n",
      "   Removed: 1\n"
     ]
    },
    {
     "name": "stderr",
     "output_type": "stream",
     "text": [
      "CLIP cleaning:  72%|███████▏  | 145/202 [24:03<10:54, 11.49s/it]"
     ]
    },
    {
     "name": "stdout",
     "output_type": "stream",
     "text": [
      "\n",
      " chordata_rallidae:\n",
      "   Kept: 30/30 (100.0%)\n",
      "   Removed: 0\n"
     ]
    },
    {
     "name": "stderr",
     "output_type": "stream",
     "text": [
      "CLIP cleaning:  72%|███████▏  | 146/202 [24:08<09:04,  9.72s/it]"
     ]
    },
    {
     "name": "stdout",
     "output_type": "stream",
     "text": [
      "\n",
      " chordata_ramphastidae:\n",
      "   Kept: 29/30 (96.7%)\n",
      "   Removed: 1\n"
     ]
    },
    {
     "name": "stderr",
     "output_type": "stream",
     "text": [
      "CLIP cleaning:  73%|███████▎  | 147/202 [24:22<10:04, 10.99s/it]"
     ]
    },
    {
     "name": "stdout",
     "output_type": "stream",
     "text": [
      "\n",
      " chordata_ranidae:\n",
      "   Kept: 90/90 (100.0%)\n",
      "   Removed: 0\n"
     ]
    },
    {
     "name": "stderr",
     "output_type": "stream",
     "text": [
      "CLIP cleaning:  73%|███████▎  | 148/202 [24:27<08:11,  9.09s/it]"
     ]
    },
    {
     "name": "stdout",
     "output_type": "stream",
     "text": [
      "\n",
      " chordata_recurvirostridae:\n",
      "   Kept: 30/30 (100.0%)\n",
      "   Removed: 0\n"
     ]
    },
    {
     "name": "stderr",
     "output_type": "stream",
     "text": [
      "CLIP cleaning:  74%|███████▍  | 149/202 [24:38<08:28,  9.60s/it]"
     ]
    },
    {
     "name": "stdout",
     "output_type": "stream",
     "text": [
      "\n",
      " chordata_rhacophoridae:\n",
      "   Kept: 60/60 (100.0%)\n",
      "   Removed: 0\n"
     ]
    },
    {
     "name": "stderr",
     "output_type": "stream",
     "text": [
      "CLIP cleaning:  74%|███████▍  | 150/202 [24:41<06:46,  7.82s/it]"
     ]
    },
    {
     "name": "stdout",
     "output_type": "stream",
     "text": [
      "\n",
      " chordata_rhinodermatidae:\n",
      "   Kept: 28/30 (93.3%)\n",
      "   Removed: 2\n"
     ]
    },
    {
     "name": "stderr",
     "output_type": "stream",
     "text": [
      "CLIP cleaning:  75%|███████▍  | 151/202 [24:50<06:52,  8.09s/it]"
     ]
    },
    {
     "name": "stdout",
     "output_type": "stream",
     "text": [
      "\n",
      " chordata_rhyacotritonidae:\n",
      "   Kept: 59/60 (98.3%)\n",
      "   Removed: 1\n"
     ]
    },
    {
     "name": "stderr",
     "output_type": "stream",
     "text": [
      "CLIP cleaning:  75%|███████▌  | 152/202 [25:30<14:44, 17.68s/it]"
     ]
    },
    {
     "name": "stdout",
     "output_type": "stream",
     "text": [
      "\n",
      " chordata_salamandridae:\n",
      "   Kept: 270/270 (100.0%)\n",
      "   Removed: 0\n"
     ]
    },
    {
     "name": "stderr",
     "output_type": "stream",
     "text": [
      "CLIP cleaning:  76%|███████▌  | 153/202 [25:35<11:22, 13.93s/it]"
     ]
    },
    {
     "name": "stdout",
     "output_type": "stream",
     "text": [
      "\n",
      " chordata_salmonidae:\n",
      "   Kept: 28/30 (93.3%)\n",
      "   Removed: 2\n"
     ]
    },
    {
     "name": "stderr",
     "output_type": "stream",
     "text": [
      "CLIP cleaning:  76%|███████▌  | 154/202 [25:44<09:49, 12.28s/it]"
     ]
    },
    {
     "name": "stdout",
     "output_type": "stream",
     "text": [
      "\n",
      " chordata_scincidae:\n",
      "   Kept: 30/30 (100.0%)\n",
      "   Removed: 0\n"
     ]
    },
    {
     "name": "stderr",
     "output_type": "stream",
     "text": [
      "CLIP cleaning:  77%|███████▋  | 155/202 [25:51<08:26, 10.77s/it]"
     ]
    },
    {
     "name": "stdout",
     "output_type": "stream",
     "text": [
      "\n",
      " chordata_sciuridae:\n",
      "   Kept: 30/30 (100.0%)\n",
      "   Removed: 0\n"
     ]
    },
    {
     "name": "stderr",
     "output_type": "stream",
     "text": [
      "CLIP cleaning:  77%|███████▋  | 156/202 [26:03<08:29, 11.08s/it]"
     ]
    },
    {
     "name": "stdout",
     "output_type": "stream",
     "text": [
      "\n",
      " chordata_scolopacidae:\n",
      "   Kept: 56/60 (93.3%)\n",
      "   Removed: 4\n"
     ]
    },
    {
     "name": "stderr",
     "output_type": "stream",
     "text": [
      "CLIP cleaning:  78%|███████▊  | 157/202 [26:07<06:42,  8.95s/it]"
     ]
    },
    {
     "name": "stdout",
     "output_type": "stream",
     "text": [
      "\n",
      " chordata_scombridae:\n",
      "   Kept: 30/30 (100.0%)\n",
      "   Removed: 0\n"
     ]
    },
    {
     "name": "stderr",
     "output_type": "stream",
     "text": [
      "CLIP cleaning:  78%|███████▊  | 158/202 [26:21<07:41, 10.49s/it]"
     ]
    },
    {
     "name": "stdout",
     "output_type": "stream",
     "text": [
      "\n",
      " chordata_serranidae:\n",
      "   Kept: 89/90 (98.9%)\n",
      "   Removed: 1\n"
     ]
    },
    {
     "name": "stderr",
     "output_type": "stream",
     "text": [
      "CLIP cleaning:  79%|███████▊  | 159/202 [26:25<06:14,  8.70s/it]"
     ]
    },
    {
     "name": "stdout",
     "output_type": "stream",
     "text": [
      "\n",
      " chordata_siluridae:\n",
      "   Kept: 28/29 (96.6%)\n",
      "   Removed: 1\n"
     ]
    },
    {
     "name": "stderr",
     "output_type": "stream",
     "text": [
      "CLIP cleaning:  79%|███████▉  | 160/202 [26:29<05:06,  7.30s/it]"
     ]
    },
    {
     "name": "stdout",
     "output_type": "stream",
     "text": [
      "\n",
      " chordata_somniosidae:\n",
      "   Kept: 30/30 (100.0%)\n",
      "   Removed: 0\n"
     ]
    },
    {
     "name": "stderr",
     "output_type": "stream",
     "text": [
      "CLIP cleaning:  80%|███████▉  | 161/202 [26:37<05:07,  7.50s/it]"
     ]
    },
    {
     "name": "stdout",
     "output_type": "stream",
     "text": [
      "\n",
      " chordata_soricidae:\n",
      "   Kept: 30/30 (100.0%)\n",
      "   Removed: 0\n"
     ]
    },
    {
     "name": "stderr",
     "output_type": "stream",
     "text": [
      "CLIP cleaning:  80%|████████  | 162/202 [26:46<05:15,  7.89s/it]"
     ]
    },
    {
     "name": "stdout",
     "output_type": "stream",
     "text": [
      "\n",
      " chordata_sparidae:\n",
      "   Kept: 60/60 (100.0%)\n",
      "   Removed: 0\n"
     ]
    },
    {
     "name": "stderr",
     "output_type": "stream",
     "text": [
      "CLIP cleaning:  81%|████████  | 163/202 [27:10<08:16, 12.74s/it]"
     ]
    },
    {
     "name": "stdout",
     "output_type": "stream",
     "text": [
      "\n",
      " chordata_spheniscidae:\n",
      "   Kept: 113/120 (94.2%)\n",
      "   Removed: 7\n"
     ]
    },
    {
     "name": "stderr",
     "output_type": "stream",
     "text": [
      "CLIP cleaning:  81%|████████  | 164/202 [27:26<08:34, 13.55s/it]"
     ]
    },
    {
     "name": "stdout",
     "output_type": "stream",
     "text": [
      "\n",
      " chordata_sphyrnidae:\n",
      "   Kept: 80/89 (89.9%)\n",
      "   Removed: 9\n"
     ]
    },
    {
     "name": "stderr",
     "output_type": "stream",
     "text": [
      "CLIP cleaning:  82%|████████▏ | 165/202 [27:31<06:52, 11.16s/it]"
     ]
    },
    {
     "name": "stdout",
     "output_type": "stream",
     "text": [
      "\n",
      " chordata_squalidae:\n",
      "   Kept: 25/30 (83.3%)\n",
      "   Removed: 5\n"
     ]
    },
    {
     "name": "stderr",
     "output_type": "stream",
     "text": [
      "CLIP cleaning:  82%|████████▏ | 166/202 [27:36<05:31,  9.22s/it]"
     ]
    },
    {
     "name": "stdout",
     "output_type": "stream",
     "text": [
      "\n",
      " chordata_squatinidae:\n",
      "   Kept: 30/30 (100.0%)\n",
      "   Removed: 0\n"
     ]
    },
    {
     "name": "stderr",
     "output_type": "stream",
     "text": [
      "CLIP cleaning:  83%|████████▎ | 167/202 [27:41<04:39,  8.00s/it]"
     ]
    },
    {
     "name": "stdout",
     "output_type": "stream",
     "text": [
      "\n",
      " chordata_strigidae:\n",
      "   Kept: 30/30 (100.0%)\n",
      "   Removed: 0\n"
     ]
    },
    {
     "name": "stderr",
     "output_type": "stream",
     "text": [
      "CLIP cleaning:  83%|████████▎ | 168/202 [27:46<03:57,  6.99s/it]"
     ]
    },
    {
     "name": "stdout",
     "output_type": "stream",
     "text": [
      "\n",
      " chordata_strigopidae:\n",
      "   Kept: 26/30 (86.7%)\n",
      "   Removed: 4\n"
     ]
    },
    {
     "name": "stderr",
     "output_type": "stream",
     "text": [
      "CLIP cleaning:  84%|████████▎ | 169/202 [27:54<04:05,  7.43s/it]"
     ]
    },
    {
     "name": "stdout",
     "output_type": "stream",
     "text": [
      "\n",
      " chordata_syngnathidae:\n",
      "   Kept: 60/60 (100.0%)\n",
      "   Removed: 0\n"
     ]
    },
    {
     "name": "stderr",
     "output_type": "stream",
     "text": [
      "CLIP cleaning:  84%|████████▍ | 170/202 [28:05<04:34,  8.58s/it]"
     ]
    },
    {
     "name": "stdout",
     "output_type": "stream",
     "text": [
      "\n",
      " chordata_testudinidae:\n",
      "   Kept: 59/60 (98.3%)\n",
      "   Removed: 1\n"
     ]
    },
    {
     "name": "stderr",
     "output_type": "stream",
     "text": [
      "CLIP cleaning:  85%|████████▍ | 171/202 [28:19<05:14, 10.16s/it]"
     ]
    },
    {
     "name": "stdout",
     "output_type": "stream",
     "text": [
      "\n",
      " chordata_thraupidae:\n",
      "   Kept: 89/90 (98.9%)\n",
      "   Removed: 1\n"
     ]
    },
    {
     "name": "stderr",
     "output_type": "stream",
     "text": [
      "CLIP cleaning:  85%|████████▌ | 172/202 [28:26<04:35,  9.18s/it]"
     ]
    },
    {
     "name": "stdout",
     "output_type": "stream",
     "text": [
      "\n",
      " chordata_trionychidae:\n",
      "   Kept: 29/30 (96.7%)\n",
      "   Removed: 1\n"
     ]
    },
    {
     "name": "stderr",
     "output_type": "stream",
     "text": [
      "CLIP cleaning:  86%|████████▌ | 173/202 [28:41<05:18, 10.99s/it]"
     ]
    },
    {
     "name": "stdout",
     "output_type": "stream",
     "text": [
      "\n",
      " chordata_trochilidae:\n",
      "   Kept: 86/90 (95.6%)\n",
      "   Removed: 4\n"
     ]
    },
    {
     "name": "stderr",
     "output_type": "stream",
     "text": [
      "CLIP cleaning:  86%|████████▌ | 174/202 [28:45<04:09,  8.91s/it]"
     ]
    },
    {
     "name": "stdout",
     "output_type": "stream",
     "text": [
      "\n",
      " chordata_trogonidae:\n",
      "   Kept: 30/30 (100.0%)\n",
      "   Removed: 0\n"
     ]
    },
    {
     "name": "stderr",
     "output_type": "stream",
     "text": [
      "CLIP cleaning:  87%|████████▋ | 175/202 [28:50<03:26,  7.66s/it]"
     ]
    },
    {
     "name": "stdout",
     "output_type": "stream",
     "text": [
      "\n",
      " chordata_tropiduridae:\n",
      "   Kept: 28/30 (93.3%)\n",
      "   Removed: 2\n"
     ]
    },
    {
     "name": "stderr",
     "output_type": "stream",
     "text": [
      "CLIP cleaning:  87%|████████▋ | 176/202 [28:59<03:30,  8.11s/it]"
     ]
    },
    {
     "name": "stdout",
     "output_type": "stream",
     "text": [
      "\n",
      " chordata_turdidae:\n",
      "   Kept: 58/60 (96.7%)\n",
      "   Removed: 2\n"
     ]
    },
    {
     "name": "stderr",
     "output_type": "stream",
     "text": [
      "CLIP cleaning:  88%|████████▊ | 177/202 [29:04<02:57,  7.10s/it]"
     ]
    },
    {
     "name": "stdout",
     "output_type": "stream",
     "text": [
      "\n",
      " chordata_urolophidae:\n",
      "   Kept: 30/30 (100.0%)\n",
      "   Removed: 0\n"
     ]
    },
    {
     "name": "stderr",
     "output_type": "stream",
     "text": [
      "CLIP cleaning:  88%|████████▊ | 178/202 [29:12<02:59,  7.47s/it]"
     ]
    },
    {
     "name": "stdout",
     "output_type": "stream",
     "text": [
      "\n",
      " chordata_ursidae:\n",
      "   Kept: 55/60 (91.7%)\n",
      "   Removed: 5\n"
     ]
    },
    {
     "name": "stderr",
     "output_type": "stream",
     "text": [
      "CLIP cleaning:  89%|████████▊ | 179/202 [29:17<02:28,  6.48s/it]"
     ]
    },
    {
     "name": "stdout",
     "output_type": "stream",
     "text": [
      "\n",
      " chordata_vangidae:\n",
      "   Kept: 29/29 (100.0%)\n",
      "   Removed: 0\n"
     ]
    },
    {
     "name": "stderr",
     "output_type": "stream",
     "text": [
      "CLIP cleaning:  89%|████████▉ | 180/202 [29:26<02:44,  7.48s/it]"
     ]
    },
    {
     "name": "stdout",
     "output_type": "stream",
     "text": [
      "\n",
      " chordata_vespertilionidae:\n",
      "   Kept: 59/60 (98.3%)\n",
      "   Removed: 1\n"
     ]
    },
    {
     "name": "stderr",
     "output_type": "stream",
     "text": [
      "CLIP cleaning:  90%|████████▉ | 181/202 [29:32<02:24,  6.89s/it]"
     ]
    },
    {
     "name": "stdout",
     "output_type": "stream",
     "text": [
      "\n",
      " chordata_viperidae:\n",
      "   Kept: 29/30 (96.7%)\n",
      "   Removed: 1\n"
     ]
    },
    {
     "name": "stderr",
     "output_type": "stream",
     "text": [
      "CLIP cleaning:  90%|█████████ | 182/202 [29:36<01:58,  5.95s/it]"
     ]
    },
    {
     "name": "stdout",
     "output_type": "stream",
     "text": [
      "\n",
      " chordata_vireonidae:\n",
      "   Kept: 30/30 (100.0%)\n",
      "   Removed: 0\n"
     ]
    },
    {
     "name": "stderr",
     "output_type": "stream",
     "text": [
      "CLIP cleaning:  91%|█████████ | 183/202 [29:42<01:54,  6.00s/it]"
     ]
    },
    {
     "name": "stdout",
     "output_type": "stream",
     "text": [
      "\n",
      " chordata_vombatidae:\n",
      "   Kept: 30/30 (100.0%)\n",
      "   Removed: 0\n"
     ]
    },
    {
     "name": "stderr",
     "output_type": "stream",
     "text": [
      "CLIP cleaning:  91%|█████████ | 184/202 [30:25<05:07, 17.09s/it]"
     ]
    },
    {
     "name": "stdout",
     "output_type": "stream",
     "text": [
      "\n",
      " cnidaria_acroporidae:\n",
      "   Kept: 209/210 (99.5%)\n",
      "   Removed: 1\n"
     ]
    },
    {
     "name": "stderr",
     "output_type": "stream",
     "text": [
      "CLIP cleaning:  92%|█████████▏| 185/202 [30:45<05:08, 18.17s/it]"
     ]
    },
    {
     "name": "stdout",
     "output_type": "stream",
     "text": [
      "\n",
      " cnidaria_agariciidae:\n",
      "   Kept: 120/120 (100.0%)\n",
      "   Removed: 0\n"
     ]
    },
    {
     "name": "stderr",
     "output_type": "stream",
     "text": [
      "CLIP cleaning:  92%|█████████▏| 186/202 [30:50<03:44, 14.06s/it]"
     ]
    },
    {
     "name": "stdout",
     "output_type": "stream",
     "text": [
      "\n",
      " cnidaria_dendrophylliidae:\n",
      "   Kept: 30/30 (100.0%)\n",
      "   Removed: 0\n"
     ]
    },
    {
     "name": "stderr",
     "output_type": "stream",
     "text": [
      "CLIP cleaning:  93%|█████████▎| 187/202 [30:54<02:47, 11.20s/it]"
     ]
    },
    {
     "name": "stdout",
     "output_type": "stream",
     "text": [
      "\n",
      " cnidaria_diploastraeidae:\n",
      "   Kept: 30/30 (100.0%)\n",
      "   Removed: 0\n"
     ]
    },
    {
     "name": "stderr",
     "output_type": "stream",
     "text": [
      "CLIP cleaning:  93%|█████████▎| 188/202 [31:09<02:50, 12.16s/it]"
     ]
    },
    {
     "name": "stdout",
     "output_type": "stream",
     "text": [
      "\n",
      " cnidaria_euphylliidae:\n",
      "   Kept: 90/90 (100.0%)\n",
      "   Removed: 0\n"
     ]
    },
    {
     "name": "stderr",
     "output_type": "stream",
     "text": [
      "CLIP cleaning:  94%|█████████▎| 189/202 [31:23<02:47, 12.92s/it]"
     ]
    },
    {
     "name": "stdout",
     "output_type": "stream",
     "text": [
      "\n",
      " cnidaria_faviidae:\n",
      "   Kept: 60/60 (100.0%)\n",
      "   Removed: 0\n"
     ]
    },
    {
     "name": "stderr",
     "output_type": "stream",
     "text": [
      "CLIP cleaning:  94%|█████████▍| 190/202 [31:29<02:09, 10.77s/it]"
     ]
    },
    {
     "name": "stdout",
     "output_type": "stream",
     "text": [
      "\n",
      " cnidaria_fungiidae:\n",
      "   Kept: 29/30 (96.7%)\n",
      "   Removed: 1\n"
     ]
    },
    {
     "name": "stderr",
     "output_type": "stream",
     "text": [
      "CLIP cleaning:  95%|█████████▍| 191/202 [31:35<01:41,  9.21s/it]"
     ]
    },
    {
     "name": "stdout",
     "output_type": "stream",
     "text": [
      "\n",
      " cnidaria_helioporidae:\n",
      "   Kept: 30/30 (100.0%)\n",
      "   Removed: 0\n"
     ]
    },
    {
     "name": "stderr",
     "output_type": "stream",
     "text": [
      "CLIP cleaning:  95%|█████████▌| 192/202 [31:42<01:26,  8.63s/it]"
     ]
    },
    {
     "name": "stdout",
     "output_type": "stream",
     "text": [
      "\n",
      " cnidaria_lobophylliidae:\n",
      "   Kept: 30/30 (100.0%)\n",
      "   Removed: 0\n"
     ]
    },
    {
     "name": "stderr",
     "output_type": "stream",
     "text": [
      "CLIP cleaning:  96%|█████████▌| 193/202 [31:49<01:11,  7.99s/it]"
     ]
    },
    {
     "name": "stdout",
     "output_type": "stream",
     "text": [
      "\n",
      " cnidaria_meandrinidae:\n",
      "   Kept: 23/30 (76.7%)\n",
      "   Removed: 7\n"
     ]
    },
    {
     "name": "stderr",
     "output_type": "stream",
     "text": [
      "CLIP cleaning:  96%|█████████▌| 194/202 [31:58<01:08,  8.52s/it]"
     ]
    },
    {
     "name": "stdout",
     "output_type": "stream",
     "text": [
      "\n",
      " cnidaria_merulinidae:\n",
      "   Kept: 59/60 (98.3%)\n",
      "   Removed: 1\n"
     ]
    },
    {
     "name": "stderr",
     "output_type": "stream",
     "text": [
      "CLIP cleaning:  97%|█████████▋| 195/202 [32:12<01:10, 10.06s/it]"
     ]
    },
    {
     "name": "stdout",
     "output_type": "stream",
     "text": [
      "\n",
      " cnidaria_pocilloporidae:\n",
      "   Kept: 60/60 (100.0%)\n",
      "   Removed: 0\n"
     ]
    },
    {
     "name": "stderr",
     "output_type": "stream",
     "text": [
      "CLIP cleaning:  97%|█████████▋| 196/202 [32:17<00:50,  8.46s/it]"
     ]
    },
    {
     "name": "stdout",
     "output_type": "stream",
     "text": [
      "\n",
      " cnidaria_siderastreidae:\n",
      "   Kept: 30/30 (100.0%)\n",
      "   Removed: 0\n"
     ]
    },
    {
     "name": "stderr",
     "output_type": "stream",
     "text": [
      "CLIP cleaning:  98%|█████████▊| 197/202 [32:27<00:44,  8.90s/it]"
     ]
    },
    {
     "name": "stdout",
     "output_type": "stream",
     "text": [
      "\n",
      " echinodermata_stichopodidae:\n",
      "   Kept: 58/60 (96.7%)\n",
      "   Removed: 2\n"
     ]
    },
    {
     "name": "stderr",
     "output_type": "stream",
     "text": [
      "CLIP cleaning:  98%|█████████▊| 198/202 [32:37<00:37,  9.45s/it]"
     ]
    },
    {
     "name": "stdout",
     "output_type": "stream",
     "text": [
      "\n",
      " mollusca_cardiidae:\n",
      "   Kept: 59/59 (100.0%)\n",
      "   Removed: 0\n"
     ]
    },
    {
     "name": "stderr",
     "output_type": "stream",
     "text": [
      "CLIP cleaning:  99%|█████████▊| 199/202 [32:41<00:22,  7.57s/it]"
     ]
    },
    {
     "name": "stdout",
     "output_type": "stream",
     "text": [
      "\n",
      " mollusca_conidae:\n",
      "   Kept: 30/30 (100.0%)\n",
      "   Removed: 0\n"
     ]
    },
    {
     "name": "stderr",
     "output_type": "stream",
     "text": [
      "CLIP cleaning:  99%|█████████▉| 200/202 [32:44<00:12,  6.43s/it]"
     ]
    },
    {
     "name": "stdout",
     "output_type": "stream",
     "text": [
      "\n",
      " mollusca_haliotidae:\n",
      "   Kept: 30/30 (100.0%)\n",
      "   Removed: 0\n"
     ]
    },
    {
     "name": "stderr",
     "output_type": "stream",
     "text": [
      "CLIP cleaning: 100%|█████████▉| 201/202 [32:52<00:06,  6.94s/it]"
     ]
    },
    {
     "name": "stdout",
     "output_type": "stream",
     "text": [
      "\n",
      " mollusca_unionidae:\n",
      "   Kept: 60/60 (100.0%)\n",
      "   Removed: 0\n"
     ]
    },
    {
     "name": "stderr",
     "output_type": "stream",
     "text": [
      "CLIP cleaning: 100%|██████████| 202/202 [32:58<00:00,  9.79s/it]"
     ]
    },
    {
     "name": "stdout",
     "output_type": "stream",
     "text": [
      "\n",
      " mollusca_zonitidae:\n",
      "   Kept: 29/30 (96.7%)\n",
      "   Removed: 1\n",
      "\n",
      "===  CLIP + Clustering Complete ===\n",
      " Final images saved to: C:\\Users\\Elcano\\Documents\\NOVA IMS\\2_Semester\\Deep Learning\\Project\\rare_species_final\n",
      " Removed images saved to: C:\\Users\\Elcano\\Documents\\NOVA IMS\\2_Semester\\Deep Learning\\Project\\rare_species_removed\n",
      "\n",
      "📊 Removal Summary Per Family:\n",
      " - arthropoda_apidae: 0 images removed\n",
      " - arthropoda_attelabidae: 1 images removed\n",
      " - arthropoda_carabidae: 1 images removed\n",
      " - arthropoda_cerambycidae: 1 images removed\n",
      " - arthropoda_coenagrionidae: 0 images removed\n",
      " - arthropoda_formicidae: 38 images removed\n",
      " - arthropoda_gomphidae: 0 images removed\n",
      " - arthropoda_lucanidae: 0 images removed\n",
      " - arthropoda_nymphalidae: 0 images removed\n",
      " - arthropoda_palinuridae: 0 images removed\n",
      " - arthropoda_papilionidae: 0 images removed\n",
      " - arthropoda_pisauridae: 1 images removed\n",
      " - arthropoda_platystictidae: 0 images removed\n",
      " - arthropoda_pseudophasmatidae: 1 images removed\n",
      " - arthropoda_tettigoniidae: 2 images removed\n",
      " - arthropoda_theraphosidae: 0 images removed\n",
      " - arthropoda_triopsidae: 0 images removed\n",
      " - chordata_accipitridae: 1 images removed\n",
      " - chordata_acipenseridae: 2 images removed\n",
      " - chordata_agamidae: 1 images removed\n",
      " - chordata_albulidae: 2 images removed\n",
      " - chordata_alcedinidae: 3 images removed\n",
      " - chordata_alligatoridae: 0 images removed\n",
      " - chordata_alopiidae: 3 images removed\n",
      " - chordata_ambystomatidae: 3 images removed\n",
      " - chordata_anatidae: 14 images removed\n",
      " - chordata_anguidae: 0 images removed\n",
      " - chordata_aotidae: 24 images removed\n",
      " - chordata_ardeidae: 0 images removed\n",
      " - chordata_arthroleptidae: 5 images removed\n",
      " - chordata_atelidae: 64 images removed\n",
      " - chordata_balaenicipitidae: 7 images removed\n",
      " - chordata_balaenidae: 3 images removed\n",
      " - chordata_balaenopteridae: 2 images removed\n",
      " - chordata_balistidae: 0 images removed\n",
      " - chordata_bombycillidae: 1 images removed\n",
      " - chordata_bovidae: 6 images removed\n",
      " - chordata_brachypteraciidae: 9 images removed\n",
      " - chordata_bucerotidae: 5 images removed\n",
      " - chordata_bufonidae: 0 images removed\n",
      " - chordata_burhinidae: 0 images removed\n",
      " - chordata_cacatuidae: 6 images removed\n",
      " - chordata_callitrichidae: 35 images removed\n",
      " - chordata_callorhinchidae: 1 images removed\n",
      " - chordata_caprimulgidae: 4 images removed\n",
      " - chordata_carcharhinidae: 2 images removed\n",
      " - chordata_carettochelyidae: 0 images removed\n",
      " - chordata_cebidae: 5 images removed\n",
      " - chordata_cercopithecidae: 1 images removed\n",
      " - chordata_cervidae: 1 images removed\n",
      " - chordata_cetorhinidae: 3 images removed\n",
      " - chordata_chaetodontidae: 0 images removed\n",
      " - chordata_chamaeleonidae: 1 images removed\n",
      " - chordata_charadriidae: 0 images removed\n",
      " - chordata_cheirogaleidae: 0 images removed\n",
      " - chordata_chelidae: 0 images removed\n",
      " - chordata_cheloniidae: 3 images removed\n",
      " - chordata_chelydridae: 4 images removed\n",
      " - chordata_ciconiidae: 3 images removed\n",
      " - chordata_colubridae: 0 images removed\n",
      " - chordata_columbidae: 3 images removed\n",
      " - chordata_cracidae: 0 images removed\n",
      " - chordata_cricetidae: 0 images removed\n",
      " - chordata_crocodylidae: 2 images removed\n",
      " - chordata_cryptobranchidae: 3 images removed\n",
      " - chordata_ctenomyidae: 0 images removed\n",
      " - chordata_cuculidae: 3 images removed\n",
      " - chordata_cyprinodontidae: 0 images removed\n",
      " - chordata_dactyloidae: 0 images removed\n",
      " - chordata_dalatiidae: 0 images removed\n",
      " - chordata_dasyatidae: 4 images removed\n",
      " - chordata_dasypodidae: 1 images removed\n",
      " - chordata_dasyuridae: 2 images removed\n",
      " - chordata_daubentoniidae: 0 images removed\n",
      " - chordata_delphinidae: 3 images removed\n",
      " - chordata_dendrobatidae: 0 images removed\n",
      " - chordata_diomedeidae: 9 images removed\n",
      " - chordata_diplodactylidae: 2 images removed\n",
      " - chordata_elapidae: 2 images removed\n",
      " - chordata_emydidae: 3 images removed\n",
      " - chordata_equidae: 0 images removed\n",
      " - chordata_estrildidae: 0 images removed\n",
      " - chordata_falconidae: 1 images removed\n",
      " - chordata_fringillidae: 0 images removed\n",
      " - chordata_gavialidae: 0 images removed\n",
      " - chordata_gekkonidae: 0 images removed\n",
      " - chordata_geoemydidae: 2 images removed\n",
      " - chordata_giraffidae: 3 images removed\n",
      " - chordata_glareolidae: 2 images removed\n",
      " - chordata_gliridae: 1 images removed\n",
      " - chordata_goodeidae: 0 images removed\n",
      " - chordata_gymnuridae: 0 images removed\n",
      " - chordata_hemiscylliidae: 1 images removed\n",
      " - chordata_hexanchidae: 2 images removed\n",
      " - chordata_hominidae: 5 images removed\n",
      " - chordata_hyaenidae: 3 images removed\n",
      " - chordata_hylobatidae: 38 images removed\n",
      " - chordata_hynobiidae: 0 images removed\n",
      " - chordata_iguanidae: 2 images removed\n",
      " - chordata_indriidae: 0 images removed\n",
      " - chordata_labridae: 0 images removed\n",
      " - chordata_lacertidae: 0 images removed\n",
      " - chordata_lamnidae: 1 images removed\n",
      " - chordata_laridae: 2 images removed\n",
      " - chordata_latimeriidae: 1 images removed\n",
      " - chordata_lemuridae: 1 images removed\n",
      " - chordata_leporidae: 2 images removed\n",
      " - chordata_lutjanidae: 0 images removed\n",
      " - chordata_manidae: 4 images removed\n",
      " - chordata_mantellidae: 2 images removed\n",
      " - chordata_megapodiidae: 2 images removed\n",
      " - chordata_merlucciidae: 0 images removed\n",
      " - chordata_mesitornithidae: 11 images removed\n",
      " - chordata_mimidae: 0 images removed\n",
      " - chordata_motacillidae: 0 images removed\n",
      " - chordata_muscicapidae: 1 images removed\n",
      " - chordata_mustelidae: 1 images removed\n",
      " - chordata_myliobatidae: 0 images removed\n",
      " - chordata_nesospingidae: 10 images removed\n",
      " - chordata_odontophoridae: 0 images removed\n",
      " - chordata_otariidae: 0 images removed\n",
      " - chordata_otididae: 0 images removed\n",
      " - chordata_pangasiidae: 2 images removed\n",
      " - chordata_paradisaeidae: 1 images removed\n",
      " - chordata_pardalotidae: 1 images removed\n",
      " - chordata_parulidae: 0 images removed\n",
      " - chordata_percidae: 0 images removed\n",
      " - chordata_phasianidae: 3 images removed\n",
      " - chordata_phrynosomatidae: 0 images removed\n",
      " - chordata_phyllomedusidae: 0 images removed\n",
      " - chordata_phyllostomidae: 4 images removed\n",
      " - chordata_pittidae: 0 images removed\n",
      " - chordata_plethodontidae: 0 images removed\n",
      " - chordata_pleuronectidae: 0 images removed\n",
      " - chordata_podocnemididae: 0 images removed\n",
      " - chordata_polyprionidae: 4 images removed\n",
      " - chordata_pontoporiidae: 0 images removed\n",
      " - chordata_potoroidae: 0 images removed\n",
      " - chordata_pristidae: 3 images removed\n",
      " - chordata_procellariidae: 3 images removed\n",
      " - chordata_psittacidae: 4 images removed\n",
      " - chordata_psittaculidae: 0 images removed\n",
      " - chordata_pythonidae: 2 images removed\n",
      " - chordata_rajidae: 1 images removed\n",
      " - chordata_rallidae: 0 images removed\n",
      " - chordata_ramphastidae: 1 images removed\n",
      " - chordata_ranidae: 0 images removed\n",
      " - chordata_recurvirostridae: 0 images removed\n",
      " - chordata_rhacophoridae: 0 images removed\n",
      " - chordata_rhinodermatidae: 2 images removed\n",
      " - chordata_rhyacotritonidae: 1 images removed\n",
      " - chordata_salamandridae: 0 images removed\n",
      " - chordata_salmonidae: 2 images removed\n",
      " - chordata_scincidae: 0 images removed\n",
      " - chordata_sciuridae: 0 images removed\n",
      " - chordata_scolopacidae: 4 images removed\n",
      " - chordata_scombridae: 0 images removed\n",
      " - chordata_serranidae: 1 images removed\n",
      " - chordata_siluridae: 1 images removed\n",
      " - chordata_somniosidae: 0 images removed\n",
      " - chordata_soricidae: 0 images removed\n",
      " - chordata_sparidae: 0 images removed\n",
      " - chordata_spheniscidae: 7 images removed\n",
      " - chordata_sphyrnidae: 9 images removed\n",
      " - chordata_squalidae: 5 images removed\n",
      " - chordata_squatinidae: 0 images removed\n",
      " - chordata_strigidae: 0 images removed\n",
      " - chordata_strigopidae: 4 images removed\n",
      " - chordata_syngnathidae: 0 images removed\n",
      " - chordata_testudinidae: 1 images removed\n",
      " - chordata_thraupidae: 1 images removed\n",
      " - chordata_trionychidae: 1 images removed\n",
      " - chordata_trochilidae: 4 images removed\n",
      " - chordata_trogonidae: 0 images removed\n",
      " - chordata_tropiduridae: 2 images removed\n",
      " - chordata_turdidae: 2 images removed\n",
      " - chordata_urolophidae: 0 images removed\n",
      " - chordata_ursidae: 5 images removed\n",
      " - chordata_vangidae: 0 images removed\n",
      " - chordata_vespertilionidae: 1 images removed\n",
      " - chordata_viperidae: 1 images removed\n",
      " - chordata_vireonidae: 0 images removed\n",
      " - chordata_vombatidae: 0 images removed\n",
      " - cnidaria_acroporidae: 1 images removed\n",
      " - cnidaria_agariciidae: 0 images removed\n",
      " - cnidaria_dendrophylliidae: 0 images removed\n",
      " - cnidaria_diploastraeidae: 0 images removed\n",
      " - cnidaria_euphylliidae: 0 images removed\n",
      " - cnidaria_faviidae: 0 images removed\n",
      " - cnidaria_fungiidae: 1 images removed\n",
      " - cnidaria_helioporidae: 0 images removed\n",
      " - cnidaria_lobophylliidae: 0 images removed\n",
      " - cnidaria_meandrinidae: 7 images removed\n",
      " - cnidaria_merulinidae: 1 images removed\n",
      " - cnidaria_pocilloporidae: 0 images removed\n",
      " - cnidaria_siderastreidae: 0 images removed\n",
      " - echinodermata_stichopodidae: 2 images removed\n",
      " - mollusca_cardiidae: 0 images removed\n",
      " - mollusca_conidae: 0 images removed\n",
      " - mollusca_haliotidae: 0 images removed\n",
      " - mollusca_unionidae: 0 images removed\n",
      " - mollusca_zonitidae: 1 images removed\n",
      "\n",
      " Total Removed: 500 / 11972 images\n",
      " Percentage Removed: 4.18%\n"
     ]
    },
    {
     "name": "stderr",
     "output_type": "stream",
     "text": [
      "\n"
     ]
    }
   ],
   "source": [
    "# Setup\n",
    "device = \"cuda\" if torch.cuda.is_available() else \"cpu\"\n",
    "model, preprocess = clip.load(\"ViT-B/32\", device=device)\n",
    "\n",
    "dest_dir = r\"C:\\Users\\Elcano\\Documents\\NOVA IMS\\2_Semester\\Deep Learning\\Project\\rare_species_filtered\"\n",
    "dest_dir_clip = r\"C:\\Users\\Elcano\\Documents\\NOVA IMS\\2_Semester\\Deep Learning\\Project\\rare_species_final\"\n",
    "dest_dir_removed = r\"C:\\Users\\Elcano\\Documents\\NOVA IMS\\2_Semester\\Deep Learning\\Project\\rare_species_removed\"\n",
    "\n",
    "def get_clip_embedding(image_path):\n",
    "    try:\n",
    "        img = Image.open(image_path).convert(\"RGB\")\n",
    "        img_tensor = preprocess(img).unsqueeze(0).to(device)\n",
    "        with torch.no_grad():\n",
    "            return model.encode_image(img_tensor).cpu().numpy()[0]\n",
    "    except Exception as e:\n",
    "        print(f\" Error processing {image_path}: {e}\")\n",
    "        return None\n",
    "\n",
    "# Track removals\n",
    "removal_counter = defaultdict(int)\n",
    "total_removed = 0\n",
    "total_processed = 0\n",
    "\n",
    "folder_counter = 0\n",
    "for folder in tqdm(os.listdir(dest_dir), desc=\"CLIP cleaning\"):\n",
    "    folder_counter += 1\n",
    "    fpath = os.path.join(dest_dir, folder)\n",
    "    f_keep = os.path.join(dest_dir_clip, folder)\n",
    "    f_rm = os.path.join(dest_dir_removed, folder)\n",
    "    os.makedirs(f_keep, exist_ok=True)\n",
    "    os.makedirs(f_rm, exist_ok=True)\n",
    "\n",
    "    image_paths, embeddings = [], []\n",
    "    for file in os.listdir(fpath):\n",
    "        full_path = os.path.join(fpath, file)\n",
    "        emb = get_clip_embedding(full_path)\n",
    "        if emb is not None:\n",
    "            image_paths.append(full_path)\n",
    "            embeddings.append(emb)\n",
    "\n",
    "    total_processed += len(image_paths)\n",
    "\n",
    "    if len(embeddings) < 3:\n",
    "        for img in image_paths:\n",
    "            shutil.copy2(img, os.path.join(f_keep, os.path.basename(img)))\n",
    "        print(f\"\\n {folder}: Kept all {len(image_paths)} images (too few for clustering)\")\n",
    "        continue\n",
    "\n",
    "    embeddings = np.vstack(embeddings)\n",
    "\n",
    "    # Clustering with DBSCAN\n",
    "    db = DBSCAN(eps=0.3, min_samples=2, metric=\"cosine\").fit(embeddings)\n",
    "    labels = db.labels_\n",
    "\n",
    "    if len(set(labels)) == 1 and -1 in labels:\n",
    "        print(f\"\\n {folder}: All images marked as noise. Keeping all.\")\n",
    "        for img in image_paths:\n",
    "            shutil.copy2(img, os.path.join(f_keep, os.path.basename(img)))\n",
    "        continue\n",
    "\n",
    "    label_counts = Counter(labels)\n",
    "    label_counts.pop(-1, None)\n",
    "    if not label_counts:\n",
    "        print(f\"\\n {folder}: No valid clusters found. Keeping all.\")\n",
    "        for img in image_paths:\n",
    "            shutil.copy2(img, os.path.join(f_keep, os.path.basename(img)))\n",
    "        continue\n",
    "\n",
    "    majority_label = label_counts.most_common(1)[0][0]\n",
    "    kept_files = []\n",
    "    removed_files = []\n",
    "\n",
    "    for i, img_path in enumerate(image_paths):\n",
    "        filename = os.path.basename(img_path)\n",
    "        if labels[i] == majority_label:\n",
    "            shutil.copy2(img_path, os.path.join(f_keep, filename))\n",
    "            kept_files.append(filename)\n",
    "        else:\n",
    "            shutil.copy2(img_path, os.path.join(f_rm, filename))\n",
    "            removed_files.append(filename)\n",
    "\n",
    "    removal_counter[folder] += len(removed_files)\n",
    "    total_removed += len(removed_files)\n",
    "\n",
    "    print(f\"\\n {folder}:\")\n",
    "    print(f\"   Kept: {len(kept_files)}/{len(image_paths)} ({100 * len(kept_files) / len(image_paths):.1f}%)\")\n",
    "    print(f\"   Removed: {len(removed_files)}\")\n",
    "\n",
    "    if folder_counter <= 5:\n",
    "        print(f\" Examples:\")\n",
    "        print(f\"    Kept    : {kept_files[:5]}\")\n",
    "        print(f\"    Removed : {removed_files[:5]}\")\n",
    "\n",
    "# Final Summary\n",
    "print(\"\\n===  CLIP + Clustering Complete ===\")\n",
    "print(f\" Final images saved to: {dest_dir_clip}\")\n",
    "print(f\" Removed images saved to: {dest_dir_removed}\")\n",
    "\n",
    "print(\"\\n Removal Summary Per Family:\")\n",
    "for family, removed in removal_counter.items():\n",
    "    print(f\" - {family}: {removed} images removed\")\n",
    "\n",
    "print(f\"\\n Total Removed: {total_removed} / {total_processed} images\")\n",
    "print(f\" Percentage Removed: {100 * total_removed / total_processed:.2f}%\")\n",
    "\n"
   ]
  },
  {
   "cell_type": "markdown",
   "id": "a23a4814",
   "metadata": {},
   "source": [
    "🔹 4. Dataset Split (Balanced)"
   ]
  },
  {
   "cell_type": "code",
   "execution_count": null,
   "id": "7139b798",
   "metadata": {},
   "outputs": [
    {
     "name": "stdout",
     "output_type": "stream",
     "text": [
      " Stratified 60% sampling and dataset generation complete:\n",
      " - Source folder: C:\\Users\\Elcano\\Documents\\NOVA IMS\\2_Semester\\Deep Learning\\Project\\rare_species_final\n",
      " - Output folder: C:\\Users\\Elcano\\Documents\\NOVA IMS\\2_Semester\\Deep Learning\\Project\\dataset_sample_stratified\n",
      " - Metadata CSV: C:\\Users\\Elcano\\Documents\\NOVA IMS\\2_Semester\\Deep Learning\\Project\\dataset_sample_stratified\\metadata.csv\n",
      " - Total images: 11472\n",
      "   → train: 8030 | val: 1721 | test: 1721\n",
      "\n",
      "🔎 TRAIN SET — Family counts (top 10 shown):\n",
      "family\n",
      "dactyloidae        210\n",
      "cercopithecidae    209\n",
      "salamandridae      189\n",
      "plethodontidae     189\n",
      "carcharhinidae     187\n",
      "formicidae         177\n",
      "bovidae            164\n",
      "acroporidae        146\n",
      "bucerotidae        143\n",
      "diomedeidae        119\n",
      "Name: count, dtype: int64\n",
      "Total families in train: 202\n",
      "\n",
      "🔎 VAL SET — Family counts (top 10 shown):\n",
      "family\n",
      "cercopithecidae    45\n",
      "dactyloidae        45\n",
      "plethodontidae     41\n",
      "salamandridae      41\n",
      "carcharhinidae     40\n",
      "formicidae         38\n",
      "bovidae            35\n",
      "acroporidae        31\n",
      "bucerotidae        31\n",
      "diomedeidae        25\n",
      "Name: count, dtype: int64\n",
      "Total families in val: 202\n",
      "\n",
      "🔎 TEST SET — Family counts (top 10 shown):\n",
      "family\n",
      "dactyloidae        45\n",
      "cercopithecidae    45\n",
      "plethodontidae     40\n",
      "salamandridae      40\n",
      "carcharhinidae     40\n",
      "formicidae         38\n",
      "bovidae            35\n",
      "acroporidae        32\n",
      "bucerotidae        31\n",
      "diomedeidae        26\n",
      "Name: count, dtype: int64\n",
      "Total families in test: 202\n"
     ]
    }
   ],
   "source": [
    "# Paths\n",
    "source_dir = r\"C:\\Users\\Elcano\\Documents\\NOVA IMS\\2_Semester\\Deep Learning\\Project\\rare_species_final\"\n",
    "base_output_dir = os.path.join(Path(source_dir).parent, \"dataset_sample_stratified\")\n",
    "train_dir = os.path.join(base_output_dir, \"train\")\n",
    "val_dir = os.path.join(base_output_dir, \"val\")\n",
    "test_dir = os.path.join(base_output_dir, \"test\")\n",
    "\n",
    "# Setup output dirs\n",
    "for d in [train_dir, val_dir, test_dir]:\n",
    "    if os.path.exists(d):\n",
    "        shutil.rmtree(d)\n",
    "    os.makedirs(d, exist_ok=True)\n",
    "\n",
    "# Collect image paths\n",
    "image_paths = []\n",
    "labels = []\n",
    "valid_extensions = {'.jpg', '.jpeg', '.png', '.bmp'}\n",
    "\n",
    "for species in os.listdir(source_dir):\n",
    "    species_dir = os.path.join(source_dir, species)\n",
    "    if not os.path.isdir(species_dir):\n",
    "        continue\n",
    "\n",
    "    species_images = [\n",
    "        os.path.join(species_dir, img)\n",
    "        for img in os.listdir(species_dir)\n",
    "        if Path(img).suffix.lower() in valid_extensions\n",
    "    ]\n",
    "\n",
    "    # Sample 60% of images from this species\n",
    "    random.seed(42)\n",
    "    random.shuffle(species_images)\n",
    "    sample_size = int(len(species_images) * 1)\n",
    "    sampled_images = species_images[:sample_size]\n",
    "\n",
    "    image_paths.extend(sampled_images)\n",
    "    labels.extend([species] * len(sampled_images))\n",
    "\n",
    "# Stratified Split (70/15/15)\n",
    "X_train, X_temp, y_train, y_temp = train_test_split(\n",
    "    image_paths, labels, test_size=0.30, stratify=labels, random_state=42\n",
    ")\n",
    "X_val, X_test, y_val, y_test = train_test_split(\n",
    "    X_temp, y_temp, test_size=0.50, stratify=y_temp, random_state=42\n",
    ")\n",
    "\n",
    "# Copy files & metadata creation\n",
    "def copy_files(X, y, target_dir, split_name, meta_list):\n",
    "    for src, label in zip(X, y):\n",
    "        label_dir = os.path.join(target_dir, label)\n",
    "        os.makedirs(label_dir, exist_ok=True)\n",
    "        dst = os.path.join(label_dir, os.path.basename(src))\n",
    "        shutil.copy2(src, dst)\n",
    "\n",
    "        # Extract phylum and family\n",
    "        if \"_\" in label:\n",
    "            phylum, family = label.split(\"_\", 1)\n",
    "        else:\n",
    "            phylum, family = \"unknown\", label\n",
    "\n",
    "        meta_list.append({\n",
    "            \"file_path\": dst,\n",
    "            \"phylum\": phylum,\n",
    "            \"family\": family,\n",
    "            \"split\": split_name\n",
    "        })\n",
    "\n",
    "metadata_entries = []\n",
    "copy_files(X_train, y_train, train_dir, \"train\", metadata_entries)\n",
    "copy_files(X_val, y_val, val_dir, \"val\", metadata_entries)\n",
    "copy_files(X_test, y_test, test_dir, \"test\", metadata_entries)\n",
    "\n",
    "# Save metadata\n",
    "metadata_df = pd.DataFrame(metadata_entries)\n",
    "metadata_csv_path = os.path.join(base_output_dir, \"metadata.csv\")\n",
    "metadata_df.to_csv(metadata_csv_path, index=False)\n",
    "\n",
    "# Summary counts\n",
    "def count_summary(df, split):\n",
    "    fam_counts = df[df.split == split][\"family\"].value_counts()\n",
    "    print(f\"\\n {split.upper()} SET — Family counts (top 10 shown):\")\n",
    "    print(fam_counts.head(10))\n",
    "    print(f\"Total families in {split}: {df[df.split == split]['family'].nunique()}\")\n",
    "\n",
    "print(\" Stratified 60% sampling and dataset generation complete:\")\n",
    "print(f\" - Source folder: {source_dir}\")\n",
    "print(f\" - Output folder: {base_output_dir}\")\n",
    "print(f\" - Metadata CSV: {metadata_csv_path}\")\n",
    "print(f\" - Total images: {len(metadata_df)}\")\n",
    "print(f\"   → train: {len(X_train)} | val: {len(X_val)} | test: {len(X_test)}\")\n",
    "\n",
    "# Print family class balance\n",
    "count_summary(metadata_df, \"train\")\n",
    "count_summary(metadata_df, \"val\")\n",
    "count_summary(metadata_df, \"test\")"
   ]
  }
 ],
 "metadata": {
  "kernelspec": {
   "display_name": "cv310",
   "language": "python",
   "name": "python3"
  },
  "language_info": {
   "codemirror_mode": {
    "name": "ipython",
    "version": 3
   },
   "file_extension": ".py",
   "mimetype": "text/x-python",
   "name": "python",
   "nbconvert_exporter": "python",
   "pygments_lexer": "ipython3",
   "version": "3.10.8"
  }
 },
 "nbformat": 4,
 "nbformat_minor": 5
}
