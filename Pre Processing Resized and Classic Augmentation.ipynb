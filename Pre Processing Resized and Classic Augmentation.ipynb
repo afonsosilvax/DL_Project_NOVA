{
 "cells": [
  {
   "cell_type": "markdown",
   "id": "0f80edaa-073e-489d-bc82-b5fc9d60fbbd",
   "metadata": {},
   "source": [
    "# Libraries"
   ]
  },
  {
   "cell_type": "code",
   "execution_count": 15,
   "id": "c1ce282d-4991-4841-ab54-c95a1c1d36d3",
   "metadata": {},
   "outputs": [],
   "source": [
    "# Standard Library Imports\n",
    "import os\n",
    "import sys\n",
    "import json\n",
    "import ssl\n",
    "import shutil\n",
    "from pathlib import Path\n",
    "from collections import defaultdict\n",
    "from random import sample\n",
    "from typing import Any\n",
    "\n",
    "ssl._create_default_https_context = ssl._create_unverified_context  # Ignore SSL certificate verification\n",
    "\n",
    "# Data Science Libraries\n",
    "import numpy as np\n",
    "import pandas as pd\n",
    "\n",
    "# Visualization Libraries\n",
    "import matplotlib.pyplot as plt\n",
    "from matplotlib.pyplot import subplots, show\n",
    "import seaborn as sns\n",
    "\n",
    "# Deep Learning Libraries - TensorFlow and Keras\n",
    "import tensorflow as tf\n",
    "from tensorflow.keras import Sequential, Input, layers, Model\n",
    "from tensorflow.keras.layers import (\n",
    "    Conv2D, MaxPooling2D, Flatten, Dropout, Dense,\n",
    "    BatchNormalization, RandomFlip, RandomRotation,\n",
    "    RandomZoom, Rescaling\n",
    ")\n",
    "from tensorflow.keras.models import Sequential\n",
    "from tensorflow.keras.optimizers import Adam\n",
    "from tensorflow.keras.losses import SparseCategoricalCrossentropy\n",
    "from tensorflow.keras.metrics import AUC\n",
    "from tensorflow.keras.callbacks import ModelCheckpoint, CSVLogger, EarlyStopping\n",
    "from tensorflow.keras.utils import image_dataset_from_directory\n",
    "from tensorflow.keras.preprocessing.image import ImageDataGenerator\n",
    "from tensorflow import keras\n",
    "from tensorflow.keras import layers\n",
    "from tensorflow.keras.applications import EfficientNetB0\n",
    "from tensorflow.keras.callbacks import ReduceLROnPlateau\n",
    "from tensorflow.keras.applications import EfficientNetB3\n",
    "from tensorflow.keras.applications import InceptionV3\n",
    "from tensorflow.keras import models\n",
    "from tensorflow.keras.callbacks import ReduceLROnPlateau\n",
    "from tensorflow.keras.applications import InceptionV3\n",
    "from tensorflow.keras import layers, Input, Model\n",
    "from tensorflow.keras.applications import EfficientNetB3\n",
    "\n",
    "# Alternative: Standalone Keras Imports\n",
    "from keras import Model, Sequential, Input\n",
    "from keras.layers import Conv2D, MaxPooling2D, Flatten, Dense, LeakyReLU\n",
    "from keras.optimizers import SGD\n",
    "from keras.losses import CategoricalCrossentropy\n",
    "from keras.metrics import CategoricalAccuracy, AUC, F1Score\n",
    "from keras.callbacks import ModelCheckpoint, CSVLogger, LearningRateScheduler\n",
    "from keras.utils import to_categorical\n",
    "from keras.datasets.cifar10 import load_data as load_cifar10\n",
    "from keras_tqdm import TQDMCallback\n",
    "\n",
    "\n",
    "# Deep Learning Libraries - PyTorch and Torchvision\n",
    "import torch\n",
    "import torch.nn as nn\n",
    "from torch.utils.data import DataLoader, Dataset\n",
    "from torchvision import datasets, transforms\n",
    "from torch.optim import AdamW\n",
    "from torch.optim.lr_scheduler import ReduceLROnPlateau\n",
    "import torch.optim as optim\n",
    "\n"
   ]
  },
  {
   "cell_type": "markdown",
   "id": "f7d08132-f2f6-4605-9294-ffcc9ade9db5",
   "metadata": {},
   "source": [
    "# Import file csv (from Data No Noise)"
   ]
  },
  {
   "cell_type": "code",
   "execution_count": 16,
   "id": "e5d64e89-1cae-4f9e-b011-6958bcee8b45",
   "metadata": {},
   "outputs": [],
   "source": [
    "df = pd.read_csv(r'/Users/ricardokayseller/Desktop/filtered_dataset.csv', sep= ',')"
   ]
  },
  {
   "cell_type": "code",
   "execution_count": 17,
   "id": "c2db6669-eb3a-4f5f-b63c-95ef4fa49ded",
   "metadata": {
    "scrolled": true
   },
   "outputs": [
    {
     "data": {
      "text/html": [
       "<div>\n",
       "<style scoped>\n",
       "    .dataframe tbody tr th:only-of-type {\n",
       "        vertical-align: middle;\n",
       "    }\n",
       "\n",
       "    .dataframe tbody tr th {\n",
       "        vertical-align: top;\n",
       "    }\n",
       "\n",
       "    .dataframe thead th {\n",
       "        text-align: right;\n",
       "    }\n",
       "</style>\n",
       "<table border=\"1\" class=\"dataframe\">\n",
       "  <thead>\n",
       "    <tr style=\"text-align: right;\">\n",
       "      <th></th>\n",
       "      <th>rare_species_id</th>\n",
       "      <th>eol_content_id</th>\n",
       "      <th>eol_page_id</th>\n",
       "      <th>kingdom</th>\n",
       "      <th>phylum</th>\n",
       "      <th>family</th>\n",
       "      <th>file_path</th>\n",
       "      <th>full_path</th>\n",
       "      <th>label</th>\n",
       "    </tr>\n",
       "  </thead>\n",
       "  <tbody>\n",
       "    <tr>\n",
       "      <th>0</th>\n",
       "      <td>75fd91cb-2881-41cd-88e6-de451e8b60e2</td>\n",
       "      <td>12853737</td>\n",
       "      <td>449393</td>\n",
       "      <td>animalia</td>\n",
       "      <td>mollusca</td>\n",
       "      <td>unionidae</td>\n",
       "      <td>mollusca_unionidae/12853737_449393_eol-full-si...</td>\n",
       "      <td>/Users/ricardokayseller/Desktop/DATA2/mollusca...</td>\n",
       "      <td>unionidae</td>\n",
       "    </tr>\n",
       "    <tr>\n",
       "      <th>1</th>\n",
       "      <td>28c508bc-63ff-4e60-9c8f-1934367e1528</td>\n",
       "      <td>20969394</td>\n",
       "      <td>793083</td>\n",
       "      <td>animalia</td>\n",
       "      <td>chordata</td>\n",
       "      <td>geoemydidae</td>\n",
       "      <td>chordata_geoemydidae/20969394_793083_eol-full-...</td>\n",
       "      <td>/Users/ricardokayseller/Desktop/DATA2/chordata...</td>\n",
       "      <td>geoemydidae</td>\n",
       "    </tr>\n",
       "    <tr>\n",
       "      <th>2</th>\n",
       "      <td>00372441-588c-4af8-9665-29bee20822c0</td>\n",
       "      <td>28895411</td>\n",
       "      <td>319982</td>\n",
       "      <td>animalia</td>\n",
       "      <td>chordata</td>\n",
       "      <td>cryptobranchidae</td>\n",
       "      <td>chordata_cryptobranchidae/28895411_319982_eol-...</td>\n",
       "      <td>/Users/ricardokayseller/Desktop/DATA2/chordata...</td>\n",
       "      <td>cryptobranchidae</td>\n",
       "    </tr>\n",
       "    <tr>\n",
       "      <th>3</th>\n",
       "      <td>94004bff-3a33-4758-8125-bf72e6e57eab</td>\n",
       "      <td>21252576</td>\n",
       "      <td>7250886</td>\n",
       "      <td>animalia</td>\n",
       "      <td>chordata</td>\n",
       "      <td>indriidae</td>\n",
       "      <td>chordata_indriidae/21252576_7250886_eol-full-s...</td>\n",
       "      <td>/Users/ricardokayseller/Desktop/DATA2/chordata...</td>\n",
       "      <td>indriidae</td>\n",
       "    </tr>\n",
       "    <tr>\n",
       "      <th>4</th>\n",
       "      <td>dc48f2ce-4feb-4ef7-b2a2-c3c3f42bf19b</td>\n",
       "      <td>28657539</td>\n",
       "      <td>491832</td>\n",
       "      <td>animalia</td>\n",
       "      <td>arthropoda</td>\n",
       "      <td>formicidae</td>\n",
       "      <td>arthropoda_formicidae/28657539_491832_eol-full...</td>\n",
       "      <td>/Users/ricardokayseller/Desktop/DATA2/arthropo...</td>\n",
       "      <td>formicidae</td>\n",
       "    </tr>\n",
       "  </tbody>\n",
       "</table>\n",
       "</div>"
      ],
      "text/plain": [
       "                        rare_species_id  eol_content_id  eol_page_id  \\\n",
       "0  75fd91cb-2881-41cd-88e6-de451e8b60e2        12853737       449393   \n",
       "1  28c508bc-63ff-4e60-9c8f-1934367e1528        20969394       793083   \n",
       "2  00372441-588c-4af8-9665-29bee20822c0        28895411       319982   \n",
       "3  94004bff-3a33-4758-8125-bf72e6e57eab        21252576      7250886   \n",
       "4  dc48f2ce-4feb-4ef7-b2a2-c3c3f42bf19b        28657539       491832   \n",
       "\n",
       "    kingdom      phylum            family  \\\n",
       "0  animalia    mollusca         unionidae   \n",
       "1  animalia    chordata       geoemydidae   \n",
       "2  animalia    chordata  cryptobranchidae   \n",
       "3  animalia    chordata         indriidae   \n",
       "4  animalia  arthropoda        formicidae   \n",
       "\n",
       "                                           file_path  \\\n",
       "0  mollusca_unionidae/12853737_449393_eol-full-si...   \n",
       "1  chordata_geoemydidae/20969394_793083_eol-full-...   \n",
       "2  chordata_cryptobranchidae/28895411_319982_eol-...   \n",
       "3  chordata_indriidae/21252576_7250886_eol-full-s...   \n",
       "4  arthropoda_formicidae/28657539_491832_eol-full...   \n",
       "\n",
       "                                           full_path             label  \n",
       "0  /Users/ricardokayseller/Desktop/DATA2/mollusca...         unionidae  \n",
       "1  /Users/ricardokayseller/Desktop/DATA2/chordata...       geoemydidae  \n",
       "2  /Users/ricardokayseller/Desktop/DATA2/chordata...  cryptobranchidae  \n",
       "3  /Users/ricardokayseller/Desktop/DATA2/chordata...         indriidae  \n",
       "4  /Users/ricardokayseller/Desktop/DATA2/arthropo...        formicidae  "
      ]
     },
     "execution_count": 17,
     "metadata": {},
     "output_type": "execute_result"
    }
   ],
   "source": [
    "df.head(5)"
   ]
  },
  {
   "cell_type": "markdown",
   "id": "46269c55-ed90-42ad-9090-758d5cea7c41",
   "metadata": {},
   "source": [
    "# 1. Update Path"
   ]
  },
  {
   "cell_type": "code",
   "execution_count": 18,
   "id": "a0ec492c-95b1-42da-9954-d674c36aef56",
   "metadata": {},
   "outputs": [],
   "source": [
    "# Update 'full_path' to point to the new directory\n",
    "df['full_path'] = df['full_path'].str.replace(\n",
    "    '/Users/ricardokayseller/Desktop/DATA2', \n",
    "    '/Users/ricardokayseller/Desktop/DATA_NO_NOISE_RESIZED_AUGMENTATION'\n",
    ")"
   ]
  },
  {
   "cell_type": "code",
   "execution_count": 19,
   "id": "b7e179d2-4901-493f-af62-df67f2a28da0",
   "metadata": {},
   "outputs": [
    {
     "data": {
      "text/html": [
       "<div>\n",
       "<style scoped>\n",
       "    .dataframe tbody tr th:only-of-type {\n",
       "        vertical-align: middle;\n",
       "    }\n",
       "\n",
       "    .dataframe tbody tr th {\n",
       "        vertical-align: top;\n",
       "    }\n",
       "\n",
       "    .dataframe thead th {\n",
       "        text-align: right;\n",
       "    }\n",
       "</style>\n",
       "<table border=\"1\" class=\"dataframe\">\n",
       "  <thead>\n",
       "    <tr style=\"text-align: right;\">\n",
       "      <th></th>\n",
       "      <th>rare_species_id</th>\n",
       "      <th>eol_content_id</th>\n",
       "      <th>eol_page_id</th>\n",
       "      <th>kingdom</th>\n",
       "      <th>phylum</th>\n",
       "      <th>family</th>\n",
       "      <th>file_path</th>\n",
       "      <th>full_path</th>\n",
       "      <th>label</th>\n",
       "    </tr>\n",
       "  </thead>\n",
       "  <tbody>\n",
       "    <tr>\n",
       "      <th>0</th>\n",
       "      <td>75fd91cb-2881-41cd-88e6-de451e8b60e2</td>\n",
       "      <td>12853737</td>\n",
       "      <td>449393</td>\n",
       "      <td>animalia</td>\n",
       "      <td>mollusca</td>\n",
       "      <td>unionidae</td>\n",
       "      <td>mollusca_unionidae/12853737_449393_eol-full-si...</td>\n",
       "      <td>/Users/ricardokayseller/Desktop/DATA_NO_NOISE_...</td>\n",
       "      <td>unionidae</td>\n",
       "    </tr>\n",
       "    <tr>\n",
       "      <th>1</th>\n",
       "      <td>28c508bc-63ff-4e60-9c8f-1934367e1528</td>\n",
       "      <td>20969394</td>\n",
       "      <td>793083</td>\n",
       "      <td>animalia</td>\n",
       "      <td>chordata</td>\n",
       "      <td>geoemydidae</td>\n",
       "      <td>chordata_geoemydidae/20969394_793083_eol-full-...</td>\n",
       "      <td>/Users/ricardokayseller/Desktop/DATA_NO_NOISE_...</td>\n",
       "      <td>geoemydidae</td>\n",
       "    </tr>\n",
       "    <tr>\n",
       "      <th>2</th>\n",
       "      <td>00372441-588c-4af8-9665-29bee20822c0</td>\n",
       "      <td>28895411</td>\n",
       "      <td>319982</td>\n",
       "      <td>animalia</td>\n",
       "      <td>chordata</td>\n",
       "      <td>cryptobranchidae</td>\n",
       "      <td>chordata_cryptobranchidae/28895411_319982_eol-...</td>\n",
       "      <td>/Users/ricardokayseller/Desktop/DATA_NO_NOISE_...</td>\n",
       "      <td>cryptobranchidae</td>\n",
       "    </tr>\n",
       "  </tbody>\n",
       "</table>\n",
       "</div>"
      ],
      "text/plain": [
       "                        rare_species_id  eol_content_id  eol_page_id  \\\n",
       "0  75fd91cb-2881-41cd-88e6-de451e8b60e2        12853737       449393   \n",
       "1  28c508bc-63ff-4e60-9c8f-1934367e1528        20969394       793083   \n",
       "2  00372441-588c-4af8-9665-29bee20822c0        28895411       319982   \n",
       "\n",
       "    kingdom    phylum            family  \\\n",
       "0  animalia  mollusca         unionidae   \n",
       "1  animalia  chordata       geoemydidae   \n",
       "2  animalia  chordata  cryptobranchidae   \n",
       "\n",
       "                                           file_path  \\\n",
       "0  mollusca_unionidae/12853737_449393_eol-full-si...   \n",
       "1  chordata_geoemydidae/20969394_793083_eol-full-...   \n",
       "2  chordata_cryptobranchidae/28895411_319982_eol-...   \n",
       "\n",
       "                                           full_path             label  \n",
       "0  /Users/ricardokayseller/Desktop/DATA_NO_NOISE_...         unionidae  \n",
       "1  /Users/ricardokayseller/Desktop/DATA_NO_NOISE_...       geoemydidae  \n",
       "2  /Users/ricardokayseller/Desktop/DATA_NO_NOISE_...  cryptobranchidae  "
      ]
     },
     "execution_count": 19,
     "metadata": {},
     "output_type": "execute_result"
    }
   ],
   "source": [
    "df.head(3)"
   ]
  },
  {
   "cell_type": "markdown",
   "id": "feff9847-f181-4b5a-aa29-963b44cb15f3",
   "metadata": {},
   "source": [
    "# 2. Check images in the path"
   ]
  },
  {
   "cell_type": "code",
   "execution_count": 20,
   "id": "c5285b50-bb08-4004-8fc5-11efad80a37f",
   "metadata": {},
   "outputs": [
    {
     "name": "stdout",
     "output_type": "stream",
     "text": [
      "\n",
      " All images exist in path!\n"
     ]
    }
   ],
   "source": [
    "# Path with images\n",
    "DATA_DIR = \"/Users/ricardokayseller/Desktop/DATA_NO_NOISE_RESIZED_AUGMENTATION\"\n",
    "\n",
    "def check_images_existence(df, data_dir):\n",
    "    missing_files = []\n",
    "\n",
    "    for path in df['full_path']:\n",
    "        full_path = os.path.join(data_dir, path)\n",
    "        if not os.path.exists(full_path):\n",
    "            missing_files.append(full_path)\n",
    "\n",
    "    if missing_files:\n",
    "        print(f\"\\n {len(missing_files)} no files:\\n\")\n",
    "        for file in missing_files:\n",
    "            print(file)\n",
    "    else:\n",
    "        print(\"\\n All images exist in path!\")\n",
    "\n",
    "check_images_existence(df, DATA_DIR)\n"
   ]
  },
  {
   "cell_type": "markdown",
   "id": "6d605467-72ec-4abf-bbbb-ab409197a696",
   "metadata": {},
   "source": [
    "# 3. Verifying the Target Distribution"
   ]
  },
  {
   "cell_type": "code",
   "execution_count": 21,
   "id": "9f2ef657-57e1-4632-a398-571dad23cded",
   "metadata": {},
   "outputs": [
    {
     "name": "stdout",
     "output_type": "stream",
     "text": [
      "family\n",
      "dactyloidae        282\n",
      "salamandridae      256\n",
      "formicidae         249\n",
      "cercopithecidae    242\n",
      "carcharhinidae     242\n",
      "                  ... \n",
      "glareolidae         20\n",
      "pardalotidae        19\n",
      "paradisaeidae       19\n",
      "pristidae           19\n",
      "scincidae           14\n",
      "Name: count, Length: 202, dtype: int64\n"
     ]
    }
   ],
   "source": [
    "# Check the distribution of classes (families) in the dataset\n",
    "family_counts = df['family'].value_counts()\n",
    "\n",
    "print(family_counts)\n"
   ]
  },
  {
   "cell_type": "markdown",
   "id": "f8394a81-d91b-429b-8bca-75f523fc3326",
   "metadata": {},
   "source": [
    "# 4. Data Augmentation for Minor Families"
   ]
  },
  {
   "cell_type": "code",
   "execution_count": 12,
   "id": "5ac73902-b516-40c9-8bfa-4d952a86d431",
   "metadata": {},
   "outputs": [
    {
     "name": "stdout",
     "output_type": "stream",
     "text": [
      " Starting augmentation to complete families...\n"
     ]
    },
    {
     "name": "stderr",
     "output_type": "stream",
     "text": [
      "  0%|▏                                          | 1/203 [00:00<00:25,  7.92it/s]"
     ]
    },
    {
     "name": "stdout",
     "output_type": "stream",
     "text": [
      " Family chordata_balaenidae: 29 images -> augmenting 23 new images.\n",
      " Family chordata_pleuronectidae: 27 images -> augmenting 25 new images.\n"
     ]
    },
    {
     "name": "stderr",
     "output_type": "stream",
     "text": [
      "  2%|▊                                          | 4/203 [00:00<00:13, 14.77it/s]"
     ]
    },
    {
     "name": "stdout",
     "output_type": "stream",
     "text": [
      " Family chordata_goodeidae: 30 images -> augmenting 22 new images.\n",
      " Family chordata_cervidae: 30 images -> augmenting 22 new images.\n",
      " Family arthropoda_papilionidae: 23 images -> augmenting 29 new images.\n"
     ]
    },
    {
     "name": "stderr",
     "output_type": "stream",
     "text": [
      "  6%|██▋                                       | 13/203 [00:00<00:08, 21.21it/s]"
     ]
    },
    {
     "name": "stdout",
     "output_type": "stream",
     "text": [
      " Family chordata_dasypodidae: 29 images -> augmenting 23 new images.\n",
      " Family chordata_turdidae: 45 images -> augmenting 7 new images.\n",
      " Family chordata_recurvirostridae: 30 images -> augmenting 22 new images.\n",
      " Family chordata_tropiduridae: 30 images -> augmenting 22 new images.\n"
     ]
    },
    {
     "name": "stderr",
     "output_type": "stream",
     "text": [
      "  8%|███▎                                      | 16/203 [00:00<00:10, 17.45it/s]"
     ]
    },
    {
     "name": "stdout",
     "output_type": "stream",
     "text": [
      " Family chordata_vombatidae: 28 images -> augmenting 24 new images.\n",
      " Family cnidaria_dendrophylliidae: 30 images -> augmenting 22 new images.\n",
      " Family chordata_carettochelyidae: 29 images -> augmenting 23 new images.\n"
     ]
    },
    {
     "name": "stderr",
     "output_type": "stream",
     "text": [
      " 10%|████▎                                     | 21/203 [00:01<00:10, 17.70it/s]"
     ]
    },
    {
     "name": "stdout",
     "output_type": "stream",
     "text": [
      " Family chordata_soricidae: 30 images -> augmenting 22 new images.\n",
      " Family cnidaria_faviidae: 51 images -> augmenting 1 new images.\n",
      " Family chordata_balaenicipitidae: 24 images -> augmenting 28 new images.\n",
      " Family chordata_strigopidae: 24 images -> augmenting 28 new images.\n"
     ]
    },
    {
     "name": "stderr",
     "output_type": "stream",
     "text": [
      " 11%|████▊                                     | 23/203 [00:01<00:11, 15.63it/s]"
     ]
    },
    {
     "name": "stdout",
     "output_type": "stream",
     "text": [
      " Family chordata_gliridae: 30 images -> augmenting 22 new images.\n",
      " Family chordata_daubentoniidae: 28 images -> augmenting 24 new images.\n",
      " Family chordata_paradisaeidae: 19 images -> augmenting 33 new images.\n"
     ]
    },
    {
     "name": "stderr",
     "output_type": "stream",
     "text": [
      " 14%|██████                                    | 29/203 [00:01<00:10, 16.35it/s]"
     ]
    },
    {
     "name": "stdout",
     "output_type": "stream",
     "text": [
      " Family arthropoda_pseudophasmatidae: 28 images -> augmenting 24 new images.\n",
      " Family chordata_parulidae: 28 images -> augmenting 24 new images.\n",
      " Family chordata_vireonidae: 29 images -> augmenting 23 new images.\n"
     ]
    },
    {
     "name": "stderr",
     "output_type": "stream",
     "text": [
      " 20%|████████▍                                 | 41/203 [00:01<00:05, 27.64it/s]"
     ]
    },
    {
     "name": "stdout",
     "output_type": "stream",
     "text": [
      " Family cnidaria_fungiidae: 30 images -> augmenting 22 new images.\n",
      " Family chordata_scolopacidae: 42 images -> augmenting 10 new images.\n",
      " Family chordata_equidae: 29 images -> augmenting 23 new images.\n",
      " Family chordata_phasianidae: 28 images -> augmenting 24 new images.\n"
     ]
    },
    {
     "name": "stderr",
     "output_type": "stream",
     "text": [
      " 22%|█████████                                 | 44/203 [00:02<00:07, 20.53it/s]"
     ]
    },
    {
     "name": "stdout",
     "output_type": "stream",
     "text": [
      " Family chordata_alcedinidae: 21 images -> augmenting 31 new images.\n",
      " Family arthropoda_cerambycidae: 25 images -> augmenting 27 new images.\n",
      " Family cnidaria_meandrinidae: 24 images -> augmenting 28 new images.\n"
     ]
    },
    {
     "name": "stderr",
     "output_type": "stream",
     "text": [
      " 23%|█████████▋                                | 47/203 [00:02<00:09, 16.75it/s]"
     ]
    },
    {
     "name": "stdout",
     "output_type": "stream",
     "text": [
      " Family chordata_mimidae: 24 images -> augmenting 28 new images.\n",
      " Family chordata_lamnidae: 23 images -> augmenting 29 new images.\n",
      " Family chordata_otididae: 30 images -> augmenting 22 new images.\n"
     ]
    },
    {
     "name": "stderr",
     "output_type": "stream",
     "text": [
      " 25%|██████████▌                               | 51/203 [00:02<00:08, 18.35it/s]"
     ]
    },
    {
     "name": "stdout",
     "output_type": "stream",
     "text": [
      " Family chordata_vangidae: 22 images -> augmenting 30 new images.\n",
      " Family chordata_cryptobranchidae: 48 images -> augmenting 4 new images.\n",
      " Family chordata_salmonidae: 28 images -> augmenting 24 new images.\n",
      " Family chordata_rallidae: 27 images -> augmenting 25 new images.\n"
     ]
    },
    {
     "name": "stderr",
     "output_type": "stream",
     "text": [
      " 28%|███████████▌                              | 56/203 [00:03<00:08, 16.46it/s]"
     ]
    },
    {
     "name": "stdout",
     "output_type": "stream",
     "text": [
      " Family chordata_columbidae: 25 images -> augmenting 27 new images.\n",
      " Family chordata_gekkonidae: 29 images -> augmenting 23 new images.\n",
      " Family arthropoda_coenagrionidae: 30 images -> augmenting 22 new images.\n"
     ]
    },
    {
     "name": "stderr",
     "output_type": "stream",
     "text": [
      " 29%|████████████                              | 58/203 [00:03<00:09, 15.88it/s]"
     ]
    },
    {
     "name": "stdout",
     "output_type": "stream",
     "text": [
      " Family chordata_latimeriidae: 30 images -> augmenting 22 new images.\n",
      " Family chordata_pontoporiidae: 25 images -> augmenting 27 new images.\n",
      " Family chordata_polyprionidae: 28 images -> augmenting 24 new images.\n"
     ]
    },
    {
     "name": "stderr",
     "output_type": "stream",
     "text": [
      " 31%|█████████████                             | 63/203 [00:03<00:09, 15.29it/s]"
     ]
    },
    {
     "name": "stdout",
     "output_type": "stream",
     "text": [
      " Family chordata_squalidae: 26 images -> augmenting 26 new images.\n",
      " Family chordata_caprimulgidae: 27 images -> augmenting 25 new images.\n",
      " Family chordata_hominidae: 25 images -> augmenting 27 new images.\n"
     ]
    },
    {
     "name": "stderr",
     "output_type": "stream",
     "text": [
      " 33%|█████████████▊                            | 67/203 [00:03<00:07, 17.70it/s]"
     ]
    },
    {
     "name": "stdout",
     "output_type": "stream",
     "text": [
      " Family chordata_gymnuridae: 27 images -> augmenting 25 new images.\n",
      " Family chordata_balaenopteridae: 24 images -> augmenting 28 new images.\n",
      " Family chordata_hynobiidae: 30 images -> augmenting 22 new images.\n"
     ]
    },
    {
     "name": "stderr",
     "output_type": "stream",
     "text": [
      " 35%|██████████████▉                           | 72/203 [00:04<00:08, 15.51it/s]"
     ]
    },
    {
     "name": "stdout",
     "output_type": "stream",
     "text": [
      " Family chordata_pristidae: 19 images -> augmenting 33 new images.\n",
      " Family chordata_cuculidae: 27 images -> augmenting 25 new images.\n",
      " Family cnidaria_siderastreidae: 30 images -> augmenting 22 new images.\n"
     ]
    },
    {
     "name": "stderr",
     "output_type": "stream",
     "text": [
      " 36%|███████████████▎                          | 74/203 [00:04<00:08, 14.88it/s]"
     ]
    },
    {
     "name": "stdout",
     "output_type": "stream",
     "text": [
      " Family mollusca_conidae: 30 images -> augmenting 22 new images.\n",
      " Family mollusca_zonitidae: 29 images -> augmenting 23 new images.\n",
      " Family chordata_merlucciidae: 23 images -> augmenting 29 new images.\n"
     ]
    },
    {
     "name": "stderr",
     "output_type": "stream",
     "text": [
      " 42%|█████████████████▌                        | 85/203 [00:04<00:05, 23.55it/s]"
     ]
    },
    {
     "name": "stdout",
     "output_type": "stream",
     "text": [
      " Family chordata_squatinidae: 25 images -> augmenting 27 new images.\n",
      " Family chordata_bombycillidae: 21 images -> augmenting 31 new images.\n",
      " Family chordata_phyllostomidae: 27 images -> augmenting 25 new images.\n",
      " Family chordata_scincidae: 14 images -> augmenting 38 new images.\n",
      " Family chordata_pittidae: 27 images -> augmenting 25 new images.\n"
     ]
    },
    {
     "name": "stderr",
     "output_type": "stream",
     "text": [
      " 45%|██████████████████▊                       | 91/203 [00:05<00:06, 17.98it/s]"
     ]
    },
    {
     "name": "stdout",
     "output_type": "stream",
     "text": [
      " Family chordata_muscicapidae: 29 images -> augmenting 23 new images.\n",
      " Family chordata_hemiscylliidae: 26 images -> augmenting 26 new images.\n",
      " Family chordata_aotidae: 23 images -> augmenting 29 new images.\n"
     ]
    },
    {
     "name": "stderr",
     "output_type": "stream",
     "text": [
      " 46%|███████████████████▏                      | 93/203 [00:05<00:06, 16.02it/s]"
     ]
    },
    {
     "name": "stdout",
     "output_type": "stream",
     "text": [
      " Family arthropoda_tettigoniidae: 29 images -> augmenting 23 new images.\n",
      " Family chordata_cheirogaleidae: 30 images -> augmenting 22 new images.\n",
      " Family chordata_scombridae: 27 images -> augmenting 25 new images.\n"
     ]
    },
    {
     "name": "stderr",
     "output_type": "stream",
     "text": [
      " 48%|████████████████████                      | 97/203 [00:05<00:06, 15.60it/s]"
     ]
    },
    {
     "name": "stdout",
     "output_type": "stream",
     "text": [
      " Family chordata_pardalotidae: 19 images -> augmenting 33 new images.\n",
      " Family arthropoda_apidae: 28 images -> augmenting 24 new images.\n",
      " Family arthropoda_lucanidae: 25 images -> augmenting 27 new images.\n"
     ]
    },
    {
     "name": "stderr",
     "output_type": "stream",
     "text": [
      " 50%|████████████████████▌                    | 102/203 [00:05<00:06, 15.36it/s]"
     ]
    },
    {
     "name": "stdout",
     "output_type": "stream",
     "text": [
      " Family chordata_sciuridae: 30 images -> augmenting 22 new images.\n",
      " Family chordata_hyaenidae: 28 images -> augmenting 24 new images.\n",
      " Family arthropoda_nymphalidae: 27 images -> augmenting 25 new images.\n"
     ]
    },
    {
     "name": "stderr",
     "output_type": "stream",
     "text": [
      " 53%|█████████████████████▌                   | 107/203 [00:06<00:05, 16.87it/s]"
     ]
    },
    {
     "name": "stdout",
     "output_type": "stream",
     "text": [
      " Family chordata_brachypteraciidae: 29 images -> augmenting 23 new images.\n",
      " Family chordata_somniosidae: 21 images -> augmenting 31 new images.\n",
      " Family chordata_strigidae: 26 images -> augmenting 26 new images.\n"
     ]
    },
    {
     "name": "stderr",
     "output_type": "stream",
     "text": [
      " 57%|███████████████████████▍                 | 116/203 [00:06<00:03, 23.54it/s]"
     ]
    },
    {
     "name": "stdout",
     "output_type": "stream",
     "text": [
      " Family chordata_cetorhinidae: 24 images -> augmenting 28 new images.\n",
      " Family chordata_falconidae: 44 images -> augmenting 8 new images.\n",
      " Family cnidaria_lobophylliidae: 30 images -> augmenting 22 new images.\n",
      " Family chordata_dasyuridae: 27 images -> augmenting 25 new images.\n"
     ]
    },
    {
     "name": "stderr",
     "output_type": "stream",
     "text": [
      " 59%|████████████████████████                 | 119/203 [00:06<00:04, 17.71it/s]"
     ]
    },
    {
     "name": "stdout",
     "output_type": "stream",
     "text": [
      " Family chordata_viperidae: 29 images -> augmenting 23 new images.\n",
      " Family chordata_indriidae: 30 images -> augmenting 22 new images.\n",
      " Family chordata_motacillidae: 28 images -> augmenting 24 new images.\n"
     ]
    },
    {
     "name": "stderr",
     "output_type": "stream",
     "text": [
      " 60%|████████████████████████▋                | 122/203 [00:06<00:04, 17.19it/s]"
     ]
    },
    {
     "name": "stdout",
     "output_type": "stream",
     "text": [
      " Family arthropoda_palinuridae: 27 images -> augmenting 25 new images.\n",
      " Family arthropoda_theraphosidae: 29 images -> augmenting 23 new images.\n",
      " Family chordata_giraffidae: 28 images -> augmenting 24 new images.\n"
     ]
    },
    {
     "name": "stderr",
     "output_type": "stream",
     "text": [
      " 65%|██████████████████████████▋              | 132/203 [00:07<00:02, 24.28it/s]"
     ]
    },
    {
     "name": "stdout",
     "output_type": "stream",
     "text": [
      " Family chordata_ctenomyidae: 30 images -> augmenting 22 new images.\n",
      " Family arthropoda_platystictidae: 30 images -> augmenting 22 new images.\n",
      " Family chordata_callorhinchidae: 25 images -> augmenting 27 new images.\n"
     ]
    },
    {
     "name": "stderr",
     "output_type": "stream",
     "text": [
      " 69%|████████████████████████████▎            | 140/203 [00:07<00:02, 27.09it/s]"
     ]
    },
    {
     "name": "stdout",
     "output_type": "stream",
     "text": [
      " Family chordata_pangasiidae: 28 images -> augmenting 24 new images.\n",
      " Family chordata_odontophoridae: 30 images -> augmenting 22 new images.\n",
      " Family chordata_gavialidae: 29 images -> augmenting 23 new images.\n"
     ]
    },
    {
     "name": "stderr",
     "output_type": "stream",
     "text": [
      " 70%|████████████████████████████▉            | 143/203 [00:07<00:02, 20.65it/s]"
     ]
    },
    {
     "name": "stdout",
     "output_type": "stream",
     "text": [
      " Family chordata_siluridae: 22 images -> augmenting 30 new images.\n",
      " Family chordata_psittaculidae: 41 images -> augmenting 11 new images.\n",
      " Family chordata_estrildidae: 27 images -> augmenting 25 new images.\n"
     ]
    },
    {
     "name": "stderr",
     "output_type": "stream",
     "text": [
      " 72%|█████████████████████████████▋           | 147/203 [00:07<00:02, 21.27it/s]"
     ]
    },
    {
     "name": "stdout",
     "output_type": "stream",
     "text": [
      " Family cnidaria_diploastraeidae: 30 images -> augmenting 22 new images.\n",
      " Family chordata_mesitornithidae: 26 images -> augmenting 26 new images.\n",
      " Family cnidaria_helioporidae: 30 images -> augmenting 22 new images.\n"
     ]
    },
    {
     "name": "stderr",
     "output_type": "stream",
     "text": [
      " 76%|███████████████████████████████          | 154/203 [00:08<00:02, 19.94it/s]"
     ]
    },
    {
     "name": "stdout",
     "output_type": "stream",
     "text": [
      " Family chordata_elapidae: 28 images -> augmenting 24 new images.\n",
      " Family chordata_cricetidae: 28 images -> augmenting 24 new images.\n",
      " Family arthropoda_attelabidae: 29 images -> augmenting 23 new images.\n"
     ]
    },
    {
     "name": "stderr",
     "output_type": "stream",
     "text": [
      " 77%|███████████████████████████████▋         | 157/203 [00:08<00:02, 18.81it/s]"
     ]
    },
    {
     "name": "stdout",
     "output_type": "stream",
     "text": [
      " Family chordata_glareolidae: 20 images -> augmenting 32 new images.\n",
      " Family chordata_balistidae: 48 images -> augmenting 4 new images.\n",
      " Family chordata_alopiidae: 47 images -> augmenting 5 new images.\n",
      " Family arthropoda_triopsidae: 30 images -> augmenting 22 new images.\n"
     ]
    },
    {
     "name": "stderr",
     "output_type": "stream",
     "text": [
      " 80%|████████████████████████████████▋        | 162/203 [00:08<00:02, 16.38it/s]"
     ]
    },
    {
     "name": "stdout",
     "output_type": "stream",
     "text": [
      " Family chordata_rhinodermatidae: 28 images -> augmenting 24 new images.\n",
      " Family chordata_cacatuidae: 24 images -> augmenting 28 new images.\n",
      " Family cnidaria_pocilloporidae: 51 images -> augmenting 1 new images.\n",
      " Family chordata_dendrobatidae: 29 images -> augmenting 23 new images.\n"
     ]
    },
    {
     "name": "stderr",
     "output_type": "stream",
     "text": [
      " 82%|█████████████████████████████████▌       | 166/203 [00:08<00:01, 18.77it/s]"
     ]
    },
    {
     "name": "stdout",
     "output_type": "stream",
     "text": [
      " Family chordata_cyprinodontidae: 30 images -> augmenting 22 new images.\n",
      " Family chordata_phyllomedusidae: 28 images -> augmenting 24 new images.\n",
      " Family chordata_trionychidae: 27 images -> augmenting 25 new images.\n"
     ]
    },
    {
     "name": "stderr",
     "output_type": "stream",
     "text": [
      " 85%|██████████████████████████████████▉      | 173/203 [00:09<00:01, 19.82it/s]"
     ]
    },
    {
     "name": "stdout",
     "output_type": "stream",
     "text": [
      " Family chordata_arthroleptidae: 25 images -> augmenting 27 new images.\n",
      " Family mollusca_haliotidae: 28 images -> augmenting 24 new images.\n",
      " Family chordata_emydidae: 51 images -> augmenting 1 new images.\n",
      " Family chordata_ramphastidae: 29 images -> augmenting 23 new images.\n"
     ]
    },
    {
     "name": "stderr",
     "output_type": "stream",
     "text": [
      " 88%|███████████████████████████████████▉     | 178/203 [00:09<00:01, 22.08it/s]"
     ]
    },
    {
     "name": "stdout",
     "output_type": "stream",
     "text": [
      " Family chordata_dalatiidae: 25 images -> augmenting 27 new images.\n",
      " Family chordata_mantellidae: 28 images -> augmenting 24 new images.\n",
      " Family chordata_percidae: 28 images -> augmenting 24 new images.\n"
     ]
    },
    {
     "name": "stderr",
     "output_type": "stream",
     "text": [
      " 91%|█████████████████████████████████████▏   | 184/203 [00:09<00:01, 18.79it/s]"
     ]
    },
    {
     "name": "stdout",
     "output_type": "stream",
     "text": [
      " Family chordata_nesospingidae: 25 images -> augmenting 27 new images.\n",
      " Family chordata_chelydridae: 26 images -> augmenting 26 new images.\n"
     ]
    },
    {
     "name": "stderr",
     "output_type": "stream",
     "text": [
      " 93%|█████████████████████████████████████▉   | 188/203 [00:09<00:00, 19.96it/s]"
     ]
    },
    {
     "name": "stdout",
     "output_type": "stream",
     "text": [
      " Family chordata_potoroidae: 29 images -> augmenting 23 new images.\n",
      " Family chordata_alligatoridae: 28 images -> augmenting 24 new images.\n",
      " Family chordata_podocnemididae: 30 images -> augmenting 22 new images.\n"
     ]
    },
    {
     "name": "stderr",
     "output_type": "stream",
     "text": [
      " 94%|██████████████████████████████████████▌  | 191/203 [00:10<00:00, 18.71it/s]"
     ]
    },
    {
     "name": "stdout",
     "output_type": "stream",
     "text": [
      " Family chordata_sparidae: 47 images -> augmenting 5 new images.\n",
      " Family arthropoda_pisauridae: 28 images -> augmenting 24 new images.\n",
      " Family chordata_lutjanidae: 29 images -> augmenting 23 new images.\n",
      " Family chordata_phrynosomatidae: 28 images -> augmenting 24 new images.\n"
     ]
    },
    {
     "name": "stderr",
     "output_type": "stream",
     "text": [
      " 97%|███████████████████████████████████████▊ | 197/203 [00:10<00:00, 18.71it/s]"
     ]
    },
    {
     "name": "stdout",
     "output_type": "stream",
     "text": [
      " Family chordata_urolophidae: 30 images -> augmenting 22 new images.\n",
      " Family chordata_megapodiidae: 24 images -> augmenting 28 new images.\n",
      " Family chordata_cheloniidae: 27 images -> augmenting 25 new images.\n"
     ]
    },
    {
     "name": "stderr",
     "output_type": "stream",
     "text": [
      "100%|█████████████████████████████████████████| 203/203 [00:10<00:00, 18.77it/s]"
     ]
    },
    {
     "name": "stdout",
     "output_type": "stream",
     "text": [
      " Family chordata_albulidae: 25 images -> augmenting 27 new images.\n",
      " Family chordata_trogonidae: 27 images -> augmenting 25 new images.\n",
      " Augmentation completed for all minor families!\n"
     ]
    },
    {
     "name": "stderr",
     "output_type": "stream",
     "text": [
      "\n"
     ]
    }
   ],
   "source": [
    "# CONFIG \n",
    "DATA_DIR = \"/Users/ricardokayseller/Desktop/DATA_NO_NOISE_RESIZED\"\n",
    "\n",
    "# Fill with Mean\n",
    "TARGET_MEAN = 52\n",
    "\n",
    "#  Define Augmentations \n",
    "augmentation = transforms.Compose([\n",
    "    transforms.RandomHorizontalFlip(p=0.5),\n",
    "    transforms.RandomRotation(degrees=25),\n",
    "    transforms.RandomResizedCrop(size=256, scale=(0.8, 1.0)),\n",
    "    transforms.ColorJitter(brightness=0.2, contrast=0.2, saturation=0.2, hue=0.02),\n",
    "])\n",
    "\n",
    "# Augment Each Minor Family \n",
    "print(\" Starting augmentation to complete families...\")\n",
    "\n",
    "for family_folder in tqdm(os.listdir(DATA_DIR)):\n",
    "    family_path = os.path.join(DATA_DIR, family_folder)\n",
    "    \n",
    "    if not os.path.isdir(family_path):\n",
    "        continue\n",
    "\n",
    "    images = [f for f in os.listdir(family_path) if f.lower().endswith(('jpg', 'jpeg', 'png'))]\n",
    "    current_count = len(images)\n",
    "\n",
    "    if current_count >= TARGET_MEAN:\n",
    "        continue  # Skip major families\n",
    "\n",
    "    missing = TARGET_MEAN - current_count\n",
    "\n",
    "    print(f\" Family {family_folder}: {current_count} images -> augmenting {missing} new images.\")\n",
    "\n",
    "    for i in range(missing):\n",
    "        img_name = random.choice(images)\n",
    "        img_path = os.path.join(family_path, img_name)\n",
    "\n",
    "        try:\n",
    "            img = Image.open(img_path).convert('RGB')\n",
    "            aug_img = augmentation(img)\n",
    "\n",
    "            new_filename = f\"aug_{i}.jpg\"\n",
    "            aug_img.save(os.path.join(family_path, new_filename))\n",
    "\n",
    "        except Exception as e:\n",
    "            print(f\" Error processing {img_path}: {e}\")\n",
    "\n",
    "print(\" Augmentation completed for all minor families!\")\n"
   ]
  },
  {
   "cell_type": "markdown",
   "id": "0be9127e-72d2-4bdd-bb94-16ed354cd7b6",
   "metadata": {},
   "source": [
    "## 4.1 Integrating Augmented Images into the Dataset"
   ]
  },
  {
   "cell_type": "code",
   "execution_count": 22,
   "id": "9024f158-ced5-42b7-aa95-96b8942dd3f2",
   "metadata": {},
   "outputs": [
    {
     "name": "stdout",
     "output_type": "stream",
     "text": [
      " Total number of all images (real + augmented): 13546\n"
     ]
    }
   ],
   "source": [
    "# Directory path\n",
    "augmentation_dir = \"/Users/ricardokayseller/Desktop/DATA_NO_NOISE_RESIZED_AUGMENTATION\"\n",
    "\n",
    "# Count total number of images\n",
    "total_images = 0\n",
    "\n",
    "for family_folder in os.listdir(augmentation_dir):\n",
    "    family_path = os.path.join(augmentation_dir, family_folder)\n",
    "    if os.path.isdir(family_path):\n",
    "        total_images += len([\n",
    "            img for img in os.listdir(family_path)\n",
    "            if img.lower().endswith(('.jpg', '.jpeg', '.png'))\n",
    "        ])\n",
    "\n",
    "print(f\" Total number of all images (real + augmented): {total_images}\")\n"
   ]
  },
  {
   "cell_type": "markdown",
   "id": "5c242013-9c95-4ec8-9735-252ea7afd174",
   "metadata": {},
   "source": [
    "## 4.2 Merge dataset with new Augmented Images"
   ]
  },
  {
   "cell_type": "code",
   "execution_count": 9,
   "id": "8d6cb23a-a395-41d0-b2f9-9922a0b371e9",
   "metadata": {
    "scrolled": true
   },
   "outputs": [
    {
     "name": "stderr",
     "output_type": "stream",
     "text": [
      "Processing families: 100%|██████████████████| 203/203 [00:00<00:00, 5371.11it/s]"
     ]
    },
    {
     "name": "stdout",
     "output_type": "stream",
     "text": [
      " Final df_full_aug created with 13546 samples.\n"
     ]
    },
    {
     "name": "stderr",
     "output_type": "stream",
     "text": [
      "\n"
     ]
    }
   ],
   "source": [
    "#  Paths \n",
    "FINAL_DATA_DIR = \"/Users/ricardokayseller/Desktop/DATA_NO_NOISE_RESIZED_AUGMENTATION\"\n",
    "\n",
    "# Initialize list \n",
    "augmented_entries = []\n",
    "\n",
    "#  Process all families \n",
    "for family_folder in tqdm(os.listdir(FINAL_DATA_DIR), desc=\"Processing families\"):\n",
    "    family_path = os.path.join(FINAL_DATA_DIR, family_folder)\n",
    "    \n",
    "    if os.path.isdir(family_path):\n",
    "        try:\n",
    "            phylum, family = family_folder.split(\"_\", 1)\n",
    "        except ValueError:\n",
    "            print(f\" Skipping invalid folder: {family_folder}\")\n",
    "            continue\n",
    "        \n",
    "        for img_name in os.listdir(family_path):\n",
    "            img_path = os.path.join(family_path, img_name)\n",
    "            if img_name.lower().endswith(('.jpg', '.jpeg', '.png')):\n",
    "                \n",
    "                file_path = f\"{family_folder}/{img_name}\"\n",
    "                full_path = img_path\n",
    "                label = family  # label = family name\n",
    "                \n",
    "                # Identify source\n",
    "                if img_name.startswith(\"aug_\"):\n",
    "                    source = \"augmentation\"\n",
    "                else:\n",
    "                    source = \"real\"\n",
    "\n",
    "                augmented_entries.append({\n",
    "                    \"rare_species_id\": None,\n",
    "                    \"eol_content_id\": None,\n",
    "                    \"eol_page_id\": None,\n",
    "                    \"kingdom\": \"animalia\",\n",
    "                    \"phylum\": phylum,\n",
    "                    \"family\": family,\n",
    "                    \"file_path\": file_path,\n",
    "                    \"full_path\": full_path,\n",
    "                    \"source\": source,\n",
    "                    \"label\": label\n",
    "                })\n",
    "\n",
    "# Create final DataFrame \n",
    "df_full_aug = pd.DataFrame(augmented_entries)\n",
    "\n",
    "print(f\" Final df_full_aug created with {len(df_full_aug)} samples.\")\n"
   ]
  },
  {
   "cell_type": "markdown",
   "id": "94efc93a-d60b-462f-a287-63ee75592fb2",
   "metadata": {},
   "source": [
    "## 4.3 Save new csv"
   ]
  },
  {
   "cell_type": "code",
   "execution_count": 23,
   "id": "22c6e606-f6e0-4a62-b604-729be4e7e31b",
   "metadata": {},
   "outputs": [
    {
     "name": "stdout",
     "output_type": "stream",
     "text": [
      " df_full_aug saved successfully at: /Users/ricardokayseller/Desktop/df_full_aug.csv\n"
     ]
    }
   ],
   "source": [
    "# Save df_full_aug to Desktop \n",
    "output_path = \"/Users/ricardokayseller/Desktop/df_full_aug.csv\"\n",
    "\n",
    "df_full_aug.to_csv(output_path, index=False)\n",
    "\n",
    "print(f\" df_full_aug saved successfully at: {output_path}\")\n"
   ]
  },
  {
   "cell_type": "code",
   "execution_count": null,
   "id": "f3508f57-7d1e-4ed0-b6a7-013d2423424d",
   "metadata": {},
   "outputs": [],
   "source": []
  }
 ],
 "metadata": {
  "kernelspec": {
   "display_name": "Python 3 (ipykernel)",
   "language": "python",
   "name": "python3"
  },
  "language_info": {
   "codemirror_mode": {
    "name": "ipython",
    "version": 3
   },
   "file_extension": ".py",
   "mimetype": "text/x-python",
   "name": "python",
   "nbconvert_exporter": "python",
   "pygments_lexer": "ipython3",
   "version": "3.9.21"
  }
 },
 "nbformat": 4,
 "nbformat_minor": 5
}
