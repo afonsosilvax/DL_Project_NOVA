{
 "cells": [
  {
   "cell_type": "markdown",
   "id": "715175d8",
   "metadata": {},
   "source": [
    "🔹 1. Imports & Configurations"
   ]
  },
  {
   "cell_type": "code",
   "execution_count": 1,
   "id": "9ce8d320",
   "metadata": {},
   "outputs": [
    {
     "name": "stderr",
     "output_type": "stream",
     "text": [
      "c:\\Users\\Elcano\\anaconda3\\envs\\cv310\\lib\\site-packages\\scipy\\__init__.py:146: UserWarning: A NumPy version >=1.16.5 and <1.23.0 is required for this version of SciPy (detected version 1.26.4\n",
      "  warnings.warn(f\"A NumPy version >={np_minversion} and <{np_maxversion}\"\n"
     ]
    }
   ],
   "source": [
    "# === Basic Utilities ===\n",
    "import os, random, shutil, warnings\n",
    "from pathlib import Path\n",
    "from collections import defaultdict\n",
    "\n",
    "# === Data Handling ===\n",
    "import numpy as np\n",
    "import pandas as pd\n",
    "from sklearn.model_selection import train_test_split\n",
    "from sklearn.preprocessing import LabelEncoder\n",
    "from sklearn.utils.class_weight import compute_class_weight\n",
    "from sklearn.metrics import classification_report, confusion_matrix, f1_score, accuracy_score, precision_score, recall_score\n",
    "from time import time\n",
    "\n",
    "# === Visualization ===\n",
    "import seaborn as sns\n",
    "import matplotlib.pyplot as plt\n",
    "\n",
    "# === Image Handling ===\n",
    "from PIL import Image, ImageFile\n",
    "ImageFile.LOAD_TRUNCATED_IMAGES = True\n",
    "warnings.simplefilter('error', Image.DecompressionBombWarning)\n",
    "\n",
    "# === TensorFlow & Keras ===\n",
    "import tensorflow as tf\n",
    "from tensorflow.keras import layers, models, optimizers\n",
    "from tensorflow.keras.models import Model\n",
    "from tensorflow.keras.layers import (Input, Dense, Dropout, GlobalAveragePooling2D, Concatenate)\n",
    "from tensorflow.keras.preprocessing.image import ImageDataGenerator\n",
    "from tensorflow.keras.callbacks import EarlyStopping, ModelCheckpoint, ReduceLROnPlateau\n",
    "\n",
    "# === CLIP (for filtering) ===\n",
    "import clip\n",
    "import torch\n",
    "from tqdm import tqdm\n",
    "\n",
    "from sklearn.cluster import DBSCAN\n",
    "from collections import Counter, defaultdict\n",
    "\n",
    "# === Paths ===\n",
    "metadata_path = r\"C:\\Users\\Elcano\\Documents\\NOVA IMS\\2_Semester\\Deep Learning\\Project\\metadata.csv\"\n",
    "source_dir = r\"C:\\Users\\Elcano\\Documents\\NOVA IMS\\2_Semester\\Deep Learning\\Project\\rare_species1\"\n",
    "dest_dir = r\"C:\\Users\\Elcano\\Documents\\NOVA IMS\\2_Semester\\Deep Learning\\Project\\rare_species_filtered\"\n",
    "dest_dir_clip = r\"C:\\Users\\Elcano\\Documents\\NOVA IMS\\2_Semester\\Deep Learning\\Project\\rare_species_final\"\n",
    "dest_dir_removed = r\"C:\\Users\\Elcano\\Documents\\NOVA IMS\\2_Semester\\Deep Learning\\Project\\rare_species_removed\""
   ]
  },
  {
   "cell_type": "code",
   "execution_count": 2,
   "id": "a9ea0f1c",
   "metadata": {},
   "outputs": [
    {
     "name": "stdout",
     "output_type": "stream",
     "text": [
      "Dataset Balance by Family:\n",
      "           Family  Image Count  Percentage\n",
      "  cercopithecidae          300    2.503547\n",
      "      dactyloidae          300    2.503547\n",
      "       formicidae          291    2.428440\n",
      "   plethodontidae          270    2.253192\n",
      "   carcharhinidae          270    2.253192\n",
      "    salamandridae          270    2.253192\n",
      "          bovidae          240    2.002837\n",
      "      bucerotidae          210    1.752483\n",
      "      acroporidae          210    1.752483\n",
      "         anatidae          180    1.502128\n",
      "      diomedeidae          180    1.502128\n",
      "         atelidae          150    1.251773\n",
      "          laridae          150    1.251773\n",
      "           apidae          150    1.251773\n",
      "        bufonidae          150    1.251773\n",
      "       dasyatidae          150    1.251773\n",
      "      delphinidae          120    1.001419\n",
      "      agariciidae          120    1.001419\n",
      "   callitrichidae          120    1.001419\n",
      "      psittacidae          120    1.001419\n",
      "     spheniscidae          120    1.001419\n",
      "        iguanidae          120    1.001419\n",
      "     accipitridae          119    0.993074\n",
      "       serranidae           90    0.751064\n",
      "    acipenseridae           90    0.751064\n",
      "      geoemydidae           90    0.751064\n",
      "       ciconiidae           90    0.751064\n",
      "          cebidae           90    0.751064\n",
      "     myliobatidae           90    0.751064\n",
      "   procellariidae           90    0.751064\n",
      "       colubridae           90    0.751064\n",
      "       mustelidae           90    0.751064\n",
      "       sphyrnidae           90    0.751064\n",
      "     euphylliidae           90    0.751064\n",
      "      hylobatidae           90    0.751064\n",
      "          ranidae           90    0.751064\n",
      "      trochilidae           90    0.751064\n",
      "       thraupidae           90    0.751064\n",
      "          rajidae           90    0.751064\n",
      "         sparidae           60    0.500709\n",
      "        leporidae           60    0.500709\n",
      "      hexanchidae           60    0.500709\n",
      "         anguidae           60    0.500709\n",
      "         emydidae           60    0.500709\n",
      "   chaetodontidae           60    0.500709\n",
      "         agamidae           60    0.500709\n",
      "        unionidae           60    0.500709\n",
      "         faviidae           60    0.500709\n",
      "    psittaculidae           60    0.500709\n",
      "        lemuridae           60    0.500709\n",
      "        alopiidae           60    0.500709\n",
      "       falconidae           60    0.500709\n",
      "     testudinidae           60    0.500709\n",
      "       balistidae           60    0.500709\n",
      "     crocodylidae           60    0.500709\n",
      "         cracidae           60    0.500709\n",
      "       pythonidae           60    0.500709\n",
      "        otariidae           60    0.500709\n",
      "       burhinidae           60    0.500709\n",
      "        carabidae           60    0.500709\n",
      "        cardiidae           60    0.500709\n",
      "       lacertidae           60    0.500709\n",
      "          ursidae           60    0.500709\n",
      "     syngnathidae           60    0.500709\n",
      " vespertilionidae           60    0.500709\n",
      "      merulinidae           60    0.500709\n",
      "     scolopacidae           60    0.500709\n",
      "   ambystomatidae           60    0.500709\n",
      "          manidae           60    0.500709\n",
      "         ardeidae           60    0.500709\n",
      "        gomphidae           60    0.500709\n",
      "    rhacophoridae           60    0.500709\n",
      "     fringillidae           60    0.500709\n",
      "         turdidae           60    0.500709\n",
      "  diplodactylidae           60    0.500709\n",
      " rhyacotritonidae           60    0.500709\n",
      "   pocilloporidae           60    0.500709\n",
      "          aotidae           60    0.500709\n",
      "     charadriidae           60    0.500709\n",
      "         labridae           60    0.500709\n",
      " cryptobranchidae           60    0.500709\n",
      "    stichopodidae           60    0.500709\n",
      "         chelidae           57    0.475674\n",
      "   chamaeleonidae           57    0.475674\n",
      " balaenicipitidae           30    0.250355\n",
      "       trogonidae           30    0.250355\n",
      "    nesospingidae           30    0.250355\n",
      "       scombridae           30    0.250355\n",
      "   pleuronectidae           30    0.250355\n",
      "       dasyuridae           30    0.250355\n",
      "      cheloniidae           30    0.250355\n",
      "      squatinidae           30    0.250355\n",
      "      glareolidae           30    0.250355\n",
      "  diploastraeidae           30    0.250355\n",
      "       hynobiidae           30    0.250355\n",
      "         elapidae           30    0.250355\n",
      "  balaenopteridae           30    0.250355\n",
      "       potoroidae           30    0.250355\n",
      "        squalidae           30    0.250355\n",
      "         vangidae           30    0.250355\n",
      "       dalatiidae           30    0.250355\n",
      "          equidae           30    0.250355\n",
      "       vombatidae           30    0.250355\n",
      "     ramphastidae           30    0.250355\n",
      "     helioporidae           30    0.250355\n",
      "        albulidae           30    0.250355\n",
      "    dendrobatidae           30    0.250355\n",
      "        pristidae           30    0.250355\n",
      "       gavialidae           30    0.250355\n",
      "       columbidae           30    0.250355\n",
      "       pisauridae           30    0.250355\n",
      "  phyllomedusidae           30    0.250355\n",
      "    pontoporiidae           30    0.250355\n",
      "    alligatoridae           30    0.250355\n",
      "       balaenidae           30    0.250355\n",
      "       cacatuidae           30    0.250355\n",
      "  cyprinodontidae           30    0.250355\n",
      "    polyprionidae           30    0.250355\n",
      "    tettigoniidae           30    0.250355\n",
      "      mantellidae           30    0.250355\n",
      "        strigidae           30    0.250355\n",
      "   hemiscylliidae           30    0.250355\n",
      "      estrildidae           30    0.250355\n",
      "       vireonidae           30    0.250355\n",
      "        hominidae           30    0.250355\n",
      "        zonitidae           30    0.250355\n",
      "        viperidae           30    0.250355\n",
      "   phyllostomidae           30    0.250355\n",
      "      pangasiidae           30    0.250355\n",
      "    theraphosidae           30    0.250355\n",
      "        indriidae           30    0.250355\n",
      "     meandrinidae           30    0.250355\n",
      "        scincidae           30    0.250355\n",
      "  callorhinchidae           30    0.250355\n",
      "      urolophidae           30    0.250355\n",
      "      attelabidae           30    0.250355\n",
      "         cervidae           30    0.250355\n",
      "      strigopidae           30    0.250355\n",
      "      nymphalidae           30    0.250355\n",
      "       cricetidae           30    0.250355\n",
      "      chelydridae           30    0.250355\n",
      "       lutjanidae           30    0.250355\n",
      "     cetorhinidae           30    0.250355\n",
      "        soricidae           30    0.250355\n",
      "    caprimulgidae           30    0.250355\n",
      "        sciuridae           30    0.250355\n",
      "   odontophoridae           30    0.250355\n",
      "     motacillidae           30    0.250355\n",
      "     latimeriidae           30    0.250355\n",
      "          conidae           30    0.250355\n",
      "      ctenomyidae           30    0.250355\n",
      "        hyaenidae           30    0.250355\n",
      "         gliridae           30    0.250355\n",
      "    bombycillidae           30    0.250355\n",
      "        lucanidae           30    0.250355\n",
      "     cerambycidae           30    0.250355\n",
      "     papilionidae           30    0.250355\n",
      "  rhinodermatidae           30    0.250355\n",
      "         otididae           30    0.250355\n",
      " carettochelyidae           30    0.250355\n",
      "         rallidae           30    0.250355\n",
      "     merlucciidae           30    0.250355\n",
      "         percidae           30    0.250355\n",
      "  phrynosomatidae           30    0.250355\n",
      "      phasianidae           30    0.250355\n",
      "   siderastreidae           30    0.250355\n",
      "         lamnidae           30    0.250355\n",
      "       gymnuridae           30    0.250355\n",
      "     trionychidae           30    0.250355\n",
      "   coenagrionidae           30    0.250355\n",
      "       giraffidae           30    0.250355\n",
      "        fungiidae           30    0.250355\n",
      "      palinuridae           30    0.250355\n",
      "    paradisaeidae           30    0.250355\n",
      "       gekkonidae           30    0.250355\n",
      "pseudophasmatidae           30    0.250355\n",
      " recurvirostridae           30    0.250355\n",
      "   daubentoniidae           30    0.250355\n",
      "     pardalotidae           30    0.250355\n",
      "         pittidae           30    0.250355\n",
      "       haliotidae           30    0.250355\n",
      "      somniosidae           30    0.250355\n",
      "   cheirogaleidae           30    0.250355\n",
      "        cuculidae           30    0.250355\n",
      "       salmonidae           30    0.250355\n",
      "      dasypodidae           30    0.250355\n",
      "   podocnemididae           30    0.250355\n",
      "        goodeidae           30    0.250355\n",
      "  mesitornithidae           30    0.250355\n",
      "   platystictidae           30    0.250355\n",
      " dendrophylliidae           30    0.250355\n",
      "     muscicapidae           30    0.250355\n",
      "   lobophylliidae           30    0.250355\n",
      "          mimidae           30    0.250355\n",
      "      alcedinidae           30    0.250355\n",
      "   arthroleptidae           30    0.250355\n",
      "       triopsidae           30    0.250355\n",
      "     megapodiidae           30    0.250355\n",
      "     tropiduridae           30    0.250355\n",
      "        parulidae           30    0.250355\n",
      "brachypteraciidae           30    0.250355\n",
      "        siluridae           29    0.242010\n"
     ]
    }
   ],
   "source": [
    "# Load metadata\n",
    "metadata = pd.read_csv(metadata_path)\n",
    "\"\"\"\n",
    "This cell loads the metadata CSV file and analyzes the distribution of images across families.\n",
    "It counts and calculates the percentage of images per family to assess dataset balance.\n",
    "The output helps identify potential class imbalances that may need addressing.\n",
    "\"\"\"\n",
    "# Calculate image counts per family\n",
    "family_stats = metadata['family'].value_counts().reset_index()\n",
    "family_stats.columns = ['Family', 'Image Count']\n",
    "family_stats['Percentage'] = (family_stats['Image Count'] / family_stats['Image Count'].sum()) * 100\n",
    "\n",
    "# Display results\n",
    "print(\"Dataset Balance by Family:\")\n",
    "print(family_stats.to_string(index=False))"
   ]
  },
  {
   "cell_type": "code",
   "execution_count": 3,
   "id": "b8b5d83e",
   "metadata": {},
   "outputs": [
    {
     "name": "stdout",
     "output_type": "stream",
     "text": [
      "Dataset Balance by phylum:\n",
      "       phylum  Image Count  Percentage\n",
      "     chordata         9952   83.050989\n",
      "   arthropoda          951    7.936243\n",
      "     cnidaria          810    6.759576\n",
      "     mollusca          210    1.752483\n",
      "echinodermata           60    0.500709\n"
     ]
    }
   ],
   "source": [
    "\"\"\"\n",
    "This cell loads the metadata CSV file and analyzes the distribution of images across families.\n",
    "It counts and calculates the percentage of images per family to assess dataset balance.\n",
    "The output helps identify potential class imbalances that may need addressing.\n",
    "\"\"\"\n",
    "# Calculate image counts per family\n",
    "family_stats = metadata['phylum'].value_counts().reset_index()\n",
    "family_stats.columns = ['phylum', 'Image Count']\n",
    "family_stats['Percentage'] = (family_stats['Image Count'] / family_stats['Image Count'].sum()) * 100\n",
    "\n",
    "# Display results\n",
    "print(\"Dataset Balance by phylum:\")\n",
    "print(family_stats.to_string(index=False))"
   ]
  },
  {
   "cell_type": "markdown",
   "id": "bffc8f50",
   "metadata": {},
   "source": [
    "🔹 2. Image Filtering (Low Quality & Corrupted)"
   ]
  },
  {
   "cell_type": "code",
   "execution_count": 4,
   "id": "4d6db36f",
   "metadata": {},
   "outputs": [
    {
     "name": "stdout",
     "output_type": "stream",
     "text": [
      "\n",
      "Image filtering complete. Valid: 11972, Removed: 11\n"
     ]
    }
   ],
   "source": [
    "valid_formats = ['jpeg', 'jpg', 'png', 'bmp']\n",
    "min_size_kb = 5\n",
    "max_pixels = 89_478_485\n",
    "\n",
    "os.makedirs(dest_dir, exist_ok=True)\n",
    "\n",
    "total_images = valid_images = removed_small = removed_too_large = removed_invalid = 0\n",
    "\n",
    "for family_folder in os.listdir(source_dir):\n",
    "    src_path = os.path.join(source_dir, family_folder)\n",
    "    dst_path = os.path.join(dest_dir, family_folder)\n",
    "    os.makedirs(dst_path, exist_ok=True)\n",
    "\n",
    "    for file in os.listdir(src_path):\n",
    "        total_images += 1\n",
    "        file_path = os.path.join(src_path, file)\n",
    "        try:\n",
    "            if os.path.getsize(file_path) < min_size_kb * 1024:\n",
    "                removed_small += 1\n",
    "                continue\n",
    "            with Image.open(file_path) as img:\n",
    "                if img.format.lower() not in valid_formats:\n",
    "                    removed_invalid += 1\n",
    "                    continue\n",
    "                if img.width * img.height > max_pixels:\n",
    "                    removed_too_large += 1\n",
    "                    continue\n",
    "                img.verify()\n",
    "            shutil.copy2(file_path, os.path.join(dst_path, file))\n",
    "            valid_images += 1\n",
    "        except Exception:\n",
    "            removed_invalid += 1\n",
    "\n",
    "print(f\"\\nImage filtering complete. Valid: {valid_images}, Removed: {total_images - valid_images}\")"
   ]
  },
  {
   "cell_type": "markdown",
   "id": "7dff1d75",
   "metadata": {},
   "source": [
    "🔹 3. CLIP-Based Filtering (Similarity)"
   ]
  },
  {
   "cell_type": "code",
   "execution_count": 5,
   "id": "867cef55",
   "metadata": {},
   "outputs": [
    {
     "name": "stderr",
     "output_type": "stream",
     "text": [
      "CLIP cleaning:   0%|          | 1/202 [00:24<1:22:44, 24.70s/it]"
     ]
    },
    {
     "name": "stdout",
     "output_type": "stream",
     "text": [
      "\n",
      " arthropoda_apidae:\n",
      "   Kept: 150/150 (100.0%)\n",
      "   Removed: 0\n",
      "  🔎 Examples:\n",
      "    Kept    : ['20647903_1065369_eol-full-size-copy.jpg', '20647904_1065369_eol-full-size-copy.jpg', '20647909_1065369_eol-full-size-copy.jpg', '20647915_1065369_eol-full-size-copy.jpg', '21834153_1065290_eol-full-size-copy.jpg']\n",
      "    Removed : []\n"
     ]
    },
    {
     "name": "stderr",
     "output_type": "stream",
     "text": [
      "CLIP cleaning:   1%|          | 2/202 [00:29<43:39, 13.10s/it]  "
     ]
    },
    {
     "name": "stdout",
     "output_type": "stream",
     "text": [
      "\n",
      " arthropoda_attelabidae:\n",
      "   Kept: 29/30 (96.7%)\n",
      "   Removed: 1\n",
      "  🔎 Examples:\n",
      "    Kept    : ['14088426_52691998_eol-full-size-copy.jpg', '14088427_52691998_eol-full-size-copy.jpg', '14088429_52691998_eol-full-size-copy.jpg', '14088430_52691998_eol-full-size-copy.jpg', '22864939_52691998_eol-full-size-copy.jpg']\n",
      "    Removed : ['29600192_52691998_eol-full-size-copy.jpg']\n"
     ]
    },
    {
     "name": "stderr",
     "output_type": "stream",
     "text": [
      "CLIP cleaning:   1%|▏         | 3/202 [00:38<36:45, 11.08s/it]"
     ]
    },
    {
     "name": "stdout",
     "output_type": "stream",
     "text": [
      "\n",
      " arthropoda_carabidae:\n",
      "   Kept: 59/60 (98.3%)\n",
      "   Removed: 1\n",
      "  🔎 Examples:\n",
      "    Kept    : ['10787825_2867406_eol-full-size-copy.jpg', '10787827_2867406_eol-full-size-copy.jpg', '10787828_2867406_eol-full-size-copy.jpg', '10787831_2867406_eol-full-size-copy.jpg', '10787833_2867406_eol-full-size-copy.jpg']\n",
      "    Removed : ['28933416_2867406_eol-full-size-copy.jpg']\n"
     ]
    },
    {
     "name": "stderr",
     "output_type": "stream",
     "text": [
      "CLIP cleaning:   2%|▏         | 4/202 [00:42<27:53,  8.45s/it]"
     ]
    },
    {
     "name": "stdout",
     "output_type": "stream",
     "text": [
      "\n",
      " arthropoda_cerambycidae:\n",
      "   Kept: 28/29 (96.6%)\n",
      "   Removed: 1\n",
      "  🔎 Examples:\n",
      "    Kept    : ['14204113_354871_eol-full-size-copy.jpg', '22538999_354871_eol-full-size-copy.jpg', '22539000_354871_eol-full-size-copy.jpg', '22539001_354871_eol-full-size-copy.jpg', '22539002_354871_eol-full-size-copy.jpg']\n",
      "    Removed : ['28255130_354871_eol-full-size-copy.jpg']\n"
     ]
    },
    {
     "name": "stderr",
     "output_type": "stream",
     "text": [
      "CLIP cleaning:   2%|▏         | 5/202 [00:46<22:17,  6.79s/it]"
     ]
    },
    {
     "name": "stdout",
     "output_type": "stream",
     "text": [
      "\n",
      " arthropoda_coenagrionidae:\n",
      "   Kept: 30/30 (100.0%)\n",
      "   Removed: 0\n",
      "  🔎 Examples:\n",
      "    Kept    : ['20710764_1001090_eol-full-size-copy.jpg', '20710765_1001090_eol-full-size-copy.jpg', '20710766_1001090_eol-full-size-copy.jpg', '20710768_1001090_eol-full-size-copy.jpg', '20710770_1001090_eol-full-size-copy.jpg']\n",
      "    Removed : []\n"
     ]
    },
    {
     "name": "stderr",
     "output_type": "stream",
     "text": [
      "CLIP cleaning:   3%|▎         | 6/202 [01:23<55:35, 17.02s/it]"
     ]
    },
    {
     "name": "stdout",
     "output_type": "stream",
     "text": [
      "\n",
      " arthropoda_formicidae:\n",
      "   Kept: 253/291 (86.9%)\n",
      "   Removed: 38\n"
     ]
    },
    {
     "name": "stderr",
     "output_type": "stream",
     "text": [
      "CLIP cleaning:   3%|▎         | 7/202 [01:32<47:18, 14.55s/it]"
     ]
    },
    {
     "name": "stdout",
     "output_type": "stream",
     "text": [
      "\n",
      " arthropoda_gomphidae:\n",
      "   Kept: 60/60 (100.0%)\n",
      "   Removed: 0\n"
     ]
    },
    {
     "name": "stderr",
     "output_type": "stream",
     "text": [
      "CLIP cleaning:   4%|▍         | 8/202 [01:37<36:22, 11.25s/it]"
     ]
    },
    {
     "name": "stdout",
     "output_type": "stream",
     "text": [
      "\n",
      " arthropoda_lucanidae:\n",
      "   Kept: 30/30 (100.0%)\n",
      "   Removed: 0\n"
     ]
    },
    {
     "name": "stderr",
     "output_type": "stream",
     "text": [
      "CLIP cleaning:   4%|▍         | 9/202 [01:42<30:42,  9.55s/it]"
     ]
    },
    {
     "name": "stdout",
     "output_type": "stream",
     "text": [
      "\n",
      " arthropoda_nymphalidae:\n",
      "   Kept: 30/30 (100.0%)\n",
      "   Removed: 0\n"
     ]
    },
    {
     "name": "stderr",
     "output_type": "stream",
     "text": [
      "CLIP cleaning:   5%|▍         | 10/202 [01:47<25:53,  8.09s/it]"
     ]
    },
    {
     "name": "stdout",
     "output_type": "stream",
     "text": [
      "\n",
      " arthropoda_palinuridae:\n",
      "   Kept: 30/30 (100.0%)\n",
      "   Removed: 0\n"
     ]
    },
    {
     "name": "stderr",
     "output_type": "stream",
     "text": [
      "CLIP cleaning:   5%|▌         | 11/202 [01:52<22:35,  7.10s/it]"
     ]
    },
    {
     "name": "stdout",
     "output_type": "stream",
     "text": [
      "\n",
      " arthropoda_papilionidae:\n",
      "   Kept: 30/30 (100.0%)\n",
      "   Removed: 0\n"
     ]
    },
    {
     "name": "stderr",
     "output_type": "stream",
     "text": [
      "CLIP cleaning:   6%|▌         | 12/202 [01:56<19:13,  6.07s/it]"
     ]
    },
    {
     "name": "stdout",
     "output_type": "stream",
     "text": [
      "\n",
      " arthropoda_pisauridae:\n",
      "   Kept: 29/30 (96.7%)\n",
      "   Removed: 1\n"
     ]
    },
    {
     "name": "stderr",
     "output_type": "stream",
     "text": [
      "CLIP cleaning:   6%|▋         | 13/202 [02:01<17:51,  5.67s/it]"
     ]
    },
    {
     "name": "stdout",
     "output_type": "stream",
     "text": [
      "\n",
      " arthropoda_platystictidae:\n",
      "   Kept: 30/30 (100.0%)\n",
      "   Removed: 0\n"
     ]
    },
    {
     "name": "stderr",
     "output_type": "stream",
     "text": [
      "CLIP cleaning:   7%|▋         | 14/202 [02:06<17:54,  5.72s/it]"
     ]
    },
    {
     "name": "stdout",
     "output_type": "stream",
     "text": [
      "\n",
      " arthropoda_pseudophasmatidae:\n",
      "   Kept: 29/30 (96.7%)\n",
      "   Removed: 1\n"
     ]
    },
    {
     "name": "stderr",
     "output_type": "stream",
     "text": [
      "CLIP cleaning:   7%|▋         | 15/202 [02:11<17:07,  5.49s/it]"
     ]
    },
    {
     "name": "stdout",
     "output_type": "stream",
     "text": [
      "\n",
      " arthropoda_tettigoniidae:\n",
      "   Kept: 28/30 (93.3%)\n",
      "   Removed: 2\n"
     ]
    },
    {
     "name": "stderr",
     "output_type": "stream",
     "text": [
      "CLIP cleaning:   8%|▊         | 16/202 [02:16<16:30,  5.33s/it]"
     ]
    },
    {
     "name": "stdout",
     "output_type": "stream",
     "text": [
      "\n",
      " arthropoda_theraphosidae:\n",
      "   Kept: 30/30 (100.0%)\n",
      "   Removed: 0\n"
     ]
    },
    {
     "name": "stderr",
     "output_type": "stream",
     "text": [
      "CLIP cleaning:   8%|▊         | 17/202 [02:20<15:15,  4.95s/it]"
     ]
    },
    {
     "name": "stdout",
     "output_type": "stream",
     "text": [
      "\n",
      " arthropoda_triopsidae:\n",
      "   Kept: 30/30 (100.0%)\n",
      "   Removed: 0\n"
     ]
    },
    {
     "name": "stderr",
     "output_type": "stream",
     "text": [
      "CLIP cleaning:   9%|▉         | 18/202 [02:40<28:42,  9.36s/it]"
     ]
    },
    {
     "name": "stdout",
     "output_type": "stream",
     "text": [
      "\n",
      " chordata_accipitridae:\n",
      "   Kept: 118/119 (99.2%)\n",
      "   Removed: 1\n"
     ]
    },
    {
     "name": "stderr",
     "output_type": "stream",
     "text": [
      "CLIP cleaning:   9%|▉         | 19/202 [02:54<32:42, 10.72s/it]"
     ]
    },
    {
     "name": "stdout",
     "output_type": "stream",
     "text": [
      "\n",
      " chordata_acipenseridae:\n",
      "   Kept: 88/90 (97.8%)\n",
      "   Removed: 2\n"
     ]
    },
    {
     "name": "stderr",
     "output_type": "stream",
     "text": [
      "CLIP cleaning:  10%|▉         | 20/202 [03:03<31:09, 10.27s/it]"
     ]
    },
    {
     "name": "stdout",
     "output_type": "stream",
     "text": [
      "\n",
      " chordata_agamidae:\n",
      "   Kept: 59/60 (98.3%)\n",
      "   Removed: 1\n"
     ]
    },
    {
     "name": "stderr",
     "output_type": "stream",
     "text": [
      "CLIP cleaning:  10%|█         | 21/202 [03:08<25:41,  8.52s/it]"
     ]
    },
    {
     "name": "stdout",
     "output_type": "stream",
     "text": [
      "\n",
      " chordata_albulidae:\n",
      "   Kept: 28/30 (93.3%)\n",
      "   Removed: 2\n"
     ]
    },
    {
     "name": "stderr",
     "output_type": "stream",
     "text": [
      "CLIP cleaning:  11%|█         | 22/202 [03:12<22:13,  7.41s/it]"
     ]
    },
    {
     "name": "stdout",
     "output_type": "stream",
     "text": [
      "\n",
      " chordata_alcedinidae:\n",
      "   Kept: 27/30 (90.0%)\n",
      "   Removed: 3\n"
     ]
    },
    {
     "name": "stderr",
     "output_type": "stream",
     "text": [
      "CLIP cleaning:  11%|█▏        | 23/202 [03:17<19:55,  6.68s/it]"
     ]
    },
    {
     "name": "stdout",
     "output_type": "stream",
     "text": [
      "\n",
      " chordata_alligatoridae:\n",
      "   Kept: 30/30 (100.0%)\n",
      "   Removed: 0\n"
     ]
    },
    {
     "name": "stderr",
     "output_type": "stream",
     "text": [
      "CLIP cleaning:  12%|█▏        | 24/202 [03:26<21:08,  7.13s/it]"
     ]
    },
    {
     "name": "stdout",
     "output_type": "stream",
     "text": [
      "\n",
      " chordata_alopiidae:\n",
      "   Kept: 57/60 (95.0%)\n",
      "   Removed: 3\n"
     ]
    },
    {
     "name": "stderr",
     "output_type": "stream",
     "text": [
      "CLIP cleaning:  12%|█▏        | 25/202 [03:34<22:19,  7.57s/it]"
     ]
    },
    {
     "name": "stdout",
     "output_type": "stream",
     "text": [
      "\n",
      " chordata_ambystomatidae:\n",
      "   Kept: 57/60 (95.0%)\n",
      "   Removed: 3\n"
     ]
    },
    {
     "name": "stderr",
     "output_type": "stream",
     "text": [
      "CLIP cleaning:  13%|█▎        | 26/202 [04:02<39:39, 13.52s/it]"
     ]
    },
    {
     "name": "stdout",
     "output_type": "stream",
     "text": [
      "\n",
      " chordata_anatidae:\n",
      "   Kept: 166/180 (92.2%)\n",
      "   Removed: 14\n"
     ]
    },
    {
     "name": "stderr",
     "output_type": "stream",
     "text": [
      "CLIP cleaning:  13%|█▎        | 27/202 [04:10<35:24, 12.14s/it]"
     ]
    },
    {
     "name": "stdout",
     "output_type": "stream",
     "text": [
      "\n",
      " chordata_anguidae:\n",
      "   Kept: 60/60 (100.0%)\n",
      "   Removed: 0\n"
     ]
    },
    {
     "name": "stderr",
     "output_type": "stream",
     "text": [
      "CLIP cleaning:  14%|█▍        | 28/202 [04:19<31:39, 10.92s/it]"
     ]
    },
    {
     "name": "stdout",
     "output_type": "stream",
     "text": [
      "\n",
      " chordata_aotidae:\n",
      "   Kept: 36/60 (60.0%)\n",
      "   Removed: 24\n"
     ]
    },
    {
     "name": "stderr",
     "output_type": "stream",
     "text": [
      "CLIP cleaning:  14%|█▍        | 29/202 [04:28<29:56, 10.38s/it]"
     ]
    },
    {
     "name": "stdout",
     "output_type": "stream",
     "text": [
      "\n",
      " chordata_ardeidae:\n",
      "   Kept: 60/60 (100.0%)\n",
      "   Removed: 0\n"
     ]
    },
    {
     "name": "stderr",
     "output_type": "stream",
     "text": [
      "CLIP cleaning:  15%|█▍        | 30/202 [04:32<24:14,  8.46s/it]"
     ]
    },
    {
     "name": "stdout",
     "output_type": "stream",
     "text": [
      "\n",
      " chordata_arthroleptidae:\n",
      "   Kept: 25/30 (83.3%)\n",
      "   Removed: 5\n"
     ]
    },
    {
     "name": "stderr",
     "output_type": "stream",
     "text": [
      "CLIP cleaning:  15%|█▌        | 31/202 [04:54<35:51, 12.58s/it]"
     ]
    },
    {
     "name": "stdout",
     "output_type": "stream",
     "text": [
      "\n",
      " chordata_atelidae:\n",
      "   Kept: 86/150 (57.3%)\n",
      "   Removed: 64\n"
     ]
    },
    {
     "name": "stderr",
     "output_type": "stream",
     "text": [
      "CLIP cleaning:  16%|█▌        | 32/202 [04:58<28:47, 10.16s/it]"
     ]
    },
    {
     "name": "stdout",
     "output_type": "stream",
     "text": [
      "\n",
      " chordata_balaenicipitidae:\n",
      "   Kept: 23/30 (76.7%)\n",
      "   Removed: 7\n"
     ]
    },
    {
     "name": "stderr",
     "output_type": "stream",
     "text": [
      "CLIP cleaning:  16%|█▋        | 33/202 [05:03<23:57,  8.51s/it]"
     ]
    },
    {
     "name": "stdout",
     "output_type": "stream",
     "text": [
      "\n",
      " chordata_balaenidae:\n",
      "   Kept: 27/30 (90.0%)\n",
      "   Removed: 3\n"
     ]
    },
    {
     "name": "stderr",
     "output_type": "stream",
     "text": [
      "CLIP cleaning:  17%|█▋        | 34/202 [05:08<20:27,  7.31s/it]"
     ]
    },
    {
     "name": "stdout",
     "output_type": "stream",
     "text": [
      "\n",
      " chordata_balaenopteridae:\n",
      "   Kept: 28/30 (93.3%)\n",
      "   Removed: 2\n"
     ]
    },
    {
     "name": "stderr",
     "output_type": "stream",
     "text": [
      "CLIP cleaning:  17%|█▋        | 35/202 [05:17<22:06,  7.94s/it]"
     ]
    },
    {
     "name": "stdout",
     "output_type": "stream",
     "text": [
      "\n",
      " chordata_balistidae:\n",
      "   Kept: 60/60 (100.0%)\n",
      "   Removed: 0\n"
     ]
    },
    {
     "name": "stderr",
     "output_type": "stream",
     "text": [
      "CLIP cleaning:  18%|█▊        | 36/202 [05:21<18:58,  6.86s/it]"
     ]
    },
    {
     "name": "stdout",
     "output_type": "stream",
     "text": [
      "\n",
      " chordata_bombycillidae:\n",
      "   Kept: 29/30 (96.7%)\n",
      "   Removed: 1\n"
     ]
    },
    {
     "name": "stderr",
     "output_type": "stream",
     "text": [
      "CLIP cleaning:  18%|█▊        | 37/202 [05:57<42:30, 15.46s/it]"
     ]
    },
    {
     "name": "stdout",
     "output_type": "stream",
     "text": [
      "\n",
      " chordata_bovidae:\n",
      "   Kept: 234/240 (97.5%)\n",
      "   Removed: 6\n"
     ]
    },
    {
     "name": "stderr",
     "output_type": "stream",
     "text": [
      "CLIP cleaning:  19%|█▉        | 38/202 [06:01<33:02, 12.09s/it]"
     ]
    },
    {
     "name": "stdout",
     "output_type": "stream",
     "text": [
      "\n",
      " chordata_brachypteraciidae:\n",
      "   Kept: 21/30 (70.0%)\n",
      "   Removed: 9\n"
     ]
    },
    {
     "name": "stderr",
     "output_type": "stream",
     "text": [
      "CLIP cleaning:  19%|█▉        | 39/202 [06:41<55:41, 20.50s/it]"
     ]
    },
    {
     "name": "stdout",
     "output_type": "stream",
     "text": [
      "\n",
      " chordata_bucerotidae:\n",
      "   Kept: 205/210 (97.6%)\n",
      "   Removed: 5\n"
     ]
    },
    {
     "name": "stderr",
     "output_type": "stream",
     "text": [
      "CLIP cleaning:  20%|█▉        | 40/202 [07:07<59:41, 22.11s/it]"
     ]
    },
    {
     "name": "stdout",
     "output_type": "stream",
     "text": [
      "\n",
      " chordata_bufonidae:\n",
      "   Kept: 150/150 (100.0%)\n",
      "   Removed: 0\n"
     ]
    },
    {
     "name": "stderr",
     "output_type": "stream",
     "text": [
      "CLIP cleaning:  20%|██        | 41/202 [07:18<50:33, 18.84s/it]"
     ]
    },
    {
     "name": "stdout",
     "output_type": "stream",
     "text": [
      "\n",
      " chordata_burhinidae:\n",
      "   Kept: 60/60 (100.0%)\n",
      "   Removed: 0\n"
     ]
    },
    {
     "name": "stderr",
     "output_type": "stream",
     "text": [
      "CLIP cleaning:  21%|██        | 42/202 [07:22<38:34, 14.46s/it]"
     ]
    },
    {
     "name": "stdout",
     "output_type": "stream",
     "text": [
      "\n",
      " chordata_cacatuidae:\n",
      "   Kept: 24/30 (80.0%)\n",
      "   Removed: 6\n"
     ]
    },
    {
     "name": "stderr",
     "output_type": "stream",
     "text": [
      "CLIP cleaning:  21%|██▏       | 43/202 [07:40<40:25, 15.26s/it]"
     ]
    },
    {
     "name": "stdout",
     "output_type": "stream",
     "text": [
      "\n",
      " chordata_callitrichidae:\n",
      "   Kept: 85/120 (70.8%)\n",
      "   Removed: 35\n"
     ]
    },
    {
     "name": "stderr",
     "output_type": "stream",
     "text": [
      "CLIP cleaning:  22%|██▏       | 44/202 [07:45<32:01, 12.16s/it]"
     ]
    },
    {
     "name": "stdout",
     "output_type": "stream",
     "text": [
      "\n",
      " chordata_callorhinchidae:\n",
      "   Kept: 29/30 (96.7%)\n",
      "   Removed: 1\n"
     ]
    },
    {
     "name": "stderr",
     "output_type": "stream",
     "text": [
      "CLIP cleaning:  22%|██▏       | 45/202 [07:49<25:39,  9.81s/it]"
     ]
    },
    {
     "name": "stdout",
     "output_type": "stream",
     "text": [
      "\n",
      " chordata_caprimulgidae:\n",
      "   Kept: 26/30 (86.7%)\n",
      "   Removed: 4\n"
     ]
    },
    {
     "name": "stderr",
     "output_type": "stream",
     "text": [
      "CLIP cleaning:  23%|██▎       | 46/202 [08:28<48:25, 18.63s/it]"
     ]
    },
    {
     "name": "stdout",
     "output_type": "stream",
     "text": [
      "\n",
      " chordata_carcharhinidae:\n",
      "   Kept: 267/269 (99.3%)\n",
      "   Removed: 2\n"
     ]
    },
    {
     "name": "stderr",
     "output_type": "stream",
     "text": [
      "CLIP cleaning:  23%|██▎       | 47/202 [08:33<37:35, 14.55s/it]"
     ]
    },
    {
     "name": "stdout",
     "output_type": "stream",
     "text": [
      "\n",
      " chordata_carettochelyidae:\n",
      "   Kept: 29/29 (100.0%)\n",
      "   Removed: 0\n"
     ]
    },
    {
     "name": "stderr",
     "output_type": "stream",
     "text": [
      "CLIP cleaning:  24%|██▍       | 48/202 [08:48<37:55, 14.77s/it]"
     ]
    },
    {
     "name": "stdout",
     "output_type": "stream",
     "text": [
      "\n",
      " chordata_cebidae:\n",
      "   Kept: 85/90 (94.4%)\n",
      "   Removed: 5\n"
     ]
    },
    {
     "name": "stderr",
     "output_type": "stream",
     "text": [
      "CLIP cleaning:  24%|██▍       | 49/202 [09:38<1:04:06, 25.14s/it]"
     ]
    },
    {
     "name": "stdout",
     "output_type": "stream",
     "text": [
      "\n",
      " chordata_cercopithecidae:\n",
      "   Kept: 299/300 (99.7%)\n",
      "   Removed: 1\n"
     ]
    },
    {
     "name": "stderr",
     "output_type": "stream",
     "text": [
      "CLIP cleaning:  25%|██▍       | 50/202 [09:43<48:33, 19.17s/it]  "
     ]
    },
    {
     "name": "stdout",
     "output_type": "stream",
     "text": [
      "\n",
      " chordata_cervidae:\n",
      "   Kept: 29/30 (96.7%)\n",
      "   Removed: 1\n"
     ]
    },
    {
     "name": "stderr",
     "output_type": "stream",
     "text": [
      "CLIP cleaning:  25%|██▌       | 51/202 [09:47<36:54, 14.66s/it]"
     ]
    },
    {
     "name": "stdout",
     "output_type": "stream",
     "text": [
      "\n",
      " chordata_cetorhinidae:\n",
      "   Kept: 27/30 (90.0%)\n",
      "   Removed: 3\n"
     ]
    },
    {
     "name": "stderr",
     "output_type": "stream",
     "text": [
      "CLIP cleaning:  26%|██▌       | 52/202 [09:54<31:11, 12.47s/it]"
     ]
    },
    {
     "name": "stdout",
     "output_type": "stream",
     "text": [
      "\n",
      " chordata_chaetodontidae:\n",
      "   Kept: 60/60 (100.0%)\n",
      "   Removed: 0\n"
     ]
    },
    {
     "name": "stderr",
     "output_type": "stream",
     "text": [
      "CLIP cleaning:  26%|██▌       | 53/202 [10:02<27:31, 11.09s/it]"
     ]
    },
    {
     "name": "stdout",
     "output_type": "stream",
     "text": [
      "\n",
      " chordata_chamaeleonidae:\n",
      "   Kept: 56/57 (98.2%)\n",
      "   Removed: 1\n"
     ]
    },
    {
     "name": "stderr",
     "output_type": "stream",
     "text": [
      "CLIP cleaning:  27%|██▋       | 54/202 [10:11<25:49, 10.47s/it]"
     ]
    },
    {
     "name": "stdout",
     "output_type": "stream",
     "text": [
      "\n",
      " chordata_charadriidae:\n",
      "   Kept: 60/60 (100.0%)\n",
      "   Removed: 0\n"
     ]
    },
    {
     "name": "stderr",
     "output_type": "stream",
     "text": [
      "CLIP cleaning:  27%|██▋       | 55/202 [10:16<21:21,  8.72s/it]"
     ]
    },
    {
     "name": "stdout",
     "output_type": "stream",
     "text": [
      "\n",
      " chordata_cheirogaleidae:\n",
      "   Kept: 30/30 (100.0%)\n",
      "   Removed: 0\n"
     ]
    },
    {
     "name": "stderr",
     "output_type": "stream",
     "text": [
      "CLIP cleaning:  28%|██▊       | 56/202 [10:26<22:19,  9.18s/it]"
     ]
    },
    {
     "name": "stdout",
     "output_type": "stream",
     "text": [
      "\n",
      " chordata_chelidae:\n",
      "   Kept: 57/57 (100.0%)\n",
      "   Removed: 0\n"
     ]
    },
    {
     "name": "stderr",
     "output_type": "stream",
     "text": [
      "CLIP cleaning:  28%|██▊       | 57/202 [10:30<18:35,  7.69s/it]"
     ]
    },
    {
     "name": "stdout",
     "output_type": "stream",
     "text": [
      "\n",
      " chordata_cheloniidae:\n",
      "   Kept: 27/30 (90.0%)\n",
      "   Removed: 3\n"
     ]
    },
    {
     "name": "stderr",
     "output_type": "stream",
     "text": [
      "CLIP cleaning:  29%|██▊       | 58/202 [10:35<16:07,  6.72s/it]"
     ]
    },
    {
     "name": "stdout",
     "output_type": "stream",
     "text": [
      "\n",
      " chordata_chelydridae:\n",
      "   Kept: 26/30 (86.7%)\n",
      "   Removed: 4\n"
     ]
    },
    {
     "name": "stderr",
     "output_type": "stream",
     "text": [
      "CLIP cleaning:  29%|██▉       | 59/202 [10:51<22:32,  9.46s/it]"
     ]
    },
    {
     "name": "stdout",
     "output_type": "stream",
     "text": [
      "\n",
      " chordata_ciconiidae:\n",
      "   Kept: 87/90 (96.7%)\n",
      "   Removed: 3\n"
     ]
    },
    {
     "name": "stderr",
     "output_type": "stream",
     "text": [
      "CLIP cleaning:  30%|██▉       | 60/202 [11:04<24:47, 10.47s/it]"
     ]
    },
    {
     "name": "stdout",
     "output_type": "stream",
     "text": [
      "\n",
      " chordata_colubridae:\n",
      "   Kept: 90/90 (100.0%)\n",
      "   Removed: 0\n"
     ]
    },
    {
     "name": "stderr",
     "output_type": "stream",
     "text": [
      "CLIP cleaning:  30%|███       | 61/202 [11:09<20:50,  8.87s/it]"
     ]
    },
    {
     "name": "stdout",
     "output_type": "stream",
     "text": [
      "\n",
      " chordata_columbidae:\n",
      "   Kept: 27/30 (90.0%)\n",
      "   Removed: 3\n"
     ]
    },
    {
     "name": "stderr",
     "output_type": "stream",
     "text": [
      "CLIP cleaning:  31%|███       | 62/202 [11:19<21:43,  9.31s/it]"
     ]
    },
    {
     "name": "stdout",
     "output_type": "stream",
     "text": [
      "\n",
      " chordata_cracidae:\n",
      "   Kept: 60/60 (100.0%)\n",
      "   Removed: 0\n"
     ]
    },
    {
     "name": "stderr",
     "output_type": "stream",
     "text": [
      "CLIP cleaning:  31%|███       | 63/202 [11:24<18:26,  7.96s/it]"
     ]
    },
    {
     "name": "stdout",
     "output_type": "stream",
     "text": [
      "\n",
      " chordata_cricetidae:\n",
      "   Kept: 30/30 (100.0%)\n",
      "   Removed: 0\n"
     ]
    },
    {
     "name": "stderr",
     "output_type": "stream",
     "text": [
      "CLIP cleaning:  32%|███▏      | 64/202 [11:34<19:35,  8.52s/it]"
     ]
    },
    {
     "name": "stdout",
     "output_type": "stream",
     "text": [
      "\n",
      " chordata_crocodylidae:\n",
      "   Kept: 58/60 (96.7%)\n",
      "   Removed: 2\n"
     ]
    },
    {
     "name": "stderr",
     "output_type": "stream",
     "text": [
      "CLIP cleaning:  32%|███▏      | 65/202 [11:44<20:28,  8.96s/it]"
     ]
    },
    {
     "name": "stdout",
     "output_type": "stream",
     "text": [
      "\n",
      " chordata_cryptobranchidae:\n",
      "   Kept: 57/60 (95.0%)\n",
      "   Removed: 3\n"
     ]
    },
    {
     "name": "stderr",
     "output_type": "stream",
     "text": [
      "CLIP cleaning:  33%|███▎      | 66/202 [11:48<17:08,  7.56s/it]"
     ]
    },
    {
     "name": "stdout",
     "output_type": "stream",
     "text": [
      "\n",
      " chordata_ctenomyidae:\n",
      "   Kept: 30/30 (100.0%)\n",
      "   Removed: 0\n"
     ]
    },
    {
     "name": "stderr",
     "output_type": "stream",
     "text": [
      "CLIP cleaning:  33%|███▎      | 67/202 [11:52<14:39,  6.52s/it]"
     ]
    },
    {
     "name": "stdout",
     "output_type": "stream",
     "text": [
      "\n",
      " chordata_cuculidae:\n",
      "   Kept: 27/30 (90.0%)\n",
      "   Removed: 3\n"
     ]
    },
    {
     "name": "stderr",
     "output_type": "stream",
     "text": [
      "CLIP cleaning:  34%|███▎      | 68/202 [11:56<12:50,  5.75s/it]"
     ]
    },
    {
     "name": "stdout",
     "output_type": "stream",
     "text": [
      "\n",
      " chordata_cyprinodontidae:\n",
      "   Kept: 30/30 (100.0%)\n",
      "   Removed: 0\n"
     ]
    },
    {
     "name": "stderr",
     "output_type": "stream",
     "text": [
      "CLIP cleaning:  34%|███▍      | 69/202 [12:35<34:47, 15.70s/it]"
     ]
    },
    {
     "name": "stdout",
     "output_type": "stream",
     "text": [
      "\n",
      " chordata_dactyloidae:\n",
      "   Kept: 300/300 (100.0%)\n",
      "   Removed: 0\n"
     ]
    },
    {
     "name": "stderr",
     "output_type": "stream",
     "text": [
      "CLIP cleaning:  35%|███▍      | 70/202 [12:39<26:40, 12.13s/it]"
     ]
    },
    {
     "name": "stdout",
     "output_type": "stream",
     "text": [
      "\n",
      " chordata_dalatiidae:\n",
      "   Kept: 30/30 (100.0%)\n",
      "   Removed: 0\n"
     ]
    },
    {
     "name": "stderr",
     "output_type": "stream",
     "text": [
      "CLIP cleaning:  35%|███▌      | 71/202 [12:59<31:56, 14.63s/it]"
     ]
    },
    {
     "name": "stdout",
     "output_type": "stream",
     "text": [
      "\n",
      " chordata_dasyatidae:\n",
      "   Kept: 146/150 (97.3%)\n",
      "   Removed: 4\n"
     ]
    },
    {
     "name": "stderr",
     "output_type": "stream",
     "text": [
      "CLIP cleaning:  36%|███▌      | 72/202 [13:05<25:44, 11.88s/it]"
     ]
    },
    {
     "name": "stdout",
     "output_type": "stream",
     "text": [
      "\n",
      " chordata_dasypodidae:\n",
      "   Kept: 29/30 (96.7%)\n",
      "   Removed: 1\n"
     ]
    },
    {
     "name": "stderr",
     "output_type": "stream",
     "text": [
      "CLIP cleaning:  36%|███▌      | 73/202 [13:09<20:37,  9.59s/it]"
     ]
    },
    {
     "name": "stdout",
     "output_type": "stream",
     "text": [
      "\n",
      " chordata_dasyuridae:\n",
      "   Kept: 28/30 (93.3%)\n",
      "   Removed: 2\n"
     ]
    },
    {
     "name": "stderr",
     "output_type": "stream",
     "text": [
      "CLIP cleaning:  37%|███▋      | 74/202 [13:14<17:17,  8.11s/it]"
     ]
    },
    {
     "name": "stdout",
     "output_type": "stream",
     "text": [
      "\n",
      " chordata_daubentoniidae:\n",
      "   Kept: 30/30 (100.0%)\n",
      "   Removed: 0\n"
     ]
    },
    {
     "name": "stderr",
     "output_type": "stream",
     "text": [
      "CLIP cleaning:  37%|███▋      | 75/202 [13:30<22:29, 10.63s/it]"
     ]
    },
    {
     "name": "stdout",
     "output_type": "stream",
     "text": [
      "\n",
      " chordata_delphinidae:\n",
      "   Kept: 116/119 (97.5%)\n",
      "   Removed: 3\n"
     ]
    },
    {
     "name": "stderr",
     "output_type": "stream",
     "text": [
      "CLIP cleaning:  38%|███▊      | 76/202 [13:34<18:18,  8.71s/it]"
     ]
    },
    {
     "name": "stdout",
     "output_type": "stream",
     "text": [
      "\n",
      " chordata_dendrobatidae:\n",
      "   Kept: 30/30 (100.0%)\n",
      "   Removed: 0\n"
     ]
    },
    {
     "name": "stderr",
     "output_type": "stream",
     "text": [
      "CLIP cleaning:  38%|███▊      | 77/202 [14:05<32:08, 15.43s/it]"
     ]
    },
    {
     "name": "stdout",
     "output_type": "stream",
     "text": [
      "\n",
      " chordata_diomedeidae:\n",
      "   Kept: 170/179 (95.0%)\n",
      "   Removed: 9\n"
     ]
    },
    {
     "name": "stderr",
     "output_type": "stream",
     "text": [
      "CLIP cleaning:  39%|███▊      | 78/202 [14:14<27:33, 13.33s/it]"
     ]
    },
    {
     "name": "stdout",
     "output_type": "stream",
     "text": [
      "\n",
      " chordata_diplodactylidae:\n",
      "   Kept: 58/60 (96.7%)\n",
      "   Removed: 2\n"
     ]
    },
    {
     "name": "stderr",
     "output_type": "stream",
     "text": [
      "CLIP cleaning:  39%|███▉      | 79/202 [14:18<21:57, 10.71s/it]"
     ]
    },
    {
     "name": "stdout",
     "output_type": "stream",
     "text": [
      "\n",
      " chordata_elapidae:\n",
      "   Kept: 28/30 (93.3%)\n",
      "   Removed: 2\n"
     ]
    },
    {
     "name": "stderr",
     "output_type": "stream",
     "text": [
      "CLIP cleaning:  40%|███▉      | 80/202 [14:29<21:38, 10.64s/it]"
     ]
    },
    {
     "name": "stdout",
     "output_type": "stream",
     "text": [
      "\n",
      " chordata_emydidae:\n",
      "   Kept: 57/60 (95.0%)\n",
      "   Removed: 3\n"
     ]
    },
    {
     "name": "stderr",
     "output_type": "stream",
     "text": [
      "CLIP cleaning:  40%|████      | 81/202 [14:35<18:26,  9.14s/it]"
     ]
    },
    {
     "name": "stdout",
     "output_type": "stream",
     "text": [
      "\n",
      " chordata_equidae:\n",
      "   Kept: 30/30 (100.0%)\n",
      "   Removed: 0\n"
     ]
    },
    {
     "name": "stderr",
     "output_type": "stream",
     "text": [
      "CLIP cleaning:  41%|████      | 82/202 [14:39<15:18,  7.65s/it]"
     ]
    },
    {
     "name": "stdout",
     "output_type": "stream",
     "text": [
      "\n",
      " chordata_estrildidae:\n",
      "   Kept: 30/30 (100.0%)\n",
      "   Removed: 0\n"
     ]
    },
    {
     "name": "stderr",
     "output_type": "stream",
     "text": [
      "CLIP cleaning:  41%|████      | 83/202 [14:49<16:48,  8.47s/it]"
     ]
    },
    {
     "name": "stdout",
     "output_type": "stream",
     "text": [
      "\n",
      " chordata_falconidae:\n",
      "   Kept: 59/60 (98.3%)\n",
      "   Removed: 1\n"
     ]
    },
    {
     "name": "stderr",
     "output_type": "stream",
     "text": [
      "CLIP cleaning:  42%|████▏     | 84/202 [14:58<16:54,  8.60s/it]"
     ]
    },
    {
     "name": "stdout",
     "output_type": "stream",
     "text": [
      "\n",
      " chordata_fringillidae:\n",
      "   Kept: 60/60 (100.0%)\n",
      "   Removed: 0\n"
     ]
    },
    {
     "name": "stderr",
     "output_type": "stream",
     "text": [
      "CLIP cleaning:  42%|████▏     | 85/202 [15:03<14:42,  7.54s/it]"
     ]
    },
    {
     "name": "stdout",
     "output_type": "stream",
     "text": [
      "\n",
      " chordata_gavialidae:\n",
      "   Kept: 30/30 (100.0%)\n",
      "   Removed: 0\n"
     ]
    },
    {
     "name": "stderr",
     "output_type": "stream",
     "text": [
      "CLIP cleaning:  43%|████▎     | 86/202 [15:08<12:54,  6.68s/it]"
     ]
    },
    {
     "name": "stdout",
     "output_type": "stream",
     "text": [
      "\n",
      " chordata_gekkonidae:\n",
      "   Kept: 30/30 (100.0%)\n",
      "   Removed: 0\n"
     ]
    },
    {
     "name": "stderr",
     "output_type": "stream",
     "text": [
      "CLIP cleaning:  43%|████▎     | 87/202 [15:22<17:12,  8.98s/it]"
     ]
    },
    {
     "name": "stdout",
     "output_type": "stream",
     "text": [
      "\n",
      " chordata_geoemydidae:\n",
      "   Kept: 88/90 (97.8%)\n",
      "   Removed: 2\n"
     ]
    },
    {
     "name": "stderr",
     "output_type": "stream",
     "text": [
      "CLIP cleaning:  44%|████▎     | 88/202 [15:26<14:05,  7.42s/it]"
     ]
    },
    {
     "name": "stdout",
     "output_type": "stream",
     "text": [
      "\n",
      " chordata_giraffidae:\n",
      "   Kept: 26/29 (89.7%)\n",
      "   Removed: 3\n"
     ]
    },
    {
     "name": "stderr",
     "output_type": "stream",
     "text": [
      "CLIP cleaning:  44%|████▍     | 89/202 [15:30<12:09,  6.46s/it]"
     ]
    },
    {
     "name": "stdout",
     "output_type": "stream",
     "text": [
      "\n",
      " chordata_glareolidae:\n",
      "   Kept: 28/30 (93.3%)\n",
      "   Removed: 2\n"
     ]
    },
    {
     "name": "stderr",
     "output_type": "stream",
     "text": [
      "CLIP cleaning:  45%|████▍     | 90/202 [15:35<11:08,  5.96s/it]"
     ]
    },
    {
     "name": "stdout",
     "output_type": "stream",
     "text": [
      "\n",
      " chordata_gliridae:\n",
      "   Kept: 29/30 (96.7%)\n",
      "   Removed: 1\n"
     ]
    },
    {
     "name": "stderr",
     "output_type": "stream",
     "text": [
      "CLIP cleaning:  45%|████▌     | 91/202 [15:41<11:12,  6.06s/it]"
     ]
    },
    {
     "name": "stdout",
     "output_type": "stream",
     "text": [
      "\n",
      " chordata_goodeidae:\n",
      "   Kept: 30/30 (100.0%)\n",
      "   Removed: 0\n"
     ]
    },
    {
     "name": "stderr",
     "output_type": "stream",
     "text": [
      "CLIP cleaning:  46%|████▌     | 92/202 [15:46<10:17,  5.61s/it]"
     ]
    },
    {
     "name": "stdout",
     "output_type": "stream",
     "text": [
      "\n",
      " chordata_gymnuridae:\n",
      "   Kept: 30/30 (100.0%)\n",
      "   Removed: 0\n"
     ]
    },
    {
     "name": "stderr",
     "output_type": "stream",
     "text": [
      "CLIP cleaning:  46%|████▌     | 93/202 [15:52<10:17,  5.67s/it]"
     ]
    },
    {
     "name": "stdout",
     "output_type": "stream",
     "text": [
      "\n",
      " chordata_hemiscylliidae:\n",
      "   Kept: 29/30 (96.7%)\n",
      "   Removed: 1\n"
     ]
    },
    {
     "name": "stderr",
     "output_type": "stream",
     "text": [
      "CLIP cleaning:  47%|████▋     | 94/202 [16:00<11:40,  6.48s/it]"
     ]
    },
    {
     "name": "stdout",
     "output_type": "stream",
     "text": [
      "\n",
      " chordata_hexanchidae:\n",
      "   Kept: 58/60 (96.7%)\n",
      "   Removed: 2\n"
     ]
    },
    {
     "name": "stderr",
     "output_type": "stream",
     "text": [
      "CLIP cleaning:  47%|████▋     | 95/202 [16:05<11:03,  6.20s/it]"
     ]
    },
    {
     "name": "stdout",
     "output_type": "stream",
     "text": [
      "\n",
      " chordata_hominidae:\n",
      "   Kept: 25/30 (83.3%)\n",
      "   Removed: 5\n"
     ]
    },
    {
     "name": "stderr",
     "output_type": "stream",
     "text": [
      "CLIP cleaning:  48%|████▊     | 96/202 [16:10<10:07,  5.74s/it]"
     ]
    },
    {
     "name": "stdout",
     "output_type": "stream",
     "text": [
      "\n",
      " chordata_hyaenidae:\n",
      "   Kept: 27/30 (90.0%)\n",
      "   Removed: 3\n"
     ]
    },
    {
     "name": "stderr",
     "output_type": "stream",
     "text": [
      "CLIP cleaning:  48%|████▊     | 97/202 [16:25<14:48,  8.46s/it]"
     ]
    },
    {
     "name": "stdout",
     "output_type": "stream",
     "text": [
      "\n",
      " chordata_hylobatidae:\n",
      "   Kept: 52/90 (57.8%)\n",
      "   Removed: 38\n"
     ]
    },
    {
     "name": "stderr",
     "output_type": "stream",
     "text": [
      "CLIP cleaning:  49%|████▊     | 98/202 [16:29<12:08,  7.00s/it]"
     ]
    },
    {
     "name": "stdout",
     "output_type": "stream",
     "text": [
      "\n",
      " chordata_hynobiidae:\n",
      "   Kept: 30/30 (100.0%)\n",
      "   Removed: 0\n"
     ]
    },
    {
     "name": "stderr",
     "output_type": "stream",
     "text": [
      "CLIP cleaning:  49%|████▉     | 99/202 [16:49<18:50, 10.97s/it]"
     ]
    },
    {
     "name": "stdout",
     "output_type": "stream",
     "text": [
      "\n",
      " chordata_iguanidae:\n",
      "   Kept: 118/120 (98.3%)\n",
      "   Removed: 2\n"
     ]
    },
    {
     "name": "stderr",
     "output_type": "stream",
     "text": [
      "CLIP cleaning:  50%|████▉     | 100/202 [16:54<15:37,  9.19s/it]"
     ]
    },
    {
     "name": "stdout",
     "output_type": "stream",
     "text": [
      "\n",
      " chordata_indriidae:\n",
      "   Kept: 30/30 (100.0%)\n",
      "   Removed: 0\n"
     ]
    },
    {
     "name": "stderr",
     "output_type": "stream",
     "text": [
      "CLIP cleaning:  50%|█████     | 101/202 [17:03<15:13,  9.04s/it]"
     ]
    },
    {
     "name": "stdout",
     "output_type": "stream",
     "text": [
      "\n",
      " chordata_labridae:\n",
      "   Kept: 60/60 (100.0%)\n",
      "   Removed: 0\n"
     ]
    },
    {
     "name": "stderr",
     "output_type": "stream",
     "text": [
      "CLIP cleaning:  50%|█████     | 102/202 [17:11<14:55,  8.96s/it]"
     ]
    },
    {
     "name": "stdout",
     "output_type": "stream",
     "text": [
      "\n",
      " chordata_lacertidae:\n",
      "   Kept: 60/60 (100.0%)\n",
      "   Removed: 0\n"
     ]
    },
    {
     "name": "stderr",
     "output_type": "stream",
     "text": [
      "CLIP cleaning:  51%|█████     | 103/202 [17:15<12:20,  7.48s/it]"
     ]
    },
    {
     "name": "stdout",
     "output_type": "stream",
     "text": [
      "\n",
      " chordata_lamnidae:\n",
      "   Kept: 29/30 (96.7%)\n",
      "   Removed: 1\n"
     ]
    },
    {
     "name": "stderr",
     "output_type": "stream",
     "text": [
      "CLIP cleaning:  51%|█████▏    | 104/202 [17:38<19:37, 12.01s/it]"
     ]
    },
    {
     "name": "stdout",
     "output_type": "stream",
     "text": [
      "\n",
      " chordata_laridae:\n",
      "   Kept: 147/149 (98.7%)\n",
      "   Removed: 2\n"
     ]
    },
    {
     "name": "stderr",
     "output_type": "stream",
     "text": [
      "CLIP cleaning:  52%|█████▏    | 105/202 [17:43<15:58,  9.88s/it]"
     ]
    },
    {
     "name": "stdout",
     "output_type": "stream",
     "text": [
      "\n",
      " chordata_latimeriidae:\n",
      "   Kept: 29/30 (96.7%)\n",
      "   Removed: 1\n"
     ]
    },
    {
     "name": "stderr",
     "output_type": "stream",
     "text": [
      "CLIP cleaning:  52%|█████▏    | 106/202 [17:54<16:21, 10.22s/it]"
     ]
    },
    {
     "name": "stdout",
     "output_type": "stream",
     "text": [
      "\n",
      " chordata_lemuridae:\n",
      "   Kept: 59/60 (98.3%)\n",
      "   Removed: 1\n"
     ]
    },
    {
     "name": "stderr",
     "output_type": "stream",
     "text": [
      "CLIP cleaning:  53%|█████▎    | 107/202 [18:04<16:18, 10.30s/it]"
     ]
    },
    {
     "name": "stdout",
     "output_type": "stream",
     "text": [
      "\n",
      " chordata_leporidae:\n",
      "   Kept: 58/60 (96.7%)\n",
      "   Removed: 2\n"
     ]
    },
    {
     "name": "stderr",
     "output_type": "stream",
     "text": [
      "CLIP cleaning:  53%|█████▎    | 108/202 [18:08<13:00,  8.31s/it]"
     ]
    },
    {
     "name": "stdout",
     "output_type": "stream",
     "text": [
      "\n",
      " chordata_lutjanidae:\n",
      "   Kept: 30/30 (100.0%)\n",
      "   Removed: 0\n"
     ]
    },
    {
     "name": "stderr",
     "output_type": "stream",
     "text": [
      "CLIP cleaning:  54%|█████▍    | 109/202 [18:17<13:03,  8.42s/it]"
     ]
    },
    {
     "name": "stdout",
     "output_type": "stream",
     "text": [
      "\n",
      " chordata_manidae:\n",
      "   Kept: 56/60 (93.3%)\n",
      "   Removed: 4\n"
     ]
    },
    {
     "name": "stderr",
     "output_type": "stream",
     "text": [
      "CLIP cleaning:  54%|█████▍    | 110/202 [18:22<11:21,  7.40s/it]"
     ]
    },
    {
     "name": "stdout",
     "output_type": "stream",
     "text": [
      "\n",
      " chordata_mantellidae:\n",
      "   Kept: 28/30 (93.3%)\n",
      "   Removed: 2\n"
     ]
    },
    {
     "name": "stderr",
     "output_type": "stream",
     "text": [
      "CLIP cleaning:  55%|█████▍    | 111/202 [18:26<09:55,  6.55s/it]"
     ]
    },
    {
     "name": "stdout",
     "output_type": "stream",
     "text": [
      "\n",
      " chordata_megapodiidae:\n",
      "   Kept: 28/30 (93.3%)\n",
      "   Removed: 2\n"
     ]
    },
    {
     "name": "stderr",
     "output_type": "stream",
     "text": [
      "CLIP cleaning:  55%|█████▌    | 112/202 [18:30<08:40,  5.79s/it]"
     ]
    },
    {
     "name": "stdout",
     "output_type": "stream",
     "text": [
      "\n",
      " chordata_merlucciidae:\n",
      "   Kept: 30/30 (100.0%)\n",
      "   Removed: 0\n"
     ]
    },
    {
     "name": "stderr",
     "output_type": "stream",
     "text": [
      "CLIP cleaning:  56%|█████▌    | 113/202 [18:34<07:49,  5.28s/it]"
     ]
    },
    {
     "name": "stdout",
     "output_type": "stream",
     "text": [
      "\n",
      " chordata_mesitornithidae:\n",
      "   Kept: 19/30 (63.3%)\n",
      "   Removed: 11\n"
     ]
    },
    {
     "name": "stderr",
     "output_type": "stream",
     "text": [
      "CLIP cleaning:  56%|█████▋    | 114/202 [18:39<07:24,  5.05s/it]"
     ]
    },
    {
     "name": "stdout",
     "output_type": "stream",
     "text": [
      "\n",
      " chordata_mimidae:\n",
      "   Kept: 30/30 (100.0%)\n",
      "   Removed: 0\n"
     ]
    },
    {
     "name": "stderr",
     "output_type": "stream",
     "text": [
      "CLIP cleaning:  57%|█████▋    | 115/202 [18:44<07:25,  5.12s/it]"
     ]
    },
    {
     "name": "stdout",
     "output_type": "stream",
     "text": [
      "\n",
      " chordata_motacillidae:\n",
      "   Kept: 30/30 (100.0%)\n",
      "   Removed: 0\n"
     ]
    },
    {
     "name": "stderr",
     "output_type": "stream",
     "text": [
      "CLIP cleaning:  57%|█████▋    | 116/202 [18:49<07:09,  4.99s/it]"
     ]
    },
    {
     "name": "stdout",
     "output_type": "stream",
     "text": [
      "\n",
      " chordata_muscicapidae:\n",
      "   Kept: 29/30 (96.7%)\n",
      "   Removed: 1\n"
     ]
    },
    {
     "name": "stderr",
     "output_type": "stream",
     "text": [
      "CLIP cleaning:  58%|█████▊    | 117/202 [19:07<12:36,  8.89s/it]"
     ]
    },
    {
     "name": "stdout",
     "output_type": "stream",
     "text": [
      "\n",
      " chordata_mustelidae:\n",
      "   Kept: 89/90 (98.9%)\n",
      "   Removed: 1\n"
     ]
    },
    {
     "name": "stderr",
     "output_type": "stream",
     "text": [
      "CLIP cleaning:  58%|█████▊    | 118/202 [19:19<13:58,  9.98s/it]"
     ]
    },
    {
     "name": "stdout",
     "output_type": "stream",
     "text": [
      "\n",
      " chordata_myliobatidae:\n",
      "   Kept: 90/90 (100.0%)\n",
      "   Removed: 0\n"
     ]
    },
    {
     "name": "stderr",
     "output_type": "stream",
     "text": [
      "CLIP cleaning:  59%|█████▉    | 119/202 [19:25<12:05,  8.75s/it]"
     ]
    },
    {
     "name": "stdout",
     "output_type": "stream",
     "text": [
      "\n",
      " chordata_nesospingidae:\n",
      "   Kept: 20/30 (66.7%)\n",
      "   Removed: 10\n"
     ]
    },
    {
     "name": "stderr",
     "output_type": "stream",
     "text": [
      "CLIP cleaning:  59%|█████▉    | 120/202 [19:29<10:00,  7.32s/it]"
     ]
    },
    {
     "name": "stdout",
     "output_type": "stream",
     "text": [
      "\n",
      " chordata_odontophoridae:\n",
      "   Kept: 30/30 (100.0%)\n",
      "   Removed: 0\n"
     ]
    },
    {
     "name": "stderr",
     "output_type": "stream",
     "text": [
      "CLIP cleaning:  60%|█████▉    | 121/202 [19:38<10:27,  7.75s/it]"
     ]
    },
    {
     "name": "stdout",
     "output_type": "stream",
     "text": [
      "\n",
      " chordata_otariidae:\n",
      "   Kept: 60/60 (100.0%)\n",
      "   Removed: 0\n"
     ]
    },
    {
     "name": "stderr",
     "output_type": "stream",
     "text": [
      "CLIP cleaning:  60%|██████    | 122/202 [19:43<09:17,  6.97s/it]"
     ]
    },
    {
     "name": "stdout",
     "output_type": "stream",
     "text": [
      "\n",
      " chordata_otididae:\n",
      "   Kept: 30/30 (100.0%)\n",
      "   Removed: 0\n"
     ]
    },
    {
     "name": "stderr",
     "output_type": "stream",
     "text": [
      "CLIP cleaning:  61%|██████    | 123/202 [19:48<08:16,  6.28s/it]"
     ]
    },
    {
     "name": "stdout",
     "output_type": "stream",
     "text": [
      "\n",
      " chordata_pangasiidae:\n",
      "   Kept: 28/30 (93.3%)\n",
      "   Removed: 2\n"
     ]
    },
    {
     "name": "stderr",
     "output_type": "stream",
     "text": [
      "CLIP cleaning:  61%|██████▏   | 124/202 [19:52<07:21,  5.66s/it]"
     ]
    },
    {
     "name": "stdout",
     "output_type": "stream",
     "text": [
      "\n",
      " chordata_paradisaeidae:\n",
      "   Kept: 29/30 (96.7%)\n",
      "   Removed: 1\n"
     ]
    },
    {
     "name": "stderr",
     "output_type": "stream",
     "text": [
      "CLIP cleaning:  62%|██████▏   | 125/202 [19:56<06:46,  5.28s/it]"
     ]
    },
    {
     "name": "stdout",
     "output_type": "stream",
     "text": [
      "\n",
      " chordata_pardalotidae:\n",
      "   Kept: 29/30 (96.7%)\n",
      "   Removed: 1\n"
     ]
    },
    {
     "name": "stderr",
     "output_type": "stream",
     "text": [
      "CLIP cleaning:  62%|██████▏   | 126/202 [20:00<06:04,  4.80s/it]"
     ]
    },
    {
     "name": "stdout",
     "output_type": "stream",
     "text": [
      "\n",
      " chordata_parulidae:\n",
      "   Kept: 30/30 (100.0%)\n",
      "   Removed: 0\n"
     ]
    },
    {
     "name": "stderr",
     "output_type": "stream",
     "text": [
      "CLIP cleaning:  63%|██████▎   | 127/202 [20:04<05:43,  4.58s/it]"
     ]
    },
    {
     "name": "stdout",
     "output_type": "stream",
     "text": [
      "\n",
      " chordata_percidae:\n",
      "   Kept: 30/30 (100.0%)\n",
      "   Removed: 0\n"
     ]
    },
    {
     "name": "stderr",
     "output_type": "stream",
     "text": [
      "CLIP cleaning:  63%|██████▎   | 128/202 [20:09<05:46,  4.68s/it]"
     ]
    },
    {
     "name": "stdout",
     "output_type": "stream",
     "text": [
      "\n",
      " chordata_phasianidae:\n",
      "   Kept: 26/29 (89.7%)\n",
      "   Removed: 3\n"
     ]
    },
    {
     "name": "stderr",
     "output_type": "stream",
     "text": [
      "CLIP cleaning:  64%|██████▍   | 129/202 [20:13<05:31,  4.54s/it]"
     ]
    },
    {
     "name": "stdout",
     "output_type": "stream",
     "text": [
      "\n",
      " chordata_phrynosomatidae:\n",
      "   Kept: 30/30 (100.0%)\n",
      "   Removed: 0\n"
     ]
    },
    {
     "name": "stderr",
     "output_type": "stream",
     "text": [
      "CLIP cleaning:  64%|██████▍   | 130/202 [20:17<05:19,  4.44s/it]"
     ]
    },
    {
     "name": "stdout",
     "output_type": "stream",
     "text": [
      "\n",
      " chordata_phyllomedusidae:\n",
      "   Kept: 30/30 (100.0%)\n",
      "   Removed: 0\n"
     ]
    },
    {
     "name": "stderr",
     "output_type": "stream",
     "text": [
      "CLIP cleaning:  65%|██████▍   | 131/202 [20:22<05:16,  4.46s/it]"
     ]
    },
    {
     "name": "stdout",
     "output_type": "stream",
     "text": [
      "\n",
      " chordata_phyllostomidae:\n",
      "   Kept: 26/30 (86.7%)\n",
      "   Removed: 4\n"
     ]
    },
    {
     "name": "stderr",
     "output_type": "stream",
     "text": [
      "CLIP cleaning:  65%|██████▌   | 132/202 [20:27<05:16,  4.52s/it]"
     ]
    },
    {
     "name": "stdout",
     "output_type": "stream",
     "text": [
      "\n",
      " chordata_pittidae:\n",
      "   Kept: 30/30 (100.0%)\n",
      "   Removed: 0\n"
     ]
    },
    {
     "name": "stderr",
     "output_type": "stream",
     "text": [
      "CLIP cleaning:  66%|██████▌   | 133/202 [21:06<17:06, 14.88s/it]"
     ]
    },
    {
     "name": "stdout",
     "output_type": "stream",
     "text": [
      "\n",
      " chordata_plethodontidae:\n",
      "   Kept: 270/270 (100.0%)\n",
      "   Removed: 0\n"
     ]
    },
    {
     "name": "stderr",
     "output_type": "stream",
     "text": [
      "CLIP cleaning:  66%|██████▋   | 134/202 [21:10<13:09, 11.62s/it]"
     ]
    },
    {
     "name": "stdout",
     "output_type": "stream",
     "text": [
      "\n",
      " chordata_pleuronectidae:\n",
      "   Kept: 30/30 (100.0%)\n",
      "   Removed: 0\n"
     ]
    },
    {
     "name": "stderr",
     "output_type": "stream",
     "text": [
      "CLIP cleaning:  67%|██████▋   | 135/202 [21:16<11:15, 10.08s/it]"
     ]
    },
    {
     "name": "stdout",
     "output_type": "stream",
     "text": [
      "\n",
      " chordata_podocnemididae:\n",
      "   Kept: 30/30 (100.0%)\n",
      "   Removed: 0\n"
     ]
    },
    {
     "name": "stderr",
     "output_type": "stream",
     "text": [
      "CLIP cleaning:  67%|██████▋   | 136/202 [21:21<09:12,  8.37s/it]"
     ]
    },
    {
     "name": "stdout",
     "output_type": "stream",
     "text": [
      "\n",
      " chordata_polyprionidae:\n",
      "   Kept: 26/30 (86.7%)\n",
      "   Removed: 4\n"
     ]
    },
    {
     "name": "stderr",
     "output_type": "stream",
     "text": [
      "CLIP cleaning:  68%|██████▊   | 137/202 [21:25<07:45,  7.16s/it]"
     ]
    },
    {
     "name": "stdout",
     "output_type": "stream",
     "text": [
      "\n",
      " chordata_pontoporiidae:\n",
      "   Kept: 30/30 (100.0%)\n",
      "   Removed: 0\n"
     ]
    },
    {
     "name": "stderr",
     "output_type": "stream",
     "text": [
      "CLIP cleaning:  68%|██████▊   | 138/202 [21:30<06:51,  6.42s/it]"
     ]
    },
    {
     "name": "stdout",
     "output_type": "stream",
     "text": [
      "\n",
      " chordata_potoroidae:\n",
      "   Kept: 30/30 (100.0%)\n",
      "   Removed: 0\n"
     ]
    },
    {
     "name": "stderr",
     "output_type": "stream",
     "text": [
      "CLIP cleaning:  69%|██████▉   | 139/202 [21:34<06:02,  5.76s/it]"
     ]
    },
    {
     "name": "stdout",
     "output_type": "stream",
     "text": [
      "\n",
      " chordata_pristidae:\n",
      "   Kept: 27/30 (90.0%)\n",
      "   Removed: 3\n"
     ]
    },
    {
     "name": "stderr",
     "output_type": "stream",
     "text": [
      "CLIP cleaning:  69%|██████▉   | 140/202 [21:50<09:03,  8.77s/it]"
     ]
    },
    {
     "name": "stdout",
     "output_type": "stream",
     "text": [
      "\n",
      " chordata_procellariidae:\n",
      "   Kept: 87/90 (96.7%)\n",
      "   Removed: 3\n"
     ]
    },
    {
     "name": "stderr",
     "output_type": "stream",
     "text": [
      "CLIP cleaning:  70%|██████▉   | 141/202 [22:07<11:30, 11.31s/it]"
     ]
    },
    {
     "name": "stdout",
     "output_type": "stream",
     "text": [
      "\n",
      " chordata_psittacidae:\n",
      "   Kept: 116/120 (96.7%)\n",
      "   Removed: 4\n"
     ]
    },
    {
     "name": "stderr",
     "output_type": "stream",
     "text": [
      "CLIP cleaning:  70%|███████   | 142/202 [22:15<10:25, 10.42s/it]"
     ]
    },
    {
     "name": "stdout",
     "output_type": "stream",
     "text": [
      "\n",
      " chordata_psittaculidae:\n",
      "   Kept: 60/60 (100.0%)\n",
      "   Removed: 0\n"
     ]
    },
    {
     "name": "stderr",
     "output_type": "stream",
     "text": [
      "CLIP cleaning:  71%|███████   | 143/202 [22:27<10:33, 10.74s/it]"
     ]
    },
    {
     "name": "stdout",
     "output_type": "stream",
     "text": [
      "\n",
      " chordata_pythonidae:\n",
      "   Kept: 58/60 (96.7%)\n",
      "   Removed: 2\n"
     ]
    },
    {
     "name": "stderr",
     "output_type": "stream",
     "text": [
      "CLIP cleaning:  71%|███████▏  | 144/202 [22:39<10:55, 11.31s/it]"
     ]
    },
    {
     "name": "stdout",
     "output_type": "stream",
     "text": [
      "\n",
      " chordata_rajidae:\n",
      "   Kept: 89/90 (98.9%)\n",
      "   Removed: 1\n"
     ]
    },
    {
     "name": "stderr",
     "output_type": "stream",
     "text": [
      "CLIP cleaning:  72%|███████▏  | 145/202 [22:45<09:07,  9.61s/it]"
     ]
    },
    {
     "name": "stdout",
     "output_type": "stream",
     "text": [
      "\n",
      " chordata_rallidae:\n",
      "   Kept: 30/30 (100.0%)\n",
      "   Removed: 0\n"
     ]
    },
    {
     "name": "stderr",
     "output_type": "stream",
     "text": [
      "CLIP cleaning:  72%|███████▏  | 146/202 [22:50<07:40,  8.22s/it]"
     ]
    },
    {
     "name": "stdout",
     "output_type": "stream",
     "text": [
      "\n",
      " chordata_ramphastidae:\n",
      "   Kept: 29/30 (96.7%)\n",
      "   Removed: 1\n"
     ]
    },
    {
     "name": "stderr",
     "output_type": "stream",
     "text": [
      "CLIP cleaning:  73%|███████▎  | 147/202 [23:02<08:37,  9.41s/it]"
     ]
    },
    {
     "name": "stdout",
     "output_type": "stream",
     "text": [
      "\n",
      " chordata_ranidae:\n",
      "   Kept: 90/90 (100.0%)\n",
      "   Removed: 0\n"
     ]
    },
    {
     "name": "stderr",
     "output_type": "stream",
     "text": [
      "CLIP cleaning:  73%|███████▎  | 148/202 [23:06<07:00,  7.79s/it]"
     ]
    },
    {
     "name": "stdout",
     "output_type": "stream",
     "text": [
      "\n",
      " chordata_recurvirostridae:\n",
      "   Kept: 30/30 (100.0%)\n",
      "   Removed: 0\n"
     ]
    },
    {
     "name": "stderr",
     "output_type": "stream",
     "text": [
      "CLIP cleaning:  74%|███████▍  | 149/202 [23:16<07:31,  8.52s/it]"
     ]
    },
    {
     "name": "stdout",
     "output_type": "stream",
     "text": [
      "\n",
      " chordata_rhacophoridae:\n",
      "   Kept: 60/60 (100.0%)\n",
      "   Removed: 0\n"
     ]
    },
    {
     "name": "stderr",
     "output_type": "stream",
     "text": [
      "CLIP cleaning:  74%|███████▍  | 150/202 [23:20<06:08,  7.09s/it]"
     ]
    },
    {
     "name": "stdout",
     "output_type": "stream",
     "text": [
      "\n",
      " chordata_rhinodermatidae:\n",
      "   Kept: 28/30 (93.3%)\n",
      "   Removed: 2\n"
     ]
    },
    {
     "name": "stderr",
     "output_type": "stream",
     "text": [
      "CLIP cleaning:  75%|███████▍  | 151/202 [23:28<06:09,  7.25s/it]"
     ]
    },
    {
     "name": "stdout",
     "output_type": "stream",
     "text": [
      "\n",
      " chordata_rhyacotritonidae:\n",
      "   Kept: 59/60 (98.3%)\n",
      "   Removed: 1\n"
     ]
    },
    {
     "name": "stderr",
     "output_type": "stream",
     "text": [
      "CLIP cleaning:  75%|███████▌  | 152/202 [24:04<13:10, 15.82s/it]"
     ]
    },
    {
     "name": "stdout",
     "output_type": "stream",
     "text": [
      "\n",
      " chordata_salamandridae:\n",
      "   Kept: 270/270 (100.0%)\n",
      "   Removed: 0\n"
     ]
    },
    {
     "name": "stderr",
     "output_type": "stream",
     "text": [
      "CLIP cleaning:  76%|███████▌  | 153/202 [24:08<10:09, 12.43s/it]"
     ]
    },
    {
     "name": "stdout",
     "output_type": "stream",
     "text": [
      "\n",
      " chordata_salmonidae:\n",
      "   Kept: 28/30 (93.3%)\n",
      "   Removed: 2\n"
     ]
    },
    {
     "name": "stderr",
     "output_type": "stream",
     "text": [
      "CLIP cleaning:  76%|███████▌  | 154/202 [24:15<08:34, 10.71s/it]"
     ]
    },
    {
     "name": "stdout",
     "output_type": "stream",
     "text": [
      "\n",
      " chordata_scincidae:\n",
      "   Kept: 30/30 (100.0%)\n",
      "   Removed: 0\n"
     ]
    },
    {
     "name": "stderr",
     "output_type": "stream",
     "text": [
      "CLIP cleaning:  77%|███████▋  | 155/202 [24:21<07:20,  9.36s/it]"
     ]
    },
    {
     "name": "stdout",
     "output_type": "stream",
     "text": [
      "\n",
      " chordata_sciuridae:\n",
      "   Kept: 30/30 (100.0%)\n",
      "   Removed: 0\n"
     ]
    },
    {
     "name": "stderr",
     "output_type": "stream",
     "text": [
      "CLIP cleaning:  77%|███████▋  | 156/202 [24:32<07:31,  9.82s/it]"
     ]
    },
    {
     "name": "stdout",
     "output_type": "stream",
     "text": [
      "\n",
      " chordata_scolopacidae:\n",
      "   Kept: 56/60 (93.3%)\n",
      "   Removed: 4\n"
     ]
    },
    {
     "name": "stderr",
     "output_type": "stream",
     "text": [
      "CLIP cleaning:  78%|███████▊  | 157/202 [24:36<05:59,  7.99s/it]"
     ]
    },
    {
     "name": "stdout",
     "output_type": "stream",
     "text": [
      "\n",
      " chordata_scombridae:\n",
      "   Kept: 30/30 (100.0%)\n",
      "   Removed: 0\n"
     ]
    },
    {
     "name": "stderr",
     "output_type": "stream",
     "text": [
      "CLIP cleaning:  78%|███████▊  | 158/202 [24:49<07:00,  9.55s/it]"
     ]
    },
    {
     "name": "stdout",
     "output_type": "stream",
     "text": [
      "\n",
      " chordata_serranidae:\n",
      "   Kept: 89/90 (98.9%)\n",
      "   Removed: 1\n"
     ]
    },
    {
     "name": "stderr",
     "output_type": "stream",
     "text": [
      "CLIP cleaning:  79%|███████▊  | 159/202 [24:53<05:43,  7.99s/it]"
     ]
    },
    {
     "name": "stdout",
     "output_type": "stream",
     "text": [
      "\n",
      " chordata_siluridae:\n",
      "   Kept: 28/29 (96.6%)\n",
      "   Removed: 1\n"
     ]
    },
    {
     "name": "stderr",
     "output_type": "stream",
     "text": [
      "CLIP cleaning:  79%|███████▉  | 160/202 [24:57<04:42,  6.73s/it]"
     ]
    },
    {
     "name": "stdout",
     "output_type": "stream",
     "text": [
      "\n",
      " chordata_somniosidae:\n",
      "   Kept: 30/30 (100.0%)\n",
      "   Removed: 0\n"
     ]
    },
    {
     "name": "stderr",
     "output_type": "stream",
     "text": [
      "CLIP cleaning:  80%|███████▉  | 161/202 [25:05<04:47,  7.01s/it]"
     ]
    },
    {
     "name": "stdout",
     "output_type": "stream",
     "text": [
      "\n",
      " chordata_soricidae:\n",
      "   Kept: 30/30 (100.0%)\n",
      "   Removed: 0\n"
     ]
    },
    {
     "name": "stderr",
     "output_type": "stream",
     "text": [
      "CLIP cleaning:  80%|████████  | 162/202 [25:13<05:00,  7.51s/it]"
     ]
    },
    {
     "name": "stdout",
     "output_type": "stream",
     "text": [
      "\n",
      " chordata_sparidae:\n",
      "   Kept: 60/60 (100.0%)\n",
      "   Removed: 0\n"
     ]
    },
    {
     "name": "stderr",
     "output_type": "stream",
     "text": [
      "CLIP cleaning:  81%|████████  | 163/202 [25:37<08:01, 12.33s/it]"
     ]
    },
    {
     "name": "stdout",
     "output_type": "stream",
     "text": [
      "\n",
      " chordata_spheniscidae:\n",
      "   Kept: 113/120 (94.2%)\n",
      "   Removed: 7\n"
     ]
    },
    {
     "name": "stderr",
     "output_type": "stream",
     "text": [
      "CLIP cleaning:  81%|████████  | 164/202 [25:51<08:14, 13.01s/it]"
     ]
    },
    {
     "name": "stdout",
     "output_type": "stream",
     "text": [
      "\n",
      " chordata_sphyrnidae:\n",
      "   Kept: 80/89 (89.9%)\n",
      "   Removed: 9\n"
     ]
    },
    {
     "name": "stderr",
     "output_type": "stream",
     "text": [
      "CLIP cleaning:  82%|████████▏ | 165/202 [25:57<06:33, 10.64s/it]"
     ]
    },
    {
     "name": "stdout",
     "output_type": "stream",
     "text": [
      "\n",
      " chordata_squalidae:\n",
      "   Kept: 25/30 (83.3%)\n",
      "   Removed: 5\n"
     ]
    },
    {
     "name": "stderr",
     "output_type": "stream",
     "text": [
      "CLIP cleaning:  82%|████████▏ | 166/202 [26:01<05:12,  8.69s/it]"
     ]
    },
    {
     "name": "stdout",
     "output_type": "stream",
     "text": [
      "\n",
      " chordata_squatinidae:\n",
      "   Kept: 30/30 (100.0%)\n",
      "   Removed: 0\n"
     ]
    },
    {
     "name": "stderr",
     "output_type": "stream",
     "text": [
      "CLIP cleaning:  83%|████████▎ | 167/202 [26:05<04:21,  7.48s/it]"
     ]
    },
    {
     "name": "stdout",
     "output_type": "stream",
     "text": [
      "\n",
      " chordata_strigidae:\n",
      "   Kept: 30/30 (100.0%)\n",
      "   Removed: 0\n"
     ]
    },
    {
     "name": "stderr",
     "output_type": "stream",
     "text": [
      "CLIP cleaning:  83%|████████▎ | 168/202 [26:09<03:39,  6.45s/it]"
     ]
    },
    {
     "name": "stdout",
     "output_type": "stream",
     "text": [
      "\n",
      " chordata_strigopidae:\n",
      "   Kept: 26/30 (86.7%)\n",
      "   Removed: 4\n"
     ]
    },
    {
     "name": "stderr",
     "output_type": "stream",
     "text": [
      "CLIP cleaning:  84%|████████▎ | 169/202 [26:17<03:46,  6.85s/it]"
     ]
    },
    {
     "name": "stdout",
     "output_type": "stream",
     "text": [
      "\n",
      " chordata_syngnathidae:\n",
      "   Kept: 60/60 (100.0%)\n",
      "   Removed: 0\n"
     ]
    },
    {
     "name": "stderr",
     "output_type": "stream",
     "text": [
      "CLIP cleaning:  84%|████████▍ | 170/202 [26:27<04:09,  7.80s/it]"
     ]
    },
    {
     "name": "stdout",
     "output_type": "stream",
     "text": [
      "\n",
      " chordata_testudinidae:\n",
      "   Kept: 59/60 (98.3%)\n",
      "   Removed: 1\n"
     ]
    },
    {
     "name": "stderr",
     "output_type": "stream",
     "text": [
      "CLIP cleaning:  85%|████████▍ | 171/202 [26:39<04:38,  8.99s/it]"
     ]
    },
    {
     "name": "stdout",
     "output_type": "stream",
     "text": [
      "\n",
      " chordata_thraupidae:\n",
      "   Kept: 89/90 (98.9%)\n",
      "   Removed: 1\n"
     ]
    },
    {
     "name": "stderr",
     "output_type": "stream",
     "text": [
      "CLIP cleaning:  85%|████████▌ | 172/202 [26:45<04:00,  8.02s/it]"
     ]
    },
    {
     "name": "stdout",
     "output_type": "stream",
     "text": [
      "\n",
      " chordata_trionychidae:\n",
      "   Kept: 29/30 (96.7%)\n",
      "   Removed: 1\n"
     ]
    },
    {
     "name": "stderr",
     "output_type": "stream",
     "text": [
      "CLIP cleaning:  86%|████████▌ | 173/202 [26:58<04:34,  9.48s/it]"
     ]
    },
    {
     "name": "stdout",
     "output_type": "stream",
     "text": [
      "\n",
      " chordata_trochilidae:\n",
      "   Kept: 86/90 (95.6%)\n",
      "   Removed: 4\n"
     ]
    },
    {
     "name": "stderr",
     "output_type": "stream",
     "text": [
      "CLIP cleaning:  86%|████████▌ | 174/202 [27:01<03:38,  7.80s/it]"
     ]
    },
    {
     "name": "stdout",
     "output_type": "stream",
     "text": [
      "\n",
      " chordata_trogonidae:\n",
      "   Kept: 30/30 (100.0%)\n",
      "   Removed: 0\n"
     ]
    },
    {
     "name": "stderr",
     "output_type": "stream",
     "text": [
      "CLIP cleaning:  87%|████████▋ | 175/202 [27:06<03:03,  6.78s/it]"
     ]
    },
    {
     "name": "stdout",
     "output_type": "stream",
     "text": [
      "\n",
      " chordata_tropiduridae:\n",
      "   Kept: 28/30 (93.3%)\n",
      "   Removed: 2\n"
     ]
    },
    {
     "name": "stderr",
     "output_type": "stream",
     "text": [
      "CLIP cleaning:  87%|████████▋ | 176/202 [27:15<03:13,  7.44s/it]"
     ]
    },
    {
     "name": "stdout",
     "output_type": "stream",
     "text": [
      "\n",
      " chordata_turdidae:\n",
      "   Kept: 58/60 (96.7%)\n",
      "   Removed: 2\n"
     ]
    },
    {
     "name": "stderr",
     "output_type": "stream",
     "text": [
      "CLIP cleaning:  88%|████████▊ | 177/202 [27:19<02:44,  6.57s/it]"
     ]
    },
    {
     "name": "stdout",
     "output_type": "stream",
     "text": [
      "\n",
      " chordata_urolophidae:\n",
      "   Kept: 30/30 (100.0%)\n",
      "   Removed: 0\n"
     ]
    },
    {
     "name": "stderr",
     "output_type": "stream",
     "text": [
      "CLIP cleaning:  88%|████████▊ | 178/202 [27:27<02:46,  6.94s/it]"
     ]
    },
    {
     "name": "stdout",
     "output_type": "stream",
     "text": [
      "\n",
      " chordata_ursidae:\n",
      "   Kept: 55/60 (91.7%)\n",
      "   Removed: 5\n"
     ]
    },
    {
     "name": "stderr",
     "output_type": "stream",
     "text": [
      "CLIP cleaning:  89%|████████▊ | 179/202 [27:31<02:18,  6.03s/it]"
     ]
    },
    {
     "name": "stdout",
     "output_type": "stream",
     "text": [
      "\n",
      " chordata_vangidae:\n",
      "   Kept: 29/29 (100.0%)\n",
      "   Removed: 0\n"
     ]
    },
    {
     "name": "stderr",
     "output_type": "stream",
     "text": [
      "CLIP cleaning:  89%|████████▉ | 180/202 [27:40<02:33,  6.97s/it]"
     ]
    },
    {
     "name": "stdout",
     "output_type": "stream",
     "text": [
      "\n",
      " chordata_vespertilionidae:\n",
      "   Kept: 59/60 (98.3%)\n",
      "   Removed: 1\n"
     ]
    },
    {
     "name": "stderr",
     "output_type": "stream",
     "text": [
      "CLIP cleaning:  90%|████████▉ | 181/202 [27:45<02:14,  6.42s/it]"
     ]
    },
    {
     "name": "stdout",
     "output_type": "stream",
     "text": [
      "\n",
      " chordata_viperidae:\n",
      "   Kept: 29/30 (96.7%)\n",
      "   Removed: 1\n"
     ]
    },
    {
     "name": "stderr",
     "output_type": "stream",
     "text": [
      "CLIP cleaning:  90%|█████████ | 182/202 [27:49<01:50,  5.54s/it]"
     ]
    },
    {
     "name": "stdout",
     "output_type": "stream",
     "text": [
      "\n",
      " chordata_vireonidae:\n",
      "   Kept: 30/30 (100.0%)\n",
      "   Removed: 0\n"
     ]
    },
    {
     "name": "stderr",
     "output_type": "stream",
     "text": [
      "CLIP cleaning:  91%|█████████ | 183/202 [27:54<01:45,  5.53s/it]"
     ]
    },
    {
     "name": "stdout",
     "output_type": "stream",
     "text": [
      "\n",
      " chordata_vombatidae:\n",
      "   Kept: 30/30 (100.0%)\n",
      "   Removed: 0\n"
     ]
    },
    {
     "name": "stderr",
     "output_type": "stream",
     "text": [
      "CLIP cleaning:  91%|█████████ | 184/202 [28:36<04:52, 16.26s/it]"
     ]
    },
    {
     "name": "stdout",
     "output_type": "stream",
     "text": [
      "\n",
      " cnidaria_acroporidae:\n",
      "   Kept: 209/210 (99.5%)\n",
      "   Removed: 1\n"
     ]
    },
    {
     "name": "stderr",
     "output_type": "stream",
     "text": [
      "CLIP cleaning:  92%|█████████▏| 185/202 [28:56<04:55, 17.39s/it]"
     ]
    },
    {
     "name": "stdout",
     "output_type": "stream",
     "text": [
      "\n",
      " cnidaria_agariciidae:\n",
      "   Kept: 120/120 (100.0%)\n",
      "   Removed: 0\n"
     ]
    },
    {
     "name": "stderr",
     "output_type": "stream",
     "text": [
      "CLIP cleaning:  92%|█████████▏| 186/202 [29:00<03:35, 13.45s/it]"
     ]
    },
    {
     "name": "stdout",
     "output_type": "stream",
     "text": [
      "\n",
      " cnidaria_dendrophylliidae:\n",
      "   Kept: 30/30 (100.0%)\n",
      "   Removed: 0\n"
     ]
    },
    {
     "name": "stderr",
     "output_type": "stream",
     "text": [
      "CLIP cleaning:  93%|█████████▎| 187/202 [29:04<02:40, 10.68s/it]"
     ]
    },
    {
     "name": "stdout",
     "output_type": "stream",
     "text": [
      "\n",
      " cnidaria_diploastraeidae:\n",
      "   Kept: 30/30 (100.0%)\n",
      "   Removed: 0\n"
     ]
    },
    {
     "name": "stderr",
     "output_type": "stream",
     "text": [
      "CLIP cleaning:  93%|█████████▎| 188/202 [29:17<02:38, 11.32s/it]"
     ]
    },
    {
     "name": "stdout",
     "output_type": "stream",
     "text": [
      "\n",
      " cnidaria_euphylliidae:\n",
      "   Kept: 90/90 (100.0%)\n",
      "   Removed: 0\n"
     ]
    },
    {
     "name": "stderr",
     "output_type": "stream",
     "text": [
      "CLIP cleaning:  94%|█████████▎| 189/202 [29:28<02:27, 11.36s/it]"
     ]
    },
    {
     "name": "stdout",
     "output_type": "stream",
     "text": [
      "\n",
      " cnidaria_faviidae:\n",
      "   Kept: 60/60 (100.0%)\n",
      "   Removed: 0\n"
     ]
    },
    {
     "name": "stderr",
     "output_type": "stream",
     "text": [
      "CLIP cleaning:  94%|█████████▍| 190/202 [29:33<01:51,  9.30s/it]"
     ]
    },
    {
     "name": "stdout",
     "output_type": "stream",
     "text": [
      "\n",
      " cnidaria_fungiidae:\n",
      "   Kept: 29/30 (96.7%)\n",
      "   Removed: 1\n"
     ]
    },
    {
     "name": "stderr",
     "output_type": "stream",
     "text": [
      "CLIP cleaning:  95%|█████████▍| 191/202 [29:37<01:26,  7.83s/it]"
     ]
    },
    {
     "name": "stdout",
     "output_type": "stream",
     "text": [
      "\n",
      " cnidaria_helioporidae:\n",
      "   Kept: 30/30 (100.0%)\n",
      "   Removed: 0\n"
     ]
    },
    {
     "name": "stderr",
     "output_type": "stream",
     "text": [
      "CLIP cleaning:  95%|█████████▌| 192/202 [29:43<01:10,  7.06s/it]"
     ]
    },
    {
     "name": "stdout",
     "output_type": "stream",
     "text": [
      "\n",
      " cnidaria_lobophylliidae:\n",
      "   Kept: 30/30 (100.0%)\n",
      "   Removed: 0\n"
     ]
    },
    {
     "name": "stderr",
     "output_type": "stream",
     "text": [
      "CLIP cleaning:  96%|█████████▌| 193/202 [29:48<00:58,  6.50s/it]"
     ]
    },
    {
     "name": "stdout",
     "output_type": "stream",
     "text": [
      "\n",
      " cnidaria_meandrinidae:\n",
      "   Kept: 23/30 (76.7%)\n",
      "   Removed: 7\n"
     ]
    },
    {
     "name": "stderr",
     "output_type": "stream",
     "text": [
      "CLIP cleaning:  96%|█████████▌| 194/202 [29:57<00:57,  7.20s/it]"
     ]
    },
    {
     "name": "stdout",
     "output_type": "stream",
     "text": [
      "\n",
      " cnidaria_merulinidae:\n",
      "   Kept: 59/60 (98.3%)\n",
      "   Removed: 1\n"
     ]
    },
    {
     "name": "stderr",
     "output_type": "stream",
     "text": [
      "CLIP cleaning:  97%|█████████▋| 195/202 [30:09<01:01,  8.84s/it]"
     ]
    },
    {
     "name": "stdout",
     "output_type": "stream",
     "text": [
      "\n",
      " cnidaria_pocilloporidae:\n",
      "   Kept: 60/60 (100.0%)\n",
      "   Removed: 0\n"
     ]
    },
    {
     "name": "stderr",
     "output_type": "stream",
     "text": [
      "CLIP cleaning:  97%|█████████▋| 196/202 [30:14<00:45,  7.55s/it]"
     ]
    },
    {
     "name": "stdout",
     "output_type": "stream",
     "text": [
      "\n",
      " cnidaria_siderastreidae:\n",
      "   Kept: 30/30 (100.0%)\n",
      "   Removed: 0\n"
     ]
    },
    {
     "name": "stderr",
     "output_type": "stream",
     "text": [
      "CLIP cleaning:  98%|█████████▊| 197/202 [30:23<00:40,  8.15s/it]"
     ]
    },
    {
     "name": "stdout",
     "output_type": "stream",
     "text": [
      "\n",
      " echinodermata_stichopodidae:\n",
      "   Kept: 58/60 (96.7%)\n",
      "   Removed: 2\n"
     ]
    },
    {
     "name": "stderr",
     "output_type": "stream",
     "text": [
      "CLIP cleaning:  98%|█████████▊| 198/202 [30:34<00:35,  8.84s/it]"
     ]
    },
    {
     "name": "stdout",
     "output_type": "stream",
     "text": [
      "\n",
      " mollusca_cardiidae:\n",
      "   Kept: 59/59 (100.0%)\n",
      "   Removed: 0\n"
     ]
    },
    {
     "name": "stderr",
     "output_type": "stream",
     "text": [
      "CLIP cleaning:  99%|█████████▊| 199/202 [30:37<00:21,  7.15s/it]"
     ]
    },
    {
     "name": "stdout",
     "output_type": "stream",
     "text": [
      "\n",
      " mollusca_conidae:\n",
      "   Kept: 30/30 (100.0%)\n",
      "   Removed: 0\n"
     ]
    },
    {
     "name": "stderr",
     "output_type": "stream",
     "text": [
      "CLIP cleaning:  99%|█████████▉| 200/202 [30:41<00:12,  6.14s/it]"
     ]
    },
    {
     "name": "stdout",
     "output_type": "stream",
     "text": [
      "\n",
      " mollusca_haliotidae:\n",
      "   Kept: 30/30 (100.0%)\n",
      "   Removed: 0\n"
     ]
    },
    {
     "name": "stderr",
     "output_type": "stream",
     "text": [
      "CLIP cleaning: 100%|█████████▉| 201/202 [30:49<00:06,  6.64s/it]"
     ]
    },
    {
     "name": "stdout",
     "output_type": "stream",
     "text": [
      "\n",
      " mollusca_unionidae:\n",
      "   Kept: 60/60 (100.0%)\n",
      "   Removed: 0\n"
     ]
    },
    {
     "name": "stderr",
     "output_type": "stream",
     "text": [
      "CLIP cleaning: 100%|██████████| 202/202 [30:54<00:00,  9.18s/it]"
     ]
    },
    {
     "name": "stdout",
     "output_type": "stream",
     "text": [
      "\n",
      " mollusca_zonitidae:\n",
      "   Kept: 29/30 (96.7%)\n",
      "   Removed: 1\n",
      "\n",
      "===  CLIP + Clustering Complete ===\n",
      " Final images saved to: C:\\Users\\Elcano\\Documents\\NOVA IMS\\2_Semester\\Deep Learning\\Project\\rare_species_final\n",
      " Removed images saved to: C:\\Users\\Elcano\\Documents\\NOVA IMS\\2_Semester\\Deep Learning\\Project\\rare_species_removed\n",
      "\n",
      "📊 Removal Summary Per Family:\n",
      " - arthropoda_apidae: 0 images removed\n",
      " - arthropoda_attelabidae: 1 images removed\n",
      " - arthropoda_carabidae: 1 images removed\n",
      " - arthropoda_cerambycidae: 1 images removed\n",
      " - arthropoda_coenagrionidae: 0 images removed\n",
      " - arthropoda_formicidae: 38 images removed\n",
      " - arthropoda_gomphidae: 0 images removed\n",
      " - arthropoda_lucanidae: 0 images removed\n",
      " - arthropoda_nymphalidae: 0 images removed\n",
      " - arthropoda_palinuridae: 0 images removed\n",
      " - arthropoda_papilionidae: 0 images removed\n",
      " - arthropoda_pisauridae: 1 images removed\n",
      " - arthropoda_platystictidae: 0 images removed\n",
      " - arthropoda_pseudophasmatidae: 1 images removed\n",
      " - arthropoda_tettigoniidae: 2 images removed\n",
      " - arthropoda_theraphosidae: 0 images removed\n",
      " - arthropoda_triopsidae: 0 images removed\n",
      " - chordata_accipitridae: 1 images removed\n",
      " - chordata_acipenseridae: 2 images removed\n",
      " - chordata_agamidae: 1 images removed\n",
      " - chordata_albulidae: 2 images removed\n",
      " - chordata_alcedinidae: 3 images removed\n",
      " - chordata_alligatoridae: 0 images removed\n",
      " - chordata_alopiidae: 3 images removed\n",
      " - chordata_ambystomatidae: 3 images removed\n",
      " - chordata_anatidae: 14 images removed\n",
      " - chordata_anguidae: 0 images removed\n",
      " - chordata_aotidae: 24 images removed\n",
      " - chordata_ardeidae: 0 images removed\n",
      " - chordata_arthroleptidae: 5 images removed\n",
      " - chordata_atelidae: 64 images removed\n",
      " - chordata_balaenicipitidae: 7 images removed\n",
      " - chordata_balaenidae: 3 images removed\n",
      " - chordata_balaenopteridae: 2 images removed\n",
      " - chordata_balistidae: 0 images removed\n",
      " - chordata_bombycillidae: 1 images removed\n",
      " - chordata_bovidae: 6 images removed\n",
      " - chordata_brachypteraciidae: 9 images removed\n",
      " - chordata_bucerotidae: 5 images removed\n",
      " - chordata_bufonidae: 0 images removed\n",
      " - chordata_burhinidae: 0 images removed\n",
      " - chordata_cacatuidae: 6 images removed\n",
      " - chordata_callitrichidae: 35 images removed\n",
      " - chordata_callorhinchidae: 1 images removed\n",
      " - chordata_caprimulgidae: 4 images removed\n",
      " - chordata_carcharhinidae: 2 images removed\n",
      " - chordata_carettochelyidae: 0 images removed\n",
      " - chordata_cebidae: 5 images removed\n",
      " - chordata_cercopithecidae: 1 images removed\n",
      " - chordata_cervidae: 1 images removed\n",
      " - chordata_cetorhinidae: 3 images removed\n",
      " - chordata_chaetodontidae: 0 images removed\n",
      " - chordata_chamaeleonidae: 1 images removed\n",
      " - chordata_charadriidae: 0 images removed\n",
      " - chordata_cheirogaleidae: 0 images removed\n",
      " - chordata_chelidae: 0 images removed\n",
      " - chordata_cheloniidae: 3 images removed\n",
      " - chordata_chelydridae: 4 images removed\n",
      " - chordata_ciconiidae: 3 images removed\n",
      " - chordata_colubridae: 0 images removed\n",
      " - chordata_columbidae: 3 images removed\n",
      " - chordata_cracidae: 0 images removed\n",
      " - chordata_cricetidae: 0 images removed\n",
      " - chordata_crocodylidae: 2 images removed\n",
      " - chordata_cryptobranchidae: 3 images removed\n",
      " - chordata_ctenomyidae: 0 images removed\n",
      " - chordata_cuculidae: 3 images removed\n",
      " - chordata_cyprinodontidae: 0 images removed\n",
      " - chordata_dactyloidae: 0 images removed\n",
      " - chordata_dalatiidae: 0 images removed\n",
      " - chordata_dasyatidae: 4 images removed\n",
      " - chordata_dasypodidae: 1 images removed\n",
      " - chordata_dasyuridae: 2 images removed\n",
      " - chordata_daubentoniidae: 0 images removed\n",
      " - chordata_delphinidae: 3 images removed\n",
      " - chordata_dendrobatidae: 0 images removed\n",
      " - chordata_diomedeidae: 9 images removed\n",
      " - chordata_diplodactylidae: 2 images removed\n",
      " - chordata_elapidae: 2 images removed\n",
      " - chordata_emydidae: 3 images removed\n",
      " - chordata_equidae: 0 images removed\n",
      " - chordata_estrildidae: 0 images removed\n",
      " - chordata_falconidae: 1 images removed\n",
      " - chordata_fringillidae: 0 images removed\n",
      " - chordata_gavialidae: 0 images removed\n",
      " - chordata_gekkonidae: 0 images removed\n",
      " - chordata_geoemydidae: 2 images removed\n",
      " - chordata_giraffidae: 3 images removed\n",
      " - chordata_glareolidae: 2 images removed\n",
      " - chordata_gliridae: 1 images removed\n",
      " - chordata_goodeidae: 0 images removed\n",
      " - chordata_gymnuridae: 0 images removed\n",
      " - chordata_hemiscylliidae: 1 images removed\n",
      " - chordata_hexanchidae: 2 images removed\n",
      " - chordata_hominidae: 5 images removed\n",
      " - chordata_hyaenidae: 3 images removed\n",
      " - chordata_hylobatidae: 38 images removed\n",
      " - chordata_hynobiidae: 0 images removed\n",
      " - chordata_iguanidae: 2 images removed\n",
      " - chordata_indriidae: 0 images removed\n",
      " - chordata_labridae: 0 images removed\n",
      " - chordata_lacertidae: 0 images removed\n",
      " - chordata_lamnidae: 1 images removed\n",
      " - chordata_laridae: 2 images removed\n",
      " - chordata_latimeriidae: 1 images removed\n",
      " - chordata_lemuridae: 1 images removed\n",
      " - chordata_leporidae: 2 images removed\n",
      " - chordata_lutjanidae: 0 images removed\n",
      " - chordata_manidae: 4 images removed\n",
      " - chordata_mantellidae: 2 images removed\n",
      " - chordata_megapodiidae: 2 images removed\n",
      " - chordata_merlucciidae: 0 images removed\n",
      " - chordata_mesitornithidae: 11 images removed\n",
      " - chordata_mimidae: 0 images removed\n",
      " - chordata_motacillidae: 0 images removed\n",
      " - chordata_muscicapidae: 1 images removed\n",
      " - chordata_mustelidae: 1 images removed\n",
      " - chordata_myliobatidae: 0 images removed\n",
      " - chordata_nesospingidae: 10 images removed\n",
      " - chordata_odontophoridae: 0 images removed\n",
      " - chordata_otariidae: 0 images removed\n",
      " - chordata_otididae: 0 images removed\n",
      " - chordata_pangasiidae: 2 images removed\n",
      " - chordata_paradisaeidae: 1 images removed\n",
      " - chordata_pardalotidae: 1 images removed\n",
      " - chordata_parulidae: 0 images removed\n",
      " - chordata_percidae: 0 images removed\n",
      " - chordata_phasianidae: 3 images removed\n",
      " - chordata_phrynosomatidae: 0 images removed\n",
      " - chordata_phyllomedusidae: 0 images removed\n",
      " - chordata_phyllostomidae: 4 images removed\n",
      " - chordata_pittidae: 0 images removed\n",
      " - chordata_plethodontidae: 0 images removed\n",
      " - chordata_pleuronectidae: 0 images removed\n",
      " - chordata_podocnemididae: 0 images removed\n",
      " - chordata_polyprionidae: 4 images removed\n",
      " - chordata_pontoporiidae: 0 images removed\n",
      " - chordata_potoroidae: 0 images removed\n",
      " - chordata_pristidae: 3 images removed\n",
      " - chordata_procellariidae: 3 images removed\n",
      " - chordata_psittacidae: 4 images removed\n",
      " - chordata_psittaculidae: 0 images removed\n",
      " - chordata_pythonidae: 2 images removed\n",
      " - chordata_rajidae: 1 images removed\n",
      " - chordata_rallidae: 0 images removed\n",
      " - chordata_ramphastidae: 1 images removed\n",
      " - chordata_ranidae: 0 images removed\n",
      " - chordata_recurvirostridae: 0 images removed\n",
      " - chordata_rhacophoridae: 0 images removed\n",
      " - chordata_rhinodermatidae: 2 images removed\n",
      " - chordata_rhyacotritonidae: 1 images removed\n",
      " - chordata_salamandridae: 0 images removed\n",
      " - chordata_salmonidae: 2 images removed\n",
      " - chordata_scincidae: 0 images removed\n",
      " - chordata_sciuridae: 0 images removed\n",
      " - chordata_scolopacidae: 4 images removed\n",
      " - chordata_scombridae: 0 images removed\n",
      " - chordata_serranidae: 1 images removed\n",
      " - chordata_siluridae: 1 images removed\n",
      " - chordata_somniosidae: 0 images removed\n",
      " - chordata_soricidae: 0 images removed\n",
      " - chordata_sparidae: 0 images removed\n",
      " - chordata_spheniscidae: 7 images removed\n",
      " - chordata_sphyrnidae: 9 images removed\n",
      " - chordata_squalidae: 5 images removed\n",
      " - chordata_squatinidae: 0 images removed\n",
      " - chordata_strigidae: 0 images removed\n",
      " - chordata_strigopidae: 4 images removed\n",
      " - chordata_syngnathidae: 0 images removed\n",
      " - chordata_testudinidae: 1 images removed\n",
      " - chordata_thraupidae: 1 images removed\n",
      " - chordata_trionychidae: 1 images removed\n",
      " - chordata_trochilidae: 4 images removed\n",
      " - chordata_trogonidae: 0 images removed\n",
      " - chordata_tropiduridae: 2 images removed\n",
      " - chordata_turdidae: 2 images removed\n",
      " - chordata_urolophidae: 0 images removed\n",
      " - chordata_ursidae: 5 images removed\n",
      " - chordata_vangidae: 0 images removed\n",
      " - chordata_vespertilionidae: 1 images removed\n",
      " - chordata_viperidae: 1 images removed\n",
      " - chordata_vireonidae: 0 images removed\n",
      " - chordata_vombatidae: 0 images removed\n",
      " - cnidaria_acroporidae: 1 images removed\n",
      " - cnidaria_agariciidae: 0 images removed\n",
      " - cnidaria_dendrophylliidae: 0 images removed\n",
      " - cnidaria_diploastraeidae: 0 images removed\n",
      " - cnidaria_euphylliidae: 0 images removed\n",
      " - cnidaria_faviidae: 0 images removed\n",
      " - cnidaria_fungiidae: 1 images removed\n",
      " - cnidaria_helioporidae: 0 images removed\n",
      " - cnidaria_lobophylliidae: 0 images removed\n",
      " - cnidaria_meandrinidae: 7 images removed\n",
      " - cnidaria_merulinidae: 1 images removed\n",
      " - cnidaria_pocilloporidae: 0 images removed\n",
      " - cnidaria_siderastreidae: 0 images removed\n",
      " - echinodermata_stichopodidae: 2 images removed\n",
      " - mollusca_cardiidae: 0 images removed\n",
      " - mollusca_conidae: 0 images removed\n",
      " - mollusca_haliotidae: 0 images removed\n",
      " - mollusca_unionidae: 0 images removed\n",
      " - mollusca_zonitidae: 1 images removed\n",
      "\n",
      " Total Removed: 500 / 11972 images\n",
      " Percentage Removed: 4.18%\n"
     ]
    },
    {
     "name": "stderr",
     "output_type": "stream",
     "text": [
      "\n"
     ]
    }
   ],
   "source": [
    "# === Setup ===\n",
    "device = \"cuda\" if torch.cuda.is_available() else \"cpu\"\n",
    "model, preprocess = clip.load(\"ViT-B/32\", device=device)\n",
    "\n",
    "dest_dir = r\"C:\\Users\\Elcano\\Documents\\NOVA IMS\\2_Semester\\Deep Learning\\Project\\rare_species_filtered\"\n",
    "dest_dir_clip = r\"C:\\Users\\Elcano\\Documents\\NOVA IMS\\2_Semester\\Deep Learning\\Project\\rare_species_final\"\n",
    "dest_dir_removed = r\"C:\\Users\\Elcano\\Documents\\NOVA IMS\\2_Semester\\Deep Learning\\Project\\rare_species_removed\"\n",
    "\n",
    "def get_clip_embedding(image_path):\n",
    "    try:\n",
    "        img = Image.open(image_path).convert(\"RGB\")\n",
    "        img_tensor = preprocess(img).unsqueeze(0).to(device)\n",
    "        with torch.no_grad():\n",
    "            return model.encode_image(img_tensor).cpu().numpy()[0]\n",
    "    except Exception as e:\n",
    "        print(f\" Error processing {image_path}: {e}\")\n",
    "        return None\n",
    "\n",
    "# === Track removals\n",
    "removal_counter = defaultdict(int)\n",
    "total_removed = 0\n",
    "total_processed = 0\n",
    "\n",
    "folder_counter = 0\n",
    "for folder in tqdm(os.listdir(dest_dir), desc=\"CLIP cleaning\"):\n",
    "    folder_counter += 1\n",
    "    fpath = os.path.join(dest_dir, folder)\n",
    "    f_keep = os.path.join(dest_dir_clip, folder)\n",
    "    f_rm = os.path.join(dest_dir_removed, folder)\n",
    "    os.makedirs(f_keep, exist_ok=True)\n",
    "    os.makedirs(f_rm, exist_ok=True)\n",
    "\n",
    "    image_paths, embeddings = [], []\n",
    "    for file in os.listdir(fpath):\n",
    "        full_path = os.path.join(fpath, file)\n",
    "        emb = get_clip_embedding(full_path)\n",
    "        if emb is not None:\n",
    "            image_paths.append(full_path)\n",
    "            embeddings.append(emb)\n",
    "\n",
    "    total_processed += len(image_paths)\n",
    "\n",
    "    if len(embeddings) < 3:\n",
    "        for img in image_paths:\n",
    "            shutil.copy2(img, os.path.join(f_keep, os.path.basename(img)))\n",
    "        print(f\"\\n {folder}: Kept all {len(image_paths)} images (too few for clustering)\")\n",
    "        continue\n",
    "\n",
    "    embeddings = np.vstack(embeddings)\n",
    "\n",
    "    # === Clustering with DBSCAN ===\n",
    "    db = DBSCAN(eps=0.3, min_samples=2, metric=\"cosine\").fit(embeddings)\n",
    "    labels = db.labels_\n",
    "\n",
    "    if len(set(labels)) == 1 and -1 in labels:\n",
    "        print(f\"\\n {folder}: All images marked as noise. Keeping all.\")\n",
    "        for img in image_paths:\n",
    "            shutil.copy2(img, os.path.join(f_keep, os.path.basename(img)))\n",
    "        continue\n",
    "\n",
    "    label_counts = Counter(labels)\n",
    "    label_counts.pop(-1, None)\n",
    "    if not label_counts:\n",
    "        print(f\"\\n {folder}: No valid clusters found. Keeping all.\")\n",
    "        for img in image_paths:\n",
    "            shutil.copy2(img, os.path.join(f_keep, os.path.basename(img)))\n",
    "        continue\n",
    "\n",
    "    majority_label = label_counts.most_common(1)[0][0]\n",
    "    kept_files = []\n",
    "    removed_files = []\n",
    "\n",
    "    for i, img_path in enumerate(image_paths):\n",
    "        filename = os.path.basename(img_path)\n",
    "        if labels[i] == majority_label:\n",
    "            shutil.copy2(img_path, os.path.join(f_keep, filename))\n",
    "            kept_files.append(filename)\n",
    "        else:\n",
    "            shutil.copy2(img_path, os.path.join(f_rm, filename))\n",
    "            removed_files.append(filename)\n",
    "\n",
    "    removal_counter[folder] += len(removed_files)\n",
    "    total_removed += len(removed_files)\n",
    "\n",
    "    print(f\"\\n {folder}:\")\n",
    "    print(f\"   Kept: {len(kept_files)}/{len(image_paths)} ({100 * len(kept_files) / len(image_paths):.1f}%)\")\n",
    "    print(f\"   Removed: {len(removed_files)}\")\n",
    "\n",
    "    if folder_counter <= 5:\n",
    "        print(f\"  🔎 Examples:\")\n",
    "        print(f\"    Kept    : {kept_files[:5]}\")\n",
    "        print(f\"    Removed : {removed_files[:5]}\")\n",
    "\n",
    "# === Final Summary ===\n",
    "print(\"\\n===  CLIP + Clustering Complete ===\")\n",
    "print(f\" Final images saved to: {dest_dir_clip}\")\n",
    "print(f\" Removed images saved to: {dest_dir_removed}\")\n",
    "\n",
    "print(\"\\n📊 Removal Summary Per Family:\")\n",
    "for family, removed in removal_counter.items():\n",
    "    print(f\" - {family}: {removed} images removed\")\n",
    "\n",
    "print(f\"\\n Total Removed: {total_removed} / {total_processed} images\")\n",
    "print(f\" Percentage Removed: {100 * total_removed / total_processed:.2f}%\")\n",
    "\n"
   ]
  },
  {
   "cell_type": "markdown",
   "id": "a23a4814",
   "metadata": {},
   "source": [
    "🔹 4. Dataset Split (Balanced)"
   ]
  },
  {
   "cell_type": "code",
   "execution_count": 6,
   "id": "7139b798",
   "metadata": {},
   "outputs": [
    {
     "name": "stdout",
     "output_type": "stream",
     "text": [
      " Stratified 60% sampling and dataset generation complete:\n",
      " - Source folder: C:\\Users\\Elcano\\Documents\\NOVA IMS\\2_Semester\\Deep Learning\\Project\\rare_species_final\n",
      " - Output folder: C:\\Users\\Elcano\\Documents\\NOVA IMS\\2_Semester\\Deep Learning\\Project\\dataset_sample_stratified\n",
      " - Metadata CSV: C:\\Users\\Elcano\\Documents\\NOVA IMS\\2_Semester\\Deep Learning\\Project\\dataset_sample_stratified\\metadata.csv\n",
      " - Total images: 6830\n",
      "   → train: 4781 | val: 1024 | test: 1025\n",
      "\n",
      "🔎 TRAIN SET — Family counts (top 10 shown):\n",
      "family\n",
      "dactyloidae        126\n",
      "cercopithecidae    125\n",
      "salamandridae      113\n",
      "plethodontidae     113\n",
      "carcharhinidae     112\n",
      "formicidae         106\n",
      "bovidae             98\n",
      "acroporidae         87\n",
      "bucerotidae         86\n",
      "diomedeidae         71\n",
      "Name: count, dtype: int64\n",
      "Total families in train: 202\n",
      "\n",
      "🔎 VAL SET — Family counts (top 10 shown):\n",
      "family\n",
      "cercopithecidae    27\n",
      "dactyloidae        27\n",
      "salamandridae      24\n",
      "plethodontidae     24\n",
      "carcharhinidae     24\n",
      "formicidae         22\n",
      "bovidae            21\n",
      "acroporidae        19\n",
      "bucerotidae        18\n",
      "diomedeidae        15\n",
      "Name: count, dtype: int64\n",
      "Total families in val: 202\n",
      "\n",
      "🔎 TEST SET — Family counts (top 10 shown):\n",
      "family\n",
      "cercopithecidae    27\n",
      "dactyloidae        27\n",
      "plethodontidae     25\n",
      "salamandridae      25\n",
      "carcharhinidae     24\n",
      "formicidae         23\n",
      "bovidae            21\n",
      "acroporidae        19\n",
      "bucerotidae        19\n",
      "diomedeidae        16\n",
      "Name: count, dtype: int64\n",
      "Total families in test: 202\n"
     ]
    }
   ],
   "source": [
    "import os\n",
    "import shutil\n",
    "import random\n",
    "import pandas as pd\n",
    "from pathlib import Path\n",
    "from collections import Counter\n",
    "from sklearn.model_selection import train_test_split\n",
    "\n",
    "# === Paths ===\n",
    "source_dir = r\"C:\\Users\\Elcano\\Documents\\NOVA IMS\\2_Semester\\Deep Learning\\Project\\rare_species_final\"\n",
    "base_output_dir = os.path.join(Path(source_dir).parent, \"dataset_sample_stratified\")\n",
    "train_dir = os.path.join(base_output_dir, \"train\")\n",
    "val_dir = os.path.join(base_output_dir, \"val\")\n",
    "test_dir = os.path.join(base_output_dir, \"test\")\n",
    "\n",
    "# === Setup output dirs ===\n",
    "for d in [train_dir, val_dir, test_dir]:\n",
    "    if os.path.exists(d):\n",
    "        shutil.rmtree(d)\n",
    "    os.makedirs(d, exist_ok=True)\n",
    "\n",
    "# === Collect image paths ===\n",
    "image_paths = []\n",
    "labels = []\n",
    "valid_extensions = {'.jpg', '.jpeg', '.png', '.bmp'}\n",
    "\n",
    "for species in os.listdir(source_dir):\n",
    "    species_dir = os.path.join(source_dir, species)\n",
    "    if not os.path.isdir(species_dir):\n",
    "        continue\n",
    "\n",
    "    species_images = [\n",
    "        os.path.join(species_dir, img)\n",
    "        for img in os.listdir(species_dir)\n",
    "        if Path(img).suffix.lower() in valid_extensions\n",
    "    ]\n",
    "\n",
    "    # Sample 60% of images from this species\n",
    "    random.seed(42)\n",
    "    random.shuffle(species_images)\n",
    "    sample_size = int(len(species_images) * 0.6)\n",
    "    sampled_images = species_images[:sample_size]\n",
    "\n",
    "    image_paths.extend(sampled_images)\n",
    "    labels.extend([species] * len(sampled_images))\n",
    "\n",
    "# === Stratified Split (60% sampled, now 70/15/15) ===\n",
    "X_train, X_temp, y_train, y_temp = train_test_split(\n",
    "    image_paths, labels, test_size=0.30, stratify=labels, random_state=42\n",
    ")\n",
    "X_val, X_test, y_val, y_test = train_test_split(\n",
    "    X_temp, y_temp, test_size=0.50, stratify=y_temp, random_state=42\n",
    ")\n",
    "\n",
    "# === Copy files & metadata creation ===\n",
    "def copy_files(X, y, target_dir, split_name, meta_list):\n",
    "    for src, label in zip(X, y):\n",
    "        label_dir = os.path.join(target_dir, label)\n",
    "        os.makedirs(label_dir, exist_ok=True)\n",
    "        dst = os.path.join(label_dir, os.path.basename(src))\n",
    "        shutil.copy2(src, dst)\n",
    "\n",
    "        # Extract phylum and family\n",
    "        if \"_\" in label:\n",
    "            phylum, family = label.split(\"_\", 1)\n",
    "        else:\n",
    "            phylum, family = \"unknown\", label\n",
    "\n",
    "        meta_list.append({\n",
    "            \"file_path\": dst,\n",
    "            \"phylum\": phylum,\n",
    "            \"family\": family,\n",
    "            \"split\": split_name\n",
    "        })\n",
    "\n",
    "metadata_entries = []\n",
    "copy_files(X_train, y_train, train_dir, \"train\", metadata_entries)\n",
    "copy_files(X_val, y_val, val_dir, \"val\", metadata_entries)\n",
    "copy_files(X_test, y_test, test_dir, \"test\", metadata_entries)\n",
    "\n",
    "# === Save metadata ===\n",
    "metadata_df = pd.DataFrame(metadata_entries)\n",
    "metadata_csv_path = os.path.join(base_output_dir, \"metadata.csv\")\n",
    "metadata_df.to_csv(metadata_csv_path, index=False)\n",
    "\n",
    "# === Summary counts ===\n",
    "def count_summary(df, split):\n",
    "    fam_counts = df[df.split == split][\"family\"].value_counts()\n",
    "    print(f\"\\n🔎 {split.upper()} SET — Family counts (top 10 shown):\")\n",
    "    print(fam_counts.head(10))\n",
    "    print(f\"Total families in {split}: {df[df.split == split]['family'].nunique()}\")\n",
    "\n",
    "print(\" Stratified 60% sampling and dataset generation complete:\")\n",
    "print(f\" - Source folder: {source_dir}\")\n",
    "print(f\" - Output folder: {base_output_dir}\")\n",
    "print(f\" - Metadata CSV: {metadata_csv_path}\")\n",
    "print(f\" - Total images: {len(metadata_df)}\")\n",
    "print(f\"   → train: {len(X_train)} | val: {len(X_val)} | test: {len(X_test)}\")\n",
    "\n",
    "# === Print family class balance ===\n",
    "count_summary(metadata_df, \"train\")\n",
    "count_summary(metadata_df, \"val\")\n",
    "count_summary(metadata_df, \"test\")"
   ]
  },
  {
   "cell_type": "markdown",
   "id": "985aa5e9",
   "metadata": {},
   "source": [
    "🔹 5. Sequential Baseline CNN (For Comparison)"
   ]
  },
  {
   "cell_type": "code",
   "execution_count": null,
   "id": "5289fd55",
   "metadata": {},
   "outputs": [
    {
     "name": "stdout",
     "output_type": "stream",
     "text": [
      "Found 4781 images belonging to 202 classes.\n",
      "Found 1024 images belonging to 202 classes.\n",
      "Found 1025 images belonging to 202 classes.\n",
      "\n",
      " Sample Distribution in Training Set:\n",
      " - arthropoda_apidae: 63 images\n",
      " - arthropoda_attelabidae: 12 images\n",
      " - arthropoda_carabidae: 24 images\n",
      " - arthropoda_cerambycidae: 11 images\n",
      " - arthropoda_coenagrionidae: 13 images\n",
      " - arthropoda_formicidae: 106 images\n",
      " - arthropoda_gomphidae: 25 images\n",
      " - arthropoda_lucanidae: 13 images\n",
      " - arthropoda_nymphalidae: 12 images\n",
      " - arthropoda_palinuridae: 13 images\n",
      " - arthropoda_papilionidae: 13 images\n",
      " - arthropoda_pisauridae: 12 images\n",
      " - arthropoda_platystictidae: 13 images\n",
      " - arthropoda_pseudophasmatidae: 12 images\n",
      " - arthropoda_tettigoniidae: 11 images\n",
      " - arthropoda_theraphosidae: 12 images\n",
      " - arthropoda_triopsidae: 13 images\n",
      " - chordata_accipitridae: 49 images\n",
      " - chordata_acipenseridae: 36 images\n",
      " - chordata_agamidae: 24 images\n",
      " - chordata_albulidae: 11 images\n",
      " - chordata_alcedinidae: 11 images\n",
      " - chordata_alligatoridae: 13 images\n",
      " - chordata_alopiidae: 24 images\n",
      " - chordata_ambystomatidae: 24 images\n",
      " - chordata_anatidae: 69 images\n",
      " - chordata_anguidae: 25 images\n",
      " - chordata_aotidae: 15 images\n",
      " - chordata_ardeidae: 25 images\n",
      " - chordata_arthroleptidae: 10 images\n",
      " - chordata_atelidae: 36 images\n",
      " - chordata_balaenicipitidae: 9 images\n",
      " - chordata_balaenidae: 11 images\n",
      " - chordata_balaenopteridae: 11 images\n",
      " - chordata_balistidae: 25 images\n",
      " - chordata_bombycillidae: 12 images\n",
      " - chordata_bovidae: 98 images\n",
      " - chordata_brachypteraciidae: 8 images\n",
      " - chordata_bucerotidae: 86 images\n",
      " - chordata_bufonidae: 63 images\n",
      " - chordata_burhinidae: 25 images\n",
      " - chordata_cacatuidae: 10 images\n",
      " - chordata_callitrichidae: 36 images\n",
      " - chordata_callorhinchidae: 12 images\n",
      " - chordata_caprimulgidae: 10 images\n",
      " - chordata_carcharhinidae: 112 images\n",
      " - chordata_carettochelyidae: 12 images\n",
      " - chordata_cebidae: 36 images\n",
      " - chordata_cercopithecidae: 125 images\n",
      " - chordata_cervidae: 12 images\n",
      " - chordata_cetorhinidae: 11 images\n",
      " - chordata_chaetodontidae: 25 images\n",
      " - chordata_chamaeleonidae: 23 images\n",
      " - chordata_charadriidae: 25 images\n",
      " - chordata_cheirogaleidae: 13 images\n",
      " - chordata_chelidae: 24 images\n",
      " - chordata_cheloniidae: 11 images\n",
      " - chordata_chelydridae: 10 images\n",
      " - chordata_ciconiidae: 36 images\n",
      " - chordata_colubridae: 38 images\n",
      " - chordata_columbidae: 11 images\n",
      " - chordata_cracidae: 25 images\n",
      " - chordata_cricetidae: 13 images\n",
      " - chordata_crocodylidae: 24 images\n",
      " - chordata_cryptobranchidae: 24 images\n",
      " - chordata_ctenomyidae: 13 images\n",
      " - chordata_cuculidae: 11 images\n",
      " - chordata_cyprinodontidae: 13 images\n",
      " - chordata_dactyloidae: 126 images\n",
      " - chordata_dalatiidae: 13 images\n",
      " - chordata_dasyatidae: 61 images\n",
      " - chordata_dasypodidae: 12 images\n",
      " - chordata_dasyuridae: 11 images\n",
      " - chordata_daubentoniidae: 13 images\n",
      " - chordata_delphinidae: 48 images\n",
      " - chordata_dendrobatidae: 13 images\n",
      " - chordata_diomedeidae: 71 images\n",
      " - chordata_diplodactylidae: 24 images\n",
      " - chordata_elapidae: 11 images\n",
      " - chordata_emydidae: 24 images\n",
      " - chordata_equidae: 13 images\n",
      " - chordata_estrildidae: 13 images\n",
      " - chordata_falconidae: 24 images\n",
      " - chordata_fringillidae: 25 images\n",
      " - chordata_gavialidae: 13 images\n",
      " - chordata_gekkonidae: 13 images\n",
      " - chordata_geoemydidae: 36 images\n",
      " - chordata_giraffidae: 10 images\n",
      " - chordata_glareolidae: 11 images\n",
      " - chordata_gliridae: 12 images\n",
      " - chordata_goodeidae: 12 images\n",
      " - chordata_gymnuridae: 13 images\n",
      " - chordata_hemiscylliidae: 12 images\n",
      " - chordata_hexanchidae: 24 images\n",
      " - chordata_hominidae: 10 images\n",
      " - chordata_hyaenidae: 11 images\n",
      " - chordata_hylobatidae: 22 images\n",
      " - chordata_hynobiidae: 13 images\n",
      " - chordata_iguanidae: 49 images\n",
      " - chordata_indriidae: 13 images\n",
      " - chordata_labridae: 25 images\n",
      " - chordata_lacertidae: 25 images\n",
      " - chordata_lamnidae: 12 images\n",
      " - chordata_laridae: 62 images\n",
      " - chordata_latimeriidae: 12 images\n",
      " - chordata_lemuridae: 24 images\n",
      " - chordata_leporidae: 24 images\n",
      " - chordata_lutjanidae: 13 images\n",
      " - chordata_manidae: 23 images\n",
      " - chordata_mantellidae: 11 images\n",
      " - chordata_megapodiidae: 11 images\n",
      " - chordata_merlucciidae: 13 images\n",
      " - chordata_mesitornithidae: 8 images\n",
      " - chordata_mimidae: 13 images\n",
      " - chordata_motacillidae: 13 images\n",
      " - chordata_muscicapidae: 12 images\n",
      " - chordata_mustelidae: 37 images\n",
      " - chordata_myliobatidae: 38 images\n",
      " - chordata_nesospingidae: 8 images\n",
      " - chordata_odontophoridae: 13 images\n",
      " - chordata_otariidae: 25 images\n",
      " - chordata_otididae: 13 images\n",
      " - chordata_pangasiidae: 11 images\n",
      " - chordata_paradisaeidae: 12 images\n",
      " - chordata_pardalotidae: 12 images\n",
      " - chordata_parulidae: 13 images\n",
      " - chordata_percidae: 13 images\n",
      " - chordata_phasianidae: 10 images\n",
      " - chordata_phrynosomatidae: 13 images\n",
      " - chordata_phyllomedusidae: 13 images\n",
      " - chordata_phyllostomidae: 10 images\n",
      " - chordata_pittidae: 13 images\n",
      " - chordata_plethodontidae: 113 images\n",
      " - chordata_pleuronectidae: 13 images\n",
      " - chordata_podocnemididae: 12 images\n",
      " - chordata_polyprionidae: 10 images\n",
      " - chordata_pontoporiidae: 13 images\n",
      " - chordata_potoroidae: 13 images\n",
      " - chordata_pristidae: 11 images\n",
      " - chordata_procellariidae: 36 images\n",
      " - chordata_psittacidae: 48 images\n",
      " - chordata_psittaculidae: 25 images\n",
      " - chordata_pythonidae: 24 images\n",
      " - chordata_rajidae: 37 images\n",
      " - chordata_rallidae: 13 images\n",
      " - chordata_ramphastidae: 12 images\n",
      " - chordata_ranidae: 38 images\n",
      " - chordata_recurvirostridae: 13 images\n",
      " - chordata_rhacophoridae: 25 images\n",
      " - chordata_rhinodermatidae: 11 images\n",
      " - chordata_rhyacotritonidae: 24 images\n",
      " - chordata_salamandridae: 113 images\n",
      " - chordata_salmonidae: 11 images\n",
      " - chordata_scincidae: 13 images\n",
      " - chordata_sciuridae: 13 images\n",
      " - chordata_scolopacidae: 23 images\n",
      " - chordata_scombridae: 13 images\n",
      " - chordata_serranidae: 37 images\n",
      " - chordata_siluridae: 11 images\n",
      " - chordata_somniosidae: 13 images\n",
      " - chordata_soricidae: 13 images\n",
      " - chordata_sparidae: 25 images\n",
      " - chordata_spheniscidae: 47 images\n",
      " - chordata_sphyrnidae: 34 images\n",
      " - chordata_squalidae: 10 images\n",
      " - chordata_squatinidae: 13 images\n",
      " - chordata_strigidae: 13 images\n",
      " - chordata_strigopidae: 10 images\n",
      " - chordata_syngnathidae: 25 images\n",
      " - chordata_testudinidae: 24 images\n",
      " - chordata_thraupidae: 37 images\n",
      " - chordata_trionychidae: 12 images\n",
      " - chordata_trochilidae: 36 images\n",
      " - chordata_trogonidae: 13 images\n",
      " - chordata_tropiduridae: 11 images\n",
      " - chordata_turdidae: 24 images\n",
      " - chordata_urolophidae: 13 images\n",
      " - chordata_ursidae: 23 images\n",
      " - chordata_vangidae: 12 images\n",
      " - chordata_vespertilionidae: 24 images\n",
      " - chordata_viperidae: 12 images\n",
      " - chordata_vireonidae: 12 images\n",
      " - chordata_vombatidae: 12 images\n",
      " - cnidaria_acroporidae: 87 images\n",
      " - cnidaria_agariciidae: 50 images\n",
      " - cnidaria_dendrophylliidae: 13 images\n",
      " - cnidaria_diploastraeidae: 13 images\n",
      " - cnidaria_euphylliidae: 38 images\n",
      " - cnidaria_faviidae: 25 images\n",
      " - cnidaria_fungiidae: 12 images\n",
      " - cnidaria_helioporidae: 12 images\n",
      " - cnidaria_lobophylliidae: 13 images\n",
      " - cnidaria_meandrinidae: 9 images\n",
      " - cnidaria_merulinidae: 24 images\n",
      " - cnidaria_pocilloporidae: 25 images\n",
      " - cnidaria_siderastreidae: 12 images\n",
      " - echinodermata_stichopodidae: 24 images\n",
      " - mollusca_cardiidae: 24 images\n",
      " - mollusca_conidae: 13 images\n",
      " - mollusca_haliotidae: 13 images\n",
      " - mollusca_unionidae: 25 images\n",
      " - mollusca_zonitidae: 12 images\n"
     ]
    }
   ],
   "source": [
    "from tensorflow.keras.preprocessing.image import ImageDataGenerator\n",
    "from sklearn.utils.class_weight import compute_class_weight\n",
    "import numpy as np\n",
    "\n",
    "# ===== Configuration =====\n",
    "IMG_SIZE = (224, 224)\n",
    "BATCH_SIZE = 64\n",
    "EPOCHS = 50\n",
    "INIT_LR = 5e-5\n",
    "MIN_LR = 1e-6\n",
    "\n",
    "# ===== Data Augmentation: Controlled for Better Generalization =====\n",
    "train_datagen = ImageDataGenerator(\n",
    "    rescale=1.0 / 255,\n",
    "    rotation_range=20,\n",
    "    width_shift_range=0.1,\n",
    "    height_shift_range=0.1,\n",
    "    zoom_range=0.1,\n",
    "    horizontal_flip=True,\n",
    "    fill_mode='reflect'\n",
    ")\n",
    "\n",
    "val_datagen = ImageDataGenerator(rescale=1.0 / 255)\n",
    "\n",
    "# ===== Paths =====\n",
    "train_dir = r\"C:\\Users\\Elcano\\Documents\\NOVA IMS\\2_Semester\\Deep Learning\\Project\\dataset_sample_stratified\\train\"\n",
    "val_dir = r\"C:\\Users\\Elcano\\Documents\\NOVA IMS\\2_Semester\\Deep Learning\\Project\\dataset_sample_stratified\\val\"\n",
    "test_dir = r\"C:\\Users\\Elcano\\Documents\\NOVA IMS\\2_Semester\\Deep Learning\\Project\\dataset_sample_stratified\\test\"\n",
    "\n",
    "# ===== Data Generators =====\n",
    "train_generator = train_datagen.flow_from_directory(\n",
    "    directory=train_dir,\n",
    "    target_size=IMG_SIZE,\n",
    "    batch_size=BATCH_SIZE,\n",
    "    class_mode='categorical',\n",
    "    shuffle=True,\n",
    "    seed=42\n",
    ")\n",
    "\n",
    "validation_generator = val_datagen.flow_from_directory(\n",
    "    directory=val_dir,\n",
    "    target_size=IMG_SIZE,\n",
    "    batch_size=BATCH_SIZE,\n",
    "    class_mode='categorical',\n",
    "    shuffle=False\n",
    ")\n",
    "\n",
    "test_generator = val_datagen.flow_from_directory(\n",
    "    directory=test_dir,\n",
    "    target_size=IMG_SIZE,\n",
    "    batch_size=BATCH_SIZE,\n",
    "    class_mode='categorical',\n",
    "    shuffle=False\n",
    ")\n",
    "\n",
    "# ===== Class Weights for Balanced Training =====\n",
    "class_weights = compute_class_weight(\n",
    "    class_weight='balanced',\n",
    "    classes=np.unique(train_generator.classes),\n",
    "    y=train_generator.classes\n",
    ")\n",
    "class_weights_dict = dict(enumerate(class_weights))\n",
    "\n",
    "# Optional: Check dataset balance\n",
    "print(\"\\n Sample Distribution in Training Set:\")\n",
    "unique, counts = np.unique(train_generator.classes, return_counts=True)\n",
    "for label, count in zip(unique, counts):\n",
    "    class_name = list(train_generator.class_indices.keys())[label]\n",
    "    print(f\" - {class_name}: {count} images\")"
   ]
  },
  {
   "cell_type": "markdown",
   "id": "224fa226",
   "metadata": {},
   "source": [
    "- Block 1 uses strides=2 instead of max pooling for aggressive downsampling.\n",
    "- Other blocks use padding='same' to preserve spatial info deeper in the network.\n",
    "- Dropout gradually increases, and L2 regularization is applied throughout."
   ]
  },
  {
   "cell_type": "code",
   "execution_count": 8,
   "id": "d7727614",
   "metadata": {},
   "outputs": [
    {
     "name": "stdout",
     "output_type": "stream",
     "text": [
      "Model: \"sequential\"\n",
      "_________________________________________________________________\n",
      " Layer (type)                Output Shape              Param #   \n",
      "=================================================================\n",
      " conv2d (Conv2D)             (None, 224, 224, 64)      1792      \n",
      "                                                                 \n",
      " batch_normalization (BatchN  (None, 224, 224, 64)     256       \n",
      " ormalization)                                                   \n",
      "                                                                 \n",
      " activation (Activation)     (None, 224, 224, 64)      0         \n",
      "                                                                 \n",
      " max_pooling2d (MaxPooling2D  (None, 112, 112, 64)     0         \n",
      " )                                                               \n",
      "                                                                 \n",
      " dropout (Dropout)           (None, 112, 112, 64)      0         \n",
      "                                                                 \n",
      " conv2d_1 (Conv2D)           (None, 112, 112, 128)     73856     \n",
      "                                                                 \n",
      " batch_normalization_1 (Batc  (None, 112, 112, 128)    512       \n",
      " hNormalization)                                                 \n",
      "                                                                 \n",
      " activation_1 (Activation)   (None, 112, 112, 128)     0         \n",
      "                                                                 \n",
      " conv2d_2 (Conv2D)           (None, 112, 112, 128)     147584    \n",
      "                                                                 \n",
      " batch_normalization_2 (Batc  (None, 112, 112, 128)    512       \n",
      " hNormalization)                                                 \n",
      "                                                                 \n",
      " activation_2 (Activation)   (None, 112, 112, 128)     0         \n",
      "                                                                 \n",
      " max_pooling2d_1 (MaxPooling  (None, 56, 56, 128)      0         \n",
      " 2D)                                                             \n",
      "                                                                 \n",
      " dropout_1 (Dropout)         (None, 56, 56, 128)       0         \n",
      "                                                                 \n",
      " conv2d_3 (Conv2D)           (None, 56, 56, 256)       295168    \n",
      "                                                                 \n",
      " batch_normalization_3 (Batc  (None, 56, 56, 256)      1024      \n",
      " hNormalization)                                                 \n",
      "                                                                 \n",
      " activation_3 (Activation)   (None, 56, 56, 256)       0         \n",
      "                                                                 \n",
      " max_pooling2d_2 (MaxPooling  (None, 28, 28, 256)      0         \n",
      " 2D)                                                             \n",
      "                                                                 \n",
      " dropout_2 (Dropout)         (None, 28, 28, 256)       0         \n",
      "                                                                 \n",
      " conv2d_4 (Conv2D)           (None, 28, 28, 512)       1180160   \n",
      "                                                                 \n",
      " batch_normalization_4 (Batc  (None, 28, 28, 512)      2048      \n",
      " hNormalization)                                                 \n",
      "                                                                 \n",
      " activation_4 (Activation)   (None, 28, 28, 512)       0         \n",
      "                                                                 \n",
      " max_pooling2d_3 (MaxPooling  (None, 14, 14, 512)      0         \n",
      " 2D)                                                             \n",
      "                                                                 \n",
      " dropout_3 (Dropout)         (None, 14, 14, 512)       0         \n",
      "                                                                 \n",
      " conv2d_5 (Conv2D)           (None, 14, 14, 512)       2359808   \n",
      "                                                                 \n",
      " batch_normalization_5 (Batc  (None, 14, 14, 512)      2048      \n",
      " hNormalization)                                                 \n",
      "                                                                 \n",
      " activation_5 (Activation)   (None, 14, 14, 512)       0         \n",
      "                                                                 \n",
      " global_average_pooling2d (G  (None, 512)              0         \n",
      " lobalAveragePooling2D)                                          \n",
      "                                                                 \n",
      " dropout_4 (Dropout)         (None, 512)               0         \n",
      "                                                                 \n",
      " dense (Dense)               (None, 512)               262656    \n",
      "                                                                 \n",
      " batch_normalization_6 (Batc  (None, 512)              2048      \n",
      " hNormalization)                                                 \n",
      "                                                                 \n",
      " activation_6 (Activation)   (None, 512)               0         \n",
      "                                                                 \n",
      " dropout_5 (Dropout)         (None, 512)               0         \n",
      "                                                                 \n",
      " dense_1 (Dense)             (None, 128)               65664     \n",
      "                                                                 \n",
      " batch_normalization_7 (Batc  (None, 128)              512       \n",
      " hNormalization)                                                 \n",
      "                                                                 \n",
      " activation_7 (Activation)   (None, 128)               0         \n",
      "                                                                 \n",
      " dropout_6 (Dropout)         (None, 128)               0         \n",
      "                                                                 \n",
      " dense_2 (Dense)             (None, 202)               26058     \n",
      "                                                                 \n",
      "=================================================================\n",
      "Total params: 4,421,706\n",
      "Trainable params: 4,417,226\n",
      "Non-trainable params: 4,480\n",
      "_________________________________________________________________\n"
     ]
    }
   ],
   "source": [
    "from tensorflow.keras import layers, models, regularizers\n",
    "\n",
    "def build_sequential_model(input_shape=(224, 224, 3), num_classes=202):\n",
    "    l2 = regularizers.l2(0.0005)\n",
    "\n",
    "    model = models.Sequential([\n",
    "        layers.Input(shape=input_shape),\n",
    "\n",
    "        # Block 1\n",
    "        layers.Conv2D(64, (3, 3), padding='same', kernel_regularizer=l2),\n",
    "        layers.BatchNormalization(),\n",
    "        layers.Activation('relu'),\n",
    "        layers.MaxPooling2D((2, 2)),\n",
    "        layers.Dropout(0.1),\n",
    "\n",
    "        # Block 2 (2x Conv2D like Functional)\n",
    "        layers.Conv2D(128, (3, 3), padding='same', kernel_regularizer=l2),\n",
    "        layers.BatchNormalization(),\n",
    "        layers.Activation('relu'),\n",
    "        layers.Conv2D(128, (3, 3), padding='same', kernel_regularizer=l2),\n",
    "        layers.BatchNormalization(),\n",
    "        layers.Activation('relu'),\n",
    "        layers.MaxPooling2D((2, 2)),\n",
    "        layers.Dropout(0.2),\n",
    "\n",
    "        # Block 3\n",
    "        layers.Conv2D(256, (3, 3), padding='same', kernel_regularizer=l2),\n",
    "        layers.BatchNormalization(),\n",
    "        layers.Activation('relu'),\n",
    "        layers.MaxPooling2D((2, 2)),\n",
    "        layers.Dropout(0.3),\n",
    "\n",
    "        # Block 4\n",
    "        layers.Conv2D(512, (3, 3), padding='same', kernel_regularizer=l2),\n",
    "        layers.BatchNormalization(),\n",
    "        layers.Activation('relu'),\n",
    "        layers.MaxPooling2D((2, 2)),\n",
    "        layers.Dropout(0.4),\n",
    "\n",
    "        # Block 5\n",
    "        layers.Conv2D(512, (3, 3), padding='same', kernel_regularizer=l2),\n",
    "        layers.BatchNormalization(),\n",
    "        layers.Activation('relu'),\n",
    "        layers.GlobalAveragePooling2D(),\n",
    "        layers.Dropout(0.4),\n",
    "\n",
    "        # Dense Classifier Head\n",
    "        layers.Dense(512, kernel_regularizer=l2),\n",
    "        layers.BatchNormalization(),\n",
    "        layers.Activation('relu'),\n",
    "        layers.Dropout(0.5),\n",
    "\n",
    "        layers.Dense(128, kernel_regularizer=l2),\n",
    "        layers.BatchNormalization(),\n",
    "        layers.Activation('relu'),\n",
    "        layers.Dropout(0.3),\n",
    "\n",
    "        # Output\n",
    "        layers.Dense(num_classes, activation='softmax')\n",
    "    ])\n",
    "\n",
    "    return model\n",
    "# Build model\n",
    "num_classes = train_generator.num_classes\n",
    "model = build_sequential_model(input_shape=(*IMG_SIZE, 3), num_classes=num_classes)\n",
    "\n",
    "# Print Summary\n",
    "model.summary()"
   ]
  },
  {
   "cell_type": "code",
   "execution_count": 9,
   "id": "a823ecc7",
   "metadata": {},
   "outputs": [],
   "source": [
    "# Optimizer\n",
    "optimizer = optimizers.Adam(\n",
    "    learning_rate=INIT_LR,\n",
    "    beta_1=0.9,\n",
    "    beta_2=0.999,\n",
    "    epsilon=1e-07,\n",
    "    amsgrad=False\n",
    ")"
   ]
  },
  {
   "cell_type": "code",
   "execution_count": 10,
   "id": "763f9241",
   "metadata": {},
   "outputs": [],
   "source": [
    "# Callbacks\n",
    "\n",
    "callbacks = [\n",
    "    EarlyStopping(\n",
    "        monitor='val_accuracy',\n",
    "        patience=10,\n",
    "        restore_best_weights=True,\n",
    "        verbose=1\n",
    "    ),\n",
    "    ModelCheckpoint(\n",
    "        'best_model.h5',\n",
    "        monitor='val_accuracy',\n",
    "        save_best_only=True,\n",
    "        save_weights_only=False,\n",
    "        mode='max',\n",
    "        verbose=1\n",
    "    ),\n",
    "    ReduceLROnPlateau(\n",
    "        monitor='val_accuracy',\n",
    "        factor=0.5,\n",
    "        patience=5,\n",
    "        min_lr=MIN_LR,\n",
    "        verbose=1\n",
    "    ),\n",
    "    tf.keras.callbacks.TensorBoard(log_dir='./logs')\n",
    "]"
   ]
  },
  {
   "cell_type": "code",
   "execution_count": 11,
   "id": "91789625",
   "metadata": {},
   "outputs": [],
   "source": [
    "from tensorflow.keras.metrics import CategoricalAccuracy\n",
    "\n",
    "# === Define Metrics ===\n",
    "categorical_accuracy = CategoricalAccuracy(name=\"accuracy\")\n",
    "\n",
    "# === Compile Model ===\n",
    "model.compile(\n",
    "    optimizer=optimizer,\n",
    "    loss='categorical_crossentropy',\n",
    "    metrics=[categorical_accuracy]\n",
    ")"
   ]
  },
  {
   "cell_type": "code",
   "execution_count": 12,
   "id": "2a1d8b10",
   "metadata": {},
   "outputs": [
    {
     "name": "stdout",
     "output_type": "stream",
     "text": [
      "Epoch 1/50\n",
      "74/74 [==============================] - ETA: 0s - loss: 6.5291 - accuracy: 0.0070\n",
      "Epoch 1: val_accuracy improved from -inf to 0.00293, saving model to best_model.h5\n",
      "74/74 [==============================] - 784s 11s/step - loss: 6.5291 - accuracy: 0.0070 - val_loss: 6.2984 - val_accuracy: 0.0029 - lr: 5.0000e-05\n",
      "Epoch 2/50\n",
      "74/74 [==============================] - ETA: 0s - loss: 6.4596 - accuracy: 0.0085\n",
      "Epoch 2: val_accuracy did not improve from 0.00293\n",
      "74/74 [==============================] - 735s 10s/step - loss: 6.4596 - accuracy: 0.0085 - val_loss: 6.3133 - val_accuracy: 0.0020 - lr: 5.0000e-05\n",
      "Epoch 3/50\n",
      "74/74 [==============================] - ETA: 0s - loss: 6.4289 - accuracy: 0.0078\n",
      "Epoch 3: val_accuracy did not improve from 0.00293\n",
      "74/74 [==============================] - 731s 10s/step - loss: 6.4289 - accuracy: 0.0078 - val_loss: 6.3182 - val_accuracy: 0.0029 - lr: 5.0000e-05\n",
      "Epoch 4/50\n",
      "74/74 [==============================] - ETA: 0s - loss: 6.3625 - accuracy: 0.0087\n",
      "Epoch 4: val_accuracy did not improve from 0.00293\n",
      "74/74 [==============================] - 733s 10s/step - loss: 6.3625 - accuracy: 0.0087 - val_loss: 6.3233 - val_accuracy: 0.0029 - lr: 5.0000e-05\n",
      "Epoch 5/50\n",
      "74/74 [==============================] - ETA: 0s - loss: 6.3244 - accuracy: 0.0081\n",
      "Epoch 5: val_accuracy improved from 0.00293 to 0.00391, saving model to best_model.h5\n",
      "74/74 [==============================] - 727s 10s/step - loss: 6.3244 - accuracy: 0.0081 - val_loss: 6.3161 - val_accuracy: 0.0039 - lr: 5.0000e-05\n",
      "Epoch 6/50\n",
      "74/74 [==============================] - ETA: 0s - loss: 6.3064 - accuracy: 0.0098\n",
      "Epoch 6: val_accuracy improved from 0.00391 to 0.00488, saving model to best_model.h5\n",
      "74/74 [==============================] - 726s 10s/step - loss: 6.3064 - accuracy: 0.0098 - val_loss: 6.3064 - val_accuracy: 0.0049 - lr: 5.0000e-05\n",
      "Epoch 7/50\n",
      "74/74 [==============================] - ETA: 0s - loss: 6.2791 - accuracy: 0.0070\n",
      "Epoch 7: val_accuracy improved from 0.00488 to 0.00684, saving model to best_model.h5\n",
      "74/74 [==============================] - 729s 10s/step - loss: 6.2791 - accuracy: 0.0070 - val_loss: 6.2728 - val_accuracy: 0.0068 - lr: 5.0000e-05\n",
      "Epoch 8/50\n",
      "74/74 [==============================] - ETA: 0s - loss: 6.2783 - accuracy: 0.0106\n",
      "Epoch 8: val_accuracy did not improve from 0.00684\n",
      "74/74 [==============================] - 726s 10s/step - loss: 6.2783 - accuracy: 0.0106 - val_loss: 6.2412 - val_accuracy: 0.0068 - lr: 5.0000e-05\n",
      "Epoch 9/50\n",
      "74/74 [==============================] - ETA: 0s - loss: 6.2553 - accuracy: 0.0140\n",
      "Epoch 9: val_accuracy improved from 0.00684 to 0.01074, saving model to best_model.h5\n",
      "74/74 [==============================] - 730s 10s/step - loss: 6.2553 - accuracy: 0.0140 - val_loss: 6.2225 - val_accuracy: 0.0107 - lr: 5.0000e-05\n",
      "Epoch 10/50\n",
      "74/74 [==============================] - ETA: 0s - loss: 6.2263 - accuracy: 0.0114\n",
      "Epoch 10: val_accuracy did not improve from 0.01074\n",
      "74/74 [==============================] - 726s 10s/step - loss: 6.2263 - accuracy: 0.0114 - val_loss: 6.2104 - val_accuracy: 0.0078 - lr: 5.0000e-05\n",
      "Epoch 11/50\n",
      "74/74 [==============================] - ETA: 0s - loss: 6.1878 - accuracy: 0.0157\n",
      "Epoch 11: val_accuracy did not improve from 0.01074\n",
      "74/74 [==============================] - 727s 10s/step - loss: 6.1878 - accuracy: 0.0157 - val_loss: 6.1940 - val_accuracy: 0.0039 - lr: 5.0000e-05\n",
      "Epoch 12/50\n",
      "74/74 [==============================] - ETA: 0s - loss: 6.1828 - accuracy: 0.0174\n",
      "Epoch 12: val_accuracy did not improve from 0.01074\n",
      "74/74 [==============================] - 726s 10s/step - loss: 6.1828 - accuracy: 0.0174 - val_loss: 6.1714 - val_accuracy: 0.0088 - lr: 5.0000e-05\n",
      "Epoch 13/50\n",
      "74/74 [==============================] - ETA: 0s - loss: 6.1670 - accuracy: 0.0191\n",
      "Epoch 13: val_accuracy did not improve from 0.01074\n",
      "74/74 [==============================] - 724s 10s/step - loss: 6.1670 - accuracy: 0.0191 - val_loss: 6.1616 - val_accuracy: 0.0107 - lr: 5.0000e-05\n",
      "Epoch 14/50\n",
      "74/74 [==============================] - ETA: 0s - loss: 6.1254 - accuracy: 0.0187\n",
      "Epoch 14: val_accuracy did not improve from 0.01074\n",
      "\n",
      "Epoch 14: ReduceLROnPlateau reducing learning rate to 2.499999936844688e-05.\n",
      "74/74 [==============================] - 724s 10s/step - loss: 6.1254 - accuracy: 0.0187 - val_loss: 6.1514 - val_accuracy: 0.0107 - lr: 5.0000e-05\n",
      "Epoch 15/50\n",
      "74/74 [==============================] - ETA: 0s - loss: 6.1219 - accuracy: 0.0195\n",
      "Epoch 15: val_accuracy did not improve from 0.01074\n",
      "74/74 [==============================] - 727s 10s/step - loss: 6.1219 - accuracy: 0.0195 - val_loss: 6.1515 - val_accuracy: 0.0098 - lr: 2.5000e-05\n",
      "Epoch 16/50\n",
      "74/74 [==============================] - ETA: 0s - loss: 6.0952 - accuracy: 0.0208\n",
      "Epoch 16: val_accuracy did not improve from 0.01074\n",
      "74/74 [==============================] - 727s 10s/step - loss: 6.0952 - accuracy: 0.0208 - val_loss: 6.1537 - val_accuracy: 0.0078 - lr: 2.5000e-05\n",
      "Epoch 17/50\n",
      "74/74 [==============================] - ETA: 0s - loss: 6.0798 - accuracy: 0.0278\n",
      "Epoch 17: val_accuracy did not improve from 0.01074\n",
      "74/74 [==============================] - 724s 10s/step - loss: 6.0798 - accuracy: 0.0278 - val_loss: 6.1457 - val_accuracy: 0.0088 - lr: 2.5000e-05\n",
      "Epoch 18/50\n",
      "74/74 [==============================] - ETA: 0s - loss: 6.0765 - accuracy: 0.0223\n",
      "Epoch 18: val_accuracy did not improve from 0.01074\n",
      "74/74 [==============================] - 726s 10s/step - loss: 6.0765 - accuracy: 0.0223 - val_loss: 6.1604 - val_accuracy: 0.0088 - lr: 2.5000e-05\n",
      "Epoch 19/50\n",
      "74/74 [==============================] - ETA: 0s - loss: 6.0570 - accuracy: 0.0237Restoring model weights from the end of the best epoch: 9.\n",
      "\n",
      "Epoch 19: val_accuracy did not improve from 0.01074\n",
      "\n",
      "Epoch 19: ReduceLROnPlateau reducing learning rate to 1.249999968422344e-05.\n",
      "74/74 [==============================] - 726s 10s/step - loss: 6.0570 - accuracy: 0.0237 - val_loss: 6.1494 - val_accuracy: 0.0098 - lr: 2.5000e-05\n",
      "Epoch 19: early stopping\n"
     ]
    }
   ],
   "source": [
    "# Training\n",
    "history = model.fit(\n",
    "    train_generator,\n",
    "    steps_per_epoch=train_generator.samples // BATCH_SIZE,\n",
    "    validation_data=validation_generator,\n",
    "    validation_steps=validation_generator.samples // BATCH_SIZE,\n",
    "    epochs=EPOCHS,\n",
    "    callbacks=callbacks,\n",
    "    class_weight=class_weights_dict,\n",
    "    verbose=1\n",
    ")"
   ]
  },
  {
   "cell_type": "code",
   "execution_count": 13,
   "id": "dc68f999",
   "metadata": {},
   "outputs": [
    {
     "name": "stdout",
     "output_type": "stream",
     "text": [
      "Available history keys: dict_keys(['loss', 'accuracy', 'val_loss', 'val_accuracy', 'lr'])\n"
     ]
    },
    {
     "data": {
      "image/png": "[encoded data removed]",
      "text/plain": [
       "<Figure size 800x600 with 1 Axes>"
      ]
     },
     "metadata": {},
     "output_type": "display_data"
    },
    {
     "data": {
      "image/png": "[encoded data removed]",
      "text/plain": [
       "<Figure size 800x600 with 1 Axes>"
      ]
     },
     "metadata": {},
     "output_type": "display_data"
    }
   ],
   "source": [
    "# Check what's available\n",
    "print(\"Available history keys:\", history.history.keys())\n",
    "\n",
    "# Use exact metric keys\n",
    "acc = history.history.get('accuracy') or history.history.get('categorical_accuracy')\n",
    "val_acc = history.history.get('val_accuracy') or history.history.get('val_categorical_accuracy')\n",
    "loss = history.history['loss']\n",
    "val_loss = history.history['val_loss']\n",
    "\n",
    "# Optional: If you computed macro F1 during training (custom callback), include it\n",
    "macro_f1 = history.history.get('macro_f1')\n",
    "val_macro_f1 = history.history.get('val_macro_f1')\n",
    "\n",
    "# === Plot accuracy\n",
    "plt.figure(figsize=(8, 6))\n",
    "plt.plot(acc, 'bo', label='Training Accuracy')\n",
    "plt.plot(val_acc, 'b', label='Validation Accuracy')\n",
    "plt.title('Training vs Validation Accuracy')\n",
    "plt.xlabel('Epoch')\n",
    "plt.ylabel('Accuracy')\n",
    "plt.legend()\n",
    "plt.grid(True)\n",
    "plt.show()\n",
    "\n",
    "# === Plot loss\n",
    "plt.figure(figsize=(8, 6))\n",
    "plt.plot(loss, 'bo', label='Training Loss')\n",
    "plt.plot(val_loss, 'b', label='Validation Loss')\n",
    "plt.title('Training vs Validation Loss')\n",
    "plt.xlabel('Epoch')\n",
    "plt.ylabel('Loss')\n",
    "plt.legend()\n",
    "plt.grid(True)\n",
    "plt.show()\n",
    "\n",
    "# === (Optional) Plot Macro F1 if manually logged\n",
    "if macro_f1 and val_macro_f1:\n",
    "    plt.figure(figsize=(8, 6))\n",
    "    plt.plot(macro_f1, 'go', label='Training Macro F1')\n",
    "    plt.plot(val_macro_f1, 'g', label='Validation Macro F1')\n",
    "    plt.title('Macro F1-score over Epochs')\n",
    "    plt.xlabel('Epoch')\n",
    "    plt.ylabel('Macro F1')\n",
    "    plt.legend()\n",
    "    plt.grid(True)\n",
    "    plt.show()"
   ]
  },
  {
   "cell_type": "code",
   "execution_count": 14,
   "id": "dabc2756",
   "metadata": {},
   "outputs": [
    {
     "name": "stdout",
     "output_type": "stream",
     "text": [
      "17/17 [==============================] - 56s 3s/step\n",
      "\n",
      "Evaluation Metrics:\n",
      "Accuracy: 0.0137\n",
      "Macro F1-score: 0.0022\n",
      "Weighted F1-score: 0.0022\n",
      "Macro Precision: 0.0012\n",
      "Macro Recall: 0.0197\n",
      "\n",
      "Classification Report:\n",
      "               precision    recall  f1-score   support\n",
      "\n",
      "           0     0.0000    0.0000    0.0000        14\n",
      "           1     0.0000    0.0000    0.0000         2\n",
      "           2     0.0000    0.0000    0.0000         6\n",
      "           3     0.0000    0.0000    0.0000         3\n",
      "           4     0.0000    0.0000    0.0000         3\n",
      "           5     0.0000    0.0000    0.0000        23\n",
      "           6     0.0000    0.0000    0.0000         6\n",
      "           7     0.0000    0.0000    0.0000         3\n",
      "           8     0.0000    0.0000    0.0000         3\n",
      "           9     0.0000    0.0000    0.0000         2\n",
      "          10     0.0000    0.0000    0.0000         3\n",
      "          11     0.0000    0.0000    0.0000         3\n",
      "          12     0.0833    1.0000    0.1538         3\n",
      "          13     0.0000    0.0000    0.0000         3\n",
      "          14     0.0000    0.0000    0.0000         2\n",
      "          15     0.0000    0.0000    0.0000         3\n",
      "          16     0.0000    0.0000    0.0000         2\n",
      "          17     0.0000    0.0000    0.0000        11\n",
      "          18     0.0000    0.0000    0.0000         8\n",
      "          19     0.0000    0.0000    0.0000         6\n",
      "          20     0.0000    0.0000    0.0000         2\n",
      "          21     0.0000    0.0000    0.0000         2\n",
      "          22     0.0000    0.0000    0.0000         3\n",
      "          23     0.0000    0.0000    0.0000         5\n",
      "          24     0.0000    0.0000    0.0000         5\n",
      "          25     0.0000    0.0000    0.0000        15\n",
      "          26     0.0000    0.0000    0.0000         6\n",
      "          27     0.0000    0.0000    0.0000         3\n",
      "          28     0.0000    0.0000    0.0000         6\n",
      "          29     0.0000    0.0000    0.0000         2\n",
      "          30     0.0000    0.0000    0.0000         8\n",
      "          31     0.0000    0.0000    0.0000         2\n",
      "          32     0.0000    0.0000    0.0000         2\n",
      "          33     0.0000    0.0000    0.0000         2\n",
      "          34     0.0000    0.0000    0.0000         6\n",
      "          35     0.0000    0.0000    0.0000         3\n",
      "          36     0.0000    0.0000    0.0000        21\n",
      "          37     0.0000    0.0000    0.0000         2\n",
      "          38     0.0000    0.0000    0.0000        19\n",
      "          39     0.0000    0.0000    0.0000        14\n",
      "          40     0.0000    0.0000    0.0000         6\n",
      "          41     0.0000    0.0000    0.0000         2\n",
      "          42     0.0000    0.0000    0.0000         8\n",
      "          43     0.0000    0.0000    0.0000         2\n",
      "          44     0.0000    0.0000    0.0000         2\n",
      "          45     0.0000    0.0000    0.0000        24\n",
      "          46     0.0000    0.0000    0.0000         3\n",
      "          47     0.0000    0.0000    0.0000         8\n",
      "          48     0.0000    0.0000    0.0000        27\n",
      "          49     0.0000    0.0000    0.0000         2\n",
      "          50     0.0000    0.0000    0.0000         2\n",
      "          51     0.0000    0.0000    0.0000         6\n",
      "          52     0.0000    0.0000    0.0000         5\n",
      "          53     0.0000    0.0000    0.0000         6\n",
      "          54     0.0000    0.0000    0.0000         2\n",
      "          55     0.0000    0.0000    0.0000         5\n",
      "          56     0.0000    0.0000    0.0000         2\n",
      "          57     0.0000    0.0000    0.0000         2\n",
      "          58     0.0000    0.0000    0.0000         8\n",
      "          59     0.0000    0.0000    0.0000         8\n",
      "          60     0.0000    0.0000    0.0000         2\n",
      "          61     0.0500    0.1667    0.0769         6\n",
      "          62     0.0000    0.0000    0.0000         2\n",
      "          63     0.0000    0.0000    0.0000         5\n",
      "          64     0.0000    0.0000    0.0000         5\n",
      "          65     0.0000    0.0000    0.0000         2\n",
      "          66     0.0000    0.0000    0.0000         2\n",
      "          67     0.0000    0.0000    0.0000         2\n",
      "          68     0.0000    0.0000    0.0000        27\n",
      "          69     0.0000    0.0000    0.0000         2\n",
      "          70     0.0000    0.0000    0.0000        13\n",
      "          71     0.0000    0.0000    0.0000         2\n",
      "          72     0.0000    0.0000    0.0000         2\n",
      "          73     0.0000    0.0000    0.0000         3\n",
      "          74     0.0000    0.0000    0.0000        11\n",
      "          75     0.0000    0.0000    0.0000         3\n",
      "          76     0.0000    0.0000    0.0000        16\n",
      "          77     0.0000    0.0000    0.0000         5\n",
      "          78     0.0000    0.0000    0.0000         2\n",
      "          79     0.0000    0.0000    0.0000         5\n",
      "          80     0.0000    0.0000    0.0000         2\n",
      "          81     0.0000    0.0000    0.0000         3\n",
      "          82     0.0000    0.0000    0.0000         6\n",
      "          83     0.0000    0.0000    0.0000         6\n",
      "          84     0.0000    0.0000    0.0000         2\n",
      "          85     0.0000    0.0000    0.0000         2\n",
      "          86     0.0000    0.0000    0.0000         8\n",
      "          87     0.0000    0.0000    0.0000         2\n",
      "          88     0.0000    0.0000    0.0000         2\n",
      "          89     0.0000    0.0000    0.0000         3\n",
      "          90     0.0000    0.0000    0.0000         3\n",
      "          91     0.0043    0.5000    0.0086         2\n",
      "          92     0.0000    0.0000    0.0000         2\n",
      "          93     0.0000    0.0000    0.0000         5\n",
      "          94     0.0000    0.0000    0.0000         3\n",
      "          95     0.0000    0.0000    0.0000         2\n",
      "          96     0.0000    0.0000    0.0000         5\n",
      "          97     0.0000    0.0000    0.0000         2\n",
      "          98     0.0000    0.0000    0.0000        11\n",
      "          99     0.0000    0.0000    0.0000         3\n",
      "         100     0.0000    0.0000    0.0000         6\n",
      "         101     0.0000    0.0000    0.0000         6\n",
      "         102     0.0000    0.0000    0.0000         3\n",
      "         103     0.0404    0.3077    0.0714        13\n",
      "         104     0.0000    0.0000    0.0000         2\n",
      "         105     0.0000    0.0000    0.0000         6\n",
      "         106     0.0000    0.0000    0.0000         5\n",
      "         107     0.0000    0.0000    0.0000         3\n",
      "         108     0.0000    0.0000    0.0000         5\n",
      "         109     0.0000    0.0000    0.0000         2\n",
      "         110     0.0000    0.0000    0.0000         3\n",
      "         111     0.0000    0.0000    0.0000         2\n",
      "         112     0.0000    0.0000    0.0000         1\n",
      "         113     0.0000    0.0000    0.0000         2\n",
      "         114     0.0000    0.0000    0.0000         2\n",
      "         115     0.0000    0.0000    0.0000         2\n",
      "         116     0.0000    0.0000    0.0000         8\n",
      "         117     0.0000    0.0000    0.0000         8\n",
      "         118     0.0000    0.0000    0.0000         2\n",
      "         119     0.0000    0.0000    0.0000         3\n",
      "         120     0.0000    0.0000    0.0000         6\n",
      "         121     0.0049    0.5000    0.0097         2\n",
      "         122     0.0308    0.6667    0.0588         3\n",
      "         123     0.0000    0.0000    0.0000         2\n",
      "         124     0.0000    0.0000    0.0000         3\n",
      "         125     0.0000    0.0000    0.0000         2\n",
      "         126     0.0000    0.0000    0.0000         2\n",
      "         127     0.0078    0.5000    0.0154         2\n",
      "         128     0.0000    0.0000    0.0000         2\n",
      "         129     0.0000    0.0000    0.0000         2\n",
      "         130     0.0000    0.0000    0.0000         2\n",
      "         131     0.0000    0.0000    0.0000         3\n",
      "         132     0.0000    0.0000    0.0000        25\n",
      "         133     0.0000    0.0000    0.0000         2\n",
      "         134     0.0000    0.0000    0.0000         3\n",
      "         135     0.0303    0.3333    0.0556         3\n",
      "         136     0.0000    0.0000    0.0000         2\n",
      "         137     0.0000    0.0000    0.0000         2\n",
      "         138     0.0000    0.0000    0.0000         2\n",
      "         139     0.0000    0.0000    0.0000         8\n",
      "         140     0.0000    0.0000    0.0000        11\n",
      "         141     0.0000    0.0000    0.0000         6\n",
      "         142     0.0000    0.0000    0.0000         5\n",
      "         143     0.0000    0.0000    0.0000         8\n",
      "         144     0.0000    0.0000    0.0000         2\n",
      "         145     0.0000    0.0000    0.0000         3\n",
      "         146     0.0000    0.0000    0.0000         8\n",
      "         147     0.0000    0.0000    0.0000         2\n",
      "         148     0.0000    0.0000    0.0000         6\n",
      "         149     0.0000    0.0000    0.0000         2\n",
      "         150     0.0000    0.0000    0.0000         6\n",
      "         151     0.0000    0.0000    0.0000        25\n",
      "         152     0.0000    0.0000    0.0000         2\n",
      "         153     0.0000    0.0000    0.0000         2\n",
      "         154     0.0000    0.0000    0.0000         2\n",
      "         155     0.0000    0.0000    0.0000         5\n",
      "         156     0.0000    0.0000    0.0000         3\n",
      "         157     0.0000    0.0000    0.0000         8\n",
      "         158     0.0000    0.0000    0.0000         2\n",
      "         159     0.0000    0.0000    0.0000         2\n",
      "         160     0.0000    0.0000    0.0000         3\n",
      "         161     0.0000    0.0000    0.0000         6\n",
      "         162     0.0000    0.0000    0.0000        10\n",
      "         163     0.0000    0.0000    0.0000         7\n",
      "         164     0.0000    0.0000    0.0000         2\n",
      "         165     0.0000    0.0000    0.0000         3\n",
      "         166     0.0000    0.0000    0.0000         2\n",
      "         167     0.0000    0.0000    0.0000         3\n",
      "         168     0.0000    0.0000    0.0000         6\n",
      "         169     0.0000    0.0000    0.0000         6\n",
      "         170     0.0000    0.0000    0.0000         8\n",
      "         171     0.0000    0.0000    0.0000         2\n",
      "         172     0.0000    0.0000    0.0000         8\n",
      "         173     0.0000    0.0000    0.0000         3\n",
      "         174     0.0000    0.0000    0.0000         2\n",
      "         175     0.0000    0.0000    0.0000         5\n",
      "         176     0.0000    0.0000    0.0000         2\n",
      "         177     0.0000    0.0000    0.0000         5\n",
      "         178     0.0000    0.0000    0.0000         2\n",
      "         179     0.0000    0.0000    0.0000         6\n",
      "         180     0.0000    0.0000    0.0000         2\n",
      "         181     0.0000    0.0000    0.0000         3\n",
      "         182     0.0000    0.0000    0.0000         3\n",
      "         183     0.0000    0.0000    0.0000        19\n",
      "         184     0.0000    0.0000    0.0000        11\n",
      "         185     0.0000    0.0000    0.0000         2\n",
      "         186     0.0000    0.0000    0.0000         2\n",
      "         187     0.0000    0.0000    0.0000         8\n",
      "         188     0.0000    0.0000    0.0000         6\n",
      "         189     0.0000    0.0000    0.0000         2\n",
      "         190     0.0000    0.0000    0.0000         3\n",
      "         191     0.0000    0.0000    0.0000         2\n",
      "         192     0.0000    0.0000    0.0000         2\n",
      "         193     0.0000    0.0000    0.0000         6\n",
      "         194     0.0000    0.0000    0.0000         6\n",
      "         195     0.0000    0.0000    0.0000         3\n",
      "         196     0.0000    0.0000    0.0000         5\n",
      "         197     0.0000    0.0000    0.0000         6\n",
      "         198     0.0000    0.0000    0.0000         2\n",
      "         199     0.0000    0.0000    0.0000         3\n",
      "         200     0.0000    0.0000    0.0000         6\n",
      "         201     0.0000    0.0000    0.0000         2\n",
      "\n",
      "    accuracy                         0.0137      1025\n",
      "   macro avg     0.0012    0.0197    0.0022      1025\n",
      "weighted avg     0.0013    0.0137    0.0022      1025\n",
      "\n"
     ]
    },
    {
     "name": "stderr",
     "output_type": "stream",
     "text": [
      "c:\\Users\\Elcano\\anaconda3\\envs\\cv310\\lib\\site-packages\\sklearn\\metrics\\_classification.py:1565: UndefinedMetricWarning: Precision is ill-defined and being set to 0.0 in labels with no predicted samples. Use `zero_division` parameter to control this behavior.\n",
      "  _warn_prf(average, modifier, f\"{metric.capitalize()} is\", len(result))\n",
      "c:\\Users\\Elcano\\anaconda3\\envs\\cv310\\lib\\site-packages\\sklearn\\metrics\\_classification.py:1565: UndefinedMetricWarning: Precision is ill-defined and being set to 0.0 in labels with no predicted samples. Use `zero_division` parameter to control this behavior.\n",
      "  _warn_prf(average, modifier, f\"{metric.capitalize()} is\", len(result))\n",
      "c:\\Users\\Elcano\\anaconda3\\envs\\cv310\\lib\\site-packages\\sklearn\\metrics\\_classification.py:1565: UndefinedMetricWarning: Precision is ill-defined and being set to 0.0 in labels with no predicted samples. Use `zero_division` parameter to control this behavior.\n",
      "  _warn_prf(average, modifier, f\"{metric.capitalize()} is\", len(result))\n",
      "c:\\Users\\Elcano\\anaconda3\\envs\\cv310\\lib\\site-packages\\sklearn\\metrics\\_classification.py:1565: UndefinedMetricWarning: Precision is ill-defined and being set to 0.0 in labels with no predicted samples. Use `zero_division` parameter to control this behavior.\n",
      "  _warn_prf(average, modifier, f\"{metric.capitalize()} is\", len(result))\n"
     ]
    }
   ],
   "source": [
    "from sklearn.metrics import f1_score, precision_score, recall_score, classification_report, accuracy_score\n",
    "import numpy as np\n",
    "\n",
    "def evaluate_metrics_only(model, test_generator):\n",
    "    # Predict probabilities\n",
    "    y_probs = model.predict(test_generator, verbose=1)\n",
    "\n",
    "    # Convert to predicted class indices\n",
    "    y_pred = np.argmax(y_probs, axis=1)\n",
    "\n",
    "    # Get true class indices from generator\n",
    "    y_true = test_generator.classes[:len(y_pred)]\n",
    "\n",
    "    # Compute metrics\n",
    "    accuracy = accuracy_score(y_true, y_pred)\n",
    "    macro_f1 = f1_score(y_true, y_pred, average='macro')\n",
    "    weighted_f1 = f1_score(y_true, y_pred, average='weighted')\n",
    "    precision = precision_score(y_true, y_pred, average='macro')\n",
    "    recall = recall_score(y_true, y_pred, average='macro')\n",
    "\n",
    "    # Print results\n",
    "    print(\"\\nEvaluation Metrics:\")\n",
    "    print(f\"Accuracy: {accuracy:.4f}\")\n",
    "    print(f\"Macro F1-score: {macro_f1:.4f}\")\n",
    "    print(f\"Weighted F1-score: {weighted_f1:.4f}\")\n",
    "    print(f\"Macro Precision: {precision:.4f}\")\n",
    "    print(f\"Macro Recall: {recall:.4f}\")\n",
    "    print(\"\\nClassification Report:\\n\", classification_report(y_true, y_pred, digits=4))\n",
    "\n",
    "# Use it\n",
    "evaluate_metrics_only(model, test_generator)"
   ]
  },
  {
   "cell_type": "code",
   "execution_count": 15,
   "id": "456a33e0",
   "metadata": {},
   "outputs": [
    {
     "name": "stdout",
     "output_type": "stream",
     "text": [
      "\n",
      "============================================================\n",
      "MODEL EVALUATION\n",
      "============================================================\n",
      "17/17 [==============================] - 45s 3s/step\n",
      "\n",
      " Evaluation completed in 45.85 seconds\n",
      "\n",
      "Accuracy          : 0.0137\n",
      "Macro F1-Score    : 0.0022\n",
      "Weighted F1-Score : 0.0022\n",
      "Macro Precision   : 0.0012\n",
      "Macro Recall      : 0.0197\n",
      "\n",
      "----------------------------------------\n",
      "Detailed Classification Report (sample):\n",
      "----------------------------------------\n",
      "                           precision  recall  f1-score  support\n",
      "arthropoda_apidae                0.0     0.0       0.0     14.0\n",
      "arthropoda_attelabidae           0.0     0.0       0.0      2.0\n",
      "arthropoda_carabidae             0.0     0.0       0.0      6.0\n",
      "arthropoda_cerambycidae          0.0     0.0       0.0      3.0\n",
      "arthropoda_coenagrionidae        0.0     0.0       0.0      3.0\n",
      "arthropoda_formicidae            0.0     0.0       0.0     23.0\n",
      "arthropoda_gomphidae             0.0     0.0       0.0      6.0\n",
      "arthropoda_lucanidae             0.0     0.0       0.0      3.0\n",
      "arthropoda_nymphalidae           0.0     0.0       0.0      3.0\n",
      "arthropoda_palinuridae           0.0     0.0       0.0      2.0\n"
     ]
    }
   ],
   "source": [
    "from sklearn.metrics import (\n",
    "    accuracy_score, f1_score, precision_score, recall_score,\n",
    "    classification_report, confusion_matrix\n",
    ")\n",
    "from time import time\n",
    "import numpy as np\n",
    "import pandas as pd\n",
    "\n",
    "def evaluate_model(model, test_generator, batch_size=BATCH_SIZE, class_names=None):\n",
    "    \"\"\"\n",
    "    Model evaluation that prints detailed metrics without confusion matrix plot.\n",
    "    \"\"\"\n",
    "    print(\"\\n\" + \"=\"*60)\n",
    "    print(\"MODEL EVALUATION\")\n",
    "    print(\"=\"*60)\n",
    "\n",
    "    # Predict\n",
    "    start_time = time()\n",
    "    steps = np.ceil(test_generator.samples / batch_size)\n",
    "    pred_probs = model.predict(test_generator, steps=steps, verbose=1)\n",
    "    y_pred = np.argmax(pred_probs, axis=1)\n",
    "    y_true = test_generator.classes[:len(y_pred)]\n",
    "\n",
    "    # Metrics\n",
    "    accuracy = accuracy_score(y_true, y_pred)\n",
    "    macro_f1 = f1_score(y_true, y_pred, average='macro', zero_division=0)\n",
    "    weighted_f1 = f1_score(y_true, y_pred, average='weighted', zero_division=0)\n",
    "    macro_precision = precision_score(y_true, y_pred, average='macro', zero_division=0)\n",
    "    macro_recall = recall_score(y_true, y_pred, average='macro', zero_division=0)\n",
    "\n",
    "    print(f\"\\n Evaluation completed in {time()-start_time:.2f} seconds\\n\")\n",
    "    print(f\"Accuracy          : {accuracy:.4f}\")\n",
    "    print(f\"Macro F1-Score    : {macro_f1:.4f}\")\n",
    "    print(f\"Weighted F1-Score : {weighted_f1:.4f}\")\n",
    "    print(f\"Macro Precision   : {macro_precision:.4f}\")\n",
    "    print(f\"Macro Recall      : {macro_recall:.4f}\")\n",
    "\n",
    "    # Classification report\n",
    "    print(\"\\n\" + \"-\"*40)\n",
    "    print(\"Detailed Classification Report (sample):\")\n",
    "    print(\"-\"*40)\n",
    "    report_dict = classification_report(\n",
    "        y_true, y_pred, target_names=class_names,\n",
    "        digits=4, output_dict=True, zero_division=0\n",
    "    )\n",
    "    \n",
    "    # Show as matrix (DataFrame sample, head only if long)\n",
    "    report_df = pd.DataFrame(report_dict).transpose()\n",
    "    print(report_df.head(10))  # Show only first 10 rows to prevent overload\n",
    "\n",
    "    return {\n",
    "        \"y_true\": y_true,\n",
    "        \"y_pred\": y_pred,\n",
    "        \"metrics\": {\n",
    "            \"accuracy\": accuracy,\n",
    "            \"macro_f1\": macro_f1,\n",
    "            \"weighted_f1\": weighted_f1,\n",
    "            \"macro_precision\": macro_precision,\n",
    "            \"macro_recall\": macro_recall\n",
    "        },\n",
    "        \"report_df\": report_df\n",
    "    }\n",
    "\n",
    "# === Usage ===\n",
    "class_names = list(test_generator.class_indices.keys())\n",
    "\n",
    "results = evaluate_model(\n",
    "    model=model,\n",
    "    test_generator=test_generator,\n",
    "    batch_size=BATCH_SIZE,\n",
    "    class_names=class_names\n",
    ")\n"
   ]
  },
  {
   "cell_type": "markdown",
   "id": "6500ede9",
   "metadata": {},
   "source": [
    "🔹 6. Functional API (Multi-Output Model)"
   ]
  },
  {
   "cell_type": "markdown",
   "id": "44b7b945",
   "metadata": {},
   "source": [
    "- Uses a shared CNN feature extractor\n",
    "- Predicts Phylum (coarse class) and Family (fine class)\n",
    "- Combines phylum output back into the family prediction head\n",
    "- Uses modular, named layers for clarity\n",
    "- Is ready for multi-loss compilation and visualization"
   ]
  },
  {
   "cell_type": "code",
   "execution_count": 16,
   "id": "8d3070f4",
   "metadata": {},
   "outputs": [],
   "source": [
    "# === Load updated metadata ===\n",
    "metadata_path = r\"C:\\Users\\Elcano\\Documents\\NOVA IMS\\2_Semester\\Deep Learning\\Project\\dataset_sample_stratified\\metadata.csv\"\n",
    "metadata = pd.read_csv(metadata_path)\n",
    "\n",
    "# === Encode categorical labels ===\n",
    "metadata['phylum_id'] = metadata['phylum'].astype('category').cat.codes\n",
    "metadata['family_id'] = metadata['family'].astype('category').cat.codes\n",
    "\n",
    "# === Split directly from 'split' column ===\n",
    "train_df = metadata[metadata['split'] == 'train']\n",
    "val_df = metadata[metadata['split'] == 'val']\n",
    "test_df = metadata[metadata['split'] == 'test']\n",
    "\n",
    "# === Preprocessing function ===\n",
    "def process(file_path, phylum_id, family_id):\n",
    "    img = tf.io.read_file(file_path)\n",
    "    img = tf.image.decode_jpeg(img, channels=3)\n",
    "    img = tf.image.resize(img, (224, 224))\n",
    "    img = tf.cast(img, tf.float32) / 255.0\n",
    "    return img, {\n",
    "        'phylum_output': tf.cast(phylum_id, tf.int32),\n",
    "        'family_output': tf.cast(family_id, tf.int32)\n",
    "    }\n",
    "\n",
    "def make_dataset(df, batch_size=64, shuffle=True):\n",
    "    ds = tf.data.Dataset.from_tensor_slices((df['file_path'], df['phylum_id'], df['family_id']))\n",
    "    ds = ds.map(process, num_parallel_calls=tf.data.AUTOTUNE)\n",
    "    if shuffle:\n",
    "        ds = ds.shuffle(buffer_size=len(df))\n",
    "    return ds.batch(batch_size).prefetch(tf.data.AUTOTUNE)\n",
    "\n",
    "# === Final tf.data.Datasets ===\n",
    "train_dataset = make_dataset(train_df)\n",
    "val_dataset = make_dataset(val_df, shuffle=False)\n",
    "test_dataset = make_dataset(test_df, shuffle=False)"
   ]
  },
  {
   "cell_type": "code",
   "execution_count": 17,
   "id": "86968ce2",
   "metadata": {},
   "outputs": [],
   "source": [
    "from tensorflow.keras.models import Model\n",
    "from tensorflow.keras.layers import (\n",
    "    Input, Conv2D, MaxPooling2D, GlobalAveragePooling2D,\n",
    "    Dense, Dropout, BatchNormalization, Activation, Concatenate\n",
    ")\n",
    "from tensorflow.keras import regularizers\n",
    "\n",
    "def build_multitask_species_model(input_shape=(224, 224, 3), num_phyla=5, num_families=202):\n",
    "    l2 = regularizers.l2(0.0005)\n",
    "    inputs = Input(shape=input_shape, name=\"image_input\")\n",
    "\n",
    "    # === Block 1 ===\n",
    "    x = Conv2D(64, (3, 3), strides=1, padding='same', kernel_regularizer=l2, name=\"conv1\")(inputs)\n",
    "    x = BatchNormalization(name=\"bn1\")(x)\n",
    "    x = Activation('relu', name=\"act1\")(x)\n",
    "    x = MaxPooling2D((2, 2), name=\"pool1\")(x)\n",
    "    x = Dropout(0.1, name=\"drop1\")(x)\n",
    "\n",
    "    # === Block 2 ===\n",
    "    x = Conv2D(128, (3, 3), padding='same', kernel_regularizer=l2, name=\"conv2a\")(x)\n",
    "    x = BatchNormalization(name=\"bn2a\")(x)\n",
    "    x = Activation('relu', name=\"act2a\")(x)\n",
    "    x = Conv2D(128, (3, 3), padding='same', kernel_regularizer=l2, name=\"conv2b\")(x)\n",
    "    x = BatchNormalization(name=\"bn2b\")(x)\n",
    "    x = Activation('relu', name=\"act2b\")(x)\n",
    "    x = MaxPooling2D((2, 2), name=\"pool2\")(x)\n",
    "    x = Dropout(0.2, name=\"drop2\")(x)\n",
    "\n",
    "    # === Block 3 ===\n",
    "    x = Conv2D(256, (3, 3), padding='same', kernel_regularizer=l2, name=\"conv3\")(x)\n",
    "    x = BatchNormalization(name=\"bn3\")(x)\n",
    "    x = Activation('relu', name=\"act3\")(x)\n",
    "    x = MaxPooling2D((2, 2), name=\"pool3\")(x)\n",
    "    x = Dropout(0.3, name=\"drop3\")(x)\n",
    "\n",
    "    # === Block 4 ===\n",
    "    x = Conv2D(512, (3, 3), padding='same', kernel_regularizer=l2, name=\"conv4\")(x)\n",
    "    x = BatchNormalization(name=\"bn4\")(x)\n",
    "    x = Activation('relu', name=\"act4\")(x)\n",
    "    x = MaxPooling2D((2, 2), name=\"pool4\")(x)\n",
    "    x = Dropout(0.4, name=\"drop4\")(x)\n",
    "\n",
    "    # === Block 5 ===\n",
    "    x = Conv2D(512, (3, 3), padding='same', kernel_regularizer=l2, name=\"conv5\")(x)\n",
    "    x = BatchNormalization(name=\"bn5\")(x)\n",
    "    x = Activation('relu', name=\"act5\")(x)\n",
    "    x = GlobalAveragePooling2D(name=\"gap\")(x)\n",
    "    x = Dropout(0.4, name=\"drop5\")(x)\n",
    "\n",
    "    # === Shared Dense Base ===\n",
    "    base_features = Dense(512, kernel_regularizer=l2, name=\"dense_shared_1\")(x)\n",
    "    base_features = BatchNormalization(name=\"bn_fc_1\")(base_features)\n",
    "    base_features = Activation('relu', name=\"act_fc_1\")(base_features)\n",
    "    base_features = Dropout(0.5, name=\"drop_fc_1\")(base_features)\n",
    "\n",
    "    base_features = Dense(128, kernel_regularizer=l2, name=\"dense_shared_2\")(base_features)\n",
    "    base_features = BatchNormalization(name=\"bn_fc_2\")(base_features)\n",
    "    base_features = Activation('relu', name=\"act_fc_2\")(base_features)\n",
    "    base_features = Dropout(0.3, name=\"drop_fc_2\")(base_features)\n",
    "\n",
    "    # === Phylum Output ===\n",
    "    phylum_branch = Dense(64, activation='relu', name=\"phylum_fc\")(base_features)\n",
    "    phylum_output = Dense(num_phyla, activation='softmax', name=\"phylum_output\")(phylum_branch)\n",
    "\n",
    "    # === Family Output (Conditioned on Phylum) ===\n",
    "    concat = Concatenate(name=\"concat_family_phylum\")([base_features, phylum_output])\n",
    "    family_branch = Dense(256, activation='relu', name=\"family_fc\")(concat)\n",
    "    family_output = Dense(num_families, activation='softmax', name=\"family_output\")(family_branch)\n",
    "\n",
    "    return Model(inputs=inputs, outputs=[phylum_output, family_output], name=\"Multitask_Species_Model\")"
   ]
  },
  {
   "cell_type": "code",
   "execution_count": 18,
   "id": "af9b6f22",
   "metadata": {},
   "outputs": [],
   "source": [
    "num_phyla = metadata['phylum'].nunique()\n",
    "num_families = metadata['family'].nunique()\n",
    "\n",
    "model = build_multitask_species_model(\n",
    "    input_shape=(224, 224, 3),\n",
    "    num_phyla=num_phyla,\n",
    "    num_families=num_families\n",
    ")"
   ]
  },
  {
   "cell_type": "code",
   "execution_count": 19,
   "id": "d9ace205",
   "metadata": {},
   "outputs": [
    {
     "name": "stdout",
     "output_type": "stream",
     "text": [
      "Model: \"Multitask_Species_Model\"\n",
      "__________________________________________________________________________________________________\n",
      " Layer (type)                   Output Shape         Param #     Connected to                     \n",
      "==================================================================================================\n",
      " image_input (InputLayer)       [(None, 224, 224, 3  0           []                               \n",
      "                                )]                                                                \n",
      "                                                                                                  \n",
      " conv1 (Conv2D)                 (None, 224, 224, 64  1792        ['image_input[0][0]']            \n",
      "                                )                                                                 \n",
      "                                                                                                  \n",
      " bn1 (BatchNormalization)       (None, 224, 224, 64  256         ['conv1[0][0]']                  \n",
      "                                )                                                                 \n",
      "                                                                                                  \n",
      " act1 (Activation)              (None, 224, 224, 64  0           ['bn1[0][0]']                    \n",
      "                                )                                                                 \n",
      "                                                                                                  \n",
      " pool1 (MaxPooling2D)           (None, 112, 112, 64  0           ['act1[0][0]']                   \n",
      "                                )                                                                 \n",
      "                                                                                                  \n",
      " drop1 (Dropout)                (None, 112, 112, 64  0           ['pool1[0][0]']                  \n",
      "                                )                                                                 \n",
      "                                                                                                  \n",
      " conv2a (Conv2D)                (None, 112, 112, 12  73856       ['drop1[0][0]']                  \n",
      "                                8)                                                                \n",
      "                                                                                                  \n",
      " bn2a (BatchNormalization)      (None, 112, 112, 12  512         ['conv2a[0][0]']                 \n",
      "                                8)                                                                \n",
      "                                                                                                  \n",
      " act2a (Activation)             (None, 112, 112, 12  0           ['bn2a[0][0]']                   \n",
      "                                8)                                                                \n",
      "                                                                                                  \n",
      " conv2b (Conv2D)                (None, 112, 112, 12  147584      ['act2a[0][0]']                  \n",
      "                                8)                                                                \n",
      "                                                                                                  \n",
      " bn2b (BatchNormalization)      (None, 112, 112, 12  512         ['conv2b[0][0]']                 \n",
      "                                8)                                                                \n",
      "                                                                                                  \n",
      " act2b (Activation)             (None, 112, 112, 12  0           ['bn2b[0][0]']                   \n",
      "                                8)                                                                \n",
      "                                                                                                  \n",
      " pool2 (MaxPooling2D)           (None, 56, 56, 128)  0           ['act2b[0][0]']                  \n",
      "                                                                                                  \n",
      " drop2 (Dropout)                (None, 56, 56, 128)  0           ['pool2[0][0]']                  \n",
      "                                                                                                  \n",
      " conv3 (Conv2D)                 (None, 56, 56, 256)  295168      ['drop2[0][0]']                  \n",
      "                                                                                                  \n",
      " bn3 (BatchNormalization)       (None, 56, 56, 256)  1024        ['conv3[0][0]']                  \n",
      "                                                                                                  \n",
      " act3 (Activation)              (None, 56, 56, 256)  0           ['bn3[0][0]']                    \n",
      "                                                                                                  \n",
      " pool3 (MaxPooling2D)           (None, 28, 28, 256)  0           ['act3[0][0]']                   \n",
      "                                                                                                  \n",
      " drop3 (Dropout)                (None, 28, 28, 256)  0           ['pool3[0][0]']                  \n",
      "                                                                                                  \n",
      " conv4 (Conv2D)                 (None, 28, 28, 512)  1180160     ['drop3[0][0]']                  \n",
      "                                                                                                  \n",
      " bn4 (BatchNormalization)       (None, 28, 28, 512)  2048        ['conv4[0][0]']                  \n",
      "                                                                                                  \n",
      " act4 (Activation)              (None, 28, 28, 512)  0           ['bn4[0][0]']                    \n",
      "                                                                                                  \n",
      " pool4 (MaxPooling2D)           (None, 14, 14, 512)  0           ['act4[0][0]']                   \n",
      "                                                                                                  \n",
      " drop4 (Dropout)                (None, 14, 14, 512)  0           ['pool4[0][0]']                  \n",
      "                                                                                                  \n",
      " conv5 (Conv2D)                 (None, 14, 14, 512)  2359808     ['drop4[0][0]']                  \n",
      "                                                                                                  \n",
      " bn5 (BatchNormalization)       (None, 14, 14, 512)  2048        ['conv5[0][0]']                  \n",
      "                                                                                                  \n",
      " act5 (Activation)              (None, 14, 14, 512)  0           ['bn5[0][0]']                    \n",
      "                                                                                                  \n",
      " gap (GlobalAveragePooling2D)   (None, 512)          0           ['act5[0][0]']                   \n",
      "                                                                                                  \n",
      " drop5 (Dropout)                (None, 512)          0           ['gap[0][0]']                    \n",
      "                                                                                                  \n",
      " dense_shared_1 (Dense)         (None, 512)          262656      ['drop5[0][0]']                  \n",
      "                                                                                                  \n",
      " bn_fc_1 (BatchNormalization)   (None, 512)          2048        ['dense_shared_1[0][0]']         \n",
      "                                                                                                  \n",
      " act_fc_1 (Activation)          (None, 512)          0           ['bn_fc_1[0][0]']                \n",
      "                                                                                                  \n",
      " drop_fc_1 (Dropout)            (None, 512)          0           ['act_fc_1[0][0]']               \n",
      "                                                                                                  \n",
      " dense_shared_2 (Dense)         (None, 128)          65664       ['drop_fc_1[0][0]']              \n",
      "                                                                                                  \n",
      " bn_fc_2 (BatchNormalization)   (None, 128)          512         ['dense_shared_2[0][0]']         \n",
      "                                                                                                  \n",
      " act_fc_2 (Activation)          (None, 128)          0           ['bn_fc_2[0][0]']                \n",
      "                                                                                                  \n",
      " drop_fc_2 (Dropout)            (None, 128)          0           ['act_fc_2[0][0]']               \n",
      "                                                                                                  \n",
      " phylum_fc (Dense)              (None, 64)           8256        ['drop_fc_2[0][0]']              \n",
      "                                                                                                  \n",
      " phylum_output (Dense)          (None, 5)            325         ['phylum_fc[0][0]']              \n",
      "                                                                                                  \n",
      " concat_family_phylum (Concaten  (None, 133)         0           ['drop_fc_2[0][0]',              \n",
      " ate)                                                             'phylum_output[0][0]']          \n",
      "                                                                                                  \n",
      " family_fc (Dense)              (None, 256)          34304       ['concat_family_phylum[0][0]']   \n",
      "                                                                                                  \n",
      " family_output (Dense)          (None, 202)          51914       ['family_fc[0][0]']              \n",
      "                                                                                                  \n",
      "==================================================================================================\n",
      "Total params: 4,490,447\n",
      "Trainable params: 4,485,967\n",
      "Non-trainable params: 4,480\n",
      "__________________________________________________________________________________________________\n"
     ]
    }
   ],
   "source": [
    "# === Compile Functional Multitask Model ===\n",
    "model.compile(\n",
    "    optimizer='adam',\n",
    "    loss={\n",
    "        'phylum_output': 'sparse_categorical_crossentropy',\n",
    "        'family_output': 'sparse_categorical_crossentropy'\n",
    "    },\n",
    "    loss_weights={\n",
    "        'phylum_output': 0.5,\n",
    "        'family_output': 1.0\n",
    "    },\n",
    "    metrics={\n",
    "        'phylum_output': ['accuracy'],\n",
    "        'family_output': ['accuracy']\n",
    "    }\n",
    ")\n",
    "\n",
    "model.summary()\n"
   ]
  },
  {
   "cell_type": "code",
   "execution_count": 20,
   "id": "81c66e85",
   "metadata": {},
   "outputs": [],
   "source": [
    "from tensorflow.keras.callbacks import EarlyStopping, ModelCheckpoint, ReduceLROnPlateau\n",
    "\n",
    "# === Training Callbacks ===\n",
    "callbacks = [\n",
    "    EarlyStopping(\n",
    "        monitor='val_family_output_accuracy',\n",
    "        patience=5,\n",
    "        restore_best_weights=True,\n",
    "        verbose=1\n",
    "    ),\n",
    "    ModelCheckpoint(\n",
    "        \"best_multitask_model.h5\",\n",
    "        monitor='val_family_output_accuracy',\n",
    "        save_best_only=True,\n",
    "        verbose=1\n",
    "    ),\n",
    "    ReduceLROnPlateau(\n",
    "        monitor='val_family_output_accuracy',\n",
    "        factor=0.5,\n",
    "        patience=3,\n",
    "        min_lr=1e-6,\n",
    "        verbose=1\n",
    "    )\n",
    "]"
   ]
  },
  {
   "cell_type": "code",
   "execution_count": 21,
   "id": "628ae3cf",
   "metadata": {},
   "outputs": [
    {
     "name": "stdout",
     "output_type": "stream",
     "text": [
      "Epoch 1/30\n",
      "75/75 [==============================] - ETA: 0s - loss: 6.5057 - phylum_output_loss: 0.8299 - family_output_loss: 5.1251 - phylum_output_accuracy: 0.7672 - family_output_accuracy: 0.0328\n",
      "Epoch 1: val_family_output_accuracy improved from -inf to 0.03711, saving model to best_multitask_model.h5\n",
      "75/75 [==============================] - 729s 9s/step - loss: 6.5057 - phylum_output_loss: 0.8299 - family_output_loss: 5.1251 - phylum_output_accuracy: 0.7672 - family_output_accuracy: 0.0328 - val_loss: 6.2721 - val_phylum_output_loss: 0.6941 - val_family_output_loss: 5.0492 - val_phylum_output_accuracy: 0.8311 - val_family_output_accuracy: 0.0371 - lr: 0.0010\n",
      "Epoch 2/30\n",
      "75/75 [==============================] - ETA: 0s - loss: 6.0135 - phylum_output_loss: 0.6448 - family_output_loss: 4.9199 - phylum_output_accuracy: 0.8272 - family_output_accuracy: 0.0538\n",
      "Epoch 2: val_family_output_accuracy did not improve from 0.03711\n",
      "75/75 [==============================] - 712s 9s/step - loss: 6.0135 - phylum_output_loss: 0.6448 - family_output_loss: 4.9199 - phylum_output_accuracy: 0.8272 - family_output_accuracy: 0.0538 - val_loss: 6.1102 - val_phylum_output_loss: 0.6347 - val_family_output_loss: 5.1193 - val_phylum_output_accuracy: 0.8311 - val_family_output_accuracy: 0.0215 - lr: 0.0010\n",
      "Epoch 3/30\n",
      "75/75 [==============================] - ETA: 0s - loss: 5.7165 - phylum_output_loss: 0.6287 - family_output_loss: 4.7993 - phylum_output_accuracy: 0.8281 - family_output_accuracy: 0.0692\n",
      "Epoch 3: val_family_output_accuracy did not improve from 0.03711\n",
      "75/75 [==============================] - 711s 9s/step - loss: 5.7165 - phylum_output_loss: 0.6287 - family_output_loss: 4.7993 - phylum_output_accuracy: 0.8281 - family_output_accuracy: 0.0692 - val_loss: 6.3460 - val_phylum_output_loss: 0.7726 - val_family_output_loss: 5.4157 - val_phylum_output_accuracy: 0.8311 - val_family_output_accuracy: 0.0137 - lr: 0.0010\n",
      "Epoch 4/30\n",
      "75/75 [==============================] - ETA: 0s - loss: 5.5283 - phylum_output_loss: 0.6263 - family_output_loss: 4.7147 - phylum_output_accuracy: 0.8295 - family_output_accuracy: 0.0730\n",
      "Epoch 4: val_family_output_accuracy improved from 0.03711 to 0.04102, saving model to best_multitask_model.h5\n",
      "75/75 [==============================] - 695s 9s/step - loss: 5.5283 - phylum_output_loss: 0.6263 - family_output_loss: 4.7147 - phylum_output_accuracy: 0.8295 - family_output_accuracy: 0.0730 - val_loss: 5.8120 - val_phylum_output_loss: 0.6377 - val_family_output_loss: 5.0296 - val_phylum_output_accuracy: 0.8164 - val_family_output_accuracy: 0.0410 - lr: 0.0010\n",
      "Epoch 5/30\n",
      "75/75 [==============================] - ETA: 0s - loss: 5.3840 - phylum_output_loss: 0.6147 - family_output_loss: 4.6423 - phylum_output_accuracy: 0.8285 - family_output_accuracy: 0.0774\n",
      "Epoch 5: val_family_output_accuracy improved from 0.04102 to 0.05078, saving model to best_multitask_model.h5\n",
      "75/75 [==============================] - 695s 9s/step - loss: 5.3840 - phylum_output_loss: 0.6147 - family_output_loss: 4.6423 - phylum_output_accuracy: 0.8285 - family_output_accuracy: 0.0774 - val_loss: 5.9618 - val_phylum_output_loss: 0.6723 - val_family_output_loss: 5.2159 - val_phylum_output_accuracy: 0.8301 - val_family_output_accuracy: 0.0508 - lr: 0.0010\n",
      "Epoch 6/30\n",
      "75/75 [==============================] - ETA: 0s - loss: 5.2844 - phylum_output_loss: 0.6120 - family_output_loss: 4.5863 - phylum_output_accuracy: 0.8274 - family_output_accuracy: 0.0818\n",
      "Epoch 6: val_family_output_accuracy improved from 0.05078 to 0.05762, saving model to best_multitask_model.h5\n",
      "75/75 [==============================] - 695s 9s/step - loss: 5.2844 - phylum_output_loss: 0.6120 - family_output_loss: 4.5863 - phylum_output_accuracy: 0.8274 - family_output_accuracy: 0.0818 - val_loss: 5.7047 - val_phylum_output_loss: 0.6654 - val_family_output_loss: 4.9956 - val_phylum_output_accuracy: 0.8311 - val_family_output_accuracy: 0.0576 - lr: 0.0010\n",
      "Epoch 7/30\n",
      "75/75 [==============================] - ETA: 0s - loss: 5.2101 - phylum_output_loss: 0.5938 - family_output_loss: 4.5496 - phylum_output_accuracy: 0.8281 - family_output_accuracy: 0.0841\n",
      "Epoch 7: val_family_output_accuracy improved from 0.05762 to 0.08301, saving model to best_multitask_model.h5\n",
      "75/75 [==============================] - 695s 9s/step - loss: 5.2101 - phylum_output_loss: 0.5938 - family_output_loss: 4.5496 - phylum_output_accuracy: 0.8281 - family_output_accuracy: 0.0841 - val_loss: 5.4569 - val_phylum_output_loss: 0.6524 - val_family_output_loss: 4.7794 - val_phylum_output_accuracy: 0.8203 - val_family_output_accuracy: 0.0830 - lr: 0.0010\n",
      "Epoch 8/30\n",
      "75/75 [==============================] - ETA: 0s - loss: 5.1432 - phylum_output_loss: 0.5925 - family_output_loss: 4.5035 - phylum_output_accuracy: 0.8277 - family_output_accuracy: 0.0893\n",
      "Epoch 8: val_family_output_accuracy did not improve from 0.08301\n",
      "75/75 [==============================] - 690s 9s/step - loss: 5.1432 - phylum_output_loss: 0.5925 - family_output_loss: 4.5035 - phylum_output_accuracy: 0.8277 - family_output_accuracy: 0.0893 - val_loss: 5.3301 - val_phylum_output_loss: 0.6003 - val_family_output_loss: 4.6967 - val_phylum_output_accuracy: 0.8311 - val_family_output_accuracy: 0.0723 - lr: 0.0010\n",
      "Epoch 9/30\n",
      "75/75 [==============================] - ETA: 0s - loss: 5.0741 - phylum_output_loss: 0.5818 - family_output_loss: 4.4572 - phylum_output_accuracy: 0.8302 - family_output_accuracy: 0.0937\n",
      "Epoch 9: val_family_output_accuracy improved from 0.08301 to 0.08594, saving model to best_multitask_model.h5\n",
      "75/75 [==============================] - 744s 10s/step - loss: 5.0741 - phylum_output_loss: 0.5818 - family_output_loss: 4.4572 - phylum_output_accuracy: 0.8302 - family_output_accuracy: 0.0937 - val_loss: 5.3633 - val_phylum_output_loss: 0.6322 - val_family_output_loss: 4.7272 - val_phylum_output_accuracy: 0.8311 - val_family_output_accuracy: 0.0859 - lr: 0.0010\n",
      "Epoch 10/30\n",
      "75/75 [==============================] - ETA: 0s - loss: 5.0096 - phylum_output_loss: 0.5739 - family_output_loss: 4.4060 - phylum_output_accuracy: 0.8283 - family_output_accuracy: 0.0975\n",
      "Epoch 10: val_family_output_accuracy did not improve from 0.08594\n",
      "75/75 [==============================] - 741s 9s/step - loss: 5.0096 - phylum_output_loss: 0.5739 - family_output_loss: 4.4060 - phylum_output_accuracy: 0.8283 - family_output_accuracy: 0.0975 - val_loss: 5.2708 - val_phylum_output_loss: 0.5798 - val_family_output_loss: 4.6683 - val_phylum_output_accuracy: 0.8262 - val_family_output_accuracy: 0.0811 - lr: 0.0010\n",
      "Epoch 11/30\n",
      "75/75 [==============================] - ETA: 0s - loss: 4.9792 - phylum_output_loss: 0.5672 - family_output_loss: 4.3810 - phylum_output_accuracy: 0.8272 - family_output_accuracy: 0.0991\n",
      "Epoch 11: val_family_output_accuracy improved from 0.08594 to 0.08789, saving model to best_multitask_model.h5\n",
      "75/75 [==============================] - 712s 9s/step - loss: 4.9792 - phylum_output_loss: 0.5672 - family_output_loss: 4.3810 - phylum_output_accuracy: 0.8272 - family_output_accuracy: 0.0991 - val_loss: 5.5003 - val_phylum_output_loss: 0.5923 - val_family_output_loss: 4.8893 - val_phylum_output_accuracy: 0.8301 - val_family_output_accuracy: 0.0879 - lr: 0.0010\n",
      "Epoch 12/30\n",
      "75/75 [==============================] - ETA: 0s - loss: 4.9661 - phylum_output_loss: 0.5727 - family_output_loss: 4.3686 - phylum_output_accuracy: 0.8302 - family_output_accuracy: 0.0977\n",
      "Epoch 12: val_family_output_accuracy did not improve from 0.08789\n",
      "75/75 [==============================] - 704s 9s/step - loss: 4.9661 - phylum_output_loss: 0.5727 - family_output_loss: 4.3686 - phylum_output_accuracy: 0.8302 - family_output_accuracy: 0.0977 - val_loss: 5.7502 - val_phylum_output_loss: 0.6207 - val_family_output_loss: 5.1270 - val_phylum_output_accuracy: 0.8271 - val_family_output_accuracy: 0.0674 - lr: 0.0010\n",
      "Epoch 13/30\n",
      "75/75 [==============================] - ETA: 0s - loss: 4.9067 - phylum_output_loss: 0.5630 - family_output_loss: 4.3152 - phylum_output_accuracy: 0.8293 - family_output_accuracy: 0.1046\n",
      "Epoch 13: val_family_output_accuracy did not improve from 0.08789\n",
      "75/75 [==============================] - 707s 9s/step - loss: 4.9067 - phylum_output_loss: 0.5630 - family_output_loss: 4.3152 - phylum_output_accuracy: 0.8293 - family_output_accuracy: 0.1046 - val_loss: 9.5157 - val_phylum_output_loss: 1.3036 - val_family_output_loss: 8.5518 - val_phylum_output_accuracy: 0.8311 - val_family_output_accuracy: 0.0293 - lr: 0.0010\n",
      "Epoch 14/30\n",
      "75/75 [==============================] - ETA: 0s - loss: 4.8694 - phylum_output_loss: 0.5497 - family_output_loss: 4.2870 - phylum_output_accuracy: 0.8316 - family_output_accuracy: 0.0996\n",
      "Epoch 14: val_family_output_accuracy did not improve from 0.08789\n",
      "\n",
      "Epoch 14: ReduceLROnPlateau reducing learning rate to 0.0005000000237487257.\n",
      "75/75 [==============================] - 706s 9s/step - loss: 4.8694 - phylum_output_loss: 0.5497 - family_output_loss: 4.2870 - phylum_output_accuracy: 0.8316 - family_output_accuracy: 0.0996 - val_loss: 5.2678 - val_phylum_output_loss: 0.5717 - val_family_output_loss: 4.6781 - val_phylum_output_accuracy: 0.8232 - val_family_output_accuracy: 0.0830 - lr: 0.0010\n",
      "Epoch 15/30\n",
      "75/75 [==============================] - ETA: 0s - loss: 4.7223 - phylum_output_loss: 0.5258 - family_output_loss: 4.1674 - phylum_output_accuracy: 0.8362 - family_output_accuracy: 0.1144\n",
      "Epoch 15: val_family_output_accuracy improved from 0.08789 to 0.09277, saving model to best_multitask_model.h5\n",
      "75/75 [==============================] - 706s 9s/step - loss: 4.7223 - phylum_output_loss: 0.5258 - family_output_loss: 4.1674 - phylum_output_accuracy: 0.8362 - family_output_accuracy: 0.1144 - val_loss: 5.1979 - val_phylum_output_loss: 0.5447 - val_family_output_loss: 4.6457 - val_phylum_output_accuracy: 0.8340 - val_family_output_accuracy: 0.0928 - lr: 5.0000e-04\n",
      "Epoch 16/30\n",
      "75/75 [==============================] - ETA: 0s - loss: 4.6678 - phylum_output_loss: 0.5157 - family_output_loss: 4.1343 - phylum_output_accuracy: 0.8408 - family_output_accuracy: 0.1152\n",
      "Epoch 16: val_family_output_accuracy did not improve from 0.09277\n",
      "75/75 [==============================] - 783s 10s/step - loss: 4.6678 - phylum_output_loss: 0.5157 - family_output_loss: 4.1343 - phylum_output_accuracy: 0.8408 - family_output_accuracy: 0.1152 - val_loss: 5.2613 - val_phylum_output_loss: 0.5268 - val_family_output_loss: 4.7258 - val_phylum_output_accuracy: 0.8369 - val_family_output_accuracy: 0.0723 - lr: 5.0000e-04\n",
      "Epoch 17/30\n",
      "75/75 [==============================] - ETA: 0s - loss: 4.6143 - phylum_output_loss: 0.5007 - family_output_loss: 4.0958 - phylum_output_accuracy: 0.8452 - family_output_accuracy: 0.1211\n",
      "Epoch 17: val_family_output_accuracy did not improve from 0.09277\n",
      "75/75 [==============================] - 762s 10s/step - loss: 4.6143 - phylum_output_loss: 0.5007 - family_output_loss: 4.0958 - phylum_output_accuracy: 0.8452 - family_output_accuracy: 0.1211 - val_loss: 5.1294 - val_phylum_output_loss: 0.5265 - val_family_output_loss: 4.6028 - val_phylum_output_accuracy: 0.8359 - val_family_output_accuracy: 0.0732 - lr: 5.0000e-04\n",
      "Epoch 18/30\n",
      "75/75 [==============================] - ETA: 0s - loss: 4.5914 - phylum_output_loss: 0.5045 - family_output_loss: 4.0765 - phylum_output_accuracy: 0.8377 - family_output_accuracy: 0.1205\n",
      "Epoch 18: val_family_output_accuracy did not improve from 0.09277\n",
      "\n",
      "Epoch 18: ReduceLROnPlateau reducing learning rate to 0.0002500000118743628.\n",
      "75/75 [==============================] - 744s 10s/step - loss: 4.5914 - phylum_output_loss: 0.5045 - family_output_loss: 4.0765 - phylum_output_accuracy: 0.8377 - family_output_accuracy: 0.1205 - val_loss: 5.3707 - val_phylum_output_loss: 0.7271 - val_family_output_loss: 4.7434 - val_phylum_output_accuracy: 0.7217 - val_family_output_accuracy: 0.0791 - lr: 5.0000e-04\n",
      "Epoch 19/30\n",
      "75/75 [==============================] - ETA: 0s - loss: 4.4914 - phylum_output_loss: 0.4803 - family_output_loss: 3.9923 - phylum_output_accuracy: 0.8458 - family_output_accuracy: 0.1288\n",
      "Epoch 19: val_family_output_accuracy improved from 0.09277 to 0.09570, saving model to best_multitask_model.h5\n",
      "75/75 [==============================] - 768s 10s/step - loss: 4.4914 - phylum_output_loss: 0.4803 - family_output_loss: 3.9923 - phylum_output_accuracy: 0.8458 - family_output_accuracy: 0.1288 - val_loss: 4.9575 - val_phylum_output_loss: 0.4870 - val_family_output_loss: 4.4609 - val_phylum_output_accuracy: 0.8398 - val_family_output_accuracy: 0.0957 - lr: 2.5000e-04\n",
      "Epoch 20/30\n",
      "75/75 [==============================] - ETA: 0s - loss: 4.4719 - phylum_output_loss: 0.4815 - family_output_loss: 3.9825 - phylum_output_accuracy: 0.8484 - family_output_accuracy: 0.1278\n",
      "Epoch 20: val_family_output_accuracy improved from 0.09570 to 0.10547, saving model to best_multitask_model.h5\n",
      "75/75 [==============================] - 770s 10s/step - loss: 4.4719 - phylum_output_loss: 0.4815 - family_output_loss: 3.9825 - phylum_output_accuracy: 0.8484 - family_output_accuracy: 0.1278 - val_loss: 4.8862 - val_phylum_output_loss: 0.4851 - val_family_output_loss: 4.3985 - val_phylum_output_accuracy: 0.8506 - val_family_output_accuracy: 0.1055 - lr: 2.5000e-04\n",
      "Epoch 21/30\n",
      "75/75 [==============================] - ETA: 0s - loss: 4.4625 - phylum_output_loss: 0.4807 - family_output_loss: 3.9795 - phylum_output_accuracy: 0.8446 - family_output_accuracy: 0.1251\n",
      "Epoch 21: val_family_output_accuracy did not improve from 0.10547\n",
      "75/75 [==============================] - 796s 10s/step - loss: 4.4625 - phylum_output_loss: 0.4807 - family_output_loss: 3.9795 - phylum_output_accuracy: 0.8446 - family_output_accuracy: 0.1251 - val_loss: 4.9275 - val_phylum_output_loss: 0.4832 - val_family_output_loss: 4.4453 - val_phylum_output_accuracy: 0.8467 - val_family_output_accuracy: 0.1016 - lr: 2.5000e-04\n",
      "Epoch 22/30\n",
      "75/75 [==============================] - ETA: 0s - loss: 4.4140 - phylum_output_loss: 0.4676 - family_output_loss: 3.9418 - phylum_output_accuracy: 0.8521 - family_output_accuracy: 0.1374\n",
      "Epoch 22: val_family_output_accuracy improved from 0.10547 to 0.10938, saving model to best_multitask_model.h5\n",
      "75/75 [==============================] - 751s 10s/step - loss: 4.4140 - phylum_output_loss: 0.4676 - family_output_loss: 3.9418 - phylum_output_accuracy: 0.8521 - family_output_accuracy: 0.1374 - val_loss: 4.8198 - val_phylum_output_loss: 0.4549 - val_family_output_loss: 4.3558 - val_phylum_output_accuracy: 0.8604 - val_family_output_accuracy: 0.1094 - lr: 2.5000e-04\n",
      "Epoch 23/30\n",
      "75/75 [==============================] - ETA: 0s - loss: 4.4053 - phylum_output_loss: 0.4696 - family_output_loss: 3.9350 - phylum_output_accuracy: 0.8530 - family_output_accuracy: 0.1362\n",
      "Epoch 23: val_family_output_accuracy improved from 0.10938 to 0.12207, saving model to best_multitask_model.h5\n",
      "75/75 [==============================] - 743s 10s/step - loss: 4.4053 - phylum_output_loss: 0.4696 - family_output_loss: 3.9350 - phylum_output_accuracy: 0.8530 - family_output_accuracy: 0.1362 - val_loss: 4.6467 - val_phylum_output_loss: 0.4421 - val_family_output_loss: 4.1915 - val_phylum_output_accuracy: 0.8604 - val_family_output_accuracy: 0.1221 - lr: 2.5000e-04\n",
      "Epoch 24/30\n",
      "75/75 [==============================] - ETA: 0s - loss: 4.3799 - phylum_output_loss: 0.4619 - family_output_loss: 3.9166 - phylum_output_accuracy: 0.8519 - family_output_accuracy: 0.1372\n",
      "Epoch 24: val_family_output_accuracy did not improve from 0.12207\n",
      "75/75 [==============================] - 709s 9s/step - loss: 4.3799 - phylum_output_loss: 0.4619 - family_output_loss: 3.9166 - phylum_output_accuracy: 0.8519 - family_output_accuracy: 0.1372 - val_loss: 4.7369 - val_phylum_output_loss: 0.4546 - val_family_output_loss: 4.2790 - val_phylum_output_accuracy: 0.8525 - val_family_output_accuracy: 0.1162 - lr: 2.5000e-04\n",
      "Epoch 25/30\n",
      "75/75 [==============================] - ETA: 0s - loss: 4.3387 - phylum_output_loss: 0.4530 - family_output_loss: 3.8831 - phylum_output_accuracy: 0.8578 - family_output_accuracy: 0.1389\n",
      "Epoch 25: val_family_output_accuracy did not improve from 0.12207\n",
      "75/75 [==============================] - 704s 9s/step - loss: 4.3387 - phylum_output_loss: 0.4530 - family_output_loss: 3.8831 - phylum_output_accuracy: 0.8578 - family_output_accuracy: 0.1389 - val_loss: 4.8228 - val_phylum_output_loss: 0.5018 - val_family_output_loss: 4.3439 - val_phylum_output_accuracy: 0.8457 - val_family_output_accuracy: 0.1064 - lr: 2.5000e-04\n",
      "Epoch 26/30\n",
      "75/75 [==============================] - ETA: 0s - loss: 4.3329 - phylum_output_loss: 0.4545 - family_output_loss: 3.8789 - phylum_output_accuracy: 0.8588 - family_output_accuracy: 0.1395\n",
      "Epoch 26: val_family_output_accuracy improved from 0.12207 to 0.12305, saving model to best_multitask_model.h5\n",
      "75/75 [==============================] - 706s 9s/step - loss: 4.3329 - phylum_output_loss: 0.4545 - family_output_loss: 3.8789 - phylum_output_accuracy: 0.8588 - family_output_accuracy: 0.1395 - val_loss: 4.6548 - val_phylum_output_loss: 0.4488 - val_family_output_loss: 4.2048 - val_phylum_output_accuracy: 0.8613 - val_family_output_accuracy: 0.1230 - lr: 2.5000e-04\n",
      "Epoch 27/30\n",
      "75/75 [==============================] - ETA: 0s - loss: 4.3132 - phylum_output_loss: 0.4517 - family_output_loss: 3.8627 - phylum_output_accuracy: 0.8569 - family_output_accuracy: 0.1410\n",
      "Epoch 27: val_family_output_accuracy improved from 0.12305 to 0.12695, saving model to best_multitask_model.h5\n",
      "75/75 [==============================] - 705s 9s/step - loss: 4.3132 - phylum_output_loss: 0.4517 - family_output_loss: 3.8627 - phylum_output_accuracy: 0.8569 - family_output_accuracy: 0.1410 - val_loss: 4.6420 - val_phylum_output_loss: 0.4373 - val_family_output_loss: 4.1994 - val_phylum_output_accuracy: 0.8564 - val_family_output_accuracy: 0.1270 - lr: 2.5000e-04\n",
      "Epoch 28/30\n",
      "75/75 [==============================] - ETA: 0s - loss: 4.2888 - phylum_output_loss: 0.4446 - family_output_loss: 3.8433 - phylum_output_accuracy: 0.8605 - family_output_accuracy: 0.1458\n",
      "Epoch 28: val_family_output_accuracy improved from 0.12695 to 0.13281, saving model to best_multitask_model.h5\n",
      "75/75 [==============================] - 704s 9s/step - loss: 4.2888 - phylum_output_loss: 0.4446 - family_output_loss: 3.8433 - phylum_output_accuracy: 0.8605 - family_output_accuracy: 0.1458 - val_loss: 4.6611 - val_phylum_output_loss: 0.4463 - val_family_output_loss: 4.2154 - val_phylum_output_accuracy: 0.8652 - val_family_output_accuracy: 0.1328 - lr: 2.5000e-04\n",
      "Epoch 29/30\n",
      "75/75 [==============================] - ETA: 0s - loss: 4.2858 - phylum_output_loss: 0.4427 - family_output_loss: 3.8420 - phylum_output_accuracy: 0.8592 - family_output_accuracy: 0.1443\n",
      "Epoch 29: val_family_output_accuracy did not improve from 0.13281\n",
      "75/75 [==============================] - 704s 9s/step - loss: 4.2858 - phylum_output_loss: 0.4427 - family_output_loss: 3.8420 - phylum_output_accuracy: 0.8592 - family_output_accuracy: 0.1443 - val_loss: 4.7265 - val_phylum_output_loss: 0.4486 - val_family_output_loss: 4.2802 - val_phylum_output_accuracy: 0.8584 - val_family_output_accuracy: 0.1240 - lr: 2.5000e-04\n",
      "Epoch 30/30\n",
      "75/75 [==============================] - ETA: 0s - loss: 4.2750 - phylum_output_loss: 0.4499 - family_output_loss: 3.8277 - phylum_output_accuracy: 0.8615 - family_output_accuracy: 0.1472\n",
      "Epoch 30: val_family_output_accuracy did not improve from 0.13281\n",
      "75/75 [==============================] - 707s 9s/step - loss: 4.2750 - phylum_output_loss: 0.4499 - family_output_loss: 3.8277 - phylum_output_accuracy: 0.8615 - family_output_accuracy: 0.1472 - val_loss: 4.7355 - val_phylum_output_loss: 0.5001 - val_family_output_loss: 4.2634 - val_phylum_output_accuracy: 0.8291 - val_family_output_accuracy: 0.1309 - lr: 2.5000e-04\n"
     ]
    }
   ],
   "source": [
    "history = model.fit(\n",
    "    train_dataset,\n",
    "    validation_data=val_dataset,\n",
    "    epochs=30,\n",
    "    callbacks=callbacks\n",
    ")"
   ]
  },
  {
   "cell_type": "code",
   "execution_count": 22,
   "id": "49005052",
   "metadata": {},
   "outputs": [
    {
     "data": {
      "image/png": "[encoded data removed]",
      "text/plain": [
       "<Figure size 1200x500 with 2 Axes>"
      ]
     },
     "metadata": {},
     "output_type": "display_data"
    }
   ],
   "source": [
    "def plot_training(history):\n",
    "    # Accuracy\n",
    "    plt.figure(figsize=(12, 5))\n",
    "    plt.subplot(1, 2, 1)\n",
    "    plt.plot(history.history['phylum_output_accuracy'], label='Train Phylum Acc')\n",
    "    plt.plot(history.history['val_phylum_output_accuracy'], label='Val Phylum Acc')\n",
    "    plt.plot(history.history['family_output_accuracy'], label='Train Family Acc')\n",
    "    plt.plot(history.history['val_family_output_accuracy'], label='Val Family Acc')\n",
    "    plt.title('Accuracy per Epoch')\n",
    "    plt.xlabel('Epochs')\n",
    "    plt.ylabel('Accuracy')\n",
    "    plt.legend()\n",
    "    plt.grid(True)\n",
    "\n",
    "    # Loss\n",
    "    plt.subplot(1, 2, 2)\n",
    "    plt.plot(history.history['loss'], label='Train Loss')\n",
    "    plt.plot(history.history['val_loss'], label='Val Loss')\n",
    "    plt.title('Total Loss per Epoch')\n",
    "    plt.xlabel('Epochs')\n",
    "    plt.ylabel('Loss')\n",
    "    plt.legend()\n",
    "    plt.grid(True)\n",
    "\n",
    "    plt.tight_layout()\n",
    "    plt.show()\n",
    "\n",
    "plot_training(history)"
   ]
  },
  {
   "cell_type": "code",
   "execution_count": 23,
   "id": "f7b3488c",
   "metadata": {},
   "outputs": [
    {
     "name": "stdout",
     "output_type": "stream",
     "text": [
      "17/17 [==============================] - 38s 2s/step\n",
      " Phylum Classification Report:\n",
      "              precision    recall  f1-score   support\n",
      "\n",
      "           0       0.68      0.31      0.43        84\n",
      "           1       0.91      0.91      0.91       845\n",
      "           2       0.42      0.81      0.56        72\n",
      "           3       0.00      0.00      0.00         5\n",
      "           4       0.00      0.00      0.00        19\n",
      "\n",
      "    accuracy                           0.83      1025\n",
      "   macro avg       0.40      0.41      0.38      1025\n",
      "weighted avg       0.83      0.83      0.82      1025\n",
      "\n",
      "\n",
      " Family Classification Report:\n",
      "              precision    recall  f1-score   support\n",
      "\n",
      "           0       0.20      0.27      0.23        11\n",
      "           1       0.00      0.00      0.00         8\n",
      "           2       0.06      0.42      0.11        19\n",
      "           3       0.00      0.00      0.00         6\n",
      "           4       0.05      0.18      0.08        11\n",
      "           5       0.00      0.00      0.00         2\n",
      "           6       0.00      0.00      0.00         2\n",
      "           7       0.00      0.00      0.00         3\n",
      "           8       0.00      0.00      0.00         5\n",
      "           9       0.00      0.00      0.00         5\n",
      "          10       0.00      0.00      0.00        15\n",
      "          11       0.00      0.00      0.00         6\n",
      "          12       0.15      0.67      0.25         3\n",
      "          13       0.41      0.79      0.54        14\n",
      "          14       0.50      0.17      0.25         6\n",
      "          15       0.00      0.00      0.00         2\n",
      "          16       0.00      0.00      0.00         8\n",
      "          17       0.00      0.00      0.00         2\n",
      "          18       0.00      0.00      0.00         2\n",
      "          19       0.00      0.00      0.00         2\n",
      "          20       0.00      0.00      0.00         2\n",
      "          21       0.00      0.00      0.00         6\n",
      "          22       0.00      0.00      0.00         3\n",
      "          23       0.06      0.24      0.09        21\n",
      "          24       0.00      0.00      0.00         2\n",
      "          25       0.10      0.21      0.14        19\n",
      "          26       0.20      0.07      0.11        14\n",
      "          27       0.00      0.00      0.00         6\n",
      "          28       0.00      0.00      0.00         2\n",
      "          29       0.00      0.00      0.00         8\n",
      "          30       0.00      0.00      0.00         2\n",
      "          31       0.00      0.00      0.00         2\n",
      "          32       0.00      0.00      0.00         6\n",
      "          33       0.20      0.62      0.30        24\n",
      "          34       0.20      0.17      0.18         6\n",
      "          35       0.00      0.00      0.00         3\n",
      "          36       0.00      0.00      0.00         8\n",
      "          37       0.00      0.00      0.00         3\n",
      "          38       0.07      0.15      0.10        27\n",
      "          39       0.00      0.00      0.00         2\n",
      "          40       0.00      0.00      0.00         2\n",
      "          41       0.00      0.00      0.00         6\n",
      "          42       0.00      0.00      0.00         5\n",
      "          43       0.08      0.17      0.11         6\n",
      "          44       0.33      0.50      0.40         2\n",
      "          45       0.00      0.00      0.00         5\n",
      "          46       0.00      0.00      0.00         2\n",
      "          47       0.00      0.00      0.00         2\n",
      "          48       0.00      0.00      0.00         8\n",
      "          49       0.00      0.00      0.00         3\n",
      "          50       0.00      0.00      0.00         8\n",
      "          51       0.00      0.00      0.00         2\n",
      "          52       0.25      1.00      0.40         2\n",
      "          53       0.00      0.00      0.00         6\n",
      "          54       0.00      0.00      0.00         2\n",
      "          55       0.00      0.00      0.00         5\n",
      "          56       0.00      0.00      0.00         5\n",
      "          57       1.00      0.50      0.67         2\n",
      "          58       0.00      0.00      0.00         2\n",
      "          59       0.00      0.00      0.00         2\n",
      "          60       0.22      0.44      0.29        27\n",
      "          61       0.00      0.00      0.00         2\n",
      "          62       0.18      0.38      0.24        13\n",
      "          63       0.00      0.00      0.00         2\n",
      "          64       0.00      0.00      0.00         2\n",
      "          65       0.00      0.00      0.00         3\n",
      "          66       0.23      0.27      0.25        11\n",
      "          67       0.00      0.00      0.00         3\n",
      "          68       0.20      0.50      0.29         2\n",
      "          69       0.00      0.00      0.00        16\n",
      "          70       0.00      0.00      0.00         2\n",
      "          71       0.50      0.20      0.29         5\n",
      "          72       0.00      0.00      0.00         2\n",
      "          73       0.00      0.00      0.00         5\n",
      "          74       0.00      0.00      0.00         2\n",
      "          75       0.00      0.00      0.00         3\n",
      "          76       0.11      0.62      0.19         8\n",
      "          77       0.00      0.00      0.00         6\n",
      "          78       0.25      0.33      0.29         6\n",
      "          79       0.43      0.78      0.55        23\n",
      "          80       0.00      0.00      0.00         6\n",
      "          81       0.00      0.00      0.00         2\n",
      "          82       0.00      0.00      0.00         2\n",
      "          83       0.00      0.00      0.00         2\n",
      "          84       0.00      0.00      0.00         8\n",
      "          85       0.00      0.00      0.00         2\n",
      "          86       0.00      0.00      0.00         2\n",
      "          87       0.00      0.00      0.00         3\n",
      "          88       0.00      0.00      0.00         6\n",
      "          89       0.18      0.67      0.29         3\n",
      "          90       0.00      0.00      0.00         2\n",
      "          91       0.00      0.00      0.00         3\n",
      "          92       0.00      0.00      0.00         3\n",
      "          93       0.00      0.00      0.00         2\n",
      "          94       0.00      0.00      0.00         5\n",
      "          95       0.00      0.00      0.00         3\n",
      "          96       0.00      0.00      0.00         2\n",
      "          97       0.00      0.00      0.00         5\n",
      "          98       0.00      0.00      0.00         2\n",
      "          99       0.00      0.00      0.00        11\n",
      "         100       0.00      0.00      0.00         3\n",
      "         101       0.00      0.00      0.00         6\n",
      "         102       0.00      0.00      0.00         6\n",
      "         103       0.00      0.00      0.00         3\n",
      "         104       0.29      0.31      0.30        13\n",
      "         105       0.00      0.00      0.00         2\n",
      "         106       0.00      0.00      0.00         6\n",
      "         107       0.00      0.00      0.00         5\n",
      "         108       0.00      0.00      0.00         2\n",
      "         109       0.00      0.00      0.00         3\n",
      "         110       0.00      0.00      0.00         3\n",
      "         111       0.00      0.00      0.00         5\n",
      "         112       0.00      0.00      0.00         2\n",
      "         113       0.50      1.00      0.67         2\n",
      "         114       0.00      0.00      0.00         3\n",
      "         115       0.00      0.00      0.00         2\n",
      "         116       0.12      0.17      0.14         6\n",
      "         117       0.00      0.00      0.00         1\n",
      "         118       0.00      0.00      0.00         2\n",
      "         119       0.00      0.00      0.00         2\n",
      "         120       0.00      0.00      0.00         2\n",
      "         121       0.00      0.00      0.00         8\n",
      "         122       0.00      0.00      0.00         8\n",
      "         123       0.00      0.00      0.00         2\n",
      "         124       0.00      0.00      0.00         3\n",
      "         125       0.00      0.00      0.00         3\n",
      "         126       0.00      0.00      0.00         6\n",
      "         127       0.00      0.00      0.00         2\n",
      "         128       0.00      0.00      0.00         2\n",
      "         129       0.00      0.00      0.00         3\n",
      "         130       0.00      0.00      0.00         3\n",
      "         131       0.00      0.00      0.00         2\n",
      "         132       0.00      0.00      0.00         3\n",
      "         133       0.00      0.00      0.00         2\n",
      "         134       0.33      0.50      0.40         2\n",
      "         135       0.00      0.00      0.00         2\n",
      "         136       0.00      0.00      0.00         2\n",
      "         137       0.00      0.00      0.00         2\n",
      "         138       0.00      0.00      0.00         2\n",
      "         139       0.00      0.00      0.00         3\n",
      "         140       0.00      0.00      0.00         3\n",
      "         141       0.00      0.00      0.00         3\n",
      "         142       0.19      0.24      0.21        25\n",
      "         143       0.00      0.00      0.00         2\n",
      "         144       0.28      0.83      0.42         6\n",
      "         145       0.00      0.00      0.00         3\n",
      "         146       0.00      0.00      0.00         3\n",
      "         147       0.00      0.00      0.00         2\n",
      "         148       0.00      0.00      0.00         2\n",
      "         149       0.00      0.00      0.00         2\n",
      "         150       0.00      0.00      0.00         8\n",
      "         151       0.00      0.00      0.00         3\n",
      "         152       0.00      0.00      0.00        11\n",
      "         153       0.00      0.00      0.00         6\n",
      "         154       0.00      0.00      0.00         5\n",
      "         155       0.00      0.00      0.00         8\n",
      "         156       0.00      0.00      0.00         2\n",
      "         157       0.00      0.00      0.00         3\n",
      "         158       0.00      0.00      0.00         8\n",
      "         159       0.00      0.00      0.00         2\n",
      "         160       0.25      0.17      0.20         6\n",
      "         161       1.00      1.00      1.00         2\n",
      "         162       0.00      0.00      0.00         6\n",
      "         163       0.19      0.36      0.25        25\n",
      "         164       0.00      0.00      0.00         2\n",
      "         165       0.00      0.00      0.00         2\n",
      "         166       0.00      0.00      0.00         2\n",
      "         167       0.00      0.00      0.00         5\n",
      "         168       0.00      0.00      0.00         3\n",
      "         169       0.04      0.12      0.06         8\n",
      "         170       0.00      0.00      0.00         3\n",
      "         171       0.00      0.00      0.00         2\n",
      "         172       0.00      0.00      0.00         2\n",
      "         173       0.00      0.00      0.00         3\n",
      "         174       0.00      0.00      0.00         6\n",
      "         175       0.18      0.30      0.22        10\n",
      "         176       0.00      0.00      0.00         7\n",
      "         177       0.00      0.00      0.00         2\n",
      "         178       0.00      0.00      0.00         3\n",
      "         179       0.08      0.20      0.11         5\n",
      "         180       0.00      0.00      0.00         2\n",
      "         181       0.00      0.00      0.00         3\n",
      "         182       0.00      0.00      0.00         6\n",
      "         183       0.00      0.00      0.00         6\n",
      "         184       0.00      0.00      0.00         2\n",
      "         185       0.00      0.00      0.00         3\n",
      "         186       1.00      0.12      0.22         8\n",
      "         187       0.17      0.50      0.25         2\n",
      "         188       0.00      0.00      0.00         2\n",
      "         189       0.30      0.38      0.33         8\n",
      "         190       0.33      0.33      0.33         3\n",
      "         191       0.00      0.00      0.00         2\n",
      "         192       0.00      0.00      0.00         5\n",
      "         193       0.00      0.00      0.00         6\n",
      "         194       0.00      0.00      0.00         2\n",
      "         195       0.20      0.20      0.20         5\n",
      "         196       0.00      0.00      0.00         2\n",
      "         197       0.00      0.00      0.00         6\n",
      "         198       0.00      0.00      0.00         2\n",
      "         199       0.00      0.00      0.00         3\n",
      "         200       0.00      0.00      0.00         3\n",
      "         201       0.00      0.00      0.00         2\n",
      "\n",
      "    accuracy                           0.15      1025\n",
      "   macro avg       0.06      0.08      0.06      1025\n",
      "weighted avg       0.09      0.15      0.10      1025\n",
      "\n"
     ]
    },
    {
     "name": "stderr",
     "output_type": "stream",
     "text": [
      "c:\\Users\\Elcano\\anaconda3\\envs\\cv310\\lib\\site-packages\\sklearn\\metrics\\_classification.py:1565: UndefinedMetricWarning: Precision is ill-defined and being set to 0.0 in labels with no predicted samples. Use `zero_division` parameter to control this behavior.\n",
      "  _warn_prf(average, modifier, f\"{metric.capitalize()} is\", len(result))\n",
      "c:\\Users\\Elcano\\anaconda3\\envs\\cv310\\lib\\site-packages\\sklearn\\metrics\\_classification.py:1565: UndefinedMetricWarning: Precision is ill-defined and being set to 0.0 in labels with no predicted samples. Use `zero_division` parameter to control this behavior.\n",
      "  _warn_prf(average, modifier, f\"{metric.capitalize()} is\", len(result))\n",
      "c:\\Users\\Elcano\\anaconda3\\envs\\cv310\\lib\\site-packages\\sklearn\\metrics\\_classification.py:1565: UndefinedMetricWarning: Precision is ill-defined and being set to 0.0 in labels with no predicted samples. Use `zero_division` parameter to control this behavior.\n",
      "  _warn_prf(average, modifier, f\"{metric.capitalize()} is\", len(result))\n",
      "c:\\Users\\Elcano\\anaconda3\\envs\\cv310\\lib\\site-packages\\sklearn\\metrics\\_classification.py:1565: UndefinedMetricWarning: Precision is ill-defined and being set to 0.0 in labels with no predicted samples. Use `zero_division` parameter to control this behavior.\n",
      "  _warn_prf(average, modifier, f\"{metric.capitalize()} is\", len(result))\n",
      "c:\\Users\\Elcano\\anaconda3\\envs\\cv310\\lib\\site-packages\\sklearn\\metrics\\_classification.py:1565: UndefinedMetricWarning: Precision is ill-defined and being set to 0.0 in labels with no predicted samples. Use `zero_division` parameter to control this behavior.\n",
      "  _warn_prf(average, modifier, f\"{metric.capitalize()} is\", len(result))\n",
      "c:\\Users\\Elcano\\anaconda3\\envs\\cv310\\lib\\site-packages\\sklearn\\metrics\\_classification.py:1565: UndefinedMetricWarning: Precision is ill-defined and being set to 0.0 in labels with no predicted samples. Use `zero_division` parameter to control this behavior.\n",
      "  _warn_prf(average, modifier, f\"{metric.capitalize()} is\", len(result))\n"
     ]
    }
   ],
   "source": [
    "import numpy as np\n",
    "from sklearn.metrics import classification_report, f1_score\n",
    "\n",
    "# === Run Predictions ===\n",
    "predictions = model.predict(test_dataset)\n",
    "\n",
    "# Unpack predictions\n",
    "y_pred_phylum = np.argmax(predictions[0], axis=1)\n",
    "y_pred_family = np.argmax(predictions[1], axis=1)\n",
    "\n",
    "# Extract true labels (already integer-encoded, not one-hot)\n",
    "y_true_phylum = np.concatenate([y[\"phylum_output\"] for _, y in test_dataset], axis=0)\n",
    "y_true_family = np.concatenate([y[\"family_output\"] for _, y in test_dataset], axis=0)\n",
    "\n",
    "# === Evaluation ===\n",
    "print(\" Phylum Classification Report:\")\n",
    "print(classification_report(y_true_phylum, y_pred_phylum))\n",
    "\n",
    "print(\"\\n Family Classification Report:\")\n",
    "print(classification_report(y_true_family, y_pred_family))"
   ]
  },
  {
   "cell_type": "code",
   "execution_count": 24,
   "id": "fade6c06",
   "metadata": {},
   "outputs": [
    {
     "name": "stdout",
     "output_type": "stream",
     "text": [
      "📊 Classification Report — Phylum (Coarse Level):\n",
      "\n",
      "              precision    recall  f1-score   support\n",
      "\n",
      "           0     0.6842    0.3095    0.4262        84\n",
      "           1     0.9059    0.9112    0.9086       845\n",
      "           2     0.4234    0.8056    0.5550        72\n",
      "           3     0.0000    0.0000    0.0000         5\n",
      "           4     0.0000    0.0000    0.0000        19\n",
      "\n",
      "    accuracy                         0.8332      1025\n",
      "   macro avg     0.4027    0.4053    0.3780      1025\n",
      "weighted avg     0.8326    0.8332    0.8229      1025\n",
      "\n",
      "🎯 Macro F1-score (Phylum): 0.37796160078261676\n"
     ]
    },
    {
     "name": "stderr",
     "output_type": "stream",
     "text": [
      "c:\\Users\\Elcano\\anaconda3\\envs\\cv310\\lib\\site-packages\\sklearn\\metrics\\_classification.py:1565: UndefinedMetricWarning: Precision is ill-defined and being set to 0.0 in labels with no predicted samples. Use `zero_division` parameter to control this behavior.\n",
      "  _warn_prf(average, modifier, f\"{metric.capitalize()} is\", len(result))\n",
      "c:\\Users\\Elcano\\anaconda3\\envs\\cv310\\lib\\site-packages\\sklearn\\metrics\\_classification.py:1565: UndefinedMetricWarning: Precision is ill-defined and being set to 0.0 in labels with no predicted samples. Use `zero_division` parameter to control this behavior.\n",
      "  _warn_prf(average, modifier, f\"{metric.capitalize()} is\", len(result))\n",
      "c:\\Users\\Elcano\\anaconda3\\envs\\cv310\\lib\\site-packages\\sklearn\\metrics\\_classification.py:1565: UndefinedMetricWarning: Precision is ill-defined and being set to 0.0 in labels with no predicted samples. Use `zero_division` parameter to control this behavior.\n",
      "  _warn_prf(average, modifier, f\"{metric.capitalize()} is\", len(result))\n"
     ]
    }
   ],
   "source": [
    "print(\"📊 Classification Report — Phylum (Coarse Level):\\n\")\n",
    "print(classification_report(y_true_phylum, y_pred_phylum, digits=4))\n",
    "print(\"🎯 Macro F1-score (Phylum):\", f1_score(y_true_phylum, y_pred_phylum, average='macro'))"
   ]
  },
  {
   "cell_type": "code",
   "execution_count": 25,
   "id": "9de83cb7",
   "metadata": {},
   "outputs": [
    {
     "name": "stdout",
     "output_type": "stream",
     "text": [
      "📊 Classification Report — Family (Fine Level):\n",
      "\n",
      "              precision    recall  f1-score   support\n",
      "\n",
      "           0     0.2000    0.2727    0.2308        11\n",
      "           1     0.0000    0.0000    0.0000         8\n",
      "           2     0.0611    0.4211    0.1067        19\n",
      "           3     0.0000    0.0000    0.0000         6\n",
      "           4     0.0526    0.1818    0.0816        11\n",
      "           5     0.0000    0.0000    0.0000         2\n",
      "           6     0.0000    0.0000    0.0000         2\n",
      "           7     0.0000    0.0000    0.0000         3\n",
      "           8     0.0000    0.0000    0.0000         5\n",
      "           9     0.0000    0.0000    0.0000         5\n",
      "          10     0.0000    0.0000    0.0000        15\n",
      "          11     0.0000    0.0000    0.0000         6\n",
      "          12     0.1538    0.6667    0.2500         3\n",
      "          13     0.4074    0.7857    0.5366        14\n",
      "          14     0.5000    0.1667    0.2500         6\n",
      "          15     0.0000    0.0000    0.0000         2\n",
      "          16     0.0000    0.0000    0.0000         8\n",
      "          17     0.0000    0.0000    0.0000         2\n",
      "          18     0.0000    0.0000    0.0000         2\n",
      "          19     0.0000    0.0000    0.0000         2\n",
      "          20     0.0000    0.0000    0.0000         2\n",
      "          21     0.0000    0.0000    0.0000         6\n",
      "          22     0.0000    0.0000    0.0000         3\n",
      "          23     0.0588    0.2381    0.0943        21\n",
      "          24     0.0000    0.0000    0.0000         2\n",
      "          25     0.1026    0.2105    0.1379        19\n",
      "          26     0.2000    0.0714    0.1053        14\n",
      "          27     0.0000    0.0000    0.0000         6\n",
      "          28     0.0000    0.0000    0.0000         2\n",
      "          29     0.0000    0.0000    0.0000         8\n",
      "          30     0.0000    0.0000    0.0000         2\n",
      "          31     0.0000    0.0000    0.0000         2\n",
      "          32     0.0000    0.0000    0.0000         6\n",
      "          33     0.1974    0.6250    0.3000        24\n",
      "          34     0.2000    0.1667    0.1818         6\n",
      "          35     0.0000    0.0000    0.0000         3\n",
      "          36     0.0000    0.0000    0.0000         8\n",
      "          37     0.0000    0.0000    0.0000         3\n",
      "          38     0.0727    0.1481    0.0976        27\n",
      "          39     0.0000    0.0000    0.0000         2\n",
      "          40     0.0000    0.0000    0.0000         2\n",
      "          41     0.0000    0.0000    0.0000         6\n",
      "          42     0.0000    0.0000    0.0000         5\n",
      "          43     0.0769    0.1667    0.1053         6\n",
      "          44     0.3333    0.5000    0.4000         2\n",
      "          45     0.0000    0.0000    0.0000         5\n",
      "          46     0.0000    0.0000    0.0000         2\n",
      "          47     0.0000    0.0000    0.0000         2\n",
      "          48     0.0000    0.0000    0.0000         8\n",
      "          49     0.0000    0.0000    0.0000         3\n",
      "          50     0.0000    0.0000    0.0000         8\n",
      "          51     0.0000    0.0000    0.0000         2\n",
      "          52     0.2500    1.0000    0.4000         2\n",
      "          53     0.0000    0.0000    0.0000         6\n",
      "          54     0.0000    0.0000    0.0000         2\n",
      "          55     0.0000    0.0000    0.0000         5\n",
      "          56     0.0000    0.0000    0.0000         5\n",
      "          57     1.0000    0.5000    0.6667         2\n",
      "          58     0.0000    0.0000    0.0000         2\n",
      "          59     0.0000    0.0000    0.0000         2\n",
      "          60     0.2182    0.4444    0.2927        27\n",
      "          61     0.0000    0.0000    0.0000         2\n",
      "          62     0.1786    0.3846    0.2439        13\n",
      "          63     0.0000    0.0000    0.0000         2\n",
      "          64     0.0000    0.0000    0.0000         2\n",
      "          65     0.0000    0.0000    0.0000         3\n",
      "          66     0.2308    0.2727    0.2500        11\n",
      "          67     0.0000    0.0000    0.0000         3\n",
      "          68     0.2000    0.5000    0.2857         2\n",
      "          69     0.0000    0.0000    0.0000        16\n",
      "          70     0.0000    0.0000    0.0000         2\n",
      "          71     0.5000    0.2000    0.2857         5\n",
      "          72     0.0000    0.0000    0.0000         2\n",
      "          73     0.0000    0.0000    0.0000         5\n",
      "          74     0.0000    0.0000    0.0000         2\n",
      "          75     0.0000    0.0000    0.0000         3\n",
      "          76     0.1136    0.6250    0.1923         8\n",
      "          77     0.0000    0.0000    0.0000         6\n",
      "          78     0.2500    0.3333    0.2857         6\n",
      "          79     0.4286    0.7826    0.5538        23\n",
      "          80     0.0000    0.0000    0.0000         6\n",
      "          81     0.0000    0.0000    0.0000         2\n",
      "          82     0.0000    0.0000    0.0000         2\n",
      "          83     0.0000    0.0000    0.0000         2\n",
      "          84     0.0000    0.0000    0.0000         8\n",
      "          85     0.0000    0.0000    0.0000         2\n",
      "          86     0.0000    0.0000    0.0000         2\n",
      "          87     0.0000    0.0000    0.0000         3\n",
      "          88     0.0000    0.0000    0.0000         6\n",
      "          89     0.1818    0.6667    0.2857         3\n",
      "          90     0.0000    0.0000    0.0000         2\n",
      "          91     0.0000    0.0000    0.0000         3\n",
      "          92     0.0000    0.0000    0.0000         3\n",
      "          93     0.0000    0.0000    0.0000         2\n",
      "          94     0.0000    0.0000    0.0000         5\n",
      "          95     0.0000    0.0000    0.0000         3\n",
      "          96     0.0000    0.0000    0.0000         2\n",
      "          97     0.0000    0.0000    0.0000         5\n",
      "          98     0.0000    0.0000    0.0000         2\n",
      "          99     0.0000    0.0000    0.0000        11\n",
      "         100     0.0000    0.0000    0.0000         3\n",
      "         101     0.0000    0.0000    0.0000         6\n",
      "         102     0.0000    0.0000    0.0000         6\n",
      "         103     0.0000    0.0000    0.0000         3\n",
      "         104     0.2857    0.3077    0.2963        13\n",
      "         105     0.0000    0.0000    0.0000         2\n",
      "         106     0.0000    0.0000    0.0000         6\n",
      "         107     0.0000    0.0000    0.0000         5\n",
      "         108     0.0000    0.0000    0.0000         2\n",
      "         109     0.0000    0.0000    0.0000         3\n",
      "         110     0.0000    0.0000    0.0000         3\n",
      "         111     0.0000    0.0000    0.0000         5\n",
      "         112     0.0000    0.0000    0.0000         2\n",
      "         113     0.5000    1.0000    0.6667         2\n",
      "         114     0.0000    0.0000    0.0000         3\n",
      "         115     0.0000    0.0000    0.0000         2\n",
      "         116     0.1250    0.1667    0.1429         6\n",
      "         117     0.0000    0.0000    0.0000         1\n",
      "         118     0.0000    0.0000    0.0000         2\n",
      "         119     0.0000    0.0000    0.0000         2\n",
      "         120     0.0000    0.0000    0.0000         2\n",
      "         121     0.0000    0.0000    0.0000         8\n",
      "         122     0.0000    0.0000    0.0000         8\n",
      "         123     0.0000    0.0000    0.0000         2\n",
      "         124     0.0000    0.0000    0.0000         3\n",
      "         125     0.0000    0.0000    0.0000         3\n",
      "         126     0.0000    0.0000    0.0000         6\n",
      "         127     0.0000    0.0000    0.0000         2\n",
      "         128     0.0000    0.0000    0.0000         2\n",
      "         129     0.0000    0.0000    0.0000         3\n",
      "         130     0.0000    0.0000    0.0000         3\n",
      "         131     0.0000    0.0000    0.0000         2\n",
      "         132     0.0000    0.0000    0.0000         3\n",
      "         133     0.0000    0.0000    0.0000         2\n",
      "         134     0.3333    0.5000    0.4000         2\n",
      "         135     0.0000    0.0000    0.0000         2\n",
      "         136     0.0000    0.0000    0.0000         2\n",
      "         137     0.0000    0.0000    0.0000         2\n",
      "         138     0.0000    0.0000    0.0000         2\n",
      "         139     0.0000    0.0000    0.0000         3\n",
      "         140     0.0000    0.0000    0.0000         3\n",
      "         141     0.0000    0.0000    0.0000         3\n",
      "         142     0.1875    0.2400    0.2105        25\n",
      "         143     0.0000    0.0000    0.0000         2\n",
      "         144     0.2778    0.8333    0.4167         6\n",
      "         145     0.0000    0.0000    0.0000         3\n",
      "         146     0.0000    0.0000    0.0000         3\n",
      "         147     0.0000    0.0000    0.0000         2\n",
      "         148     0.0000    0.0000    0.0000         2\n",
      "         149     0.0000    0.0000    0.0000         2\n",
      "         150     0.0000    0.0000    0.0000         8\n",
      "         151     0.0000    0.0000    0.0000         3\n",
      "         152     0.0000    0.0000    0.0000        11\n",
      "         153     0.0000    0.0000    0.0000         6\n",
      "         154     0.0000    0.0000    0.0000         5\n",
      "         155     0.0000    0.0000    0.0000         8\n",
      "         156     0.0000    0.0000    0.0000         2\n",
      "         157     0.0000    0.0000    0.0000         3\n",
      "         158     0.0000    0.0000    0.0000         8\n",
      "         159     0.0000    0.0000    0.0000         2\n",
      "         160     0.2500    0.1667    0.2000         6\n",
      "         161     1.0000    1.0000    1.0000         2\n",
      "         162     0.0000    0.0000    0.0000         6\n",
      "         163     0.1915    0.3600    0.2500        25\n",
      "         164     0.0000    0.0000    0.0000         2\n",
      "         165     0.0000    0.0000    0.0000         2\n",
      "         166     0.0000    0.0000    0.0000         2\n",
      "         167     0.0000    0.0000    0.0000         5\n",
      "         168     0.0000    0.0000    0.0000         3\n",
      "         169     0.0370    0.1250    0.0571         8\n",
      "         170     0.0000    0.0000    0.0000         3\n",
      "         171     0.0000    0.0000    0.0000         2\n",
      "         172     0.0000    0.0000    0.0000         2\n",
      "         173     0.0000    0.0000    0.0000         3\n",
      "         174     0.0000    0.0000    0.0000         6\n",
      "         175     0.1765    0.3000    0.2222        10\n",
      "         176     0.0000    0.0000    0.0000         7\n",
      "         177     0.0000    0.0000    0.0000         2\n",
      "         178     0.0000    0.0000    0.0000         3\n",
      "         179     0.0769    0.2000    0.1111         5\n",
      "         180     0.0000    0.0000    0.0000         2\n",
      "         181     0.0000    0.0000    0.0000         3\n",
      "         182     0.0000    0.0000    0.0000         6\n",
      "         183     0.0000    0.0000    0.0000         6\n",
      "         184     0.0000    0.0000    0.0000         2\n",
      "         185     0.0000    0.0000    0.0000         3\n",
      "         186     1.0000    0.1250    0.2222         8\n",
      "         187     0.1667    0.5000    0.2500         2\n",
      "         188     0.0000    0.0000    0.0000         2\n",
      "         189     0.3000    0.3750    0.3333         8\n",
      "         190     0.3333    0.3333    0.3333         3\n",
      "         191     0.0000    0.0000    0.0000         2\n",
      "         192     0.0000    0.0000    0.0000         5\n",
      "         193     0.0000    0.0000    0.0000         6\n",
      "         194     0.0000    0.0000    0.0000         2\n",
      "         195     0.2000    0.2000    0.2000         5\n",
      "         196     0.0000    0.0000    0.0000         2\n",
      "         197     0.0000    0.0000    0.0000         6\n",
      "         198     0.0000    0.0000    0.0000         2\n",
      "         199     0.0000    0.0000    0.0000         3\n",
      "         200     0.0000    0.0000    0.0000         3\n",
      "         201     0.0000    0.0000    0.0000         2\n",
      "\n",
      "    accuracy                         0.1502      1025\n",
      "   macro avg     0.0575    0.0845    0.0591      1025\n",
      "weighted avg     0.0908    0.1502    0.1002      1025\n",
      "\n",
      "🎯 Macro F1-score (Family): 0.05907163978151039\n"
     ]
    },
    {
     "name": "stderr",
     "output_type": "stream",
     "text": [
      "c:\\Users\\Elcano\\anaconda3\\envs\\cv310\\lib\\site-packages\\sklearn\\metrics\\_classification.py:1565: UndefinedMetricWarning: Precision is ill-defined and being set to 0.0 in labels with no predicted samples. Use `zero_division` parameter to control this behavior.\n",
      "  _warn_prf(average, modifier, f\"{metric.capitalize()} is\", len(result))\n",
      "c:\\Users\\Elcano\\anaconda3\\envs\\cv310\\lib\\site-packages\\sklearn\\metrics\\_classification.py:1565: UndefinedMetricWarning: Precision is ill-defined and being set to 0.0 in labels with no predicted samples. Use `zero_division` parameter to control this behavior.\n",
      "  _warn_prf(average, modifier, f\"{metric.capitalize()} is\", len(result))\n",
      "c:\\Users\\Elcano\\anaconda3\\envs\\cv310\\lib\\site-packages\\sklearn\\metrics\\_classification.py:1565: UndefinedMetricWarning: Precision is ill-defined and being set to 0.0 in labels with no predicted samples. Use `zero_division` parameter to control this behavior.\n",
      "  _warn_prf(average, modifier, f\"{metric.capitalize()} is\", len(result))\n"
     ]
    }
   ],
   "source": [
    "print(\"📊 Classification Report — Family (Fine Level):\\n\")\n",
    "print(classification_report(y_true_family, y_pred_family, digits=4))\n",
    "print(\"🎯 Macro F1-score (Family):\", f1_score(y_true_family, y_pred_family, average='macro'))"
   ]
  }
 ],
 "metadata": {
  "kernelspec": {
   "display_name": "cv310",
   "language": "python",
   "name": "python3"
  },
  "language_info": {
   "codemirror_mode": {
    "name": "ipython",
    "version": 3
   },
   "file_extension": ".py",
   "mimetype": "text/x-python",
   "name": "python",
   "nbconvert_exporter": "python",
   "pygments_lexer": "ipython3",
   "version": "3.10.8"
  }
 },
 "nbformat": 4,
 "nbformat_minor": 5
}
